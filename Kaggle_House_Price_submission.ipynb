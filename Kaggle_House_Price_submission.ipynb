{
  "nbformat": 4,
  "nbformat_minor": 0,
  "metadata": {
    "colab": {
      "name": "Kaggle House Price submission.ipynb",
      "version": "0.3.2",
      "provenance": [],
      "collapsed_sections": []
    },
    "kernelspec": {
      "name": "python3",
      "display_name": "Python 3"
    }
  },
  "cells": [
    {
      "cell_type": "markdown",
      "metadata": {
        "id": "koayAsFikxXK",
        "colab_type": "text"
      },
      "source": [
        "**ID: A1808 Submission Date: 13-06-2019 **"
      ]
    },
    {
      "cell_type": "markdown",
      "metadata": {
        "id": "-Q0h8zsjYwRk",
        "colab_type": "text"
      },
      "source": [
        "#Table of Contents \n",
        "01. Abstract\n",
        "02. Importing the Libaries\n",
        "03. Exploring the data and data preprocessing\n",
        ">03.1 Removing outliers <br />\n",
        ">03.2 Checking Skewness <br />\n",
        ">03.3 Correlation analysis <br />\n",
        ">03.4 Feature Engineering and missing data processing<br/>\n",
        ">03.5 Skewness<br/>\n",
        "04. Modeling\n",
        ">04.1 Cross Validation <br/>\n",
        ">04.2 Models and Training <br/>\n",
        ">04.3 Kagle Submission score<br/>\n",
        "05. Neural Network Model \n",
        ">05.1 Mini-batches creation<br/>\n",
        ">05.2 Dropout<br/>\n",
        ">05.3 Regularization<br/>\n",
        ">05.4 ANN model creation<br/>\n",
        ">05.5 Training and validation<br/>\n",
        ">05.6 Grid Search<br/>\n",
        ">05.7 Ensembling<br/>\n",
        ">05.8 Final output generation<br/>\n",
        ">05.9 Kaggle Submission Score<br/>\n",
        "06. Conclusion\n",
        "07. References \n"
      ]
    },
    {
      "cell_type": "markdown",
      "metadata": {
        "id": "dV2n89RAnNug",
        "colab_type": "text"
      },
      "source": [
        "#01. Abstract\n",
        "\n",
        "---\n",
        "In this assignment an attempt was made to clean the data, analyze it and fit it to a model to predict the outcome. First the data was acquired and and environment was created for working on the data. On the next step the data was explored and featured engineered. Then we hot encoded the data and fitted a model to predict the houseprice.  "
      ]
    },
    {
      "cell_type": "markdown",
      "metadata": {
        "id": "m30o5fqY-mo0",
        "colab_type": "text"
      },
      "source": [
        "#02. Importing the Libaries "
      ]
    },
    {
      "cell_type": "markdown",
      "metadata": {
        "id": "pDoq5LDH-_B-",
        "colab_type": "text"
      },
      "source": [
        "First of all we are going to import libaries. Here Pandas is used for data manipulation, numpy is used for mathematical computation and matplotlib & seaborn is used for visualisation."
      ]
    },
    {
      "cell_type": "code",
      "metadata": {
        "id": "5Z2az4iwtIeE",
        "colab_type": "code",
        "colab": {}
      },
      "source": [
        "import pandas as pd\n",
        "import numpy as np\n",
        "import seaborn as sns\n",
        "from sklearn import preprocessing\n",
        "sns.set(style='white', context='notebook', palette='deep')\n",
        "import tensorflow as tf\n",
        "from scipy import stats\n",
        "from scipy.stats import norm, skew\n",
        "from scipy.special import boxcox1p\n",
        "from scipy.stats.stats import pearsonr\n",
        "import matplotlib\n",
        "import matplotlib.pyplot as plt\n",
        "from IPython.display import display"
      ],
      "execution_count": 0,
      "outputs": []
    },
    {
      "cell_type": "markdown",
      "metadata": {
        "id": "vzGGAFjdCkrn",
        "colab_type": "text"
      },
      "source": [
        "Now we will import algorithms that we will use for modeling. We will also import packages which we will use  preprocessing, optimising parameters, sampling and visualization. "
      ]
    },
    {
      "cell_type": "code",
      "metadata": {
        "id": "4h_LIldsC5nX",
        "colab_type": "code",
        "colab": {}
      },
      "source": [
        "from sklearn.kernel_ridge import KernelRidge\n",
        "from sklearn.linear_model import ElasticNet, Lasso,  BayesianRidge, LassoLarsIC\n",
        "from sklearn.ensemble import RandomForestRegressor,  GradientBoostingRegressor, ExtraTreesRegressor\n",
        "import xgboost as xgb\n",
        "from sklearn.pipeline import make_pipeline\n",
        "from sklearn.preprocessing import LabelEncoder\n",
        "from sklearn.feature_selection import chi2\n",
        "from sklearn.feature_selection import SelectFromModel\n",
        "from sklearn.preprocessing import StandardScaler\n",
        "from sklearn.feature_selection import SelectKBest\n",
        "from sklearn.preprocessing import RobustScaler\n",
        "from sklearn.model_selection import GridSearchCV\n",
        "from sklearn.model_selection import KFold\n",
        "from sklearn.model_selection import ShuffleSplit\n",
        "from sklearn.metrics import mean_squared_error\n",
        "from tensorflow.python.framework import ops\n",
        "import sklearn\n",
        "from sklearn.model_selection import ParameterGrid\n",
        "import logging\n",
        "import lightgbm as lgb\n",
        "from sklearn.base import BaseEstimator, TransformerMixin, RegressorMixin, clone\n",
        "from sklearn.model_selection import cross_val_score, train_test_split\n",
        "mycols = [\"#ffd966\", \"#dab3ff\", \"#ffb366\", \"#00cc99\", \"#66c2ff\", \"#c2c2d6\", \"#5cd6d6\", \"#85e085\", \"#ffb3b3\"]\n",
        "sns.set_palette(palette = mycols, n_colors = 4)"
      ],
      "execution_count": 0,
      "outputs": []
    },
    {
      "cell_type": "markdown",
      "metadata": {
        "id": "octf-81nEYPL",
        "colab_type": "text"
      },
      "source": [
        "We are going to ignore any depreciation warning that we may get. "
      ]
    },
    {
      "cell_type": "code",
      "metadata": {
        "id": "4OHd_zGhEd_c",
        "colab_type": "code",
        "colab": {}
      },
      "source": [
        "import warnings\n",
        "def ignore_warn(*args, **kwargs):\n",
        "    pass\n",
        "warnings.warn = ignore_warn \n",
        "warnings.filterwarnings(\"ignore\", category=DeprecationWarning)"
      ],
      "execution_count": 0,
      "outputs": []
    },
    {
      "cell_type": "markdown",
      "metadata": {
        "id": "9uxMrLT2GQc9",
        "colab_type": "text"
      },
      "source": [
        "Now we will import the train and test dataset."
      ]
    },
    {
      "cell_type": "code",
      "metadata": {
        "id": "oIVImTz-pJz7",
        "colab_type": "code",
        "colab": {}
      },
      "source": [
        "train = pd.read_csv(\"train.csv\")\n",
        "test = pd.read_csv(\"test.csv\")"
      ],
      "execution_count": 0,
      "outputs": []
    },
    {
      "cell_type": "markdown",
      "metadata": {
        "id": "-VsOaVpft0dD",
        "colab_type": "text"
      },
      "source": [
        "Here all the tools and libraries necessary were imported. Pandas is used to read a CSV file. \"pd.read_csv\" method is used to create a dataframe from a csv file.\n"
      ]
    },
    {
      "cell_type": "markdown",
      "metadata": {
        "id": "vWuhsaYtkHog",
        "colab_type": "text"
      },
      "source": [
        "Now to check the data we can write"
      ]
    },
    {
      "cell_type": "code",
      "metadata": {
        "id": "PwnrhahVkMm7",
        "colab_type": "code",
        "outputId": "53d789dc-00dc-43cc-90c8-629e6801d5bf",
        "colab": {
          "base_uri": "https://localhost:8080/",
          "height": 51
        }
      },
      "source": [
        "print (\"Train data shape:\", train.shape)\n",
        "print (\"Test data shape:\", test.shape)"
      ],
      "execution_count": 5,
      "outputs": [
        {
          "output_type": "stream",
          "text": [
            "Train data shape: (1460, 81)\n",
            "Test data shape: (1459, 80)\n"
          ],
          "name": "stdout"
        }
      ]
    },
    {
      "cell_type": "markdown",
      "metadata": {
        "id": "4plDdPqo0KPk",
        "colab_type": "text"
      },
      "source": [
        "We can see that train has 81 columns and test has 80 columns. Test data having only 80 columns is due to test data not including final sales price information. We can inspect a few rows using the train.head() meathod.\n",
        "\n"
      ]
    },
    {
      "cell_type": "code",
      "metadata": {
        "id": "DHWAx4ocvh-f",
        "colab_type": "code",
        "outputId": "5928f595-2867-4774-ad63-5901690ba0c1",
        "colab": {
          "base_uri": "https://localhost:8080/",
          "height": 253
        }
      },
      "source": [
        "train.head()"
      ],
      "execution_count": 6,
      "outputs": [
        {
          "output_type": "execute_result",
          "data": {
            "text/html": [
              "<div>\n",
              "<style scoped>\n",
              "    .dataframe tbody tr th:only-of-type {\n",
              "        vertical-align: middle;\n",
              "    }\n",
              "\n",
              "    .dataframe tbody tr th {\n",
              "        vertical-align: top;\n",
              "    }\n",
              "\n",
              "    .dataframe thead th {\n",
              "        text-align: right;\n",
              "    }\n",
              "</style>\n",
              "<table border=\"1\" class=\"dataframe\">\n",
              "  <thead>\n",
              "    <tr style=\"text-align: right;\">\n",
              "      <th></th>\n",
              "      <th>Id</th>\n",
              "      <th>MSSubClass</th>\n",
              "      <th>MSZoning</th>\n",
              "      <th>LotFrontage</th>\n",
              "      <th>LotArea</th>\n",
              "      <th>Street</th>\n",
              "      <th>Alley</th>\n",
              "      <th>LotShape</th>\n",
              "      <th>LandContour</th>\n",
              "      <th>Utilities</th>\n",
              "      <th>LotConfig</th>\n",
              "      <th>LandSlope</th>\n",
              "      <th>Neighborhood</th>\n",
              "      <th>Condition1</th>\n",
              "      <th>Condition2</th>\n",
              "      <th>BldgType</th>\n",
              "      <th>HouseStyle</th>\n",
              "      <th>OverallQual</th>\n",
              "      <th>OverallCond</th>\n",
              "      <th>YearBuilt</th>\n",
              "      <th>YearRemodAdd</th>\n",
              "      <th>RoofStyle</th>\n",
              "      <th>RoofMatl</th>\n",
              "      <th>Exterior1st</th>\n",
              "      <th>Exterior2nd</th>\n",
              "      <th>MasVnrType</th>\n",
              "      <th>MasVnrArea</th>\n",
              "      <th>ExterQual</th>\n",
              "      <th>ExterCond</th>\n",
              "      <th>Foundation</th>\n",
              "      <th>BsmtQual</th>\n",
              "      <th>BsmtCond</th>\n",
              "      <th>BsmtExposure</th>\n",
              "      <th>BsmtFinType1</th>\n",
              "      <th>BsmtFinSF1</th>\n",
              "      <th>BsmtFinType2</th>\n",
              "      <th>BsmtFinSF2</th>\n",
              "      <th>BsmtUnfSF</th>\n",
              "      <th>TotalBsmtSF</th>\n",
              "      <th>Heating</th>\n",
              "      <th>...</th>\n",
              "      <th>CentralAir</th>\n",
              "      <th>Electrical</th>\n",
              "      <th>1stFlrSF</th>\n",
              "      <th>2ndFlrSF</th>\n",
              "      <th>LowQualFinSF</th>\n",
              "      <th>GrLivArea</th>\n",
              "      <th>BsmtFullBath</th>\n",
              "      <th>BsmtHalfBath</th>\n",
              "      <th>FullBath</th>\n",
              "      <th>HalfBath</th>\n",
              "      <th>BedroomAbvGr</th>\n",
              "      <th>KitchenAbvGr</th>\n",
              "      <th>KitchenQual</th>\n",
              "      <th>TotRmsAbvGrd</th>\n",
              "      <th>Functional</th>\n",
              "      <th>Fireplaces</th>\n",
              "      <th>FireplaceQu</th>\n",
              "      <th>GarageType</th>\n",
              "      <th>GarageYrBlt</th>\n",
              "      <th>GarageFinish</th>\n",
              "      <th>GarageCars</th>\n",
              "      <th>GarageArea</th>\n",
              "      <th>GarageQual</th>\n",
              "      <th>GarageCond</th>\n",
              "      <th>PavedDrive</th>\n",
              "      <th>WoodDeckSF</th>\n",
              "      <th>OpenPorchSF</th>\n",
              "      <th>EnclosedPorch</th>\n",
              "      <th>3SsnPorch</th>\n",
              "      <th>ScreenPorch</th>\n",
              "      <th>PoolArea</th>\n",
              "      <th>PoolQC</th>\n",
              "      <th>Fence</th>\n",
              "      <th>MiscFeature</th>\n",
              "      <th>MiscVal</th>\n",
              "      <th>MoSold</th>\n",
              "      <th>YrSold</th>\n",
              "      <th>SaleType</th>\n",
              "      <th>SaleCondition</th>\n",
              "      <th>SalePrice</th>\n",
              "    </tr>\n",
              "  </thead>\n",
              "  <tbody>\n",
              "    <tr>\n",
              "      <th>0</th>\n",
              "      <td>1</td>\n",
              "      <td>60</td>\n",
              "      <td>RL</td>\n",
              "      <td>65.0</td>\n",
              "      <td>8450</td>\n",
              "      <td>Pave</td>\n",
              "      <td>NaN</td>\n",
              "      <td>Reg</td>\n",
              "      <td>Lvl</td>\n",
              "      <td>AllPub</td>\n",
              "      <td>Inside</td>\n",
              "      <td>Gtl</td>\n",
              "      <td>CollgCr</td>\n",
              "      <td>Norm</td>\n",
              "      <td>Norm</td>\n",
              "      <td>1Fam</td>\n",
              "      <td>2Story</td>\n",
              "      <td>7</td>\n",
              "      <td>5</td>\n",
              "      <td>2003</td>\n",
              "      <td>2003</td>\n",
              "      <td>Gable</td>\n",
              "      <td>CompShg</td>\n",
              "      <td>VinylSd</td>\n",
              "      <td>VinylSd</td>\n",
              "      <td>BrkFace</td>\n",
              "      <td>196.0</td>\n",
              "      <td>Gd</td>\n",
              "      <td>TA</td>\n",
              "      <td>PConc</td>\n",
              "      <td>Gd</td>\n",
              "      <td>TA</td>\n",
              "      <td>No</td>\n",
              "      <td>GLQ</td>\n",
              "      <td>706</td>\n",
              "      <td>Unf</td>\n",
              "      <td>0</td>\n",
              "      <td>150</td>\n",
              "      <td>856</td>\n",
              "      <td>GasA</td>\n",
              "      <td>...</td>\n",
              "      <td>Y</td>\n",
              "      <td>SBrkr</td>\n",
              "      <td>856</td>\n",
              "      <td>854</td>\n",
              "      <td>0</td>\n",
              "      <td>1710</td>\n",
              "      <td>1</td>\n",
              "      <td>0</td>\n",
              "      <td>2</td>\n",
              "      <td>1</td>\n",
              "      <td>3</td>\n",
              "      <td>1</td>\n",
              "      <td>Gd</td>\n",
              "      <td>8</td>\n",
              "      <td>Typ</td>\n",
              "      <td>0</td>\n",
              "      <td>NaN</td>\n",
              "      <td>Attchd</td>\n",
              "      <td>2003.0</td>\n",
              "      <td>RFn</td>\n",
              "      <td>2</td>\n",
              "      <td>548</td>\n",
              "      <td>TA</td>\n",
              "      <td>TA</td>\n",
              "      <td>Y</td>\n",
              "      <td>0</td>\n",
              "      <td>61</td>\n",
              "      <td>0</td>\n",
              "      <td>0</td>\n",
              "      <td>0</td>\n",
              "      <td>0</td>\n",
              "      <td>NaN</td>\n",
              "      <td>NaN</td>\n",
              "      <td>NaN</td>\n",
              "      <td>0</td>\n",
              "      <td>2</td>\n",
              "      <td>2008</td>\n",
              "      <td>WD</td>\n",
              "      <td>Normal</td>\n",
              "      <td>208500</td>\n",
              "    </tr>\n",
              "    <tr>\n",
              "      <th>1</th>\n",
              "      <td>2</td>\n",
              "      <td>20</td>\n",
              "      <td>RL</td>\n",
              "      <td>80.0</td>\n",
              "      <td>9600</td>\n",
              "      <td>Pave</td>\n",
              "      <td>NaN</td>\n",
              "      <td>Reg</td>\n",
              "      <td>Lvl</td>\n",
              "      <td>AllPub</td>\n",
              "      <td>FR2</td>\n",
              "      <td>Gtl</td>\n",
              "      <td>Veenker</td>\n",
              "      <td>Feedr</td>\n",
              "      <td>Norm</td>\n",
              "      <td>1Fam</td>\n",
              "      <td>1Story</td>\n",
              "      <td>6</td>\n",
              "      <td>8</td>\n",
              "      <td>1976</td>\n",
              "      <td>1976</td>\n",
              "      <td>Gable</td>\n",
              "      <td>CompShg</td>\n",
              "      <td>MetalSd</td>\n",
              "      <td>MetalSd</td>\n",
              "      <td>None</td>\n",
              "      <td>0.0</td>\n",
              "      <td>TA</td>\n",
              "      <td>TA</td>\n",
              "      <td>CBlock</td>\n",
              "      <td>Gd</td>\n",
              "      <td>TA</td>\n",
              "      <td>Gd</td>\n",
              "      <td>ALQ</td>\n",
              "      <td>978</td>\n",
              "      <td>Unf</td>\n",
              "      <td>0</td>\n",
              "      <td>284</td>\n",
              "      <td>1262</td>\n",
              "      <td>GasA</td>\n",
              "      <td>...</td>\n",
              "      <td>Y</td>\n",
              "      <td>SBrkr</td>\n",
              "      <td>1262</td>\n",
              "      <td>0</td>\n",
              "      <td>0</td>\n",
              "      <td>1262</td>\n",
              "      <td>0</td>\n",
              "      <td>1</td>\n",
              "      <td>2</td>\n",
              "      <td>0</td>\n",
              "      <td>3</td>\n",
              "      <td>1</td>\n",
              "      <td>TA</td>\n",
              "      <td>6</td>\n",
              "      <td>Typ</td>\n",
              "      <td>1</td>\n",
              "      <td>TA</td>\n",
              "      <td>Attchd</td>\n",
              "      <td>1976.0</td>\n",
              "      <td>RFn</td>\n",
              "      <td>2</td>\n",
              "      <td>460</td>\n",
              "      <td>TA</td>\n",
              "      <td>TA</td>\n",
              "      <td>Y</td>\n",
              "      <td>298</td>\n",
              "      <td>0</td>\n",
              "      <td>0</td>\n",
              "      <td>0</td>\n",
              "      <td>0</td>\n",
              "      <td>0</td>\n",
              "      <td>NaN</td>\n",
              "      <td>NaN</td>\n",
              "      <td>NaN</td>\n",
              "      <td>0</td>\n",
              "      <td>5</td>\n",
              "      <td>2007</td>\n",
              "      <td>WD</td>\n",
              "      <td>Normal</td>\n",
              "      <td>181500</td>\n",
              "    </tr>\n",
              "    <tr>\n",
              "      <th>2</th>\n",
              "      <td>3</td>\n",
              "      <td>60</td>\n",
              "      <td>RL</td>\n",
              "      <td>68.0</td>\n",
              "      <td>11250</td>\n",
              "      <td>Pave</td>\n",
              "      <td>NaN</td>\n",
              "      <td>IR1</td>\n",
              "      <td>Lvl</td>\n",
              "      <td>AllPub</td>\n",
              "      <td>Inside</td>\n",
              "      <td>Gtl</td>\n",
              "      <td>CollgCr</td>\n",
              "      <td>Norm</td>\n",
              "      <td>Norm</td>\n",
              "      <td>1Fam</td>\n",
              "      <td>2Story</td>\n",
              "      <td>7</td>\n",
              "      <td>5</td>\n",
              "      <td>2001</td>\n",
              "      <td>2002</td>\n",
              "      <td>Gable</td>\n",
              "      <td>CompShg</td>\n",
              "      <td>VinylSd</td>\n",
              "      <td>VinylSd</td>\n",
              "      <td>BrkFace</td>\n",
              "      <td>162.0</td>\n",
              "      <td>Gd</td>\n",
              "      <td>TA</td>\n",
              "      <td>PConc</td>\n",
              "      <td>Gd</td>\n",
              "      <td>TA</td>\n",
              "      <td>Mn</td>\n",
              "      <td>GLQ</td>\n",
              "      <td>486</td>\n",
              "      <td>Unf</td>\n",
              "      <td>0</td>\n",
              "      <td>434</td>\n",
              "      <td>920</td>\n",
              "      <td>GasA</td>\n",
              "      <td>...</td>\n",
              "      <td>Y</td>\n",
              "      <td>SBrkr</td>\n",
              "      <td>920</td>\n",
              "      <td>866</td>\n",
              "      <td>0</td>\n",
              "      <td>1786</td>\n",
              "      <td>1</td>\n",
              "      <td>0</td>\n",
              "      <td>2</td>\n",
              "      <td>1</td>\n",
              "      <td>3</td>\n",
              "      <td>1</td>\n",
              "      <td>Gd</td>\n",
              "      <td>6</td>\n",
              "      <td>Typ</td>\n",
              "      <td>1</td>\n",
              "      <td>TA</td>\n",
              "      <td>Attchd</td>\n",
              "      <td>2001.0</td>\n",
              "      <td>RFn</td>\n",
              "      <td>2</td>\n",
              "      <td>608</td>\n",
              "      <td>TA</td>\n",
              "      <td>TA</td>\n",
              "      <td>Y</td>\n",
              "      <td>0</td>\n",
              "      <td>42</td>\n",
              "      <td>0</td>\n",
              "      <td>0</td>\n",
              "      <td>0</td>\n",
              "      <td>0</td>\n",
              "      <td>NaN</td>\n",
              "      <td>NaN</td>\n",
              "      <td>NaN</td>\n",
              "      <td>0</td>\n",
              "      <td>9</td>\n",
              "      <td>2008</td>\n",
              "      <td>WD</td>\n",
              "      <td>Normal</td>\n",
              "      <td>223500</td>\n",
              "    </tr>\n",
              "    <tr>\n",
              "      <th>3</th>\n",
              "      <td>4</td>\n",
              "      <td>70</td>\n",
              "      <td>RL</td>\n",
              "      <td>60.0</td>\n",
              "      <td>9550</td>\n",
              "      <td>Pave</td>\n",
              "      <td>NaN</td>\n",
              "      <td>IR1</td>\n",
              "      <td>Lvl</td>\n",
              "      <td>AllPub</td>\n",
              "      <td>Corner</td>\n",
              "      <td>Gtl</td>\n",
              "      <td>Crawfor</td>\n",
              "      <td>Norm</td>\n",
              "      <td>Norm</td>\n",
              "      <td>1Fam</td>\n",
              "      <td>2Story</td>\n",
              "      <td>7</td>\n",
              "      <td>5</td>\n",
              "      <td>1915</td>\n",
              "      <td>1970</td>\n",
              "      <td>Gable</td>\n",
              "      <td>CompShg</td>\n",
              "      <td>Wd Sdng</td>\n",
              "      <td>Wd Shng</td>\n",
              "      <td>None</td>\n",
              "      <td>0.0</td>\n",
              "      <td>TA</td>\n",
              "      <td>TA</td>\n",
              "      <td>BrkTil</td>\n",
              "      <td>TA</td>\n",
              "      <td>Gd</td>\n",
              "      <td>No</td>\n",
              "      <td>ALQ</td>\n",
              "      <td>216</td>\n",
              "      <td>Unf</td>\n",
              "      <td>0</td>\n",
              "      <td>540</td>\n",
              "      <td>756</td>\n",
              "      <td>GasA</td>\n",
              "      <td>...</td>\n",
              "      <td>Y</td>\n",
              "      <td>SBrkr</td>\n",
              "      <td>961</td>\n",
              "      <td>756</td>\n",
              "      <td>0</td>\n",
              "      <td>1717</td>\n",
              "      <td>1</td>\n",
              "      <td>0</td>\n",
              "      <td>1</td>\n",
              "      <td>0</td>\n",
              "      <td>3</td>\n",
              "      <td>1</td>\n",
              "      <td>Gd</td>\n",
              "      <td>7</td>\n",
              "      <td>Typ</td>\n",
              "      <td>1</td>\n",
              "      <td>Gd</td>\n",
              "      <td>Detchd</td>\n",
              "      <td>1998.0</td>\n",
              "      <td>Unf</td>\n",
              "      <td>3</td>\n",
              "      <td>642</td>\n",
              "      <td>TA</td>\n",
              "      <td>TA</td>\n",
              "      <td>Y</td>\n",
              "      <td>0</td>\n",
              "      <td>35</td>\n",
              "      <td>272</td>\n",
              "      <td>0</td>\n",
              "      <td>0</td>\n",
              "      <td>0</td>\n",
              "      <td>NaN</td>\n",
              "      <td>NaN</td>\n",
              "      <td>NaN</td>\n",
              "      <td>0</td>\n",
              "      <td>2</td>\n",
              "      <td>2006</td>\n",
              "      <td>WD</td>\n",
              "      <td>Abnorml</td>\n",
              "      <td>140000</td>\n",
              "    </tr>\n",
              "    <tr>\n",
              "      <th>4</th>\n",
              "      <td>5</td>\n",
              "      <td>60</td>\n",
              "      <td>RL</td>\n",
              "      <td>84.0</td>\n",
              "      <td>14260</td>\n",
              "      <td>Pave</td>\n",
              "      <td>NaN</td>\n",
              "      <td>IR1</td>\n",
              "      <td>Lvl</td>\n",
              "      <td>AllPub</td>\n",
              "      <td>FR2</td>\n",
              "      <td>Gtl</td>\n",
              "      <td>NoRidge</td>\n",
              "      <td>Norm</td>\n",
              "      <td>Norm</td>\n",
              "      <td>1Fam</td>\n",
              "      <td>2Story</td>\n",
              "      <td>8</td>\n",
              "      <td>5</td>\n",
              "      <td>2000</td>\n",
              "      <td>2000</td>\n",
              "      <td>Gable</td>\n",
              "      <td>CompShg</td>\n",
              "      <td>VinylSd</td>\n",
              "      <td>VinylSd</td>\n",
              "      <td>BrkFace</td>\n",
              "      <td>350.0</td>\n",
              "      <td>Gd</td>\n",
              "      <td>TA</td>\n",
              "      <td>PConc</td>\n",
              "      <td>Gd</td>\n",
              "      <td>TA</td>\n",
              "      <td>Av</td>\n",
              "      <td>GLQ</td>\n",
              "      <td>655</td>\n",
              "      <td>Unf</td>\n",
              "      <td>0</td>\n",
              "      <td>490</td>\n",
              "      <td>1145</td>\n",
              "      <td>GasA</td>\n",
              "      <td>...</td>\n",
              "      <td>Y</td>\n",
              "      <td>SBrkr</td>\n",
              "      <td>1145</td>\n",
              "      <td>1053</td>\n",
              "      <td>0</td>\n",
              "      <td>2198</td>\n",
              "      <td>1</td>\n",
              "      <td>0</td>\n",
              "      <td>2</td>\n",
              "      <td>1</td>\n",
              "      <td>4</td>\n",
              "      <td>1</td>\n",
              "      <td>Gd</td>\n",
              "      <td>9</td>\n",
              "      <td>Typ</td>\n",
              "      <td>1</td>\n",
              "      <td>TA</td>\n",
              "      <td>Attchd</td>\n",
              "      <td>2000.0</td>\n",
              "      <td>RFn</td>\n",
              "      <td>3</td>\n",
              "      <td>836</td>\n",
              "      <td>TA</td>\n",
              "      <td>TA</td>\n",
              "      <td>Y</td>\n",
              "      <td>192</td>\n",
              "      <td>84</td>\n",
              "      <td>0</td>\n",
              "      <td>0</td>\n",
              "      <td>0</td>\n",
              "      <td>0</td>\n",
              "      <td>NaN</td>\n",
              "      <td>NaN</td>\n",
              "      <td>NaN</td>\n",
              "      <td>0</td>\n",
              "      <td>12</td>\n",
              "      <td>2008</td>\n",
              "      <td>WD</td>\n",
              "      <td>Normal</td>\n",
              "      <td>250000</td>\n",
              "    </tr>\n",
              "  </tbody>\n",
              "</table>\n",
              "<p>5 rows × 81 columns</p>\n",
              "</div>"
            ],
            "text/plain": [
              "   Id  MSSubClass MSZoning  ...  SaleType  SaleCondition SalePrice\n",
              "0   1          60       RL  ...        WD         Normal    208500\n",
              "1   2          20       RL  ...        WD         Normal    181500\n",
              "2   3          60       RL  ...        WD         Normal    223500\n",
              "3   4          70       RL  ...        WD        Abnorml    140000\n",
              "4   5          60       RL  ...        WD         Normal    250000\n",
              "\n",
              "[5 rows x 81 columns]"
            ]
          },
          "metadata": {
            "tags": []
          },
          "execution_count": 6
        }
      ]
    },
    {
      "cell_type": "markdown",
      "metadata": {
        "id": "_fYSclTfvjXU",
        "colab_type": "text"
      },
      "source": [
        "We will use Matplotlib to plot our data so that we can visualize the data to understand the distribution of data, checking outilers and percept other patterns. "
      ]
    },
    {
      "cell_type": "markdown",
      "metadata": {
        "id": "oxesyXCSKMR-",
        "colab_type": "text"
      },
      "source": [
        "#03. Exploring the data and  data preprocessing"
      ]
    },
    {
      "cell_type": "markdown",
      "metadata": {
        "id": "48hvv81dKQ2_",
        "colab_type": "text"
      },
      "source": [
        "We are going to save the first column \"ID\" and then drop it as it doesn't serve our purpose. "
      ]
    },
    {
      "cell_type": "code",
      "metadata": {
        "id": "jpMhIR1KKjbe",
        "colab_type": "code",
        "colab": {}
      },
      "source": [
        "train_ID = train['Id']\n",
        "test_ID = test['Id']\n",
        "\n",
        "train.drop(\"Id\", axis = 1, inplace = True)\n",
        "test.drop(\"Id\", axis = 1, inplace = True)"
      ],
      "execution_count": 0,
      "outputs": []
    },
    {
      "cell_type": "markdown",
      "metadata": {
        "id": "XTcCt6aCKvwV",
        "colab_type": "text"
      },
      "source": [
        "Now we will check the data size of train and test set."
      ]
    },
    {
      "cell_type": "code",
      "metadata": {
        "id": "4qyxw2xXLD09",
        "colab_type": "code",
        "outputId": "60f239c2-10d9-4808-f4f4-57f377d18242",
        "colab": {
          "base_uri": "https://localhost:8080/",
          "height": 51
        }
      },
      "source": [
        "print (\"Train data shape:\", train.shape)\n",
        "print (\"Test data shape:\", test.shape)"
      ],
      "execution_count": 8,
      "outputs": [
        {
          "output_type": "stream",
          "text": [
            "Train data shape: (1460, 80)\n",
            "Test data shape: (1459, 79)\n"
          ],
          "name": "stdout"
        }
      ]
    },
    {
      "cell_type": "markdown",
      "metadata": {
        "id": "-DCSszrwLNZK",
        "colab_type": "text"
      },
      "source": [
        "##03.1 Removing outliers"
      ]
    },
    {
      "cell_type": "markdown",
      "metadata": {
        "id": "vmrHv4e1Y3j9",
        "colab_type": "text"
      },
      "source": [
        "The data labeled GrLivArea as an outlier. We can plot first and then take measures against this. "
      ]
    },
    {
      "cell_type": "code",
      "metadata": {
        "id": "4Z0pQLhCZ0Yj",
        "colab_type": "code",
        "outputId": "5be32078-e136-4f40-9e38-24b55a7c6a4e",
        "colab": {
          "base_uri": "https://localhost:8080/",
          "height": 293
        }
      },
      "source": [
        "fig, ax = plt.subplots()\n",
        "ax.scatter(x = train['GrLivArea'], y = train['SalePrice'])\n",
        "plt.ylabel('SalePrice', fontsize=15)\n",
        "plt.xlabel('GrLivArea', fontsize=15)\n",
        "plt.show()"
      ],
      "execution_count": 9,
      "outputs": [
        {
          "output_type": "display_data",
          "data": {
            "image/png": "[encoded data removed]",
            "text/plain": [
              "<Figure size 432x288 with 1 Axes>"
            ]
          },
          "metadata": {
            "tags": []
          }
        }
      ]
    },
    {
      "cell_type": "markdown",
      "metadata": {
        "id": "SnIplsZo_c2E",
        "colab_type": "text"
      },
      "source": [
        "We can see that there are some prices which are large and in small numbers so we can detect them as outliers and remove them for better prediction. "
      ]
    },
    {
      "cell_type": "code",
      "metadata": {
        "id": "hGXYoOIWLe1_",
        "colab_type": "code",
        "outputId": "8dfc7f82-1f42-4472-80a1-fa790eff91ea",
        "colab": {
          "base_uri": "https://localhost:8080/",
          "height": 293
        }
      },
      "source": [
        "train = train.drop(train[(train['GrLivArea']>4000) & (train['SalePrice']<300000)].index)\n",
        "\n",
        "fig, ax = plt.subplots()\n",
        "ax.scatter(train['GrLivArea'], train['SalePrice'])\n",
        "plt.ylabel('SalePrice', fontsize=15)\n",
        "plt.xlabel('GrLivArea', fontsize=15)\n",
        "plt.show()"
      ],
      "execution_count": 10,
      "outputs": [
        {
          "output_type": "display_data",
          "data": {
            "image/png": "[encoded data removed]",
            "text/plain": [
              "<Figure size 432x288 with 1 Axes>"
            ]
          },
          "metadata": {
            "tags": []
          }
        }
      ]
    },
    {
      "cell_type": "code",
      "metadata": {
        "id": "eqyAAWbOiw6t",
        "colab_type": "code",
        "colab": {}
      },
      "source": [
        "trainNoOutlier = train.copy()\n",
        "testNoOutlier = test.copy()"
      ],
      "execution_count": 0,
      "outputs": []
    },
    {
      "cell_type": "markdown",
      "metadata": {
        "id": "klXFx3ysAOHC",
        "colab_type": "text"
      },
      "source": [
        "##03.2 Checking Skewness "
      ]
    },
    {
      "cell_type": "markdown",
      "metadata": {
        "id": "UcmOSNOZAvue",
        "colab_type": "text"
      },
      "source": [
        "Skewness is a measure of the shape of the distributed values. We will check if our target variable is skewed or not. "
      ]
    },
    {
      "cell_type": "code",
      "metadata": {
        "id": "LX_irkJcmfKP",
        "colab_type": "code",
        "outputId": "5ed9a13b-ade7-4ca4-e0b5-ca8ec36c5ae7",
        "colab": {
          "base_uri": "https://localhost:8080/",
          "height": 291
        }
      },
      "source": [
        "print (\"Skew is:\", train.SalePrice.skew())\n",
        "plt.hist(train.SalePrice, color='blue')\n",
        "plt.show()"
      ],
      "execution_count": 12,
      "outputs": [
        {
          "output_type": "stream",
          "text": [
            "Skew is: 1.8812964895244009\n"
          ],
          "name": "stdout"
        },
        {
          "output_type": "display_data",
          "data": {
            "image/png": "[encoded data removed]",
            "text/plain": [
              "<Figure size 432x288 with 1 Axes>"
            ]
          },
          "metadata": {
            "tags": []
          }
        }
      ]
    },
    {
      "cell_type": "markdown",
      "metadata": {
        "id": "w8aG3xzioWFd",
        "colab_type": "text"
      },
      "source": [
        "We can see that the distribution is positively skewed as the tail is longer on the right. Now we will transform the data using np.log() , recalculate the skewness replot the data. If the value becomes closer to 0 that will mean the the data is resembling a normal distribution.  "
      ]
    },
    {
      "cell_type": "code",
      "metadata": {
        "id": "qvxZ0gvmmx8g",
        "colab_type": "code",
        "outputId": "08f39dfa-8064-4cb1-e6da-5d13971e5208",
        "colab": {
          "base_uri": "https://localhost:8080/",
          "height": 291
        }
      },
      "source": [
        "train[\"SalePrice\"] = np.log1p(train[\"SalePrice\"])\n",
        "target=train[\"SalePrice\"]\n",
        "print (\"Skew is:\", target.skew())\n",
        "plt.hist(target, color='blue')\n",
        "plt.show()"
      ],
      "execution_count": 13,
      "outputs": [
        {
          "output_type": "stream",
          "text": [
            "Skew is: 0.12157976050304879\n"
          ],
          "name": "stdout"
        },
        {
          "output_type": "display_data",
          "data": {
            "image/png": "[encoded data removed]",
            "text/plain": [
              "<Figure size 432x288 with 1 Axes>"
            ]
          },
          "metadata": {
            "tags": []
          }
        }
      ]
    },
    {
      "cell_type": "markdown",
      "metadata": {
        "id": "m4zr5kirZuK8",
        "colab_type": "text"
      },
      "source": [
        "The skew seems to have been corrected."
      ]
    },
    {
      "cell_type": "markdown",
      "metadata": {
        "id": "BwSibNuGbyPC",
        "colab_type": "text"
      },
      "source": [
        "##03.3 Correlation analysis"
      ]
    },
    {
      "cell_type": "markdown",
      "metadata": {
        "id": "GqVeA7E2cDNa",
        "colab_type": "text"
      },
      "source": [
        "Now we will see which factors are correlated to houseprice the most. "
      ]
    },
    {
      "cell_type": "code",
      "metadata": {
        "id": "rZCEneF0cBkj",
        "colab_type": "code",
        "outputId": "c0e6fde9-a5e0-418a-dadb-4e064dc4458b",
        "colab": {
          "base_uri": "https://localhost:8080/",
          "height": 675
        }
      },
      "source": [
        "corrmat = train.corr()\n",
        "top_corr_features = corrmat.index[abs(corrmat[\"SalePrice\"])>0.5]\n",
        "plt.figure(figsize=(10,10))\n",
        "g = sns.heatmap(train[top_corr_features].corr(),annot=True,cmap=\"RdYlGn\")"
      ],
      "execution_count": 14,
      "outputs": [
        {
          "output_type": "display_data",
          "data": {
            "image/png": "[encoded data removed]",
            "text/plain": [
              "<Figure size 720x720 with 2 Axes>"
            ]
          },
          "metadata": {
            "tags": []
          }
        }
      ]
    },
    {
      "cell_type": "markdown",
      "metadata": {
        "id": "sfsNzm3icX6c",
        "colab_type": "text"
      },
      "source": [
        "We can see that OverallQual, GrLivArea and TotalBsmtSF are most positively correlated to houseprice. "
      ]
    },
    {
      "cell_type": "markdown",
      "metadata": {
        "id": "PvG6_gTK90A0",
        "colab_type": "text"
      },
      "source": [
        "##03.4 Feature Engineering and missing data processing"
      ]
    },
    {
      "cell_type": "markdown",
      "metadata": {
        "id": "qGvYg7Iu97WP",
        "colab_type": "text"
      },
      "source": [
        "We will concatenate the datasets for preprocessing first and again split it when we want to implement model. "
      ]
    },
    {
      "cell_type": "code",
      "metadata": {
        "id": "q0H47vix95jD",
        "colab_type": "code",
        "outputId": "98839fff-29c5-4d75-cd04-a64d025199c9",
        "colab": {
          "base_uri": "https://localhost:8080/",
          "height": 34
        }
      },
      "source": [
        "ntrain = train.shape[0]\n",
        "ntest = test.shape[0]\n",
        "y_train = train.SalePrice.values\n",
        "trainRaw = train.copy()\n",
        "all_data = pd.concat((train, test)).reset_index(drop=True)\n",
        "all_data.drop(['SalePrice'], axis=1, inplace=True)\n",
        "print(\"all_data size is : {}\".format(all_data.shape))"
      ],
      "execution_count": 15,
      "outputs": [
        {
          "output_type": "stream",
          "text": [
            "all_data size is : (2917, 79)\n"
          ],
          "name": "stdout"
        }
      ]
    },
    {
      "cell_type": "markdown",
      "metadata": {
        "id": "pVlMFVxa-ZLy",
        "colab_type": "text"
      },
      "source": [
        "First of all we will find the missing values and then we will go to each column and take necessary actions. "
      ]
    },
    {
      "cell_type": "code",
      "metadata": {
        "id": "zwAHB8r9Bv_W",
        "colab_type": "code",
        "outputId": "6d8eaa72-ee97-4423-9352-302153e229e6",
        "colab": {
          "base_uri": "https://localhost:8080/",
          "height": 979
        }
      },
      "source": [
        "all_data_na = (all_data.isnull().sum() / len(all_data)) * 1\n",
        "all_data_na = all_data_na.drop(all_data_na[all_data_na == 0].index).sort_values(ascending=False)[:30]\n",
        "missing_data = pd.DataFrame({'Missing data' :all_data_na})\n",
        "missing_data.head(30)"
      ],
      "execution_count": 16,
      "outputs": [
        {
          "output_type": "execute_result",
          "data": {
            "text/html": [
              "<div>\n",
              "<style scoped>\n",
              "    .dataframe tbody tr th:only-of-type {\n",
              "        vertical-align: middle;\n",
              "    }\n",
              "\n",
              "    .dataframe tbody tr th {\n",
              "        vertical-align: top;\n",
              "    }\n",
              "\n",
              "    .dataframe thead th {\n",
              "        text-align: right;\n",
              "    }\n",
              "</style>\n",
              "<table border=\"1\" class=\"dataframe\">\n",
              "  <thead>\n",
              "    <tr style=\"text-align: right;\">\n",
              "      <th></th>\n",
              "      <th>Missing data</th>\n",
              "    </tr>\n",
              "  </thead>\n",
              "  <tbody>\n",
              "    <tr>\n",
              "      <th>PoolQC</th>\n",
              "      <td>0.996915</td>\n",
              "    </tr>\n",
              "    <tr>\n",
              "      <th>MiscFeature</th>\n",
              "      <td>0.964004</td>\n",
              "    </tr>\n",
              "    <tr>\n",
              "      <th>Alley</th>\n",
              "      <td>0.932122</td>\n",
              "    </tr>\n",
              "    <tr>\n",
              "      <th>Fence</th>\n",
              "      <td>0.804251</td>\n",
              "    </tr>\n",
              "    <tr>\n",
              "      <th>FireplaceQu</th>\n",
              "      <td>0.486802</td>\n",
              "    </tr>\n",
              "    <tr>\n",
              "      <th>LotFrontage</th>\n",
              "      <td>0.166610</td>\n",
              "    </tr>\n",
              "    <tr>\n",
              "      <th>GarageQual</th>\n",
              "      <td>0.054508</td>\n",
              "    </tr>\n",
              "    <tr>\n",
              "      <th>GarageCond</th>\n",
              "      <td>0.054508</td>\n",
              "    </tr>\n",
              "    <tr>\n",
              "      <th>GarageFinish</th>\n",
              "      <td>0.054508</td>\n",
              "    </tr>\n",
              "    <tr>\n",
              "      <th>GarageYrBlt</th>\n",
              "      <td>0.054508</td>\n",
              "    </tr>\n",
              "    <tr>\n",
              "      <th>GarageType</th>\n",
              "      <td>0.053822</td>\n",
              "    </tr>\n",
              "    <tr>\n",
              "      <th>BsmtExposure</th>\n",
              "      <td>0.028111</td>\n",
              "    </tr>\n",
              "    <tr>\n",
              "      <th>BsmtCond</th>\n",
              "      <td>0.028111</td>\n",
              "    </tr>\n",
              "    <tr>\n",
              "      <th>BsmtQual</th>\n",
              "      <td>0.027768</td>\n",
              "    </tr>\n",
              "    <tr>\n",
              "      <th>BsmtFinType2</th>\n",
              "      <td>0.027425</td>\n",
              "    </tr>\n",
              "    <tr>\n",
              "      <th>BsmtFinType1</th>\n",
              "      <td>0.027083</td>\n",
              "    </tr>\n",
              "    <tr>\n",
              "      <th>MasVnrType</th>\n",
              "      <td>0.008228</td>\n",
              "    </tr>\n",
              "    <tr>\n",
              "      <th>MasVnrArea</th>\n",
              "      <td>0.007885</td>\n",
              "    </tr>\n",
              "    <tr>\n",
              "      <th>MSZoning</th>\n",
              "      <td>0.001371</td>\n",
              "    </tr>\n",
              "    <tr>\n",
              "      <th>BsmtFullBath</th>\n",
              "      <td>0.000686</td>\n",
              "    </tr>\n",
              "    <tr>\n",
              "      <th>BsmtHalfBath</th>\n",
              "      <td>0.000686</td>\n",
              "    </tr>\n",
              "    <tr>\n",
              "      <th>Utilities</th>\n",
              "      <td>0.000686</td>\n",
              "    </tr>\n",
              "    <tr>\n",
              "      <th>Functional</th>\n",
              "      <td>0.000686</td>\n",
              "    </tr>\n",
              "    <tr>\n",
              "      <th>Electrical</th>\n",
              "      <td>0.000343</td>\n",
              "    </tr>\n",
              "    <tr>\n",
              "      <th>BsmtUnfSF</th>\n",
              "      <td>0.000343</td>\n",
              "    </tr>\n",
              "    <tr>\n",
              "      <th>Exterior1st</th>\n",
              "      <td>0.000343</td>\n",
              "    </tr>\n",
              "    <tr>\n",
              "      <th>Exterior2nd</th>\n",
              "      <td>0.000343</td>\n",
              "    </tr>\n",
              "    <tr>\n",
              "      <th>TotalBsmtSF</th>\n",
              "      <td>0.000343</td>\n",
              "    </tr>\n",
              "    <tr>\n",
              "      <th>GarageArea</th>\n",
              "      <td>0.000343</td>\n",
              "    </tr>\n",
              "    <tr>\n",
              "      <th>GarageCars</th>\n",
              "      <td>0.000343</td>\n",
              "    </tr>\n",
              "  </tbody>\n",
              "</table>\n",
              "</div>"
            ],
            "text/plain": [
              "              Missing data\n",
              "PoolQC            0.996915\n",
              "MiscFeature       0.964004\n",
              "Alley             0.932122\n",
              "Fence             0.804251\n",
              "FireplaceQu       0.486802\n",
              "LotFrontage       0.166610\n",
              "GarageQual        0.054508\n",
              "GarageCond        0.054508\n",
              "GarageFinish      0.054508\n",
              "GarageYrBlt       0.054508\n",
              "GarageType        0.053822\n",
              "BsmtExposure      0.028111\n",
              "BsmtCond          0.028111\n",
              "BsmtQual          0.027768\n",
              "BsmtFinType2      0.027425\n",
              "BsmtFinType1      0.027083\n",
              "MasVnrType        0.008228\n",
              "MasVnrArea        0.007885\n",
              "MSZoning          0.001371\n",
              "BsmtFullBath      0.000686\n",
              "BsmtHalfBath      0.000686\n",
              "Utilities         0.000686\n",
              "Functional        0.000686\n",
              "Electrical        0.000343\n",
              "BsmtUnfSF         0.000343\n",
              "Exterior1st       0.000343\n",
              "Exterior2nd       0.000343\n",
              "TotalBsmtSF       0.000343\n",
              "GarageArea        0.000343\n",
              "GarageCars        0.000343"
            ]
          },
          "metadata": {
            "tags": []
          },
          "execution_count": 16
        }
      ]
    },
    {
      "cell_type": "markdown",
      "metadata": {
        "id": "L01cB41KCZpP",
        "colab_type": "text"
      },
      "source": [
        "Now we will sequentially deal with the columns which have missing values. "
      ]
    },
    {
      "cell_type": "markdown",
      "metadata": {
        "id": "5OUDAzjLsZPY",
        "colab_type": "text"
      },
      "source": [
        "We can see that majority of the values of the pool column is null meaning there is no pool so we can replace thos with null"
      ]
    },
    {
      "cell_type": "code",
      "metadata": {
        "id": "5uBwRV_1sVaI",
        "colab_type": "code",
        "colab": {}
      },
      "source": [
        "all_data[\"PoolQC\"] = all_data[\"PoolQC\"].fillna(\"None\")"
      ],
      "execution_count": 0,
      "outputs": []
    },
    {
      "cell_type": "markdown",
      "metadata": {
        "id": "CbKOEYWdseA1",
        "colab_type": "text"
      },
      "source": [
        "We are going to give the same treatment to other missing values which have been defined as NA which means there is nothing in data description."
      ]
    },
    {
      "cell_type": "code",
      "metadata": {
        "id": "VpgzrmoxtQGn",
        "colab_type": "code",
        "colab": {}
      },
      "source": [
        "all_data[\"MiscFeature\"] = all_data[\"MiscFeature\"].fillna(\"None\")\n",
        "all_data[\"Alley\"] = all_data[\"Alley\"].fillna(\"None\")\n",
        "all_data[\"Fence\"] = all_data[\"Fence\"].fillna(\"None\")\n",
        "all_data[\"FireplaceQu\"] = all_data[\"FireplaceQu\"].fillna(\"None\")"
      ],
      "execution_count": 0,
      "outputs": []
    },
    {
      "cell_type": "markdown",
      "metadata": {
        "id": "Vg1Gk9FYt2_5",
        "colab_type": "text"
      },
      "source": [
        "For LotFrontage we are going to use the median value assuming that similarity to other houses. "
      ]
    },
    {
      "cell_type": "code",
      "metadata": {
        "id": "3l5U5uIIuZ1e",
        "colab_type": "code",
        "colab": {}
      },
      "source": [
        "all_data[\"LotFrontage\"] = all_data.groupby(\n",
        "    \"Neighborhood\")[\"LotFrontage\"].transform(lambda x: x.fillna(x.median()))"
      ],
      "execution_count": 0,
      "outputs": []
    },
    {
      "cell_type": "markdown",
      "metadata": {
        "id": "fbmAv11Lu_pL",
        "colab_type": "text"
      },
      "source": [
        "For GarageType, GarageFinish, GarageQual and GarageCond we will fill the missing data with None. "
      ]
    },
    {
      "cell_type": "code",
      "metadata": {
        "id": "DQnX18CsvLeF",
        "colab_type": "code",
        "colab": {}
      },
      "source": [
        "for col in ['GarageType', 'GarageFinish', 'GarageQual', 'GarageCond']:\n",
        "    all_data[col] = all_data[col].fillna('None')"
      ],
      "execution_count": 0,
      "outputs": []
    },
    {
      "cell_type": "markdown",
      "metadata": {
        "id": "LBbivsExvY30",
        "colab_type": "text"
      },
      "source": [
        "As no garage is the same as no car in garage we will fill GarageYrBlt, GarageArea and GarageCars with 0."
      ]
    },
    {
      "cell_type": "code",
      "metadata": {
        "id": "Xt9G2cdDvqiO",
        "colab_type": "code",
        "colab": {}
      },
      "source": [
        "for col in ('GarageYrBlt', 'GarageArea', 'GarageCars'):\n",
        "    all_data[col] = all_data[col].fillna(0)"
      ],
      "execution_count": 0,
      "outputs": []
    },
    {
      "cell_type": "markdown",
      "metadata": {
        "id": "B8DuCualvzuV",
        "colab_type": "text"
      },
      "source": [
        "We will do the same for BsmtFinSF1, BsmtFinSF2, BsmtUnfSF, TotalBsmtSF, BsmtFullBath and BsmtHalfBath for having no basement as there is missing value.  "
      ]
    },
    {
      "cell_type": "code",
      "metadata": {
        "id": "BGOr4qqywDBl",
        "colab_type": "code",
        "colab": {}
      },
      "source": [
        "for col in ('BsmtFinSF1', 'BsmtFinSF2', 'BsmtUnfSF','TotalBsmtSF', 'BsmtFullBath', 'BsmtHalfBath'):\n",
        "    all_data[col] = all_data[col].fillna(0)"
      ],
      "execution_count": 0,
      "outputs": []
    },
    {
      "cell_type": "markdown",
      "metadata": {
        "id": "8MFVoXXBwFnD",
        "colab_type": "text"
      },
      "source": [
        "We will think of NaN as having nothing and fill the values of such columns with 'None'."
      ]
    },
    {
      "cell_type": "code",
      "metadata": {
        "id": "bN6oluXFwbZ1",
        "colab_type": "code",
        "colab": {}
      },
      "source": [
        "for col in ('BsmtQual', 'BsmtCond', 'BsmtExposure', 'BsmtFinType1', 'BsmtFinType2'):\n",
        "    all_data[col] = all_data[col].fillna('None')"
      ],
      "execution_count": 0,
      "outputs": []
    },
    {
      "cell_type": "markdown",
      "metadata": {
        "id": "f6btAPduwcEK",
        "colab_type": "text"
      },
      "source": [
        "For MasVnrType we will fill it with 'None'. "
      ]
    },
    {
      "cell_type": "code",
      "metadata": {
        "id": "4GBuGg0mwwlv",
        "colab_type": "code",
        "colab": {}
      },
      "source": [
        "all_data[\"MasVnrType\"] = all_data[\"MasVnrType\"].fillna(\"None\")"
      ],
      "execution_count": 0,
      "outputs": []
    },
    {
      "cell_type": "markdown",
      "metadata": {
        "id": "P_yUz7b7w-iL",
        "colab_type": "text"
      },
      "source": [
        "For MasVnrType we will fill it with 0."
      ]
    },
    {
      "cell_type": "code",
      "metadata": {
        "id": "VXshEO1nxBo3",
        "colab_type": "code",
        "colab": {}
      },
      "source": [
        "all_data[\"MasVnrArea\"] = all_data[\"MasVnrArea\"].fillna(0)"
      ],
      "execution_count": 0,
      "outputs": []
    },
    {
      "cell_type": "code",
      "metadata": {
        "id": "P0VEf2_FxgQJ",
        "colab_type": "code",
        "outputId": "abc9956e-f9cb-4f92-a30e-04c0f966f831",
        "colab": {
          "base_uri": "https://localhost:8080/",
          "height": 119
        }
      },
      "source": [
        "all_data['MSZoning'].value_counts()"
      ],
      "execution_count": 26,
      "outputs": [
        {
          "output_type": "execute_result",
          "data": {
            "text/plain": [
              "RL         2263\n",
              "RM          460\n",
              "FV          139\n",
              "RH           26\n",
              "C (all)      25\n",
              "Name: MSZoning, dtype: int64"
            ]
          },
          "metadata": {
            "tags": []
          },
          "execution_count": 26
        }
      ]
    },
    {
      "cell_type": "markdown",
      "metadata": {
        "id": "BWOAB8IdxBMP",
        "colab_type": "text"
      },
      "source": [
        "In MSZoning the most seen value is \"RL\" so we will fill the missing values with it. "
      ]
    },
    {
      "cell_type": "code",
      "metadata": {
        "id": "XK2VYMSXxaED",
        "colab_type": "code",
        "colab": {}
      },
      "source": [
        "all_data['MSZoning'] = all_data['MSZoning'].fillna(all_data['MSZoning'].mode()[0])"
      ],
      "execution_count": 0,
      "outputs": []
    },
    {
      "cell_type": "code",
      "metadata": {
        "id": "S97gWlLgx165",
        "colab_type": "code",
        "outputId": "b9fe8321-5e53-472f-f61c-6da491e313be",
        "colab": {
          "base_uri": "https://localhost:8080/",
          "height": 68
        }
      },
      "source": [
        "all_data['Utilities'].value_counts()"
      ],
      "execution_count": 28,
      "outputs": [
        {
          "output_type": "execute_result",
          "data": {
            "text/plain": [
              "AllPub    2914\n",
              "NoSeWa       1\n",
              "Name: Utilities, dtype: int64"
            ]
          },
          "metadata": {
            "tags": []
          },
          "execution_count": 28
        }
      ]
    },
    {
      "cell_type": "markdown",
      "metadata": {
        "id": "wGY-Q99Sx21n",
        "colab_type": "text"
      },
      "source": [
        "Here we see that most values are of the same category so we will drop it as it won't affect our model. "
      ]
    },
    {
      "cell_type": "code",
      "metadata": {
        "id": "7_AiNYiRyCVi",
        "colab_type": "code",
        "colab": {}
      },
      "source": [
        "all_data = all_data.drop(['Utilities'], axis=1)"
      ],
      "execution_count": 0,
      "outputs": []
    },
    {
      "cell_type": "markdown",
      "metadata": {
        "id": "9Y_PIfReyDLk",
        "colab_type": "text"
      },
      "source": [
        "In data description NA is described as typical so we will do this. "
      ]
    },
    {
      "cell_type": "code",
      "metadata": {
        "id": "sfNiDRKUyR7o",
        "colab_type": "code",
        "colab": {}
      },
      "source": [
        "all_data[\"Functional\"] = all_data[\"Functional\"].fillna(\"Typ\")"
      ],
      "execution_count": 0,
      "outputs": []
    },
    {
      "cell_type": "markdown",
      "metadata": {
        "id": "mWh80BwkyVSH",
        "colab_type": "text"
      },
      "source": [
        "For Electrical,KitchenQual, Exterior1st, Exterior2nd, SaleType we will replace the missing values with most used keyword. "
      ]
    },
    {
      "cell_type": "code",
      "metadata": {
        "id": "c_Io4QPmygnD",
        "colab_type": "code",
        "colab": {}
      },
      "source": [
        "mode_col = ['Electrical','KitchenQual', 'Exterior1st', 'Exterior2nd', 'SaleType']\n",
        "for col in mode_col:\n",
        "    all_data[col] = all_data[col].fillna(all_data[col].mode()[0])"
      ],
      "execution_count": 0,
      "outputs": []
    },
    {
      "cell_type": "markdown",
      "metadata": {
        "id": "CcwKUeEHy1EW",
        "colab_type": "text"
      },
      "source": [
        "In MSSubClass NA means the is nothing so we will fill it with 'None'."
      ]
    },
    {
      "cell_type": "code",
      "metadata": {
        "id": "gUldqowLy0Zs",
        "colab_type": "code",
        "colab": {}
      },
      "source": [
        "all_data['MSSubClass'] = all_data['MSSubClass'].fillna(\"None\")"
      ],
      "execution_count": 0,
      "outputs": []
    },
    {
      "cell_type": "markdown",
      "metadata": {
        "id": "gzC3hLjQzR3E",
        "colab_type": "text"
      },
      "source": [
        "Now we will check if there are any missing values which we have left. "
      ]
    },
    {
      "cell_type": "code",
      "metadata": {
        "id": "I1IqozSXzaMX",
        "colab_type": "code",
        "outputId": "99190874-29b7-4a16-b09f-d43a10b7903b",
        "colab": {
          "base_uri": "https://localhost:8080/",
          "height": 49
        }
      },
      "source": [
        "all_data_na = (all_data.isnull().sum() / len(all_data)) * 100\n",
        "all_data_na = all_data_na.drop(all_data_na[all_data_na == 0].index).sort_values(ascending=False)\n",
        "missing_data = pd.DataFrame({'Missing Value' :all_data_na})\n",
        "missing_data.head()"
      ],
      "execution_count": 33,
      "outputs": [
        {
          "output_type": "execute_result",
          "data": {
            "text/html": [
              "<div>\n",
              "<style scoped>\n",
              "    .dataframe tbody tr th:only-of-type {\n",
              "        vertical-align: middle;\n",
              "    }\n",
              "\n",
              "    .dataframe tbody tr th {\n",
              "        vertical-align: top;\n",
              "    }\n",
              "\n",
              "    .dataframe thead th {\n",
              "        text-align: right;\n",
              "    }\n",
              "</style>\n",
              "<table border=\"1\" class=\"dataframe\">\n",
              "  <thead>\n",
              "    <tr style=\"text-align: right;\">\n",
              "      <th></th>\n",
              "      <th>Missing Value</th>\n",
              "    </tr>\n",
              "  </thead>\n",
              "  <tbody>\n",
              "  </tbody>\n",
              "</table>\n",
              "</div>"
            ],
            "text/plain": [
              "Empty DataFrame\n",
              "Columns: [Missing Value]\n",
              "Index: []"
            ]
          },
          "metadata": {
            "tags": []
          },
          "execution_count": 33
        }
      ]
    },
    {
      "cell_type": "markdown",
      "metadata": {
        "id": "JEupygFBzf1d",
        "colab_type": "text"
      },
      "source": [
        "Seems like there is none. "
      ]
    },
    {
      "cell_type": "code",
      "metadata": {
        "id": "JUCyRwSZz4Ja",
        "colab_type": "code",
        "colab": {}
      },
      "source": [
        "train_noMissing = all_data[:ntrain]\n",
        "test_noMissing = all_data[ntrain:]"
      ],
      "execution_count": 0,
      "outputs": []
    },
    {
      "cell_type": "markdown",
      "metadata": {
        "id": "mbR3BvvOPAN6",
        "colab_type": "text"
      },
      "source": [
        "We will calculate the total are available as it plays an important factor in the model."
      ]
    },
    {
      "cell_type": "code",
      "metadata": {
        "id": "setjr93JPHiA",
        "colab_type": "code",
        "colab": {}
      },
      "source": [
        "all_data['TotalSF'] = all_data['TotalBsmtSF'] + all_data['1stFlrSF'] + all_data['2ndFlrSF']"
      ],
      "execution_count": 0,
      "outputs": []
    },
    {
      "cell_type": "markdown",
      "metadata": {
        "id": "QRrsbbZeKsvu",
        "colab_type": "text"
      },
      "source": [
        "There are columns which have numerical values but is actually categorical. We have to convert them to or else they will be treated as numerical values. We will make them into strings. "
      ]
    },
    {
      "cell_type": "code",
      "metadata": {
        "id": "2r4GuUhJLuNj",
        "colab_type": "code",
        "colab": {}
      },
      "source": [
        "all_data['MSSubClass'] = all_data['MSSubClass'].apply(str)\n",
        "all_data['OverallCond'] = all_data['OverallCond'].astype(str)\n",
        "all_data['YrSold'] = all_data['YrSold'].astype(str)\n",
        "all_data['MoSold'] = all_data['MoSold'].astype(str)"
      ],
      "execution_count": 0,
      "outputs": []
    },
    {
      "cell_type": "markdown",
      "metadata": {
        "id": "rAM5ZrHzL_Mj",
        "colab_type": "text"
      },
      "source": [
        "We can't work with ann text data so for data which has categoricla text as values we will convert them into understandable numberical data and for that we will use label encoder. "
      ]
    },
    {
      "cell_type": "code",
      "metadata": {
        "id": "I1peMLfXOPp8",
        "colab_type": "code",
        "outputId": "dee7e858-d33d-42c4-c414-077e20a9c01f",
        "colab": {
          "base_uri": "https://localhost:8080/",
          "height": 34
        }
      },
      "source": [
        "from sklearn.preprocessing import LabelEncoder\n",
        "cols = ('FireplaceQu', 'BsmtQual', 'BsmtCond', 'GarageQual', 'GarageCond', \n",
        "        'ExterQual', 'ExterCond','HeatingQC', 'PoolQC', \n",
        "        'KitchenQual', 'BsmtFinType1', 'BsmtFinType2', 'Functional', 'Fence', \n",
        "        'BsmtExposure', 'GarageFinish', 'LandSlope',\n",
        "        'LotShape', 'PavedDrive', 'Street', 'Alley', \n",
        "        'CentralAir', 'MSSubClass', 'OverallCond', \n",
        "        'YrSold', 'MoSold')\n",
        "for c in cols:\n",
        "    lbl = LabelEncoder() \n",
        "    lbl.fit(list(all_data[c].values)) \n",
        "    all_data[c] = lbl.transform(list(all_data[c].values))        \n",
        "print('Shape of all_data: {}'.format(all_data.shape))"
      ],
      "execution_count": 37,
      "outputs": [
        {
          "output_type": "stream",
          "text": [
            "Shape of all_data: (2917, 79)\n"
          ],
          "name": "stdout"
        }
      ]
    },
    {
      "cell_type": "markdown",
      "metadata": {
        "id": "Zuny0RtxfGns",
        "colab_type": "text"
      },
      "source": [
        "Copy of this datasets will be used later so we will create it here."
      ]
    },
    {
      "cell_type": "code",
      "metadata": {
        "id": "er98INs6fGE4",
        "colab_type": "code",
        "colab": {}
      },
      "source": [
        "trainFeatured = train.copy()\n",
        "testFeatured = test.copy()"
      ],
      "execution_count": 0,
      "outputs": []
    },
    {
      "cell_type": "markdown",
      "metadata": {
        "id": "T53MyRIjPdyj",
        "colab_type": "text"
      },
      "source": [
        "##03.5 Skewness"
      ]
    },
    {
      "cell_type": "markdown",
      "metadata": {
        "id": "Cx4ZXh65Pi-h",
        "colab_type": "text"
      },
      "source": [
        "We will now check again which columns in our dataset is skewed and then take measures accordingly "
      ]
    },
    {
      "cell_type": "code",
      "metadata": {
        "id": "PEOWttnZQB2P",
        "colab_type": "code",
        "outputId": "569b9947-b9dd-46f5-8555-3a7e6666197e",
        "colab": {
          "base_uri": "https://localhost:8080/",
          "height": 720
        }
      },
      "source": [
        "numeric_feats = all_data.dtypes[all_data.dtypes != \"object\"].index\n",
        "\n",
        "skewed_feats = all_data[numeric_feats].apply(lambda x: skew(x.dropna())).sort_values(ascending=False)\n",
        "print(\"\\nThe Skewed features are: \\n\")\n",
        "skewness = pd.DataFrame({'Skew' :skewed_feats})\n",
        "skewness.head(20)"
      ],
      "execution_count": 39,
      "outputs": [
        {
          "output_type": "stream",
          "text": [
            "\n",
            "The Skewed features are: \n",
            "\n"
          ],
          "name": "stdout"
        },
        {
          "output_type": "execute_result",
          "data": {
            "text/html": [
              "<div>\n",
              "<style scoped>\n",
              "    .dataframe tbody tr th:only-of-type {\n",
              "        vertical-align: middle;\n",
              "    }\n",
              "\n",
              "    .dataframe tbody tr th {\n",
              "        vertical-align: top;\n",
              "    }\n",
              "\n",
              "    .dataframe thead th {\n",
              "        text-align: right;\n",
              "    }\n",
              "</style>\n",
              "<table border=\"1\" class=\"dataframe\">\n",
              "  <thead>\n",
              "    <tr style=\"text-align: right;\">\n",
              "      <th></th>\n",
              "      <th>Skew</th>\n",
              "    </tr>\n",
              "  </thead>\n",
              "  <tbody>\n",
              "    <tr>\n",
              "      <th>MiscVal</th>\n",
              "      <td>21.939672</td>\n",
              "    </tr>\n",
              "    <tr>\n",
              "      <th>PoolArea</th>\n",
              "      <td>17.688664</td>\n",
              "    </tr>\n",
              "    <tr>\n",
              "      <th>LotArea</th>\n",
              "      <td>13.109495</td>\n",
              "    </tr>\n",
              "    <tr>\n",
              "      <th>LowQualFinSF</th>\n",
              "      <td>12.084539</td>\n",
              "    </tr>\n",
              "    <tr>\n",
              "      <th>3SsnPorch</th>\n",
              "      <td>11.372080</td>\n",
              "    </tr>\n",
              "    <tr>\n",
              "      <th>LandSlope</th>\n",
              "      <td>4.973254</td>\n",
              "    </tr>\n",
              "    <tr>\n",
              "      <th>KitchenAbvGr</th>\n",
              "      <td>4.300550</td>\n",
              "    </tr>\n",
              "    <tr>\n",
              "      <th>BsmtFinSF2</th>\n",
              "      <td>4.144503</td>\n",
              "    </tr>\n",
              "    <tr>\n",
              "      <th>EnclosedPorch</th>\n",
              "      <td>4.002344</td>\n",
              "    </tr>\n",
              "    <tr>\n",
              "      <th>ScreenPorch</th>\n",
              "      <td>3.945101</td>\n",
              "    </tr>\n",
              "    <tr>\n",
              "      <th>BsmtHalfBath</th>\n",
              "      <td>3.929996</td>\n",
              "    </tr>\n",
              "    <tr>\n",
              "      <th>MasVnrArea</th>\n",
              "      <td>2.621719</td>\n",
              "    </tr>\n",
              "    <tr>\n",
              "      <th>OpenPorchSF</th>\n",
              "      <td>2.529358</td>\n",
              "    </tr>\n",
              "    <tr>\n",
              "      <th>WoodDeckSF</th>\n",
              "      <td>1.844792</td>\n",
              "    </tr>\n",
              "    <tr>\n",
              "      <th>1stFlrSF</th>\n",
              "      <td>1.257286</td>\n",
              "    </tr>\n",
              "    <tr>\n",
              "      <th>LotFrontage</th>\n",
              "      <td>1.103039</td>\n",
              "    </tr>\n",
              "    <tr>\n",
              "      <th>GrLivArea</th>\n",
              "      <td>1.068750</td>\n",
              "    </tr>\n",
              "    <tr>\n",
              "      <th>TotalSF</th>\n",
              "      <td>1.009157</td>\n",
              "    </tr>\n",
              "    <tr>\n",
              "      <th>BsmtFinSF1</th>\n",
              "      <td>0.980645</td>\n",
              "    </tr>\n",
              "    <tr>\n",
              "      <th>BsmtUnfSF</th>\n",
              "      <td>0.919688</td>\n",
              "    </tr>\n",
              "  </tbody>\n",
              "</table>\n",
              "</div>"
            ],
            "text/plain": [
              "                    Skew\n",
              "MiscVal        21.939672\n",
              "PoolArea       17.688664\n",
              "LotArea        13.109495\n",
              "LowQualFinSF   12.084539\n",
              "3SsnPorch      11.372080\n",
              "LandSlope       4.973254\n",
              "KitchenAbvGr    4.300550\n",
              "BsmtFinSF2      4.144503\n",
              "EnclosedPorch   4.002344\n",
              "ScreenPorch     3.945101\n",
              "BsmtHalfBath    3.929996\n",
              "MasVnrArea      2.621719\n",
              "OpenPorchSF     2.529358\n",
              "WoodDeckSF      1.844792\n",
              "1stFlrSF        1.257286\n",
              "LotFrontage     1.103039\n",
              "GrLivArea       1.068750\n",
              "TotalSF         1.009157\n",
              "BsmtFinSF1      0.980645\n",
              "BsmtUnfSF       0.919688"
            ]
          },
          "metadata": {
            "tags": []
          },
          "execution_count": 39
        }
      ]
    },
    {
      "cell_type": "markdown",
      "metadata": {
        "id": "ytHsKGdvQvPX",
        "colab_type": "text"
      },
      "source": [
        "We can see that there are many features which are skewed. Previously we used log transform to fix the skewness of the Saleprice. This was done so that our data looks normally distributed. We will do the same thing here but now we will use box cox transformation which will reduce the skewness. "
      ]
    },
    {
      "cell_type": "code",
      "metadata": {
        "id": "fNaAikOZRigV",
        "colab_type": "code",
        "outputId": "963eeb9c-9a5b-4b83-b1ce-47ba88292ee5",
        "colab": {
          "base_uri": "https://localhost:8080/",
          "height": 34
        }
      },
      "source": [
        "skewness = skewness[abs(skewness) > 0.75]\n",
        "print(\"We will transform {} skewed features\".format(skewness.shape[0]))\n",
        "from scipy.special import boxcox1p\n",
        "skewed_features = skewness.index\n",
        "lamda = 0.15\n",
        "for feat in skewed_features:\n",
        "    all_data[feat] = boxcox1p(all_data[feat], lamda)"
      ],
      "execution_count": 40,
      "outputs": [
        {
          "output_type": "stream",
          "text": [
            "We will transform 59 skewed features\n"
          ],
          "name": "stdout"
        }
      ]
    },
    {
      "cell_type": "markdown",
      "metadata": {
        "id": "jO6kANLZSMoa",
        "colab_type": "text"
      },
      "source": [
        "Now that we are done with the skewed features we will work with the dummy categorical feastures. "
      ]
    },
    {
      "cell_type": "code",
      "metadata": {
        "id": "t_D1oSZYSmTQ",
        "colab_type": "code",
        "outputId": "570bd153-1e9f-47ef-aea3-0ec68431009b",
        "colab": {
          "base_uri": "https://localhost:8080/",
          "height": 34
        }
      },
      "source": [
        "all_data = pd.get_dummies(all_data)\n",
        "print(all_data.shape)"
      ],
      "execution_count": 41,
      "outputs": [
        {
          "output_type": "stream",
          "text": [
            "(2917, 220)\n"
          ],
          "name": "stdout"
        }
      ]
    },
    {
      "cell_type": "markdown",
      "metadata": {
        "id": "oFDHv0ecSyfR",
        "colab_type": "text"
      },
      "source": [
        "We are close to modeling after dealing with our data. So we will now create train and test datasets. "
      ]
    },
    {
      "cell_type": "code",
      "metadata": {
        "id": "8C2vrWHVS9t2",
        "colab_type": "code",
        "colab": {}
      },
      "source": [
        "train = all_data[:ntrain]\n",
        "test = all_data[ntrain:]"
      ],
      "execution_count": 0,
      "outputs": []
    },
    {
      "cell_type": "code",
      "metadata": {
        "id": "YSG5utTkK8zx",
        "colab_type": "code",
        "colab": {}
      },
      "source": [
        "trainFinal = train.copy()\n",
        "testFinal = test.copy()"
      ],
      "execution_count": 0,
      "outputs": []
    },
    {
      "cell_type": "markdown",
      "metadata": {
        "id": "JoCoHTcYYcGz",
        "colab_type": "text"
      },
      "source": [
        "#04. Modeling"
      ]
    },
    {
      "cell_type": "markdown",
      "metadata": {
        "id": "IBmR_n9iYfNj",
        "colab_type": "text"
      },
      "source": [
        "##04.1 Cross Validation"
      ]
    },
    {
      "cell_type": "markdown",
      "metadata": {
        "id": "QnxT4WkQYqS5",
        "colab_type": "text"
      },
      "source": [
        "When we train our model we will have to calculate error to evaluate. We will use cross validation for it. "
      ]
    },
    {
      "cell_type": "code",
      "metadata": {
        "id": "gW9IRhg1Pe6u",
        "colab_type": "code",
        "colab": {}
      },
      "source": [
        "n_folds = 5\n",
        "\n",
        "def rmsle_cv(model):\n",
        "    kf = KFold(n_folds, shuffle=True, random_state=42).get_n_splits(train.values)\n",
        "    rmse= np.sqrt(-cross_val_score(model, train.values, y_train, \n",
        "                                   scoring=\"neg_mean_squared_error\", cv = kf))\n",
        "    return(rmse)"
      ],
      "execution_count": 0,
      "outputs": []
    },
    {
      "cell_type": "markdown",
      "metadata": {
        "id": "8any3xzwQSOa",
        "colab_type": "text"
      },
      "source": [
        "In this model we are going to apply different models to calculate our error and finally we will make mean of all the models to get the final score. "
      ]
    },
    {
      "cell_type": "markdown",
      "metadata": {
        "id": "f15ZbhYmWkFG",
        "colab_type": "text"
      },
      "source": [
        "##04.2 Models and Training"
      ]
    },
    {
      "cell_type": "markdown",
      "metadata": {
        "id": "xsFy7P3OQkje",
        "colab_type": "text"
      },
      "source": [
        "We are going to use LASSO as the first model. LASSO is Least Absolute Shrinkage Selector Operator and it uses L1 regularization technique. "
      ]
    },
    {
      "cell_type": "code",
      "metadata": {
        "id": "JL0OFpe_RRjr",
        "colab_type": "code",
        "outputId": "2c01becc-f65b-43bb-88f8-da6279b7c76e",
        "colab": {
          "base_uri": "https://localhost:8080/",
          "height": 51
        }
      },
      "source": [
        "lasso = make_pipeline(RobustScaler(), Lasso(alpha =0.0005, random_state=23))\n",
        "score = rmsle_cv(lasso)\n",
        "print(\"Lasso score: {:.4f} ({:.4f})\\n\".format(score.mean(), score.std()))\n",
        "LassoMd = lasso.fit(train.values,y_train)"
      ],
      "execution_count": 45,
      "outputs": [
        {
          "output_type": "stream",
          "text": [
            "Lasso score: 0.1115 (0.0074)\n",
            "\n"
          ],
          "name": "stdout"
        }
      ]
    },
    {
      "cell_type": "markdown",
      "metadata": {
        "id": "0whgWNuqR0Nw",
        "colab_type": "text"
      },
      "source": [
        "We will now use Ridge Regression and it uses L2 regularization technique. We can use it to prevent multicollinearity as it shrinks the parameter. It also reduces the coefficient which in result reduces model complexity. "
      ]
    },
    {
      "cell_type": "code",
      "metadata": {
        "id": "Q4DLrXGkSfTQ",
        "colab_type": "code",
        "outputId": "70afd984-9002-40cd-9186-af36e381c1e5",
        "colab": {
          "base_uri": "https://localhost:8080/",
          "height": 51
        }
      },
      "source": [
        "KRR = KernelRidge(alpha=0.6, kernel='polynomial', degree=2, coef0=2.5)\n",
        "score = rmsle_cv(KRR)\n",
        "print(\"Kernel Ridge score: {:.4f} ({:.4f})\\n\".format(score.mean(), score.std()))\n",
        "KRRMd = KRR.fit(train.values,y_train)"
      ],
      "execution_count": 46,
      "outputs": [
        {
          "output_type": "stream",
          "text": [
            "Kernel Ridge score: 0.1153 (0.0075)\n",
            "\n"
          ],
          "name": "stdout"
        }
      ]
    },
    {
      "cell_type": "markdown",
      "metadata": {
        "id": "n79XWyLUSjMg",
        "colab_type": "text"
      },
      "source": [
        "By combining L1 and L2 regularization techique we get Elastic Net Regression and we will implement this now. "
      ]
    },
    {
      "cell_type": "code",
      "metadata": {
        "id": "PgB2AJMXTKGA",
        "colab_type": "code",
        "outputId": "e70cd7ab-c038-4ab2-f14d-719f6d26c6e4",
        "colab": {
          "base_uri": "https://localhost:8080/",
          "height": 51
        }
      },
      "source": [
        "ENet = make_pipeline(RobustScaler(), ElasticNet(alpha=0.0005, l1_ratio=.9, \n",
        "                                                      random_state=23))\n",
        "score = rmsle_cv(ENet)\n",
        "print(\"ElasticNet score: {:.4f} ({:.4f})\\n\".format(score.mean(), score.std()))\n",
        "ENetMd = ENet.fit(train.values,y_train)"
      ],
      "execution_count": 47,
      "outputs": [
        {
          "output_type": "stream",
          "text": [
            "ElasticNet score: 0.1116 (0.0074)\n",
            "\n"
          ],
          "name": "stdout"
        }
      ]
    },
    {
      "cell_type": "markdown",
      "metadata": {
        "id": "sm2FbCLJUCd9",
        "colab_type": "text"
      },
      "source": [
        "Now we will use Gradient Boosing Algorithm. "
      ]
    },
    {
      "cell_type": "code",
      "metadata": {
        "id": "WsA3xstEUI9V",
        "colab_type": "code",
        "outputId": "fc4dbaa2-0462-4533-c57e-1d98bab41c25",
        "colab": {
          "base_uri": "https://localhost:8080/",
          "height": 51
        }
      },
      "source": [
        "GBoost = GradientBoostingRegressor(n_estimators=3000, learning_rate=0.05,\n",
        "                                   max_depth=4, max_features='sqrt',\n",
        "                                   min_samples_leaf=15, min_samples_split=10, \n",
        "                                   loss='huber', random_state =23)\n",
        "score = rmsle_cv(GBoost)\n",
        "print(\"Gradient Boosting score: {:.4f} ({:.4f})\\n\".format(score.mean(), score.std()))\n",
        "GBoostMd = GBoost.fit(train.values,y_train)"
      ],
      "execution_count": 48,
      "outputs": [
        {
          "output_type": "stream",
          "text": [
            "Gradient Boosting score: 0.1177 (0.0067)\n",
            "\n"
          ],
          "name": "stdout"
        }
      ]
    },
    {
      "cell_type": "markdown",
      "metadata": {
        "id": "Vv1aN3z6XQA9",
        "colab_type": "text"
      },
      "source": [
        "Now we will take the mean of all model's predictions. "
      ]
    },
    {
      "cell_type": "code",
      "metadata": {
        "id": "PF7fK4UVXWQb",
        "colab_type": "code",
        "outputId": "f53260d6-4a49-4643-f9bb-076018a1182c",
        "colab": {
          "base_uri": "https://localhost:8080/",
          "height": 51
        }
      },
      "source": [
        "finalModel = (np.expm1(LassoMd.predict(test.values)) + \n",
        "           np.expm1(KRRMd.predict(test.values)) + \n",
        "           np.expm1(ENetMd.predict(test.values)) + np.expm1(GBoostMd.predict(test.values)) ) / 4\n",
        "finalModel"
      ],
      "execution_count": 49,
      "outputs": [
        {
          "output_type": "execute_result",
          "data": {
            "text/plain": [
              "array([120832.5717337 , 163046.1795949 , 185837.34579419, ...,\n",
              "       171145.07330408, 113712.06161851, 222708.18509977])"
            ]
          },
          "metadata": {
            "tags": []
          },
          "execution_count": 49
        }
      ]
    },
    {
      "cell_type": "markdown",
      "metadata": {
        "id": "ujL7EpuljOkn",
        "colab_type": "text"
      },
      "source": [
        "Now we will make the submission file to submit it Kaggle. "
      ]
    },
    {
      "cell_type": "code",
      "metadata": {
        "id": "QsxUCq3MjINE",
        "colab_type": "code",
        "colab": {}
      },
      "source": [
        "sub = pd.DataFrame()\n",
        "sub['Id'] = test_ID\n",
        "sub['SalePrice'] = finalModel\n",
        "sub.to_csv('submission.csv',index=False)"
      ],
      "execution_count": 0,
      "outputs": []
    },
    {
      "cell_type": "markdown",
      "metadata": {
        "id": "9Sr4a1wLS1xz",
        "colab_type": "text"
      },
      "source": [
        "##04.3 Kagle Submission score\n",
        "![alt text](https://puu.sh/DFyMF/c60b9a1984.png)"
      ]
    },
    {
      "cell_type": "markdown",
      "metadata": {
        "id": "AXiJpa_yTNn9",
        "colab_type": "text"
      },
      "source": [
        "#05. Neural Network Model "
      ]
    },
    {
      "cell_type": "markdown",
      "metadata": {
        "id": "zymSv0uyeyeK",
        "colab_type": "text"
      },
      "source": [
        "Here we will use Tensorflow's low level API to implement a neural network model. We will use grid search to find the best parameters so that our error is low. "
      ]
    },
    {
      "cell_type": "markdown",
      "metadata": {
        "id": "T1It2waZgskg",
        "colab_type": "text"
      },
      "source": [
        "We are going to make necessary arrangements to get the data fisrt. "
      ]
    },
    {
      "cell_type": "code",
      "metadata": {
        "id": "gIBF2q3TexN4",
        "colab_type": "code",
        "colab": {}
      },
      "source": [
        "zero= 0"
      ],
      "execution_count": 0,
      "outputs": []
    },
    {
      "cell_type": "markdown",
      "metadata": {
        "id": "JGZZI4nuIXla",
        "colab_type": "text"
      },
      "source": [
        "## 05.1 Mini-batches creation"
      ]
    },
    {
      "cell_type": "markdown",
      "metadata": {
        "id": "kTN1hLVEv_Vk",
        "colab_type": "text"
      },
      "source": [
        "We are going to make mini-batches which will be used to calculate and update error in gradient descent. "
      ]
    },
    {
      "cell_type": "code",
      "metadata": {
        "id": "DUN7jhruzc11",
        "colab_type": "code",
        "colab": {}
      },
      "source": [
        "def mini_batches(train_set, train_labels, mini_batch_size):\n",
        "    \n",
        "    set_size = train_set.shape[zero]\n",
        "    batches = []\n",
        "    num_complete_minibatches = set_size // mini_batch_size\n",
        "\n",
        "    for k in range(zero, num_complete_minibatches):\n",
        "        mini_batch_x = train_set[k * mini_batch_size: (k + 1) * mini_batch_size]\n",
        "        mini_batch_y = train_labels[k * mini_batch_size: (k + 1) * mini_batch_size]\n",
        "        mini_batch = (mini_batch_x, mini_batch_y)\n",
        "        batches.append(mini_batch)\n",
        "    if set_size % mini_batch_size != zero:\n",
        "        mini_batch_x = train_set[(set_size - (set_size % mini_batch_size)):]\n",
        "        mini_batch_y = train_labels[(set_size - (set_size % mini_batch_size)):]\n",
        "        mini_batch = (mini_batch_x, mini_batch_y)\n",
        "        batches.append(mini_batch)\n",
        "\n",
        "    return batches"
      ],
      "execution_count": 0,
      "outputs": []
    },
    {
      "cell_type": "markdown",
      "metadata": {
        "id": "ZXSp3oRQzmSu",
        "colab_type": "text"
      },
      "source": [
        "As we need numerical values to fit the model and we may have categorical values in the dataset we will one hot encode the values so get numerical values. "
      ]
    },
    {
      "cell_type": "code",
      "metadata": {
        "id": "5eIVsQyC0FXG",
        "colab_type": "code",
        "colab": {}
      },
      "source": [
        "def pre_process_data(df):\n",
        "    df = pd.get_dummies(df)\n",
        "    return df"
      ],
      "execution_count": 0,
      "outputs": []
    },
    {
      "cell_type": "markdown",
      "metadata": {
        "id": "bgbK85sv0GL9",
        "colab_type": "text"
      },
      "source": [
        "We will declare placeholders now as we will need it to feed data into it later. "
      ]
    },
    {
      "cell_type": "code",
      "metadata": {
        "id": "6z9Cehg-1YH0",
        "colab_type": "code",
        "colab": {}
      },
      "source": [
        "def create_placeholders(input_size, output_size):\n",
        "  x = tf.placeholder(shape=(None, input_size), dtype=tf.float32, name=\"X\")\n",
        "  y = tf.placeholder(shape=(None, output_size), dtype=tf.float32, name=\"Y\")\n",
        "  return x, y"
      ],
      "execution_count": 0,
      "outputs": []
    },
    {
      "cell_type": "markdown",
      "metadata": {
        "id": "oTqjm9etd4dU",
        "colab_type": "text"
      },
      "source": [
        "We will implement forward propagation and dropout in out model. "
      ]
    },
    {
      "cell_type": "markdown",
      "metadata": {
        "id": "S3NQMRTzI00b",
        "colab_type": "text"
      },
      "source": [
        "## 05.2 Dropout"
      ]
    },
    {
      "cell_type": "markdown",
      "metadata": {
        "id": "4E8MS6Jimf68",
        "colab_type": "text"
      },
      "source": [
        "We will implement forward propagation and dropout in out model. Using dropout will improve our accuracy as we will be dropping the nodes which have less activation score. <br/>\n",
        "Parameter explanation: <br/>\n",
        "x: gives us information which the model uses to send to each layer and finally output is produced. It is an array. <br/>\n",
        "parameters: This is the output. <br/>\n",
        "keep_prob: This gives us the probability of whether a node will be dropped out or not. <br/>\n",
        "hidden_activation: Here we declared which function we will use for the layers. Here, we will use \"relu\"\n",
        "\n"
      ]
    },
    {
      "cell_type": "code",
      "metadata": {
        "id": "LlfP-os-d5GP",
        "colab_type": "code",
        "colab": {}
      },
      "source": [
        "def forward_propagation(x, parameters, keep_prob=1, hidden_activation='relu'):\n",
        "  a_dropout = x\n",
        "  n_layers = len(parameters) // 2  \n",
        "  for l in range(1, n_layers):\n",
        "        a_prev = a_dropout\n",
        "        a_dropout = linear_activation_forward(a_prev, parameters['w%s' % l], \n",
        "                                              parameters['b%s' % l], hidden_activation)\n",
        "        if keep_prob < 1:\n",
        "            a_dropout = tf.nn.dropout(a_dropout, keep_prob)\n",
        "  al = tf.matmul(a_dropout, parameters['w%s' % n_layers]) + parameters['b%s' % n_layers]\n",
        "  return al"
      ],
      "execution_count": 0,
      "outputs": []
    },
    {
      "cell_type": "markdown",
      "metadata": {
        "id": "mXRiNFfxpj8x",
        "colab_type": "text"
      },
      "source": [
        "Now we will implement linear activation function. It will return us an output of the activation function. "
      ]
    },
    {
      "cell_type": "markdown",
      "metadata": {
        "id": "yifAHRVSpadr",
        "colab_type": "text"
      },
      "source": [
        "Parameter explanation: <br/>\n",
        "a_prev: This is the size of previous layer which is used as input. <br/>\n",
        "w: This contains weight which has the current and previous layers size in an array. <br/>\n",
        "b: This is the bias vector. This also is an array which contains current layer's size.<br/>\n",
        "activation: This contains the activation function used in this layer. <br/>\n"
      ]
    },
    {
      "cell_type": "code",
      "metadata": {
        "id": "hlsB948DkE2p",
        "colab_type": "code",
        "colab": {}
      },
      "source": [
        "def linear_activation_forward(a_prev, w, b, activation):\n",
        "    a = None\n",
        "    if activation == \"sigmoid\":\n",
        "        z = tf.matmul(a_prev, w) + b\n",
        "        a = tf.nn.sigmoid(z)\n",
        "    elif activation == \"relu\":\n",
        "        z = tf.matmul(a_prev, w) + b\n",
        "        a = tf.nn.relu(z)\n",
        "    elif activation == \"leaky-relu\":\n",
        "        z = tf.matmul(a_prev, w) + b\n",
        "        a = tf.nn.leaky_relu(z)\n",
        "    return a"
      ],
      "execution_count": 0,
      "outputs": []
    },
    {
      "cell_type": "markdown",
      "metadata": {
        "id": "ujsraNr2sM4q",
        "colab_type": "text"
      },
      "source": [
        "Now we build function to initialize parameters which will take dimension of each layer as an array and will return python dictionary containing parameters. "
      ]
    },
    {
      "cell_type": "markdown",
      "metadata": {
        "id": "B6AAGLs3seeE",
        "colab_type": "text"
      },
      "source": [
        "Parameter explanation: <br/>\n",
        "layer_dims: This contains the dimension of layers in our network in the shape of an array. <br/>\n",
        "weight_initializer: We are initializing the weights here. <br/>"
      ]
    },
    {
      "cell_type": "code",
      "metadata": {
        "id": "inR8Crg7qbfF",
        "colab_type": "code",
        "colab": {}
      },
      "source": [
        "def initialize_parameters(layer_dims, weight_initializer):\n",
        "    parameters = {}\n",
        "    n_layers = len(layer_dims) \n",
        "    for l in range(1, n_layers):\n",
        "        if(weight_initializer == 'random_normal'):\n",
        "            parameters['w' + str(l)] = tf.get_variable('w' + str(l), [layer_dims[l - 1], layer_dims[l]],\n",
        "                                                   initializer = tf.random_normal_initializer)\n",
        "        else:\n",
        "            parameters['w' + str(l)] = tf.get_variable('w' + str(l), [layer_dims[l - 1], layer_dims[l]],\n",
        "                                                   initializer = tf.contrib.layers.xavier_initializer())\n",
        "        parameters['b' + str(l)] = tf.get_variable('b' + str(l), [layer_dims[l]], initializer=tf.zeros_initializer())\n",
        "\n",
        "    return parameters"
      ],
      "execution_count": 0,
      "outputs": []
    },
    {
      "cell_type": "markdown",
      "metadata": {
        "id": "N_CSyG0SuYhz",
        "colab_type": "text"
      },
      "source": [
        "Now we will make a predict function to return the prediction and also a cost function is necessary to compute cost."
      ]
    },
    {
      "cell_type": "markdown",
      "metadata": {
        "id": "LBHfJKTMuTxO",
        "colab_type": "text"
      },
      "source": [
        "Parameter explanation: <br/>\n",
        "data: contains the dataset. <br/>\n",
        "cost3: This contains the output of the forward propagation. <br/>\n",
        "y: This is a placeholder. \n"
      ]
    },
    {
      "cell_type": "code",
      "metadata": {
        "id": "XZkZm64OudyD",
        "colab_type": "code",
        "colab": {}
      },
      "source": [
        "def predict(data, parameters):\n",
        "    init = tf.global_variables_initializer()\n",
        "    with tf.Session() as sess:\n",
        "        sess.run(init)\n",
        "        dataset = tf.cast(tf.constant(data), tf.float32)\n",
        "        fw_prop_result = forward_propagation(dataset, parameters)\n",
        "        prediction = fw_prop_result.eval()\n",
        "    return prediction\n",
        "def compute_cost(cost3, y):\n",
        "    cost = tf.sqrt(tf.reduce_mean(tf.square(y - cost3)))\n",
        "    return cost  "
      ],
      "execution_count": 0,
      "outputs": []
    },
    {
      "cell_type": "markdown",
      "metadata": {
        "id": "s7f13Gpbu5Fp",
        "colab_type": "text"
      },
      "source": [
        "Now we will calculate the error between real and predicted datasets. From here we will get what percentage of our prediction is correct. "
      ]
    },
    {
      "cell_type": "code",
      "metadata": {
        "id": "v0W1GHIYvK8f",
        "colab_type": "code",
        "colab": {}
      },
      "source": [
        "def rmse(predictions, labels):\n",
        "    prediction_size = predictions.shape[zero]\n",
        "    prediction_cost = np.sqrt(np.sum(np.square(labels - predictions)) / prediction_size)\n",
        "    return prediction_cost\n",
        "def rmsle(predictions, labels):\n",
        "    prediction_size = predictions.shape[zero]\n",
        "    prediction_cost = np.sqrt(np.sum(np.square(np.log(predictions + 1) - np.log(labels + 1))) / prediction_size)\n",
        "    return prediction_cost"
      ],
      "execution_count": 0,
      "outputs": []
    },
    {
      "cell_type": "markdown",
      "metadata": {
        "id": "xVcTRUxvJBUj",
        "colab_type": "text"
      },
      "source": [
        "## 05.3 Regularization"
      ]
    },
    {
      "cell_type": "markdown",
      "metadata": {
        "id": "dk1gmmOOv7jI",
        "colab_type": "text"
      },
      "source": [
        "We will use L2 regularization on the model to get the updated cost value of the network. "
      ]
    },
    {
      "cell_type": "markdown",
      "metadata": {
        "id": "54thuiGlxBqf",
        "colab_type": "text"
      },
      "source": [
        "Parameters explanation: <br/>\n",
        "cost: This defines the cost of the model. <br/>\n",
        "l2_beta: This the value which will be used to normalize. <br/>\n",
        "parameters: This gives us the weights from the model. \n",
        "n_layers: This will give us the number of layers. \n"
      ]
    },
    {
      "cell_type": "code",
      "metadata": {
        "id": "B4zlKS-h29YD",
        "colab_type": "code",
        "colab": {}
      },
      "source": [
        "def l2_regularizer(cost, l2_beta, parameters, n_layers):\n",
        "  \n",
        "  regularizer = zero\n",
        "  for i in range(1, n_layers):\n",
        "    regularizer += tf.nn.l2_loss(parameters['w%s' % i])\n",
        "    cost = tf.reduce_mean(cost + l2_beta * regularizer)\n",
        "    return cost"
      ],
      "execution_count": 0,
      "outputs": []
    },
    {
      "cell_type": "code",
      "metadata": {
        "id": "3AqohNa7w6Jt",
        "colab_type": "code",
        "colab": {}
      },
      "source": [
        "def build_submission_name(layers_dims, num_epochs, lr_decay,\n",
        "                          learning_rate, l2_beta, keep_prob, minibatch_size, num_examples):\n",
        "  submission_name = 'ly{}-epoch{}.csv' \\\n",
        "        .format(layers_dims, num_epochs)\n",
        "  if lr_decay != zero:\n",
        "        submission_name = 'lrdc{}-'.format(lr_decay) + submission_name\n",
        "  else:\n",
        "        submission_name = 'lr{}-'.format(learning_rate) + submission_name\n",
        "  if l2_beta > zero:\n",
        "        submission_name = 'l2{}-'.format(l2_beta) + submission_name\n",
        "  if keep_prob < 1:\n",
        "        submission_name = 'dk{}-'.format(keep_prob) + submission_name\n",
        "  if minibatch_size != num_examples:\n",
        "        submission_name = 'mb{}-'.format(minibatch_size) + submission_name\n",
        "  return submission_name"
      ],
      "execution_count": 0,
      "outputs": []
    },
    {
      "cell_type": "markdown",
      "metadata": {
        "id": "oWCj60t_S61A",
        "colab_type": "text"
      },
      "source": [
        "We will now create train, test and validation sets. We will also do some other works for the model. We will seperate Saleprice form the datasets and one hot encode again incase there still exists any categorical value. Also if there still remains any missing value we will fill it with zero. The we will use standard scaler for creating the datasets. "
      ]
    },
    {
      "cell_type": "code",
      "metadata": {
        "id": "eLAlnjGES976",
        "colab_type": "code",
        "outputId": "10df16d0-b790-490c-f678-07c13168e79d",
        "colab": {
          "base_uri": "https://localhost:8080/",
          "height": 85
        }
      },
      "source": [
        "def keep_every_nth_info(n):\n",
        "    i = -1\n",
        "    def filter_record(record):\n",
        "        nonlocal i\n",
        "        i += 1\n",
        "        return int( i % n == 15)\n",
        "    return filter_record\n",
        "logging.getLogger('tensorflow').addFilter(keep_every_nth_info(15))\n",
        "train = trainFeatured\n",
        "test = testFeatured\n",
        "print(\"Training examples = \" + str(train.shape[zero]))\n",
        "print(\"Test examples = \" + str(test.shape[zero]))\n",
        "print(\"Train shape: \" + str(train.shape))\n",
        "print(\"Test shape: \" + str(test.shape))\n",
        "\n",
        "train_raw_labels = trainNoOutlier['SalePrice'].to_frame().as_matrix()\n",
        "\n",
        "train_pre = pre_process_data(train)\n",
        "test_pre = pre_process_data(test)\n",
        "\n",
        "train_pre, test_pre = train_pre.align(test_pre, join='outer', axis=1)\n",
        "\n",
        "train_pre.replace(to_replace=np.nan, value=zero, inplace=True)\n",
        "test_pre.replace(to_replace=np.nan, value=zero, inplace=True)\n",
        "\n",
        "\n",
        "train_pre = train_pre.as_matrix().astype(np.float)\n",
        "test_pre = test_pre.as_matrix().astype(np.float)\n",
        "\n",
        "standard_scaler = preprocessing.StandardScaler()\n",
        "train_pre = standard_scaler.fit_transform(train_pre)\n",
        "test_pre = standard_scaler.fit_transform(test_pre)\n",
        "\n",
        "\n",
        "X_train, X_valid, Y_train, Y_valid = train_test_split(train_pre, train_raw_labels, test_size=0.30, random_state=1)\n",
        "\n",
        "input_size = train_pre.shape[1]\n",
        "output_size = 1"
      ],
      "execution_count": 62,
      "outputs": [
        {
          "output_type": "stream",
          "text": [
            "Training examples = 1458\n",
            "Test examples = 1459\n",
            "Train shape: (1458, 80)\n",
            "Test shape: (1459, 79)\n"
          ],
          "name": "stdout"
        }
      ]
    },
    {
      "cell_type": "markdown",
      "metadata": {
        "id": "Um2FsqWYlwZB",
        "colab_type": "text"
      },
      "source": [
        "We will define a function to calculate the cost of the model. "
      ]
    },
    {
      "cell_type": "code",
      "metadata": {
        "id": "l8MBSrcRlv5F",
        "colab_type": "code",
        "colab": {}
      },
      "source": [
        "def plot_model_cost(train_costs, validation_costs, set_optimizer, weight_initializer, hidden_activation):\n",
        "    plt.plot(np.squeeze(train_costs), label='Train cost')\n",
        "    plt.plot(np.squeeze(validation_costs), label='Validation cost')\n",
        "    plt.ylabel('cost')\n",
        "    plt.xlabel('iterations (per tens)')\n",
        "    plt.title('Optimizer: '+set_optimizer+' |  Weight-initializer: '+ weight_initializer+' | Activation: '+hidden_activation)\n",
        "    plt.legend()\n",
        "    plt.show()"
      ],
      "execution_count": 0,
      "outputs": []
    },
    {
      "cell_type": "markdown",
      "metadata": {
        "id": "M3SH1BBTJL67",
        "colab_type": "text"
      },
      "source": [
        "## 05.4 ANN model creation"
      ]
    },
    {
      "cell_type": "markdown",
      "metadata": {
        "id": "B0xUxZU_ThOg",
        "colab_type": "text"
      },
      "source": [
        "We will now create the ANN model with hidden layers, neurons, learning rate, hidden layer activation function and optimizers. They will all be tweakable. This model will train batch by batch by using the minibatches we created before. We will have 2 hidden layers and we will start with 310 hidden neurons. In dropout neuron we will use score of .65 as probability of keeping the neuron. For activation function we will use 'leaky-relu' as it will perform better. For epoch number we will use 1200 epochs. Our learning rate will change from when we start the training and we will use lr_decay to change it. We will use \"RMS-prop\" as the optimizer here. "
      ]
    },
    {
      "cell_type": "code",
      "metadata": {
        "id": "Eo8gUDxsTxz4",
        "colab_type": "code",
        "colab": {}
      },
      "source": [
        "def model(train_set=X_train, train_labels=X_valid, validation_set=Y_train, validation_labels=Y_valid, \n",
        "          input_size=input_size, \n",
        "          hidden_neurons=310, output_size = output_size, learning_rate=1e-2, \n",
        "          num_epochs=1100,print_cost=False, \n",
        "          plot_cost=True, l2_beta=10, keep_prob=0.65,hidden_activation='leaky-relu', \n",
        "          return_best=False, minibatch_size=zero, \n",
        "          set_optimizer = 'RMS-Prop',weight_initializer='random_normal',show_result=True,lr_decay=zero):\n",
        "    ops.reset_default_graph()\n",
        "    layers_dims = [input_size, hidden_neurons, hidden_neurons, output_size]\n",
        "    input_size = layers_dims[zero]\n",
        "    output_size = layers_dims[-1]\n",
        "    num_examples = train_set.shape[zero]\n",
        "    n_layers = len(layers_dims)\n",
        "    train_costs = []\n",
        "    validation_costs = []\n",
        "    best_iteration = [float('inf'), zero]\n",
        "    best_params = None\n",
        "\n",
        "    if minibatch_size == zero or minibatch_size > num_examples:\n",
        "        minibatch_size = num_examples\n",
        "\n",
        "    num_minibatches = num_examples // minibatch_size\n",
        "\n",
        "    if num_minibatches == zero:\n",
        "        num_minibatches = 1\n",
        "\n",
        "    submission_name = build_submission_name(layers_dims, num_epochs, lr_decay, learning_rate, l2_beta, keep_prob,\n",
        "                                            minibatch_size, num_examples)\n",
        "\n",
        "    x, y = create_placeholders(input_size, output_size)\n",
        "    tf_valid_dataset = tf.cast(tf.constant(validation_set), tf.float32)\n",
        "    parameters = initialize_parameters(layers_dims, weight_initializer)\n",
        "\n",
        "    fw_output_train = forward_propagation(x, parameters, keep_prob, hidden_activation)\n",
        "    train_cost = compute_cost(fw_output_train, y)\n",
        "\n",
        "    fw_output_valid = forward_propagation(tf_valid_dataset, parameters, 1, hidden_activation)\n",
        "    validation_cost = compute_cost(fw_output_valid, validation_labels)\n",
        "\n",
        "    if l2_beta > zero:\n",
        "        train_cost = l2_regularizer(train_cost, l2_beta, parameters, n_layers)\n",
        "        validation_cost = l2_regularizer(validation_cost, l2_beta, parameters, n_layers)\n",
        "\n",
        "    if lr_decay != zero:\n",
        "        global_step = tf.Variable(zero, trainable=False)\n",
        "        learning_rate = tf.train.inverse_time_decay(learning_rate, global_step=global_step, decay_rate=lr_decay,\n",
        "                                                    decay_steps=1)\n",
        "        if(set_optimizer == 'adam'):\n",
        "            optimizer = tf.train.AdamOptimizer(learning_rate).minimize(train_cost, global_step=global_step)\n",
        "        else:\n",
        "            optimizer = tf.train.RMSPropOptimizer(learning_rate).minimize(train_cost, global_step=global_step)\n",
        "          \n",
        "    else:\n",
        "        if(set_optimizer == 'adam'):\n",
        "            optimizer = tf.train.AdamOptimizer(learning_rate).minimize(train_cost)\n",
        "        else:\n",
        "            optimizer = tf.train.RMSPropOptimizer(learning_rate).minimize(train_cost)\n",
        "\n",
        "    \n",
        "    init = tf.global_variables_initializer()\n",
        "\n",
        "    with tf.Session() as sess:\n",
        "        \n",
        "        sess.run(init)\n",
        "\n",
        "        for epoch in range(num_epochs):\n",
        "            train_epoch_cost = zero\n",
        "            validation_epoch_cost = zero\n",
        "\n",
        "            minibatches = mini_batches(train_set, train_labels, minibatch_size)\n",
        "\n",
        "            for minibatch in minibatches:\n",
        "                \n",
        "                (minibatch_X, minibatch_Y) = minibatch\n",
        "                feed_dict = {x: minibatch_X, y: minibatch_Y}\n",
        "\n",
        "                \n",
        "                _, minibatch_train_cost, minibatch_validation_cost = sess.run(\n",
        "                    [optimizer, train_cost, validation_cost], feed_dict=feed_dict)\n",
        "\n",
        "                train_epoch_cost += minibatch_train_cost / num_minibatches\n",
        "                validation_epoch_cost += minibatch_validation_cost / num_minibatches\n",
        "\n",
        "            if print_cost is True and epoch % (2000) == zero:\n",
        "                print(\"Train cost after epoch %i: %f\" % (epoch, train_epoch_cost))\n",
        "                print(\"Validation cost after epoch %i: %f\" % (epoch, validation_epoch_cost))\n",
        "\n",
        "            if plot_cost is True and epoch % 9 == zero:\n",
        "                train_costs.append(train_epoch_cost)\n",
        "                validation_costs.append(validation_epoch_cost)\n",
        "\n",
        "            if return_best is True and validation_epoch_cost < best_iteration[zero]:\n",
        "                best_iteration[zero] = validation_epoch_cost\n",
        "                best_iteration[1] = epoch\n",
        "                best_params = sess.run(parameters)\n",
        "\n",
        "        if return_best is True:\n",
        "            parameters = best_params\n",
        "        else:\n",
        "            parameters = sess.run(parameters)\n",
        "\n",
        "        train_rmse = rmse(predict(train_set, parameters), train_labels)\n",
        "        validation_rmse = rmse(predict(validation_set, parameters), validation_labels)\n",
        "        train_rmsle = rmsle(predict(train_set, parameters), train_labels)\n",
        "        validation_rmsle = rmsle(predict(validation_set, parameters), validation_labels)\n",
        "        if show_result is True:\n",
        "            print('Train rmsle: {:.4f}'.format(train_rmsle))\n",
        "            print('Validation rmsle: {:.4f}'.format(validation_rmsle))\n",
        "\n",
        "        submission_name = 'tr_cost-{:.2f}-vd_cost{:.2f}-'.format(train_rmse, validation_rmse) + submission_name\n",
        "\n",
        "        if return_best is True:\n",
        "            print('Lowest rmse: {:.2f} at epoch {}'.format(best_iteration[zero], best_iteration[1]))\n",
        "\n",
        "        if plot_cost is True:\n",
        "            plot_model_cost(train_costs, validation_costs, set_optimizer, weight_initializer, hidden_activation)\n",
        "\n",
        "        return train_rmsle, validation_rmsle, parameters, submission_name"
      ],
      "execution_count": 0,
      "outputs": []
    },
    {
      "cell_type": "markdown",
      "metadata": {
        "id": "WRWLKZEhJaBV",
        "colab_type": "text"
      },
      "source": [
        "## 05.5 Training and validation"
      ]
    },
    {
      "cell_type": "code",
      "metadata": {
        "id": "1-rzmal9XJDd",
        "colab_type": "code",
        "outputId": "1cd7a96a-46a3-421e-8c27-59c1122b6dad",
        "colab": {
          "base_uri": "https://localhost:8080/",
          "height": 335
        }
      },
      "source": [
        "train_rmsle, validation_rmsle, parameters, submission_name = model(X_train, Y_train, X_valid, Y_valid)"
      ],
      "execution_count": 74,
      "outputs": [
        {
          "output_type": "stream",
          "text": [
            "Train rmsle: 0.2425\n",
            "Validation rmsle: 0.2699\n"
          ],
          "name": "stdout"
        },
        {
          "output_type": "display_data",
          "data": {
            "image/png": "[encoded data removed]",
            "text/plain": [
              "<Figure size 432x288 with 1 Axes>"
            ]
          },
          "metadata": {
            "tags": []
          }
        }
      ]
    },
    {
      "cell_type": "markdown",
      "metadata": {
        "id": "RlVi4gIHIpV8",
        "colab_type": "text"
      },
      "source": [
        "Here we can see that the train and validation error is low. As the validation rmsle is high we will now try to minimize it. "
      ]
    },
    {
      "cell_type": "markdown",
      "metadata": {
        "id": "RFnxxMHgUwDS",
        "colab_type": "text"
      },
      "source": [
        "Now we will apply grid search to find out the best parameters for our model."
      ]
    },
    {
      "cell_type": "markdown",
      "metadata": {
        "id": "nCfrstzqJm0H",
        "colab_type": "text"
      },
      "source": [
        "## 05.6 Grid Search"
      ]
    },
    {
      "cell_type": "markdown",
      "metadata": {
        "id": "0mkH3K2AH7-N",
        "colab_type": "text"
      },
      "source": [
        "Grid search is basically giving some parameters to see which parameters are best suited for the best training result. In the result we will get the combination of the parameters and what their score is, from there we can choose the parameters which gives us the best result if implemented in training. "
      ]
    },
    {
      "cell_type": "code",
      "metadata": {
        "id": "asRmiZ2QU1YY",
        "colab_type": "code",
        "outputId": "4b2db8af-c40c-478c-d1d1-c6f22cd27026",
        "colab": {
          "base_uri": "https://localhost:8080/",
          "height": 359
        }
      },
      "source": [
        "param_grid = {'Optimizer':['adam','RMS-Prop'],\n",
        "              'Initializer':['random-normal','xavier'],\n",
        "              'Activation':['relu','sigmoid','leaky-relu']}\n",
        "grid = ParameterGrid(param_grid)\n",
        "all_combinations = []\n",
        "all_train_error = []\n",
        "all_validation_error = []\n",
        "for params in grid:\n",
        "    train_rmsle, validation_rmsle, parameters, submission_name = model(X_train, Y_train, X_valid, Y_valid,\n",
        "                                                                       hidden_activation=params['Activation'],\n",
        "                                                                       weight_initializer = params['Initializer'],\n",
        "                                                                       show_result=False,\n",
        "                                                                       set_optimizer = params['Optimizer'],\n",
        "                                                                       plot_cost=False)\n",
        "    all_combinations.append(str(list(params.values())))\n",
        "    all_train_error.append(train_rmsle)\n",
        "    all_validation_error.append(validation_rmsle)  \n",
        "parameter_combinations = pd.DataFrame(\n",
        "    {'Combination': all_combinations,\n",
        "     'Train-error': all_train_error,\n",
        "     'Validation-error': all_validation_error\n",
        "    })\n",
        "parameter_combinations = parameter_combinations.sort_values(by='Validation-error', ascending=True)\n",
        "parameter_combinations[:10]"
      ],
      "execution_count": 75,
      "outputs": [
        {
          "output_type": "execute_result",
          "data": {
            "text/html": [
              "<div>\n",
              "<style scoped>\n",
              "    .dataframe tbody tr th:only-of-type {\n",
              "        vertical-align: middle;\n",
              "    }\n",
              "\n",
              "    .dataframe tbody tr th {\n",
              "        vertical-align: top;\n",
              "    }\n",
              "\n",
              "    .dataframe thead th {\n",
              "        text-align: right;\n",
              "    }\n",
              "</style>\n",
              "<table border=\"1\" class=\"dataframe\">\n",
              "  <thead>\n",
              "    <tr style=\"text-align: right;\">\n",
              "      <th></th>\n",
              "      <th>Combination</th>\n",
              "      <th>Train-error</th>\n",
              "      <th>Validation-error</th>\n",
              "    </tr>\n",
              "  </thead>\n",
              "  <tbody>\n",
              "    <tr>\n",
              "      <th>2</th>\n",
              "      <td>['relu', 'xavier', 'adam']</td>\n",
              "      <td>0.039180</td>\n",
              "      <td>0.060504</td>\n",
              "    </tr>\n",
              "    <tr>\n",
              "      <th>0</th>\n",
              "      <td>['relu', 'random-normal', 'adam']</td>\n",
              "      <td>0.042642</td>\n",
              "      <td>0.061330</td>\n",
              "    </tr>\n",
              "    <tr>\n",
              "      <th>10</th>\n",
              "      <td>['leaky-relu', 'xavier', 'adam']</td>\n",
              "      <td>0.083381</td>\n",
              "      <td>0.074495</td>\n",
              "    </tr>\n",
              "    <tr>\n",
              "      <th>8</th>\n",
              "      <td>['leaky-relu', 'random-normal', 'adam']</td>\n",
              "      <td>0.085580</td>\n",
              "      <td>0.077321</td>\n",
              "    </tr>\n",
              "    <tr>\n",
              "      <th>3</th>\n",
              "      <td>['relu', 'xavier', 'RMS-Prop']</td>\n",
              "      <td>0.068118</td>\n",
              "      <td>0.120906</td>\n",
              "    </tr>\n",
              "    <tr>\n",
              "      <th>1</th>\n",
              "      <td>['relu', 'random-normal', 'RMS-Prop']</td>\n",
              "      <td>0.083261</td>\n",
              "      <td>0.132544</td>\n",
              "    </tr>\n",
              "    <tr>\n",
              "      <th>11</th>\n",
              "      <td>['leaky-relu', 'xavier', 'RMS-Prop']</td>\n",
              "      <td>0.253557</td>\n",
              "      <td>0.263487</td>\n",
              "    </tr>\n",
              "    <tr>\n",
              "      <th>9</th>\n",
              "      <td>['leaky-relu', 'random-normal', 'RMS-Prop']</td>\n",
              "      <td>0.296090</td>\n",
              "      <td>0.321777</td>\n",
              "    </tr>\n",
              "    <tr>\n",
              "      <th>7</th>\n",
              "      <td>['sigmoid', 'xavier', 'RMS-Prop']</td>\n",
              "      <td>1.113486</td>\n",
              "      <td>1.091002</td>\n",
              "    </tr>\n",
              "    <tr>\n",
              "      <th>5</th>\n",
              "      <td>['sigmoid', 'random-normal', 'RMS-Prop']</td>\n",
              "      <td>1.123331</td>\n",
              "      <td>1.097597</td>\n",
              "    </tr>\n",
              "  </tbody>\n",
              "</table>\n",
              "</div>"
            ],
            "text/plain": [
              "                                    Combination  Train-error  Validation-error\n",
              "2                    ['relu', 'xavier', 'adam']     0.039180          0.060504\n",
              "0             ['relu', 'random-normal', 'adam']     0.042642          0.061330\n",
              "10             ['leaky-relu', 'xavier', 'adam']     0.083381          0.074495\n",
              "8       ['leaky-relu', 'random-normal', 'adam']     0.085580          0.077321\n",
              "3                ['relu', 'xavier', 'RMS-Prop']     0.068118          0.120906\n",
              "1         ['relu', 'random-normal', 'RMS-Prop']     0.083261          0.132544\n",
              "11         ['leaky-relu', 'xavier', 'RMS-Prop']     0.253557          0.263487\n",
              "9   ['leaky-relu', 'random-normal', 'RMS-Prop']     0.296090          0.321777\n",
              "7             ['sigmoid', 'xavier', 'RMS-Prop']     1.113486          1.091002\n",
              "5      ['sigmoid', 'random-normal', 'RMS-Prop']     1.123331          1.097597"
            ]
          },
          "metadata": {
            "tags": []
          },
          "execution_count": 75
        }
      ]
    },
    {
      "cell_type": "markdown",
      "metadata": {
        "id": "fqjTHnLRVK-u",
        "colab_type": "text"
      },
      "source": [
        "Here we will decide which parameters to take depending on which validation error is the lowest. Here we can see that 'relu', 'xavier', 'adam' combination has the lowest validation error so we will choose these parameters and implement on our model. "
      ]
    },
    {
      "cell_type": "code",
      "metadata": {
        "id": "u36hgZx3VmVq",
        "colab_type": "code",
        "outputId": "699c04c9-86a7-4643-bc8e-dfe3651aee56",
        "colab": {
          "base_uri": "https://localhost:8080/",
          "height": 335
        }
      },
      "source": [
        "train_rmsle, validation_rmsle, parameters, submission_name = model(X_train, Y_train, X_valid, \n",
        "                                                                   Y_valid,set_optimizer = 'adam',\n",
        "                                                                    weight_initializer='xavier',\n",
        "                                                                   hidden_activation='relu' )"
      ],
      "execution_count": 76,
      "outputs": [
        {
          "output_type": "stream",
          "text": [
            "Train rmsle: 0.0427\n",
            "Validation rmsle: 0.0611\n"
          ],
          "name": "stdout"
        },
        {
          "output_type": "display_data",
          "data": {
            "image/png": "[encoded data removed]",
            "text/plain": [
              "<Figure size 432x288 with 1 Axes>"
            ]
          },
          "metadata": {
            "tags": []
          }
        }
      ]
    },
    {
      "cell_type": "markdown",
      "metadata": {
        "id": "r44fqQBMJdju",
        "colab_type": "text"
      },
      "source": [
        "We can see the using the output of gridsearch we were able to minimize the validation loss. "
      ]
    },
    {
      "cell_type": "markdown",
      "metadata": {
        "id": "wDdWJzUSXXzH",
        "colab_type": "text"
      },
      "source": [
        "We will now apply gridsearch on hyperparameters to get further better result. "
      ]
    },
    {
      "cell_type": "code",
      "metadata": {
        "id": "fnTqEVXGXgp3",
        "colab_type": "code",
        "outputId": "5bf0fbc9-b40c-423f-ad11-f2439707334b",
        "colab": {
          "base_uri": "https://localhost:8080/",
          "height": 359
        }
      },
      "source": [
        "param_grid = {'keep_prob':[0.5, 0.8, 1.0],\n",
        "              'learn-rate':[0.01, 0.015,0.02,],\n",
        "              'lr_decay':[0,0.001],\n",
        "              'l2_beta':[5, 10]}\n",
        "grid = ParameterGrid(param_grid)\n",
        "all_combinations = []\n",
        "all_train_error = []\n",
        "all_validation_error = []\n",
        "for params in grid:\n",
        "    train_rmsle, validation_rmsle, parameters,submission_name = model(X_train, Y_train, X_valid, \n",
        "                                                                      Y_valid,hidden_activation='relu',\n",
        "                                                        weight_initializer='xavier', set_optimizer = 'adam',\n",
        "                                                        keep_prob=params['keep_prob'],\n",
        "                                                        learning_rate=params['learn-rate'],\n",
        "                                                        print_cost=False, plot_cost=False,show_result=False,\n",
        "                                                        l2_beta=params['l2_beta'],return_best=False,\n",
        "                                                        lr_decay=params['lr_decay'])\n",
        "    all_combinations.append(str(params))\n",
        "    all_train_error.append(train_rmsle)\n",
        "    all_validation_error.append(validation_rmsle) \n",
        "pd.options.display.max_colwidth = 140 \n",
        "parameter_combinations = pd.DataFrame(\n",
        "    {'combination': all_combinations,\n",
        "     'train-error': all_train_error,\n",
        "     'validation-error': all_validation_error\n",
        "    })\n",
        "parameter_combinations = parameter_combinations.sort_values(by='validation-error', ascending=True)\n",
        "parameter_combinations[:10]    "
      ],
      "execution_count": 0,
      "outputs": [
        {
          "output_type": "execute_result",
          "data": {
            "text/html": [
              "<div>\n",
              "<style scoped>\n",
              "    .dataframe tbody tr th:only-of-type {\n",
              "        vertical-align: middle;\n",
              "    }\n",
              "\n",
              "    .dataframe tbody tr th {\n",
              "        vertical-align: top;\n",
              "    }\n",
              "\n",
              "    .dataframe thead th {\n",
              "        text-align: right;\n",
              "    }\n",
              "</style>\n",
              "<table border=\"1\" class=\"dataframe\">\n",
              "  <thead>\n",
              "    <tr style=\"text-align: right;\">\n",
              "      <th></th>\n",
              "      <th>combination</th>\n",
              "      <th>train-error</th>\n",
              "      <th>validation-error</th>\n",
              "    </tr>\n",
              "  </thead>\n",
              "  <tbody>\n",
              "    <tr>\n",
              "      <th>23</th>\n",
              "      <td>{'keep_prob': 0.8, 'l2_beta': 10, 'learn-rate': 0.02, 'lr_decay': 0.001}</td>\n",
              "      <td>0.032637</td>\n",
              "      <td>0.054947</td>\n",
              "    </tr>\n",
              "    <tr>\n",
              "      <th>20</th>\n",
              "      <td>{'keep_prob': 0.8, 'l2_beta': 10, 'learn-rate': 0.015, 'lr_decay': 0}</td>\n",
              "      <td>0.042056</td>\n",
              "      <td>0.057315</td>\n",
              "    </tr>\n",
              "    <tr>\n",
              "      <th>7</th>\n",
              "      <td>{'keep_prob': 0.5, 'l2_beta': 10, 'learn-rate': 0.01, 'lr_decay': 0.001}</td>\n",
              "      <td>0.037729</td>\n",
              "      <td>0.057411</td>\n",
              "    </tr>\n",
              "    <tr>\n",
              "      <th>9</th>\n",
              "      <td>{'keep_prob': 0.5, 'l2_beta': 10, 'learn-rate': 0.015, 'lr_decay': 0.001}</td>\n",
              "      <td>0.041434</td>\n",
              "      <td>0.058145</td>\n",
              "    </tr>\n",
              "    <tr>\n",
              "      <th>5</th>\n",
              "      <td>{'keep_prob': 0.5, 'l2_beta': 5, 'learn-rate': 0.02, 'lr_decay': 0.001}</td>\n",
              "      <td>0.044833</td>\n",
              "      <td>0.058975</td>\n",
              "    </tr>\n",
              "    <tr>\n",
              "      <th>21</th>\n",
              "      <td>{'keep_prob': 0.8, 'l2_beta': 10, 'learn-rate': 0.015, 'lr_decay': 0.001}</td>\n",
              "      <td>0.030882</td>\n",
              "      <td>0.059414</td>\n",
              "    </tr>\n",
              "    <tr>\n",
              "      <th>18</th>\n",
              "      <td>{'keep_prob': 0.8, 'l2_beta': 10, 'learn-rate': 0.01, 'lr_decay': 0}</td>\n",
              "      <td>0.038054</td>\n",
              "      <td>0.059811</td>\n",
              "    </tr>\n",
              "    <tr>\n",
              "      <th>1</th>\n",
              "      <td>{'keep_prob': 0.5, 'l2_beta': 5, 'learn-rate': 0.01, 'lr_decay': 0.001}</td>\n",
              "      <td>0.034915</td>\n",
              "      <td>0.060105</td>\n",
              "    </tr>\n",
              "    <tr>\n",
              "      <th>11</th>\n",
              "      <td>{'keep_prob': 0.5, 'l2_beta': 10, 'learn-rate': 0.02, 'lr_decay': 0.001}</td>\n",
              "      <td>0.044077</td>\n",
              "      <td>0.062512</td>\n",
              "    </tr>\n",
              "    <tr>\n",
              "      <th>2</th>\n",
              "      <td>{'keep_prob': 0.5, 'l2_beta': 5, 'learn-rate': 0.015, 'lr_decay': 0}</td>\n",
              "      <td>0.046420</td>\n",
              "      <td>0.063300</td>\n",
              "    </tr>\n",
              "  </tbody>\n",
              "</table>\n",
              "</div>"
            ],
            "text/plain": [
              "                                                                  combination  ...  validation-error\n",
              "23   {'keep_prob': 0.8, 'l2_beta': 10, 'learn-rate': 0.02, 'lr_decay': 0.001}  ...          0.054947\n",
              "20      {'keep_prob': 0.8, 'l2_beta': 10, 'learn-rate': 0.015, 'lr_decay': 0}  ...          0.057315\n",
              "7    {'keep_prob': 0.5, 'l2_beta': 10, 'learn-rate': 0.01, 'lr_decay': 0.001}  ...          0.057411\n",
              "9   {'keep_prob': 0.5, 'l2_beta': 10, 'learn-rate': 0.015, 'lr_decay': 0.001}  ...          0.058145\n",
              "5     {'keep_prob': 0.5, 'l2_beta': 5, 'learn-rate': 0.02, 'lr_decay': 0.001}  ...          0.058975\n",
              "21  {'keep_prob': 0.8, 'l2_beta': 10, 'learn-rate': 0.015, 'lr_decay': 0.001}  ...          0.059414\n",
              "18       {'keep_prob': 0.8, 'l2_beta': 10, 'learn-rate': 0.01, 'lr_decay': 0}  ...          0.059811\n",
              "1     {'keep_prob': 0.5, 'l2_beta': 5, 'learn-rate': 0.01, 'lr_decay': 0.001}  ...          0.060105\n",
              "11   {'keep_prob': 0.5, 'l2_beta': 10, 'learn-rate': 0.02, 'lr_decay': 0.001}  ...          0.062512\n",
              "2        {'keep_prob': 0.5, 'l2_beta': 5, 'learn-rate': 0.015, 'lr_decay': 0}  ...          0.063300\n",
              "\n",
              "[10 rows x 3 columns]"
            ]
          },
          "metadata": {
            "tags": []
          },
          "execution_count": 409
        }
      ]
    },
    {
      "cell_type": "markdown",
      "metadata": {
        "id": "LWNxlO8QX8nc",
        "colab_type": "text"
      },
      "source": [
        "We will again apply the best parameters in our model which is 'keep_prob': 1.0, 'l2_beta': 10, 'learn-rate': 0.02 and 'lr_decay': 0."
      ]
    },
    {
      "cell_type": "code",
      "metadata": {
        "id": "StUtMtdxYBRS",
        "colab_type": "code",
        "outputId": "d69b8f91-1173-48cf-8749-2fa2bb8731b8",
        "colab": {
          "base_uri": "https://localhost:8080/",
          "height": 335
        }
      },
      "source": [
        "train_rmsle, validation_rmsle, parameters,submission_name = model(X_train, Y_train, X_valid, Y_valid,\n",
        "                                                                  hidden_activation='relu',\n",
        "                                                                  weight_initializer='xavier', \n",
        "                                                                  set_optimizer = 'adam',\n",
        "                                                                  keep_prob=1,learning_rate=0.02, \n",
        "                                                                  num_epochs=1000,\n",
        "                                                                  print_cost=False, \n",
        "                                                                  plot_cost=True,show_result=True,\n",
        "                                                                  l2_beta=10,return_best=False,\n",
        "                                                                  lr_decay=0.00,input_size=input_size)"
      ],
      "execution_count": 0,
      "outputs": [
        {
          "output_type": "stream",
          "text": [
            "Train rmsle: 0.0151\n",
            "Validation rmsle: 0.0741\n"
          ],
          "name": "stdout"
        },
        {
          "output_type": "display_data",
          "data": {
            "image/png": "[encoded data removed]",
            "text/plain": [
              "<Figure size 432x288 with 1 Axes>"
            ]
          },
          "metadata": {
            "tags": []
          }
        }
      ]
    },
    {
      "cell_type": "markdown",
      "metadata": {
        "id": "TSzQLjQ6Kjky",
        "colab_type": "text"
      },
      "source": [
        "We will see if we can include techniques like ensembling to better our results further. "
      ]
    },
    {
      "cell_type": "markdown",
      "metadata": {
        "id": "XVcDtdnFYWAa",
        "colab_type": "text"
      },
      "source": [
        "We will now train and test the data. "
      ]
    },
    {
      "cell_type": "code",
      "metadata": {
        "id": "dL8TLOFHYcTp",
        "colab_type": "code",
        "outputId": "273b5c5c-76a7-49ce-801b-3f5f1f3e212f",
        "colab": {
          "base_uri": "https://localhost:8080/",
          "height": 335
        }
      },
      "source": [
        "train = trainFeatured\n",
        "test = testFeatured\n",
        "train_raw_labels = trainNoOutlier['SalePrice'].to_frame().as_matrix()\n",
        "train_pre = pre_process_data(train)\n",
        "test_pre = pre_process_data(test)\n",
        "train_pre, test_pre = train_pre.align(test_pre, join='outer', axis=1)\n",
        "train_pre.replace(to_replace=np.nan, value=zero, inplace=True)\n",
        "test_pre.replace(to_replace=np.nan, value=zero, inplace=True)\n",
        "train_pre = train_pre.as_matrix().astype(np.float)\n",
        "test_pre = test_pre.as_matrix().astype(np.float)\n",
        "standard_scaler = preprocessing.StandardScaler()\n",
        "train_pre = standard_scaler.fit_transform(train_pre)\n",
        "test_pre = standard_scaler.fit_transform(test_pre)\n",
        "input_size = train_pre.shape[1]\n",
        "output_size = 1\n",
        "\n",
        "X_train, X_valid, Y_train, Y_valid = train_test_split(train_pre, train_raw_labels, test_size=0.001, random_state=23)\n",
        "train_rmsle, validation_rmsle, parameters,submission_name = model(X_train, Y_train, X_valid, Y_valid,\n",
        "                                                                  hidden_activation='relu',\n",
        "                                                                  weight_initializer='xavier', \n",
        "                                                                  set_optimizer = 'adam',\n",
        "                                                                  keep_prob=1,learning_rate=0.02, \n",
        "                                                                  num_epochs=1000,\n",
        "                                                                  print_cost=False, \n",
        "                                                                  plot_cost=True,show_result=True,\n",
        "                                                                  l2_beta=10,return_best=False,\n",
        "                                                                  lr_decay=0.00,input_size=input_size)\n",
        "prediction = list(map(lambda val: float(val), predict(test_pre, parameters)))"
      ],
      "execution_count": 77,
      "outputs": [
        {
          "output_type": "stream",
          "text": [
            "Train rmsle: 0.0146\n",
            "Validation rmsle: 0.0152\n"
          ],
          "name": "stdout"
        },
        {
          "output_type": "display_data",
          "data": {
            "image/png": "[encoded data removed]",
            "text/plain": [
              "<Figure size 432x288 with 1 Axes>"
            ]
          },
          "metadata": {
            "tags": []
          }
        }
      ]
    },
    {
      "cell_type": "markdown",
      "metadata": {
        "id": "VO8tA1ivSPgl",
        "colab_type": "text"
      },
      "source": [
        "We will now produce the output file to see what out kaggle score is by submitting it. "
      ]
    },
    {
      "cell_type": "code",
      "metadata": {
        "id": "1BqLAVjrRinW",
        "colab_type": "code",
        "colab": {}
      },
      "source": [
        "sub = pd.DataFrame()\n",
        "\n",
        "sub['Id'] = test_ID\n",
        "sub['SalePrice'] = prediction\n",
        "\n",
        "sub.to_csv('submission_DNN_WD.csv',index=False)"
      ],
      "execution_count": 0,
      "outputs": []
    },
    {
      "cell_type": "markdown",
      "metadata": {
        "id": "CMsb7WYuS6Yh",
        "colab_type": "text"
      },
      "source": [
        " Our submission scored 0.36900 which is not very good so we will try to improve it. "
      ]
    },
    {
      "cell_type": "markdown",
      "metadata": {
        "id": "BFFTeJTaKJGb",
        "colab_type": "text"
      },
      "source": [
        "## 05.7 Ensembling"
      ]
    },
    {
      "cell_type": "markdown",
      "metadata": {
        "id": "v_AAXvE4Qf21",
        "colab_type": "text"
      },
      "source": [
        "To improve the score we will implement ensembling method and for that we need to train datasets again. First we will do it with the dataset which is without feature engineering. "
      ]
    },
    {
      "cell_type": "code",
      "metadata": {
        "id": "Oa7U7NAmIfBc",
        "colab_type": "code",
        "outputId": "eed365c7-dab4-4aa7-83e0-bdfba639f860",
        "colab": {
          "base_uri": "https://localhost:8080/",
          "height": 335
        }
      },
      "source": [
        "train = train_noMissing\n",
        "test = test_noMissing\n",
        "train_raw_labels = trainNoOutlier['SalePrice'].to_frame().as_matrix()\n",
        "train_pre = pre_process_data(train)\n",
        "test_pre = pre_process_data(test)\n",
        "train_pre, test_pre = train_pre.align(test_pre, join='outer', axis=1)\n",
        "train_pre.replace(to_replace=np.nan, value=zero, inplace=True)\n",
        "test_pre.replace(to_replace=np.nan, value=zero, inplace=True)\n",
        "train_pre = train_pre.as_matrix().astype(np.float)\n",
        "test_pre = test_pre.as_matrix().astype(np.float)\n",
        "standard_scaler = preprocessing.StandardScaler()\n",
        "train_pre = standard_scaler.fit_transform(train_pre)\n",
        "test_pre = standard_scaler.fit_transform(test_pre)\n",
        "input_size = train_pre.shape[1]\n",
        "output_size = 1\n",
        "\n",
        "X_train, X_valid, Y_train, Y_valid = train_test_split(train_pre, train_raw_labels, test_size=0.001, random_state=1)\n",
        "train_rmsle, validation_rmsle, parameters2,submission_name = model(X_train, Y_train, X_valid, Y_valid,\n",
        "                                                                   hidden_activation='relu',\n",
        "                                                                   weight_initializer='xavier', \n",
        "                                                                   set_optimizer = 'adam',\n",
        "                                                                   keep_prob=1,learning_rate=0.02, \n",
        "                                                                   num_epochs=1000,\n",
        "                                                                   print_cost=False, plot_cost=True,\n",
        "                                                                   show_result=True,\n",
        "                                                                   l2_beta=10,return_best=False,\n",
        "                                                                   lr_decay=0.00,input_size=input_size)\n",
        "prediction2 = list(map(lambda val: float(val), predict(test_pre, parameters2)))"
      ],
      "execution_count": 81,
      "outputs": [
        {
          "output_type": "stream",
          "text": [
            "Train rmsle: 0.0195\n",
            "Validation rmsle: 0.3128\n"
          ],
          "name": "stdout"
        },
        {
          "output_type": "display_data",
          "data": {
            "image/png": "[encoded data removed]",
            "text/plain": [
              "<Figure size 432x288 with 1 Axes>"
            ]
          },
          "metadata": {
            "tags": []
          }
        }
      ]
    },
    {
      "cell_type": "markdown",
      "metadata": {
        "id": "PlyPvNNHRsqd",
        "colab_type": "text"
      },
      "source": [
        "Now we will train it on the dataset where feature engineering has been done and skew has been fixed. "
      ]
    },
    {
      "cell_type": "code",
      "metadata": {
        "id": "M-MexujOKhsG",
        "colab_type": "code",
        "outputId": "a15fe5be-4ebd-4ba0-89ae-cf229cd72dd3",
        "colab": {
          "base_uri": "https://localhost:8080/",
          "height": 335
        }
      },
      "source": [
        "train = trainFinal\n",
        "test = testFinal\n",
        "train_raw_labels = trainNoOutlier['SalePrice'].to_frame().as_matrix()\n",
        "train_pre = pre_process_data(train)\n",
        "test_pre = pre_process_data(test)\n",
        "train_pre, test_pre = train_pre.align(test_pre, join='outer', axis=1)\n",
        "train_pre.replace(to_replace=np.nan, value=zero, inplace=True)\n",
        "test_pre.replace(to_replace=np.nan, value=zero, inplace=True)\n",
        "train_pre = train_pre.as_matrix().astype(np.float)\n",
        "test_pre = test_pre.as_matrix().astype(np.float)\n",
        "standard_scaler = preprocessing.StandardScaler()\n",
        "train_pre = standard_scaler.fit_transform(train_pre)\n",
        "test_pre = standard_scaler.fit_transform(test_pre)\n",
        "input_size = train_pre.shape[1]\n",
        "output_size = 1\n",
        "X_train, X_valid, Y_train, Y_valid = train_test_split(train_pre, train_raw_labels, test_size=0.001, random_state=1)\n",
        "train_rmsle, validation_rmsle, parameters3,submission_name = model(X_train, Y_train, X_valid, Y_valid,\n",
        "                                                                  hidden_activation='relu',\n",
        "                                                                  weight_initializer='xavier',\n",
        "                                                                   set_optimizer = 'adam',\n",
        "                                                                  keep_prob=1,learning_rate=0.02, \n",
        "                                                                   num_epochs=1000,\n",
        "                                                                  print_cost=False, plot_cost=True,\n",
        "                                                                   show_result=True,\n",
        "                                                                  l2_beta=10,return_best=False,\n",
        "                                                                  lr_decay=0.00,input_size=input_size)\n",
        "prediction3 = list(map(lambda val: float(val), predict(test_pre, parameters3)))"
      ],
      "execution_count": 82,
      "outputs": [
        {
          "output_type": "stream",
          "text": [
            "Train rmsle: 0.0189\n",
            "Validation rmsle: 0.3305\n"
          ],
          "name": "stdout"
        },
        {
          "output_type": "display_data",
          "data": {
            "image/png": "[encoded data removed]",
            "text/plain": [
              "<Figure size 432x288 with 1 Axes>"
            ]
          },
          "metadata": {
            "tags": []
          }
        }
      ]
    },
    {
      "cell_type": "markdown",
      "metadata": {
        "id": "lx7QuXv3RyZ3",
        "colab_type": "text"
      },
      "source": [
        "We will now use ensemble to get our final score. "
      ]
    },
    {
      "cell_type": "code",
      "metadata": {
        "id": "5fkdJPqNLv76",
        "colab_type": "code",
        "colab": {}
      },
      "source": [
        "ensemble =  np.multiply(prediction,  (0.35))+ np.multiply(prediction2, (0.35))+ np.multiply(prediction3, (0.30))"
      ],
      "execution_count": 0,
      "outputs": []
    },
    {
      "cell_type": "markdown",
      "metadata": {
        "id": "4BFGsDopKVVC",
        "colab_type": "text"
      },
      "source": [
        "## 05.8 Final output generation"
      ]
    },
    {
      "cell_type": "markdown",
      "metadata": {
        "id": "P7S_pmNGR7eC",
        "colab_type": "text"
      },
      "source": [
        "Now we will generate our csv file to submit in kaggle. "
      ]
    },
    {
      "cell_type": "code",
      "metadata": {
        "id": "unAel2tnzsvu",
        "colab_type": "code",
        "colab": {}
      },
      "source": [
        "sub = pd.DataFrame()\n",
        "\n",
        "sub['Id'] = test_ID\n",
        "sub['SalePrice'] = ensemble\n",
        "\n",
        "sub.to_csv('submission_DNN_WD.csv',index=False)"
      ],
      "execution_count": 0,
      "outputs": []
    },
    {
      "cell_type": "markdown",
      "metadata": {
        "id": "Z7l4PK3kSDpW",
        "colab_type": "text"
      },
      "source": [
        "##05.9 Kaggle Submission Score\n",
        "![alt text](https://puu.sh/DFyLF/69d95271b6.png)\n"
      ]
    },
    {
      "cell_type": "markdown",
      "metadata": {
        "id": "EmMyNwMKULEf",
        "colab_type": "text"
      },
      "source": [
        "# 06. Conclusion"
      ]
    },
    {
      "cell_type": "markdown",
      "metadata": {
        "id": "o7VMT4E9UQ0B",
        "colab_type": "text"
      },
      "source": [
        "We can see that a lot of technique was used to improve our score and emsembling certainly played a huge part in that. Valiadtion score let us know when to improve and mode and grid search helped use hugely to choose the best suited parameters throughout the model. Feature Engineering is the key thing in this model as we have to spend the most amount of time preproscessing any data. The further we can clean the data the further we can improve our model's score. "
      ]
    },
    {
      "cell_type": "markdown",
      "metadata": {
        "id": "Ke9IgLI1UKeT",
        "colab_type": "text"
      },
      "source": [
        "#07. References \n",
        "1. https://www.kaggle.com/dimitreoliveira/house-prices-deep-learning-aproach-tensorflow <br />\n",
        "2. https://www.kaggle.com/karthikramesh55/iowa-housing-price-prediction-regression-models/notebook?fbclid=IwAR0QixSNKX7WaVGc0yMYOL0S7RO7Lh3Z92BOiVArOIvr6Ik1w4COWxNnCFM <br />\n",
        "3. https://www.dataquest.io/blog/kaggle-getting-started/ <br />\n",
        "4. https://towardsdatascience.com/simple-house-price-predictor-using-ml-through-tensorflow-in-python-cbd2b637904b <br />\n",
        "5. https://medium.com/@saxenarohan97/intro-to-tensorflow-solving-a-simple-regression-problem-e87b42fd4845?fbclid=IwAR15Tjc8pnQxLfVst3q2UcF5-DU9mfqrvDgnvD_SgWJp8hk1HGgIV9-4a1w <br />\n",
        "6. https://www.tensorflow.org/guide/low_level_intro <br />\n",
        "7. https://github.com/ageron/handson-ml/blob/master/09_up_and_running_with_tensorflow.ipynb?fbclid=IwAR3ONq_3VzaJ6bw_tdnu2Z-YNRe6cY7lmuZpyQxjbwW-CkAuc6LKDl0V36w <br />\n",
        "8. https://github.com/IshrakHasin/House-price/tree/master <br />\n",
        "9. https://medium.com/@_NicT_/my-first-kaggle-791e57cd5737 <br />\n",
        "10. https://medium.com/@shantanusingh_71633/regression-in-neural-networks-using-tensorflow-low-level-apis-818b8bb7b433 <br />\n",
        "11. https://www.analyticsvidhya.com/blog/2016/02/complete-guide-parameter-tuning-gradient-boosting-gbm-python/ <br />\n",
        "12. https://nycdatascience.com/blog/student-works/predictive-modeling-on-house-prices-ames-iowa/ <br />\n",
        "13. https://github.com/AdalbertoCq/Deep-Learning-Specialization-Coursera/blob/master/Neural%20Networks%20and%20Deep%20Learning/week4/deep_neural_network.py <br />"
      ]
    }
  ]
}