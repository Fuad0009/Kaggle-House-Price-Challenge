{
  "nbformat": 4,
  "nbformat_minor": 0,
  "metadata": {
    "colab": {
      "name": "Kaggle_House_Price_Neural_Network.ipynb",
      "version": "0.3.2",
      "provenance": [],
      "collapsed_sections": []
    },
    "kernelspec": {
      "name": "python3",
      "display_name": "Python 3"
    }
  },
  "cells": [
    {
      "metadata": {
        "id": "-Q0h8zsjYwRk",
        "colab_type": "text"
      },
      "cell_type": "markdown",
      "source": [
        "#Table of Contents \n",
        "01. Abstract\n",
        "02. Exploring the data and Feature Engineering \n",
        "03. Numeric Features Engineering\n",
        "04. Handling Null values\n",
        "05. Non-numeric Features\n",
        "06. Feature Engineering\n",
        "07. Missing Values\n",
        "08. Model Building\n",
        ">8.1 Linear Regression using scikit learn <br /> \n",
        "8.2 Improving the model <br /> \n",
        "8.3 Result Submission <br /> \n",
        "09. Deep Neural Network using Tensorflow\n",
        "> 9.1 Processing for Neural Network<br />\n",
        ">9.2 The Model<br />\n",
        ">9.3 Weights and Bias<br />\n",
        ">9.4 Activation function<br />\n",
        ">9.5 Loss function<br />\n",
        ">9.6 Regularization<br />\n",
        ">9.7 Model Optimizers<br />\n",
        ">9.8 Graph and Session<br />\n",
        ">9.9 Result Submission\n",
        "10. References\n",
        "\n",
        "\n",
        "\n",
        "\n",
        "\n",
        "\n",
        "\n"
      ]
    },
    {
      "metadata": {
        "id": "dV2n89RAnNug",
        "colab_type": "text"
      },
      "cell_type": "markdown",
      "source": [
        "#01. Abstract\n",
        "\n",
        "---\n",
        "In this assignment an attempt was made to clean the data, analyze it and fitted it to a regression model and tried to predict the outcome. First the data was acquired and and environment was created for working on the data. On the next step the data was explored and featured engineered. The we worked with the numerical feature and used corelation feature to determine the most related featues to work on. Then after dealing with the non-numerical features the model was built and implemented. At last the rmse error was calculated.\n"
      ]
    },
    {
      "metadata": {
        "id": "5Z2az4iwtIeE",
        "colab_type": "code",
        "colab": {}
      },
      "cell_type": "code",
      "source": [
        "from __future__ import absolute_import\n",
        "from __future__ import division\n",
        "from __future__ import print_function\n",
        "\n",
        "import itertools\n",
        "import pandas as pd\n",
        "import numpy as np\n",
        "import tensorflow as tf\n",
        "import matplotlib\n",
        "import matplotlib.pyplot as plt\n",
        "from sklearn import preprocessing\n",
        "from sklearn.model_selection import train_test_split\n",
        "from sklearn.preprocessing import Imputer\n",
        "from sklearn.preprocessing import scale\n",
        "from sklearn.preprocessing import StandardScaler\n",
        "from sklearn.metrics import mean_squared_error\n",
        "from sklearn import linear_model\n",
        "from sklearn.linear_model import LinearRegression\n"
      ],
      "execution_count": 0,
      "outputs": []
    },
    {
      "metadata": {
        "id": "oIVImTz-pJz7",
        "colab_type": "code",
        "colab": {}
      },
      "cell_type": "code",
      "source": [
        "train = pd.read_csv(\"train.csv\")\n",
        "test = pd.read_csv(\"test.csv\")"
      ],
      "execution_count": 0,
      "outputs": []
    },
    {
      "metadata": {
        "id": "B_gGgZqrtY4N",
        "colab_type": "code",
        "colab": {}
      },
      "cell_type": "code",
      "source": [
        "train_ID = train['Id']\n",
        "test_ID = test['Id']"
      ],
      "execution_count": 0,
      "outputs": []
    },
    {
      "metadata": {
        "id": "-VsOaVpft0dD",
        "colab_type": "text"
      },
      "cell_type": "markdown",
      "source": [
        "Here all the tools and libraries necessary were imported. Pandas is used to read a CSV file. \"pd.read_csv\" method is used to create a dataframe from a csv file.\n"
      ]
    },
    {
      "metadata": {
        "id": "vWuhsaYtkHog",
        "colab_type": "text"
      },
      "cell_type": "markdown",
      "source": [
        "Now to check the data we can write"
      ]
    },
    {
      "metadata": {
        "id": "PwnrhahVkMm7",
        "colab_type": "code",
        "outputId": "09652838-6390-4465-adfa-68d1dbfd51fb",
        "colab": {
          "base_uri": "https://localhost:8080/",
          "height": 51
        }
      },
      "cell_type": "code",
      "source": [
        "print (\"Train data shape:\", train.shape)\n",
        "print (\"Test data shape:\", test.shape)"
      ],
      "execution_count": 0,
      "outputs": [
        {
          "output_type": "stream",
          "text": [
            "Train data shape: (1460, 81)\n",
            "Test data shape: (1459, 80)\n"
          ],
          "name": "stdout"
        }
      ]
    },
    {
      "metadata": {
        "id": "4plDdPqo0KPk",
        "colab_type": "text"
      },
      "cell_type": "markdown",
      "source": [
        "We can see that train has 81 columns and test has 80 columns. Test data having only 80 columns is due to test data not including final sales price information. We can inspect a few rows using the train.head() meathod.\n",
        "\n"
      ]
    },
    {
      "metadata": {
        "id": "DHWAx4ocvh-f",
        "colab_type": "code",
        "outputId": "18a04861-3be1-461c-ad62-0b28be2a6250",
        "colab": {
          "base_uri": "https://localhost:8080/",
          "height": 253
        }
      },
      "cell_type": "code",
      "source": [
        "train.head()"
      ],
      "execution_count": 0,
      "outputs": [
        {
          "output_type": "execute_result",
          "data": {
            "text/html": [
              "<div>\n",
              "<style scoped>\n",
              "    .dataframe tbody tr th:only-of-type {\n",
              "        vertical-align: middle;\n",
              "    }\n",
              "\n",
              "    .dataframe tbody tr th {\n",
              "        vertical-align: top;\n",
              "    }\n",
              "\n",
              "    .dataframe thead th {\n",
              "        text-align: right;\n",
              "    }\n",
              "</style>\n",
              "<table border=\"1\" class=\"dataframe\">\n",
              "  <thead>\n",
              "    <tr style=\"text-align: right;\">\n",
              "      <th></th>\n",
              "      <th>Id</th>\n",
              "      <th>MSSubClass</th>\n",
              "      <th>MSZoning</th>\n",
              "      <th>LotFrontage</th>\n",
              "      <th>LotArea</th>\n",
              "      <th>Street</th>\n",
              "      <th>Alley</th>\n",
              "      <th>LotShape</th>\n",
              "      <th>LandContour</th>\n",
              "      <th>Utilities</th>\n",
              "      <th>...</th>\n",
              "      <th>PoolArea</th>\n",
              "      <th>PoolQC</th>\n",
              "      <th>Fence</th>\n",
              "      <th>MiscFeature</th>\n",
              "      <th>MiscVal</th>\n",
              "      <th>MoSold</th>\n",
              "      <th>YrSold</th>\n",
              "      <th>SaleType</th>\n",
              "      <th>SaleCondition</th>\n",
              "      <th>SalePrice</th>\n",
              "    </tr>\n",
              "  </thead>\n",
              "  <tbody>\n",
              "    <tr>\n",
              "      <th>0</th>\n",
              "      <td>1</td>\n",
              "      <td>60</td>\n",
              "      <td>RL</td>\n",
              "      <td>65.0</td>\n",
              "      <td>8450</td>\n",
              "      <td>Pave</td>\n",
              "      <td>NaN</td>\n",
              "      <td>Reg</td>\n",
              "      <td>Lvl</td>\n",
              "      <td>AllPub</td>\n",
              "      <td>...</td>\n",
              "      <td>0</td>\n",
              "      <td>NaN</td>\n",
              "      <td>NaN</td>\n",
              "      <td>NaN</td>\n",
              "      <td>0</td>\n",
              "      <td>2</td>\n",
              "      <td>2008</td>\n",
              "      <td>WD</td>\n",
              "      <td>Normal</td>\n",
              "      <td>208500</td>\n",
              "    </tr>\n",
              "    <tr>\n",
              "      <th>1</th>\n",
              "      <td>2</td>\n",
              "      <td>20</td>\n",
              "      <td>RL</td>\n",
              "      <td>80.0</td>\n",
              "      <td>9600</td>\n",
              "      <td>Pave</td>\n",
              "      <td>NaN</td>\n",
              "      <td>Reg</td>\n",
              "      <td>Lvl</td>\n",
              "      <td>AllPub</td>\n",
              "      <td>...</td>\n",
              "      <td>0</td>\n",
              "      <td>NaN</td>\n",
              "      <td>NaN</td>\n",
              "      <td>NaN</td>\n",
              "      <td>0</td>\n",
              "      <td>5</td>\n",
              "      <td>2007</td>\n",
              "      <td>WD</td>\n",
              "      <td>Normal</td>\n",
              "      <td>181500</td>\n",
              "    </tr>\n",
              "    <tr>\n",
              "      <th>2</th>\n",
              "      <td>3</td>\n",
              "      <td>60</td>\n",
              "      <td>RL</td>\n",
              "      <td>68.0</td>\n",
              "      <td>11250</td>\n",
              "      <td>Pave</td>\n",
              "      <td>NaN</td>\n",
              "      <td>IR1</td>\n",
              "      <td>Lvl</td>\n",
              "      <td>AllPub</td>\n",
              "      <td>...</td>\n",
              "      <td>0</td>\n",
              "      <td>NaN</td>\n",
              "      <td>NaN</td>\n",
              "      <td>NaN</td>\n",
              "      <td>0</td>\n",
              "      <td>9</td>\n",
              "      <td>2008</td>\n",
              "      <td>WD</td>\n",
              "      <td>Normal</td>\n",
              "      <td>223500</td>\n",
              "    </tr>\n",
              "    <tr>\n",
              "      <th>3</th>\n",
              "      <td>4</td>\n",
              "      <td>70</td>\n",
              "      <td>RL</td>\n",
              "      <td>60.0</td>\n",
              "      <td>9550</td>\n",
              "      <td>Pave</td>\n",
              "      <td>NaN</td>\n",
              "      <td>IR1</td>\n",
              "      <td>Lvl</td>\n",
              "      <td>AllPub</td>\n",
              "      <td>...</td>\n",
              "      <td>0</td>\n",
              "      <td>NaN</td>\n",
              "      <td>NaN</td>\n",
              "      <td>NaN</td>\n",
              "      <td>0</td>\n",
              "      <td>2</td>\n",
              "      <td>2006</td>\n",
              "      <td>WD</td>\n",
              "      <td>Abnorml</td>\n",
              "      <td>140000</td>\n",
              "    </tr>\n",
              "    <tr>\n",
              "      <th>4</th>\n",
              "      <td>5</td>\n",
              "      <td>60</td>\n",
              "      <td>RL</td>\n",
              "      <td>84.0</td>\n",
              "      <td>14260</td>\n",
              "      <td>Pave</td>\n",
              "      <td>NaN</td>\n",
              "      <td>IR1</td>\n",
              "      <td>Lvl</td>\n",
              "      <td>AllPub</td>\n",
              "      <td>...</td>\n",
              "      <td>0</td>\n",
              "      <td>NaN</td>\n",
              "      <td>NaN</td>\n",
              "      <td>NaN</td>\n",
              "      <td>0</td>\n",
              "      <td>12</td>\n",
              "      <td>2008</td>\n",
              "      <td>WD</td>\n",
              "      <td>Normal</td>\n",
              "      <td>250000</td>\n",
              "    </tr>\n",
              "  </tbody>\n",
              "</table>\n",
              "<p>5 rows × 81 columns</p>\n",
              "</div>"
            ],
            "text/plain": [
              "   Id  MSSubClass MSZoning  LotFrontage  LotArea Street Alley LotShape  \\\n",
              "0   1          60       RL         65.0     8450   Pave   NaN      Reg   \n",
              "1   2          20       RL         80.0     9600   Pave   NaN      Reg   \n",
              "2   3          60       RL         68.0    11250   Pave   NaN      IR1   \n",
              "3   4          70       RL         60.0     9550   Pave   NaN      IR1   \n",
              "4   5          60       RL         84.0    14260   Pave   NaN      IR1   \n",
              "\n",
              "  LandContour Utilities    ...     PoolArea PoolQC Fence MiscFeature MiscVal  \\\n",
              "0         Lvl    AllPub    ...            0    NaN   NaN         NaN       0   \n",
              "1         Lvl    AllPub    ...            0    NaN   NaN         NaN       0   \n",
              "2         Lvl    AllPub    ...            0    NaN   NaN         NaN       0   \n",
              "3         Lvl    AllPub    ...            0    NaN   NaN         NaN       0   \n",
              "4         Lvl    AllPub    ...            0    NaN   NaN         NaN       0   \n",
              "\n",
              "  MoSold YrSold  SaleType  SaleCondition  SalePrice  \n",
              "0      2   2008        WD         Normal     208500  \n",
              "1      5   2007        WD         Normal     181500  \n",
              "2      9   2008        WD         Normal     223500  \n",
              "3      2   2006        WD        Abnorml     140000  \n",
              "4     12   2008        WD         Normal     250000  \n",
              "\n",
              "[5 rows x 81 columns]"
            ]
          },
          "metadata": {
            "tags": []
          },
          "execution_count": 54
        }
      ]
    },
    {
      "metadata": {
        "id": "_fYSclTfvjXU",
        "colab_type": "text"
      },
      "cell_type": "markdown",
      "source": [
        "We will use Matplotlib to plot our data so that we can visualize the data to understand the distribution of data, checking outilers and percept othrer patterns. "
      ]
    },
    {
      "metadata": {
        "id": "Ycu5jT6rxDrk",
        "colab_type": "text"
      },
      "cell_type": "markdown",
      "source": [
        "#02. Exploring the data and Feature Engineering"
      ]
    },
    {
      "metadata": {
        "id": "dNTComHpxO3L",
        "colab_type": "text"
      },
      "cell_type": "markdown",
      "source": [
        "The target of Kaggle Houseprice is to predict the final sale price of the house. This is stored in the SalePrice column. We can use Series.describe() to get more information about the data. "
      ]
    },
    {
      "metadata": {
        "id": "9L-E3wiixulk",
        "colab_type": "code",
        "outputId": "a143e213-0510-44bf-8d1a-dec19eb9d825",
        "colab": {
          "base_uri": "https://localhost:8080/",
          "height": 170
        }
      },
      "cell_type": "code",
      "source": [
        "train.SalePrice.describe()"
      ],
      "execution_count": 0,
      "outputs": [
        {
          "output_type": "execute_result",
          "data": {
            "text/plain": [
              "count      1460.000000\n",
              "mean     180921.195890\n",
              "std       79442.502883\n",
              "min       34900.000000\n",
              "25%      129975.000000\n",
              "50%      163000.000000\n",
              "75%      214000.000000\n",
              "max      755000.000000\n",
              "Name: SalePrice, dtype: float64"
            ]
          },
          "metadata": {
            "tags": []
          },
          "execution_count": 55
        }
      ]
    },
    {
      "metadata": {
        "id": "M8IVEo8sxxON",
        "colab_type": "text"
      },
      "cell_type": "markdown",
      "source": [
        "I used describe method on SalePrice column to get more information about the SalePrice of house. This gives me the mean, std, mean, max. We can see that the average is around $180000. Now we will check for skewness in the distribution. Skewness is a measure of the shape of the distributed values. When working with regression we need to log transform the data to improve the linearity of the data. We will first log transform the data so when we get our result it will also be in log transformed state so we will need to revert them back to their original values by undoing log transformation. np. log() will transform our value and np.exp() will revert them back to their original format. "
      ]
    },
    {
      "metadata": {
        "id": "UV7AfFh-pY0D",
        "colab_type": "text"
      },
      "cell_type": "markdown",
      "source": [
        "Now we will use plt.hist() to plot the histogram of SalePrice and measure the skewness with SalePrice.skew() "
      ]
    },
    {
      "metadata": {
        "id": "FBvKR_8xqBkH",
        "colab_type": "code",
        "outputId": "e0f8b5ab-32f3-4e27-e089-3b83c44ec411",
        "colab": {
          "base_uri": "https://localhost:8080/",
          "height": 364
        }
      },
      "cell_type": "code",
      "source": [
        "print (\"Skew is:\", train.SalePrice.skew())\n",
        "plt.hist(train.SalePrice, color='blue')\n",
        "plt.show()"
      ],
      "execution_count": 0,
      "outputs": [
        {
          "output_type": "stream",
          "text": [
            "Skew is: 1.8828757597682129\n"
          ],
          "name": "stdout"
        },
        {
          "output_type": "display_data",
          "data": {
            "image/png": "[encoded data removed]",
            "text/plain": [
              "<Figure size 576x396 with 1 Axes>"
            ]
          },
          "metadata": {
            "tags": []
          }
        }
      ]
    },
    {
      "metadata": {
        "id": "iQ5yUYhRq9TF",
        "colab_type": "text"
      },
      "cell_type": "markdown",
      "source": [
        "Skew is: 1.88287575977"
      ]
    },
    {
      "metadata": {
        "id": "JQFYo7HLqCfo",
        "colab_type": "text"
      },
      "cell_type": "markdown",
      "source": [
        "We can see that the distribution is positively skewed as the tail is longer on the right. Now we will transform the data using np.log() , recalculate the skewness replot the data. If the value becomes closer to 0 that will mean the the data is resembling a normal distribution.  "
      ]
    },
    {
      "metadata": {
        "id": "gIKB0qSurFE5",
        "colab_type": "code",
        "outputId": "7d5591eb-de2f-4c61-b246-175c3e40fe14",
        "colab": {
          "base_uri": "https://localhost:8080/",
          "height": 364
        }
      },
      "cell_type": "code",
      "source": [
        "target = np.log(train.SalePrice)\n",
        "print (\"Skew is:\", target.skew())\n",
        "plt.hist(target, color='blue')\n",
        "plt.show()"
      ],
      "execution_count": 0,
      "outputs": [
        {
          "output_type": "stream",
          "text": [
            "Skew is: 0.12133506220520406\n"
          ],
          "name": "stdout"
        },
        {
          "output_type": "display_data",
          "data": {
            "image/png": "[encoded data removed]",
            "text/plain": [
              "<Figure size 576x396 with 1 Axes>"
            ]
          },
          "metadata": {
            "tags": []
          }
        }
      ]
    },
    {
      "metadata": {
        "id": "dnwIJqDQrK3i",
        "colab_type": "text"
      },
      "cell_type": "markdown",
      "source": [
        "Skew is: 0.121335062205"
      ]
    },
    {
      "metadata": {
        "id": "6uoEyTDhrTAU",
        "colab_type": "text"
      },
      "cell_type": "markdown",
      "source": [
        "As we have finished transforming our target varibles now we will move onto working with the features. "
      ]
    },
    {
      "metadata": {
        "id": "D4dDpXEztM3E",
        "colab_type": "text"
      },
      "cell_type": "markdown",
      "source": [
        "#03. Numeric Features Engineering"
      ]
    },
    {
      "metadata": {
        "id": "3upZoVCdtV8w",
        "colab_type": "text"
      },
      "cell_type": "markdown",
      "source": [
        "We will use .select_dtypes() method to see which columns have what type of values."
      ]
    },
    {
      "metadata": {
        "id": "TARRwDPJtsxL",
        "colab_type": "code",
        "outputId": "d6d71e00-6828-4d5e-9ccf-ce4ad3fc525f",
        "colab": {
          "base_uri": "https://localhost:8080/",
          "height": 680
        }
      },
      "cell_type": "code",
      "source": [
        "numeric_features = train.select_dtypes(include=[np.number])\n",
        "numeric_features.dtypes"
      ],
      "execution_count": 0,
      "outputs": [
        {
          "output_type": "execute_result",
          "data": {
            "text/plain": [
              "Id                 int64\n",
              "MSSubClass         int64\n",
              "LotFrontage      float64\n",
              "LotArea            int64\n",
              "OverallQual        int64\n",
              "OverallCond        int64\n",
              "YearBuilt          int64\n",
              "YearRemodAdd       int64\n",
              "MasVnrArea       float64\n",
              "BsmtFinSF1         int64\n",
              "BsmtFinSF2         int64\n",
              "BsmtUnfSF          int64\n",
              "TotalBsmtSF        int64\n",
              "1stFlrSF           int64\n",
              "2ndFlrSF           int64\n",
              "LowQualFinSF       int64\n",
              "GrLivArea          int64\n",
              "BsmtFullBath       int64\n",
              "BsmtHalfBath       int64\n",
              "FullBath           int64\n",
              "HalfBath           int64\n",
              "BedroomAbvGr       int64\n",
              "KitchenAbvGr       int64\n",
              "TotRmsAbvGrd       int64\n",
              "Fireplaces         int64\n",
              "GarageYrBlt      float64\n",
              "GarageCars         int64\n",
              "GarageArea         int64\n",
              "WoodDeckSF         int64\n",
              "OpenPorchSF        int64\n",
              "EnclosedPorch      int64\n",
              "3SsnPorch          int64\n",
              "ScreenPorch        int64\n",
              "PoolArea           int64\n",
              "MiscVal            int64\n",
              "MoSold             int64\n",
              "YrSold             int64\n",
              "SalePrice          int64\n",
              "dtype: object"
            ]
          },
          "metadata": {
            "tags": []
          },
          "execution_count": 58
        }
      ]
    },
    {
      "metadata": {
        "id": "MtckLoWCtu74",
        "colab_type": "text"
      },
      "cell_type": "markdown",
      "source": [
        "Now we will use .corr() method to see the correaltion between the features and the target. "
      ]
    },
    {
      "metadata": {
        "id": "hH-ZE3k_ud5e",
        "colab_type": "code",
        "outputId": "1728c5de-71e1-4164-a759-23456eb6f7e3",
        "colab": {
          "base_uri": "https://localhost:8080/",
          "height": 238
        }
      },
      "cell_type": "code",
      "source": [
        "corr = numeric_features.corr()\n",
        "\n",
        "print (corr['SalePrice'].sort_values(ascending=False)[:5], '\\n')\n",
        "print (corr['SalePrice'].sort_values(ascending=False)[-5:])"
      ],
      "execution_count": 0,
      "outputs": [
        {
          "output_type": "stream",
          "text": [
            "SalePrice      1.000000\n",
            "OverallQual    0.790982\n",
            "GrLivArea      0.708624\n",
            "GarageCars     0.640409\n",
            "GarageArea     0.623431\n",
            "Name: SalePrice, dtype: float64 \n",
            "\n",
            "YrSold          -0.028923\n",
            "OverallCond     -0.077856\n",
            "MSSubClass      -0.084284\n",
            "EnclosedPorch   -0.128578\n",
            "KitchenAbvGr    -0.135907\n",
            "Name: SalePrice, dtype: float64\n"
          ],
          "name": "stdout"
        }
      ]
    },
    {
      "metadata": {
        "id": "t56u_FnAuiaJ",
        "colab_type": "text"
      },
      "cell_type": "markdown",
      "source": [
        "The first five features are the most positively correlated with SalePrice and the negative valued features are the least correlated.\n"
      ]
    },
    {
      "metadata": {
        "id": "9KQTconvvCAo",
        "colab_type": "text"
      },
      "cell_type": "markdown",
      "source": [
        "Now we will start working with OverallQual as it most positively correlated with SalePrice. We will use .unique() method to get the unique values. "
      ]
    },
    {
      "metadata": {
        "id": "_d_chi_BvRVG",
        "colab_type": "code",
        "outputId": "bf5e51c1-750d-46d8-a7ab-150316d6e20e",
        "colab": {
          "base_uri": "https://localhost:8080/",
          "height": 34
        }
      },
      "cell_type": "code",
      "source": [
        "train.OverallQual.unique()"
      ],
      "execution_count": 0,
      "outputs": [
        {
          "output_type": "execute_result",
          "data": {
            "text/plain": [
              "array([ 7,  6,  8,  5,  9,  4, 10,  3,  1,  2])"
            ]
          },
          "metadata": {
            "tags": []
          },
          "execution_count": 60
        }
      ]
    },
    {
      "metadata": {
        "id": "wGf2ZkALvW-Y",
        "colab_type": "text"
      },
      "cell_type": "markdown",
      "source": [
        "We can see that OverallQual values are integers in the range of 1 to 10. Now we will create a pivot table to inspect the relationship between OverallQual and SalePrice. We will look at the median value here. "
      ]
    },
    {
      "metadata": {
        "id": "2KDoN_qXv2ZN",
        "colab_type": "code",
        "outputId": "6e9c59b7-93dd-4cca-aa1f-f3669ee612cb",
        "colab": {
          "base_uri": "https://localhost:8080/",
          "height": 390
        }
      },
      "cell_type": "code",
      "source": [
        "quality_pivot = train.pivot_table(index='OverallQual', values='SalePrice', aggfunc=np.median)\n",
        "quality_pivot"
      ],
      "execution_count": 0,
      "outputs": [
        {
          "output_type": "execute_result",
          "data": {
            "text/html": [
              "<div>\n",
              "<style scoped>\n",
              "    .dataframe tbody tr th:only-of-type {\n",
              "        vertical-align: middle;\n",
              "    }\n",
              "\n",
              "    .dataframe tbody tr th {\n",
              "        vertical-align: top;\n",
              "    }\n",
              "\n",
              "    .dataframe thead th {\n",
              "        text-align: right;\n",
              "    }\n",
              "</style>\n",
              "<table border=\"1\" class=\"dataframe\">\n",
              "  <thead>\n",
              "    <tr style=\"text-align: right;\">\n",
              "      <th></th>\n",
              "      <th>SalePrice</th>\n",
              "    </tr>\n",
              "    <tr>\n",
              "      <th>OverallQual</th>\n",
              "      <th></th>\n",
              "    </tr>\n",
              "  </thead>\n",
              "  <tbody>\n",
              "    <tr>\n",
              "      <th>1</th>\n",
              "      <td>50150</td>\n",
              "    </tr>\n",
              "    <tr>\n",
              "      <th>2</th>\n",
              "      <td>60000</td>\n",
              "    </tr>\n",
              "    <tr>\n",
              "      <th>3</th>\n",
              "      <td>86250</td>\n",
              "    </tr>\n",
              "    <tr>\n",
              "      <th>4</th>\n",
              "      <td>108000</td>\n",
              "    </tr>\n",
              "    <tr>\n",
              "      <th>5</th>\n",
              "      <td>133000</td>\n",
              "    </tr>\n",
              "    <tr>\n",
              "      <th>6</th>\n",
              "      <td>160000</td>\n",
              "    </tr>\n",
              "    <tr>\n",
              "      <th>7</th>\n",
              "      <td>200141</td>\n",
              "    </tr>\n",
              "    <tr>\n",
              "      <th>8</th>\n",
              "      <td>269750</td>\n",
              "    </tr>\n",
              "    <tr>\n",
              "      <th>9</th>\n",
              "      <td>345000</td>\n",
              "    </tr>\n",
              "    <tr>\n",
              "      <th>10</th>\n",
              "      <td>432390</td>\n",
              "    </tr>\n",
              "  </tbody>\n",
              "</table>\n",
              "</div>"
            ],
            "text/plain": [
              "             SalePrice\n",
              "OverallQual           \n",
              "1                50150\n",
              "2                60000\n",
              "3                86250\n",
              "4               108000\n",
              "5               133000\n",
              "6               160000\n",
              "7               200141\n",
              "8               269750\n",
              "9               345000\n",
              "10              432390"
            ]
          },
          "metadata": {
            "tags": []
          },
          "execution_count": 61
        }
      ]
    },
    {
      "metadata": {
        "id": "3jZpAjK_wLex",
        "colab_type": "text"
      },
      "cell_type": "markdown",
      "source": [
        "Now we will create a barplot to visualize the result. "
      ]
    },
    {
      "metadata": {
        "id": "TJnMH0fTwQJ_",
        "colab_type": "code",
        "outputId": "b958beea-564d-4e61-8734-4e660cebb7e7",
        "colab": {
          "base_uri": "https://localhost:8080/",
          "height": 361
        }
      },
      "cell_type": "code",
      "source": [
        "quality_pivot.plot(kind='bar', color='blue')\n",
        "plt.xlabel('Overall Quality')\n",
        "plt.ylabel('Median Sale Price')\n",
        "plt.xticks(rotation=0)\n",
        "plt.show()"
      ],
      "execution_count": 0,
      "outputs": [
        {
          "output_type": "display_data",
          "data": {
            "image/png": "[encoded data removed]",
            "text/plain": [
              "<Figure size 576x396 with 1 Axes>"
            ]
          },
          "metadata": {
            "tags": []
          }
        }
      ]
    },
    {
      "metadata": {
        "id": "v27dqDplxAt_",
        "colab_type": "text"
      },
      "cell_type": "markdown",
      "source": [
        "We can see that the sales price increases as the Overall Quality increases. Now we will use plt.scatter() to generate a plot and visualize the relationship between the 2nd most positively correlated attribute and out target atrribute. This scatter plot will show us the relationship between GrLivArea and SalePrice. "
      ]
    },
    {
      "metadata": {
        "id": "MT4yBCs8zoVE",
        "colab_type": "code",
        "outputId": "98a52a1c-c6e4-433c-d554-b15055f970ef",
        "colab": {
          "base_uri": "https://localhost:8080/",
          "height": 361
        }
      },
      "cell_type": "code",
      "source": [
        "plt.scatter(x=train['GrLivArea'], y=target)\n",
        "plt.ylabel('Sale Price')\n",
        "plt.xlabel('Above grade (ground) living area square feet')\n",
        "plt.show()"
      ],
      "execution_count": 0,
      "outputs": [
        {
          "output_type": "display_data",
          "data": {
            "image/png": "[encoded data removed]",
            "text/plain": [
              "<Figure size 576x396 with 1 Axes>"
            ]
          },
          "metadata": {
            "tags": []
          }
        }
      ]
    },
    {
      "metadata": {
        "id": "VtVzXE6J01l2",
        "colab_type": "text"
      },
      "cell_type": "markdown",
      "source": [
        "We will do the same for GarageArea. "
      ]
    },
    {
      "metadata": {
        "id": "PE9sSDtW08rz",
        "colab_type": "code",
        "outputId": "b05aeaf3-2f8a-49c9-f158-0268d573e7b8",
        "colab": {
          "base_uri": "https://localhost:8080/",
          "height": 361
        }
      },
      "cell_type": "code",
      "source": [
        "plt.scatter(x=train['GarageArea'], y=target)\n",
        "plt.ylabel('Sale Price')\n",
        "plt.xlabel('Garage Area')\n",
        "plt.show()"
      ],
      "execution_count": 0,
      "outputs": [
        {
          "output_type": "display_data",
          "data": {
            "image/png": "[encoded data removed]",
            "text/plain": [
              "<Figure size 576x396 with 1 Axes>"
            ]
          },
          "metadata": {
            "tags": []
          }
        }
      ]
    },
    {
      "metadata": {
        "id": "ol9Ux2VO090s",
        "colab_type": "text"
      },
      "cell_type": "markdown",
      "source": [
        "We can see that there many homes which don't have a garage. Here we can see a few outliers as well. Outliers can affect our regression line by pulling them further away from actual line. Now we will create a new dataframe removing those outliers. "
      ]
    },
    {
      "metadata": {
        "id": "dfgx_URJ2nEw",
        "colab_type": "code",
        "colab": {}
      },
      "cell_type": "code",
      "source": [
        "train = train[train['GarageArea'] < 1200]"
      ],
      "execution_count": 0,
      "outputs": []
    },
    {
      "metadata": {
        "id": "opVa_EQy2qG2",
        "colab_type": "text"
      },
      "cell_type": "markdown",
      "source": [
        "Now we will plot it again"
      ]
    },
    {
      "metadata": {
        "id": "KIQuAxWq2sJd",
        "colab_type": "code",
        "outputId": "6c4c7f5b-defc-4463-e972-478c229ce05e",
        "colab": {
          "base_uri": "https://localhost:8080/",
          "height": 361
        }
      },
      "cell_type": "code",
      "source": [
        "plt.scatter(x=train['GarageArea'], y=np.log(train.SalePrice))\n",
        "plt.xlim(-200,1600) # This forces the same scale as before\n",
        "plt.ylabel('Sale Price')\n",
        "plt.xlabel('Garage Area')\n",
        "plt.show()"
      ],
      "execution_count": 0,
      "outputs": [
        {
          "output_type": "display_data",
          "data": {
            "image/png": "[encoded data removed]",
            "text/plain": [
              "<Figure size 576x396 with 1 Axes>"
            ]
          },
          "metadata": {
            "tags": []
          }
        }
      ]
    },
    {
      "metadata": {
        "id": "POwcl-w_2s59",
        "colab_type": "text"
      },
      "cell_type": "markdown",
      "source": [
        "#04. Handling Null Values"
      ]
    },
    {
      "metadata": {
        "id": "v7mH10wS2xiF",
        "colab_type": "text"
      },
      "cell_type": "markdown",
      "source": [
        "We will now count how many values we have in the dataset. train.isnull().sum() will give us a count of null values in each column "
      ]
    },
    {
      "metadata": {
        "id": "Yatp1T3P3Qka",
        "colab_type": "code",
        "outputId": "881b4888-8b3e-4333-826e-711185610add",
        "colab": {
          "base_uri": "https://localhost:8080/",
          "height": 855
        }
      },
      "cell_type": "code",
      "source": [
        "nulls = pd.DataFrame(train.isnull().sum().sort_values(ascending=False)[:25])\n",
        "nulls.columns = ['Null Count']\n",
        "nulls.index.name = 'Feature'\n",
        "nulls"
      ],
      "execution_count": 0,
      "outputs": [
        {
          "output_type": "execute_result",
          "data": {
            "text/html": [
              "<div>\n",
              "<style scoped>\n",
              "    .dataframe tbody tr th:only-of-type {\n",
              "        vertical-align: middle;\n",
              "    }\n",
              "\n",
              "    .dataframe tbody tr th {\n",
              "        vertical-align: top;\n",
              "    }\n",
              "\n",
              "    .dataframe thead th {\n",
              "        text-align: right;\n",
              "    }\n",
              "</style>\n",
              "<table border=\"1\" class=\"dataframe\">\n",
              "  <thead>\n",
              "    <tr style=\"text-align: right;\">\n",
              "      <th></th>\n",
              "      <th>Null Count</th>\n",
              "    </tr>\n",
              "    <tr>\n",
              "      <th>Feature</th>\n",
              "      <th></th>\n",
              "    </tr>\n",
              "  </thead>\n",
              "  <tbody>\n",
              "    <tr>\n",
              "      <th>PoolQC</th>\n",
              "      <td>1449</td>\n",
              "    </tr>\n",
              "    <tr>\n",
              "      <th>MiscFeature</th>\n",
              "      <td>1402</td>\n",
              "    </tr>\n",
              "    <tr>\n",
              "      <th>Alley</th>\n",
              "      <td>1364</td>\n",
              "    </tr>\n",
              "    <tr>\n",
              "      <th>Fence</th>\n",
              "      <td>1174</td>\n",
              "    </tr>\n",
              "    <tr>\n",
              "      <th>FireplaceQu</th>\n",
              "      <td>689</td>\n",
              "    </tr>\n",
              "    <tr>\n",
              "      <th>LotFrontage</th>\n",
              "      <td>258</td>\n",
              "    </tr>\n",
              "    <tr>\n",
              "      <th>GarageCond</th>\n",
              "      <td>81</td>\n",
              "    </tr>\n",
              "    <tr>\n",
              "      <th>GarageType</th>\n",
              "      <td>81</td>\n",
              "    </tr>\n",
              "    <tr>\n",
              "      <th>GarageYrBlt</th>\n",
              "      <td>81</td>\n",
              "    </tr>\n",
              "    <tr>\n",
              "      <th>GarageFinish</th>\n",
              "      <td>81</td>\n",
              "    </tr>\n",
              "    <tr>\n",
              "      <th>GarageQual</th>\n",
              "      <td>81</td>\n",
              "    </tr>\n",
              "    <tr>\n",
              "      <th>BsmtExposure</th>\n",
              "      <td>38</td>\n",
              "    </tr>\n",
              "    <tr>\n",
              "      <th>BsmtFinType2</th>\n",
              "      <td>38</td>\n",
              "    </tr>\n",
              "    <tr>\n",
              "      <th>BsmtFinType1</th>\n",
              "      <td>37</td>\n",
              "    </tr>\n",
              "    <tr>\n",
              "      <th>BsmtCond</th>\n",
              "      <td>37</td>\n",
              "    </tr>\n",
              "    <tr>\n",
              "      <th>BsmtQual</th>\n",
              "      <td>37</td>\n",
              "    </tr>\n",
              "    <tr>\n",
              "      <th>MasVnrArea</th>\n",
              "      <td>8</td>\n",
              "    </tr>\n",
              "    <tr>\n",
              "      <th>MasVnrType</th>\n",
              "      <td>8</td>\n",
              "    </tr>\n",
              "    <tr>\n",
              "      <th>Electrical</th>\n",
              "      <td>1</td>\n",
              "    </tr>\n",
              "    <tr>\n",
              "      <th>Utilities</th>\n",
              "      <td>0</td>\n",
              "    </tr>\n",
              "    <tr>\n",
              "      <th>YearRemodAdd</th>\n",
              "      <td>0</td>\n",
              "    </tr>\n",
              "    <tr>\n",
              "      <th>MSSubClass</th>\n",
              "      <td>0</td>\n",
              "    </tr>\n",
              "    <tr>\n",
              "      <th>Foundation</th>\n",
              "      <td>0</td>\n",
              "    </tr>\n",
              "    <tr>\n",
              "      <th>ExterCond</th>\n",
              "      <td>0</td>\n",
              "    </tr>\n",
              "    <tr>\n",
              "      <th>ExterQual</th>\n",
              "      <td>0</td>\n",
              "    </tr>\n",
              "  </tbody>\n",
              "</table>\n",
              "</div>"
            ],
            "text/plain": [
              "              Null Count\n",
              "Feature                 \n",
              "PoolQC              1449\n",
              "MiscFeature         1402\n",
              "Alley               1364\n",
              "Fence               1174\n",
              "FireplaceQu          689\n",
              "LotFrontage          258\n",
              "GarageCond            81\n",
              "GarageType            81\n",
              "GarageYrBlt           81\n",
              "GarageFinish          81\n",
              "GarageQual            81\n",
              "BsmtExposure          38\n",
              "BsmtFinType2          38\n",
              "BsmtFinType1          37\n",
              "BsmtCond              37\n",
              "BsmtQual              37\n",
              "MasVnrArea             8\n",
              "MasVnrType             8\n",
              "Electrical             1\n",
              "Utilities              0\n",
              "YearRemodAdd           0\n",
              "MSSubClass             0\n",
              "Foundation             0\n",
              "ExterCond              0\n",
              "ExterQual              0"
            ]
          },
          "metadata": {
            "tags": []
          },
          "execution_count": 67
        }
      ]
    },
    {
      "metadata": {
        "id": "w1aSCOac3ROL",
        "colab_type": "text"
      },
      "cell_type": "markdown",
      "source": [
        "The houses which don't have any pools returns value NaN in Pool Quality. Now we will look at MiscFeature column. We will use MiscFeature.unique() to get the unique values. "
      ]
    },
    {
      "metadata": {
        "id": "_SmBd4-X6seH",
        "colab_type": "code",
        "outputId": "dfcf18ad-a133-4bc6-84f2-5327708ef411",
        "colab": {
          "base_uri": "https://localhost:8080/",
          "height": 34
        }
      },
      "cell_type": "code",
      "source": [
        "print (\"Unique values are:\", train.MiscFeature.unique())"
      ],
      "execution_count": 0,
      "outputs": [
        {
          "output_type": "stream",
          "text": [
            "Unique values are: [nan 'Shed' 'Gar2' 'Othr' 'TenC']\n"
          ],
          "name": "stdout"
        }
      ]
    },
    {
      "metadata": {
        "id": "SCu1-Mj06wCe",
        "colab_type": "text"
      },
      "cell_type": "markdown",
      "source": [
        "We can use this information later."
      ]
    },
    {
      "metadata": {
        "id": "0fIReghr67eJ",
        "colab_type": "text"
      },
      "cell_type": "markdown",
      "source": [
        "#05. Non-numeric Features"
      ]
    },
    {
      "metadata": {
        "id": "YbCKWAJt7AQT",
        "colab_type": "text"
      },
      "cell_type": "markdown",
      "source": [
        "Now we will deal with the non-numeric features. "
      ]
    },
    {
      "metadata": {
        "id": "DRUcBd-P7UA8",
        "colab_type": "code",
        "outputId": "3d606f3a-75e7-4cac-ee92-f90d65a17605",
        "colab": {
          "base_uri": "https://localhost:8080/",
          "height": 222
        }
      },
      "cell_type": "code",
      "source": [
        "categoricals = train.select_dtypes(exclude=[np.number])\n",
        "categoricals.describe()"
      ],
      "execution_count": 0,
      "outputs": [
        {
          "output_type": "execute_result",
          "data": {
            "text/html": [
              "<div>\n",
              "<style scoped>\n",
              "    .dataframe tbody tr th:only-of-type {\n",
              "        vertical-align: middle;\n",
              "    }\n",
              "\n",
              "    .dataframe tbody tr th {\n",
              "        vertical-align: top;\n",
              "    }\n",
              "\n",
              "    .dataframe thead th {\n",
              "        text-align: right;\n",
              "    }\n",
              "</style>\n",
              "<table border=\"1\" class=\"dataframe\">\n",
              "  <thead>\n",
              "    <tr style=\"text-align: right;\">\n",
              "      <th></th>\n",
              "      <th>MSZoning</th>\n",
              "      <th>Street</th>\n",
              "      <th>Alley</th>\n",
              "      <th>LotShape</th>\n",
              "      <th>LandContour</th>\n",
              "      <th>Utilities</th>\n",
              "      <th>LotConfig</th>\n",
              "      <th>LandSlope</th>\n",
              "      <th>Neighborhood</th>\n",
              "      <th>Condition1</th>\n",
              "      <th>...</th>\n",
              "      <th>GarageType</th>\n",
              "      <th>GarageFinish</th>\n",
              "      <th>GarageQual</th>\n",
              "      <th>GarageCond</th>\n",
              "      <th>PavedDrive</th>\n",
              "      <th>PoolQC</th>\n",
              "      <th>Fence</th>\n",
              "      <th>MiscFeature</th>\n",
              "      <th>SaleType</th>\n",
              "      <th>SaleCondition</th>\n",
              "    </tr>\n",
              "  </thead>\n",
              "  <tbody>\n",
              "    <tr>\n",
              "      <th>count</th>\n",
              "      <td>1455</td>\n",
              "      <td>1455</td>\n",
              "      <td>91</td>\n",
              "      <td>1455</td>\n",
              "      <td>1455</td>\n",
              "      <td>1455</td>\n",
              "      <td>1455</td>\n",
              "      <td>1455</td>\n",
              "      <td>1455</td>\n",
              "      <td>1455</td>\n",
              "      <td>...</td>\n",
              "      <td>1374</td>\n",
              "      <td>1374</td>\n",
              "      <td>1374</td>\n",
              "      <td>1374</td>\n",
              "      <td>1455</td>\n",
              "      <td>6</td>\n",
              "      <td>281</td>\n",
              "      <td>53</td>\n",
              "      <td>1455</td>\n",
              "      <td>1455</td>\n",
              "    </tr>\n",
              "    <tr>\n",
              "      <th>unique</th>\n",
              "      <td>5</td>\n",
              "      <td>2</td>\n",
              "      <td>2</td>\n",
              "      <td>4</td>\n",
              "      <td>4</td>\n",
              "      <td>2</td>\n",
              "      <td>5</td>\n",
              "      <td>3</td>\n",
              "      <td>25</td>\n",
              "      <td>9</td>\n",
              "      <td>...</td>\n",
              "      <td>6</td>\n",
              "      <td>3</td>\n",
              "      <td>5</td>\n",
              "      <td>5</td>\n",
              "      <td>3</td>\n",
              "      <td>3</td>\n",
              "      <td>4</td>\n",
              "      <td>4</td>\n",
              "      <td>9</td>\n",
              "      <td>6</td>\n",
              "    </tr>\n",
              "    <tr>\n",
              "      <th>top</th>\n",
              "      <td>RL</td>\n",
              "      <td>Pave</td>\n",
              "      <td>Grvl</td>\n",
              "      <td>Reg</td>\n",
              "      <td>Lvl</td>\n",
              "      <td>AllPub</td>\n",
              "      <td>Inside</td>\n",
              "      <td>Gtl</td>\n",
              "      <td>NAmes</td>\n",
              "      <td>Norm</td>\n",
              "      <td>...</td>\n",
              "      <td>Attchd</td>\n",
              "      <td>Unf</td>\n",
              "      <td>TA</td>\n",
              "      <td>TA</td>\n",
              "      <td>Y</td>\n",
              "      <td>Fa</td>\n",
              "      <td>MnPrv</td>\n",
              "      <td>Shed</td>\n",
              "      <td>WD</td>\n",
              "      <td>Normal</td>\n",
              "    </tr>\n",
              "    <tr>\n",
              "      <th>freq</th>\n",
              "      <td>1147</td>\n",
              "      <td>1450</td>\n",
              "      <td>50</td>\n",
              "      <td>921</td>\n",
              "      <td>1309</td>\n",
              "      <td>1454</td>\n",
              "      <td>1048</td>\n",
              "      <td>1378</td>\n",
              "      <td>225</td>\n",
              "      <td>1257</td>\n",
              "      <td>...</td>\n",
              "      <td>867</td>\n",
              "      <td>605</td>\n",
              "      <td>1306</td>\n",
              "      <td>1321</td>\n",
              "      <td>1335</td>\n",
              "      <td>2</td>\n",
              "      <td>157</td>\n",
              "      <td>48</td>\n",
              "      <td>1266</td>\n",
              "      <td>1196</td>\n",
              "    </tr>\n",
              "  </tbody>\n",
              "</table>\n",
              "<p>4 rows × 43 columns</p>\n",
              "</div>"
            ],
            "text/plain": [
              "       MSZoning Street Alley LotShape LandContour Utilities LotConfig  \\\n",
              "count      1455   1455    91     1455        1455      1455      1455   \n",
              "unique        5      2     2        4           4         2         5   \n",
              "top          RL   Pave  Grvl      Reg         Lvl    AllPub    Inside   \n",
              "freq       1147   1450    50      921        1309      1454      1048   \n",
              "\n",
              "       LandSlope Neighborhood Condition1      ...      GarageType  \\\n",
              "count       1455         1455       1455      ...            1374   \n",
              "unique         3           25          9      ...               6   \n",
              "top          Gtl        NAmes       Norm      ...          Attchd   \n",
              "freq        1378          225       1257      ...             867   \n",
              "\n",
              "       GarageFinish GarageQual GarageCond PavedDrive PoolQC  Fence  \\\n",
              "count          1374       1374       1374       1455      6    281   \n",
              "unique            3          5          5          3      3      4   \n",
              "top             Unf         TA         TA          Y     Fa  MnPrv   \n",
              "freq            605       1306       1321       1335      2    157   \n",
              "\n",
              "       MiscFeature SaleType SaleCondition  \n",
              "count           53     1455          1455  \n",
              "unique           4        9             6  \n",
              "top           Shed       WD        Normal  \n",
              "freq            48     1266          1196  \n",
              "\n",
              "[4 rows x 43 columns]"
            ]
          },
          "metadata": {
            "tags": []
          },
          "execution_count": 69
        }
      ]
    },
    {
      "metadata": {
        "id": "mg4963LvZVeP",
        "colab_type": "text"
      },
      "cell_type": "markdown",
      "source": [
        "Here counts is the number of non-null values we have, unique is the number of unique values, top are the values which are most frequent and freq shows how many of that value we have. Later we will use one-hot encoding to transform these categorical values into numerical values. "
      ]
    },
    {
      "metadata": {
        "id": "JMnKNsvCjFcQ",
        "colab_type": "text"
      },
      "cell_type": "markdown",
      "source": [
        "#06. Feature Enginering"
      ]
    },
    {
      "metadata": {
        "id": "H9dSGD6_jISR",
        "colab_type": "text"
      },
      "cell_type": "markdown",
      "source": [
        "Anything we apply on train data will have to match the test data meaning that we will have to apply those changes on test data too. First we are going to work on street data which show if it is gravel or paved. "
      ]
    },
    {
      "metadata": {
        "id": "ykHyVEw7jhlm",
        "colab_type": "code",
        "outputId": "78459a17-8d42-4dc2-9a2b-2b10d88dd2f0",
        "colab": {
          "base_uri": "https://localhost:8080/",
          "height": 119
        }
      },
      "cell_type": "code",
      "source": [
        "print (\"Original: \\n\") \n",
        "print (train.Street.value_counts(), \"\\n\")"
      ],
      "execution_count": 0,
      "outputs": [
        {
          "output_type": "stream",
          "text": [
            "Original: \n",
            "\n",
            "Pave    1450\n",
            "Grvl       5\n",
            "Name: Street, dtype: int64 \n",
            "\n"
          ],
          "name": "stdout"
        }
      ]
    },
    {
      "metadata": {
        "id": "wZiMvtZEjs-U",
        "colab_type": "text"
      },
      "cell_type": "markdown",
      "source": [
        "We will one-hot encode the Pave and Grvl so that we can work with these data. "
      ]
    },
    {
      "metadata": {
        "id": "kmJXXo6LkEgx",
        "colab_type": "code",
        "colab": {}
      },
      "cell_type": "code",
      "source": [
        "train['enc_street'] = pd.get_dummies(train.Street, drop_first=True)\n",
        "test['enc_street'] = pd.get_dummies(train.Street, drop_first=True)"
      ],
      "execution_count": 0,
      "outputs": []
    },
    {
      "metadata": {
        "id": "c-QfaxwIkIHh",
        "colab_type": "code",
        "outputId": "17d40d91-06c6-4b8f-83b8-2753be72c139",
        "colab": {
          "base_uri": "https://localhost:8080/",
          "height": 102
        }
      },
      "cell_type": "code",
      "source": [
        "print ('Encoded: \\n') \n",
        "print (train.enc_street.value_counts())"
      ],
      "execution_count": 0,
      "outputs": [
        {
          "output_type": "stream",
          "text": [
            "Encoded: \n",
            "\n",
            "1    1450\n",
            "0       5\n",
            "Name: enc_street, dtype: int64\n"
          ],
          "name": "stdout"
        }
      ]
    },
    {
      "metadata": {
        "id": "csEBoqHAkQfz",
        "colab_type": "text"
      },
      "cell_type": "markdown",
      "source": [
        "Here we encoded these categorical values into boolean values so that we can work with it.  Now we will work with SaleCondition."
      ]
    },
    {
      "metadata": {
        "id": "EVu5v-UOlEEU",
        "colab_type": "code",
        "outputId": "676c3c8d-e5c0-483d-df34-e0287955de7b",
        "colab": {
          "base_uri": "https://localhost:8080/",
          "height": 361
        }
      },
      "cell_type": "code",
      "source": [
        "condition_pivot = train.pivot_table(index='SaleCondition', values='SalePrice', aggfunc=np.median)\n",
        "condition_pivot.plot(kind='bar', color='blue')\n",
        "plt.xlabel('Sale Condition')\n",
        "plt.ylabel('Median Sale Price')\n",
        "plt.xticks(rotation=0)\n",
        "plt.show()"
      ],
      "execution_count": 0,
      "outputs": [
        {
          "output_type": "display_data",
          "data": {
            "image/png": "[encoded data removed]",
            "text/plain": [
              "<Figure size 576x396 with 1 Axes>"
            ]
          },
          "metadata": {
            "tags": []
          }
        }
      ]
    },
    {
      "metadata": {
        "id": "UU0aE-yolZYX",
        "colab_type": "text"
      },
      "cell_type": "markdown",
      "source": [
        "Here the partial has a higher median sale price than others. We will assign 1 to all houses which is partial otherwise 0. "
      ]
    },
    {
      "metadata": {
        "id": "dTmbUJuXns6z",
        "colab_type": "code",
        "colab": {}
      },
      "cell_type": "code",
      "source": [
        "def encode(x): return 1 if x == 'Partial' else 0\n",
        "train['enc_condition'] = train.SaleCondition.apply(encode)\n",
        "test['enc_condition'] = test.SaleCondition.apply(encode)"
      ],
      "execution_count": 0,
      "outputs": []
    },
    {
      "metadata": {
        "id": "9bz8Tjgwnv1s",
        "colab_type": "text"
      },
      "cell_type": "markdown",
      "source": [
        "Now we wil plot it."
      ]
    },
    {
      "metadata": {
        "id": "BWhDOT_-nyWs",
        "colab_type": "code",
        "outputId": "515bf2f0-7a81-4054-e1d0-cab0d6063812",
        "colab": {
          "base_uri": "https://localhost:8080/",
          "height": 361
        }
      },
      "cell_type": "code",
      "source": [
        "condition_pivot = train.pivot_table(index='enc_condition', values='SalePrice', aggfunc=np.median)\n",
        "condition_pivot.plot(kind='bar', color='blue')\n",
        "plt.xlabel('Encoded Sale Condition')\n",
        "plt.ylabel('Median Sale Price')\n",
        "plt.xticks(rotation=0)\n",
        "plt.show()"
      ],
      "execution_count": 0,
      "outputs": [
        {
          "output_type": "display_data",
          "data": {
            "image/png": "[encoded data removed]",
            "text/plain": [
              "<Figure size 576x396 with 1 Axes>"
            ]
          },
          "metadata": {
            "tags": []
          }
        }
      ]
    },
    {
      "metadata": {
        "id": "EAEtkl32nzBU",
        "colab_type": "text"
      },
      "cell_type": "markdown",
      "source": [
        "#07. Missing Values"
      ]
    },
    {
      "metadata": {
        "id": "Vzmfuyz4n8Xz",
        "colab_type": "text"
      },
      "cell_type": "markdown",
      "source": [
        "We will use interpolation for the missing values. We will assign the average of that feature to te missing values. "
      ]
    },
    {
      "metadata": {
        "id": "kNCyySy2oT-M",
        "colab_type": "code",
        "colab": {}
      },
      "cell_type": "code",
      "source": [
        "data = train.select_dtypes(include=[np.number]).interpolate().dropna()\n"
      ],
      "execution_count": 0,
      "outputs": []
    },
    {
      "metadata": {
        "id": "KMFAq6dK9NAr",
        "colab_type": "code",
        "colab": {}
      },
      "cell_type": "code",
      "source": [
        "data_test = test.select_dtypes(include=[np.number]).interpolate().dropna()\n"
      ],
      "execution_count": 0,
      "outputs": []
    },
    {
      "metadata": {
        "id": "67h37RZ0oYNJ",
        "colab_type": "text"
      },
      "cell_type": "markdown",
      "source": [
        "Now we will check if all the columns have non null values. "
      ]
    },
    {
      "metadata": {
        "id": "g7N8KfA4oXuN",
        "colab_type": "code",
        "outputId": "28daad56-80cb-4f31-fb52-32377dae6a69",
        "colab": {
          "base_uri": "https://localhost:8080/",
          "height": 34
        }
      },
      "cell_type": "code",
      "source": [
        "sum(data.isnull().sum() != 0)"
      ],
      "execution_count": 0,
      "outputs": [
        {
          "output_type": "execute_result",
          "data": {
            "text/plain": [
              "0"
            ]
          },
          "metadata": {
            "tags": []
          },
          "execution_count": 78
        }
      ]
    },
    {
      "metadata": {
        "id": "lG__tHDZokYR",
        "colab_type": "text"
      },
      "cell_type": "markdown",
      "source": [
        "#08. Model Building "
      ]
    },
    {
      "metadata": {
        "id": "ObTnMjqordym",
        "colab_type": "text"
      },
      "cell_type": "markdown",
      "source": [
        "## 08.1 Linear Regression using scikit learn "
      ]
    },
    {
      "metadata": {
        "id": "UFr3QC7TpADU",
        "colab_type": "text"
      },
      "cell_type": "markdown",
      "source": [
        "y will be our target variable and x will be our feature. We will use np.log() to transform the y variables. "
      ]
    },
    {
      "metadata": {
        "id": "OQaIX090pTtN",
        "colab_type": "code",
        "colab": {}
      },
      "cell_type": "code",
      "source": [
        "y = np.log(train.SalePrice)\n",
        "X = data.drop(['SalePrice', 'Id'], axis=1)"
      ],
      "execution_count": 0,
      "outputs": []
    },
    {
      "metadata": {
        "id": "fLy7Bjk19as6",
        "colab_type": "code",
        "outputId": "cbca4f74-c9ac-44f2-c5e0-7ab4a67fe205",
        "colab": {
          "base_uri": "https://localhost:8080/",
          "height": 253
        }
      },
      "cell_type": "code",
      "source": [
        "X.head()"
      ],
      "execution_count": 0,
      "outputs": [
        {
          "output_type": "execute_result",
          "data": {
            "text/html": [
              "<div>\n",
              "<style scoped>\n",
              "    .dataframe tbody tr th:only-of-type {\n",
              "        vertical-align: middle;\n",
              "    }\n",
              "\n",
              "    .dataframe tbody tr th {\n",
              "        vertical-align: top;\n",
              "    }\n",
              "\n",
              "    .dataframe thead th {\n",
              "        text-align: right;\n",
              "    }\n",
              "</style>\n",
              "<table border=\"1\" class=\"dataframe\">\n",
              "  <thead>\n",
              "    <tr style=\"text-align: right;\">\n",
              "      <th></th>\n",
              "      <th>MSSubClass</th>\n",
              "      <th>LotFrontage</th>\n",
              "      <th>LotArea</th>\n",
              "      <th>OverallQual</th>\n",
              "      <th>OverallCond</th>\n",
              "      <th>YearBuilt</th>\n",
              "      <th>YearRemodAdd</th>\n",
              "      <th>MasVnrArea</th>\n",
              "      <th>BsmtFinSF1</th>\n",
              "      <th>BsmtFinSF2</th>\n",
              "      <th>...</th>\n",
              "      <th>OpenPorchSF</th>\n",
              "      <th>EnclosedPorch</th>\n",
              "      <th>3SsnPorch</th>\n",
              "      <th>ScreenPorch</th>\n",
              "      <th>PoolArea</th>\n",
              "      <th>MiscVal</th>\n",
              "      <th>MoSold</th>\n",
              "      <th>YrSold</th>\n",
              "      <th>enc_street</th>\n",
              "      <th>enc_condition</th>\n",
              "    </tr>\n",
              "  </thead>\n",
              "  <tbody>\n",
              "    <tr>\n",
              "      <th>0</th>\n",
              "      <td>60</td>\n",
              "      <td>65.0</td>\n",
              "      <td>8450</td>\n",
              "      <td>7</td>\n",
              "      <td>5</td>\n",
              "      <td>2003</td>\n",
              "      <td>2003</td>\n",
              "      <td>196.0</td>\n",
              "      <td>706</td>\n",
              "      <td>0</td>\n",
              "      <td>...</td>\n",
              "      <td>61</td>\n",
              "      <td>0</td>\n",
              "      <td>0</td>\n",
              "      <td>0</td>\n",
              "      <td>0</td>\n",
              "      <td>0</td>\n",
              "      <td>2</td>\n",
              "      <td>2008</td>\n",
              "      <td>1</td>\n",
              "      <td>0</td>\n",
              "    </tr>\n",
              "    <tr>\n",
              "      <th>1</th>\n",
              "      <td>20</td>\n",
              "      <td>80.0</td>\n",
              "      <td>9600</td>\n",
              "      <td>6</td>\n",
              "      <td>8</td>\n",
              "      <td>1976</td>\n",
              "      <td>1976</td>\n",
              "      <td>0.0</td>\n",
              "      <td>978</td>\n",
              "      <td>0</td>\n",
              "      <td>...</td>\n",
              "      <td>0</td>\n",
              "      <td>0</td>\n",
              "      <td>0</td>\n",
              "      <td>0</td>\n",
              "      <td>0</td>\n",
              "      <td>0</td>\n",
              "      <td>5</td>\n",
              "      <td>2007</td>\n",
              "      <td>1</td>\n",
              "      <td>0</td>\n",
              "    </tr>\n",
              "    <tr>\n",
              "      <th>2</th>\n",
              "      <td>60</td>\n",
              "      <td>68.0</td>\n",
              "      <td>11250</td>\n",
              "      <td>7</td>\n",
              "      <td>5</td>\n",
              "      <td>2001</td>\n",
              "      <td>2002</td>\n",
              "      <td>162.0</td>\n",
              "      <td>486</td>\n",
              "      <td>0</td>\n",
              "      <td>...</td>\n",
              "      <td>42</td>\n",
              "      <td>0</td>\n",
              "      <td>0</td>\n",
              "      <td>0</td>\n",
              "      <td>0</td>\n",
              "      <td>0</td>\n",
              "      <td>9</td>\n",
              "      <td>2008</td>\n",
              "      <td>1</td>\n",
              "      <td>0</td>\n",
              "    </tr>\n",
              "    <tr>\n",
              "      <th>3</th>\n",
              "      <td>70</td>\n",
              "      <td>60.0</td>\n",
              "      <td>9550</td>\n",
              "      <td>7</td>\n",
              "      <td>5</td>\n",
              "      <td>1915</td>\n",
              "      <td>1970</td>\n",
              "      <td>0.0</td>\n",
              "      <td>216</td>\n",
              "      <td>0</td>\n",
              "      <td>...</td>\n",
              "      <td>35</td>\n",
              "      <td>272</td>\n",
              "      <td>0</td>\n",
              "      <td>0</td>\n",
              "      <td>0</td>\n",
              "      <td>0</td>\n",
              "      <td>2</td>\n",
              "      <td>2006</td>\n",
              "      <td>1</td>\n",
              "      <td>0</td>\n",
              "    </tr>\n",
              "    <tr>\n",
              "      <th>4</th>\n",
              "      <td>60</td>\n",
              "      <td>84.0</td>\n",
              "      <td>14260</td>\n",
              "      <td>8</td>\n",
              "      <td>5</td>\n",
              "      <td>2000</td>\n",
              "      <td>2000</td>\n",
              "      <td>350.0</td>\n",
              "      <td>655</td>\n",
              "      <td>0</td>\n",
              "      <td>...</td>\n",
              "      <td>84</td>\n",
              "      <td>0</td>\n",
              "      <td>0</td>\n",
              "      <td>0</td>\n",
              "      <td>0</td>\n",
              "      <td>0</td>\n",
              "      <td>12</td>\n",
              "      <td>2008</td>\n",
              "      <td>1</td>\n",
              "      <td>0</td>\n",
              "    </tr>\n",
              "  </tbody>\n",
              "</table>\n",
              "<p>5 rows × 38 columns</p>\n",
              "</div>"
            ],
            "text/plain": [
              "   MSSubClass  LotFrontage  LotArea  OverallQual  OverallCond  YearBuilt  \\\n",
              "0          60         65.0     8450            7            5       2003   \n",
              "1          20         80.0     9600            6            8       1976   \n",
              "2          60         68.0    11250            7            5       2001   \n",
              "3          70         60.0     9550            7            5       1915   \n",
              "4          60         84.0    14260            8            5       2000   \n",
              "\n",
              "   YearRemodAdd  MasVnrArea  BsmtFinSF1  BsmtFinSF2      ...        \\\n",
              "0          2003       196.0         706           0      ...         \n",
              "1          1976         0.0         978           0      ...         \n",
              "2          2002       162.0         486           0      ...         \n",
              "3          1970         0.0         216           0      ...         \n",
              "4          2000       350.0         655           0      ...         \n",
              "\n",
              "   OpenPorchSF  EnclosedPorch  3SsnPorch  ScreenPorch  PoolArea  MiscVal  \\\n",
              "0           61              0          0            0         0        0   \n",
              "1            0              0          0            0         0        0   \n",
              "2           42              0          0            0         0        0   \n",
              "3           35            272          0            0         0        0   \n",
              "4           84              0          0            0         0        0   \n",
              "\n",
              "   MoSold  YrSold  enc_street  enc_condition  \n",
              "0       2    2008           1              0  \n",
              "1       5    2007           1              0  \n",
              "2       9    2008           1              0  \n",
              "3       2    2006           1              0  \n",
              "4      12    2008           1              0  \n",
              "\n",
              "[5 rows x 38 columns]"
            ]
          },
          "metadata": {
            "tags": []
          },
          "execution_count": 80
        }
      ]
    },
    {
      "metadata": {
        "id": "WPKxz8mSqfV7",
        "colab_type": "text"
      },
      "cell_type": "markdown",
      "source": [
        "We will now use train_test_split() to split the data into training set and test set"
      ]
    },
    {
      "metadata": {
        "id": "HUMtoZPw9iMc",
        "colab_type": "code",
        "colab": {}
      },
      "cell_type": "code",
      "source": [
        "data_test= data_test.drop(['Id'], axis=1)"
      ],
      "execution_count": 0,
      "outputs": []
    },
    {
      "metadata": {
        "id": "0yiGDBNw9_O2",
        "colab_type": "code",
        "outputId": "4c30fa78-c7db-4baa-abd0-71c0211086a1",
        "colab": {
          "base_uri": "https://localhost:8080/",
          "height": 253
        }
      },
      "cell_type": "code",
      "source": [
        "data_test.head()"
      ],
      "execution_count": 0,
      "outputs": [
        {
          "output_type": "execute_result",
          "data": {
            "text/html": [
              "<div>\n",
              "<style scoped>\n",
              "    .dataframe tbody tr th:only-of-type {\n",
              "        vertical-align: middle;\n",
              "    }\n",
              "\n",
              "    .dataframe tbody tr th {\n",
              "        vertical-align: top;\n",
              "    }\n",
              "\n",
              "    .dataframe thead th {\n",
              "        text-align: right;\n",
              "    }\n",
              "</style>\n",
              "<table border=\"1\" class=\"dataframe\">\n",
              "  <thead>\n",
              "    <tr style=\"text-align: right;\">\n",
              "      <th></th>\n",
              "      <th>MSSubClass</th>\n",
              "      <th>LotFrontage</th>\n",
              "      <th>LotArea</th>\n",
              "      <th>OverallQual</th>\n",
              "      <th>OverallCond</th>\n",
              "      <th>YearBuilt</th>\n",
              "      <th>YearRemodAdd</th>\n",
              "      <th>MasVnrArea</th>\n",
              "      <th>BsmtFinSF1</th>\n",
              "      <th>BsmtFinSF2</th>\n",
              "      <th>...</th>\n",
              "      <th>OpenPorchSF</th>\n",
              "      <th>EnclosedPorch</th>\n",
              "      <th>3SsnPorch</th>\n",
              "      <th>ScreenPorch</th>\n",
              "      <th>PoolArea</th>\n",
              "      <th>MiscVal</th>\n",
              "      <th>MoSold</th>\n",
              "      <th>YrSold</th>\n",
              "      <th>enc_street</th>\n",
              "      <th>enc_condition</th>\n",
              "    </tr>\n",
              "  </thead>\n",
              "  <tbody>\n",
              "    <tr>\n",
              "      <th>0</th>\n",
              "      <td>20</td>\n",
              "      <td>80.0</td>\n",
              "      <td>11622</td>\n",
              "      <td>5</td>\n",
              "      <td>6</td>\n",
              "      <td>1961</td>\n",
              "      <td>1961</td>\n",
              "      <td>0.0</td>\n",
              "      <td>468.0</td>\n",
              "      <td>144.0</td>\n",
              "      <td>...</td>\n",
              "      <td>0</td>\n",
              "      <td>0</td>\n",
              "      <td>0</td>\n",
              "      <td>120</td>\n",
              "      <td>0</td>\n",
              "      <td>0</td>\n",
              "      <td>6</td>\n",
              "      <td>2010</td>\n",
              "      <td>1.0</td>\n",
              "      <td>0</td>\n",
              "    </tr>\n",
              "    <tr>\n",
              "      <th>1</th>\n",
              "      <td>20</td>\n",
              "      <td>81.0</td>\n",
              "      <td>14267</td>\n",
              "      <td>6</td>\n",
              "      <td>6</td>\n",
              "      <td>1958</td>\n",
              "      <td>1958</td>\n",
              "      <td>108.0</td>\n",
              "      <td>923.0</td>\n",
              "      <td>0.0</td>\n",
              "      <td>...</td>\n",
              "      <td>36</td>\n",
              "      <td>0</td>\n",
              "      <td>0</td>\n",
              "      <td>0</td>\n",
              "      <td>0</td>\n",
              "      <td>12500</td>\n",
              "      <td>6</td>\n",
              "      <td>2010</td>\n",
              "      <td>1.0</td>\n",
              "      <td>0</td>\n",
              "    </tr>\n",
              "    <tr>\n",
              "      <th>2</th>\n",
              "      <td>60</td>\n",
              "      <td>74.0</td>\n",
              "      <td>13830</td>\n",
              "      <td>5</td>\n",
              "      <td>5</td>\n",
              "      <td>1997</td>\n",
              "      <td>1998</td>\n",
              "      <td>0.0</td>\n",
              "      <td>791.0</td>\n",
              "      <td>0.0</td>\n",
              "      <td>...</td>\n",
              "      <td>34</td>\n",
              "      <td>0</td>\n",
              "      <td>0</td>\n",
              "      <td>0</td>\n",
              "      <td>0</td>\n",
              "      <td>0</td>\n",
              "      <td>3</td>\n",
              "      <td>2010</td>\n",
              "      <td>1.0</td>\n",
              "      <td>0</td>\n",
              "    </tr>\n",
              "    <tr>\n",
              "      <th>3</th>\n",
              "      <td>60</td>\n",
              "      <td>78.0</td>\n",
              "      <td>9978</td>\n",
              "      <td>6</td>\n",
              "      <td>6</td>\n",
              "      <td>1998</td>\n",
              "      <td>1998</td>\n",
              "      <td>20.0</td>\n",
              "      <td>602.0</td>\n",
              "      <td>0.0</td>\n",
              "      <td>...</td>\n",
              "      <td>36</td>\n",
              "      <td>0</td>\n",
              "      <td>0</td>\n",
              "      <td>0</td>\n",
              "      <td>0</td>\n",
              "      <td>0</td>\n",
              "      <td>6</td>\n",
              "      <td>2010</td>\n",
              "      <td>1.0</td>\n",
              "      <td>0</td>\n",
              "    </tr>\n",
              "    <tr>\n",
              "      <th>4</th>\n",
              "      <td>120</td>\n",
              "      <td>43.0</td>\n",
              "      <td>5005</td>\n",
              "      <td>8</td>\n",
              "      <td>5</td>\n",
              "      <td>1992</td>\n",
              "      <td>1992</td>\n",
              "      <td>0.0</td>\n",
              "      <td>263.0</td>\n",
              "      <td>0.0</td>\n",
              "      <td>...</td>\n",
              "      <td>82</td>\n",
              "      <td>0</td>\n",
              "      <td>0</td>\n",
              "      <td>144</td>\n",
              "      <td>0</td>\n",
              "      <td>0</td>\n",
              "      <td>1</td>\n",
              "      <td>2010</td>\n",
              "      <td>1.0</td>\n",
              "      <td>0</td>\n",
              "    </tr>\n",
              "  </tbody>\n",
              "</table>\n",
              "<p>5 rows × 38 columns</p>\n",
              "</div>"
            ],
            "text/plain": [
              "   MSSubClass  LotFrontage  LotArea  OverallQual  OverallCond  YearBuilt  \\\n",
              "0          20         80.0    11622            5            6       1961   \n",
              "1          20         81.0    14267            6            6       1958   \n",
              "2          60         74.0    13830            5            5       1997   \n",
              "3          60         78.0     9978            6            6       1998   \n",
              "4         120         43.0     5005            8            5       1992   \n",
              "\n",
              "   YearRemodAdd  MasVnrArea  BsmtFinSF1  BsmtFinSF2      ...        \\\n",
              "0          1961         0.0       468.0       144.0      ...         \n",
              "1          1958       108.0       923.0         0.0      ...         \n",
              "2          1998         0.0       791.0         0.0      ...         \n",
              "3          1998        20.0       602.0         0.0      ...         \n",
              "4          1992         0.0       263.0         0.0      ...         \n",
              "\n",
              "   OpenPorchSF  EnclosedPorch  3SsnPorch  ScreenPorch  PoolArea  MiscVal  \\\n",
              "0            0              0          0          120         0        0   \n",
              "1           36              0          0            0         0    12500   \n",
              "2           34              0          0            0         0        0   \n",
              "3           36              0          0            0         0        0   \n",
              "4           82              0          0          144         0        0   \n",
              "\n",
              "   MoSold  YrSold  enc_street  enc_condition  \n",
              "0       6    2010         1.0              0  \n",
              "1       6    2010         1.0              0  \n",
              "2       3    2010         1.0              0  \n",
              "3       6    2010         1.0              0  \n",
              "4       1    2010         1.0              0  \n",
              "\n",
              "[5 rows x 38 columns]"
            ]
          },
          "metadata": {
            "tags": []
          },
          "execution_count": 82
        }
      ]
    },
    {
      "metadata": {
        "id": "ZIR0pHBsqhre",
        "colab_type": "code",
        "colab": {}
      },
      "cell_type": "code",
      "source": [
        "from sklearn.model_selection import train_test_split\n",
        "X_train, X_test, y_train, y_test = train_test_split(X, y, random_state=23, test_size=.20)"
      ],
      "execution_count": 0,
      "outputs": []
    },
    {
      "metadata": {
        "id": "XWzrLOr5q4GM",
        "colab_type": "text"
      },
      "cell_type": "markdown",
      "source": [
        "We will first create a LinearRegression Model and instantiate it. "
      ]
    },
    {
      "metadata": {
        "id": "LK2us6PNsXdr",
        "colab_type": "code",
        "colab": {}
      },
      "cell_type": "code",
      "source": [
        "from sklearn import linear_model\n",
        "lr = linear_model.LinearRegression()"
      ],
      "execution_count": 0,
      "outputs": []
    },
    {
      "metadata": {
        "id": "d3n8CQFsrSGE",
        "colab_type": "text"
      },
      "cell_type": "markdown",
      "source": [
        "Next we will fit the model to our test set. "
      ]
    },
    {
      "metadata": {
        "id": "9LUfer_hrq_q",
        "colab_type": "code",
        "colab": {}
      },
      "cell_type": "code",
      "source": [
        "model = lr.fit(X_train, y_train)"
      ],
      "execution_count": 0,
      "outputs": []
    },
    {
      "metadata": {
        "id": "PLFnNuszrv6b",
        "colab_type": "text"
      },
      "cell_type": "markdown",
      "source": [
        "Now we will evaluate its performance using r^2 (r-square) method. "
      ]
    },
    {
      "metadata": {
        "id": "UEU6E-ecsEXV",
        "colab_type": "code",
        "outputId": "2feba7fd-939b-41c9-fb71-f773292bf12f",
        "colab": {
          "base_uri": "https://localhost:8080/",
          "height": 51
        }
      },
      "cell_type": "code",
      "source": [
        "print (\"R^2 is: \\n\", model.score(X_test, y_test))"
      ],
      "execution_count": 0,
      "outputs": [
        {
          "output_type": "stream",
          "text": [
            "R^2 is: \n",
            " 0.9027087971573815\n"
          ],
          "name": "stdout"
        }
      ]
    },
    {
      "metadata": {
        "id": "kCt4tL0Ps_gl",
        "colab_type": "text"
      },
      "cell_type": "markdown",
      "source": [
        "Now we will consider RMSE to calculate our error. model.predict() will return a set of predictions given a set of predictors. We will feed the mean-squared-error() function to calculate the rmse."
      ]
    },
    {
      "metadata": {
        "id": "bazMU1xhtDLX",
        "colab_type": "code",
        "outputId": "ade526ed-9704-4187-850c-c9b8e911aa82",
        "colab": {
          "base_uri": "https://localhost:8080/",
          "height": 51
        }
      },
      "cell_type": "code",
      "source": [
        "predictions = model.predict(X_test)\n",
        "from sklearn.metrics import mean_squared_error\n",
        "print ('RMSE is: \\n', mean_squared_error(y_test, predictions))"
      ],
      "execution_count": 0,
      "outputs": [
        {
          "output_type": "stream",
          "text": [
            "RMSE is: \n",
            " 0.014341755341180089\n"
          ],
          "name": "stdout"
        }
      ]
    },
    {
      "metadata": {
        "id": "zTxokBO1uj8B",
        "colab_type": "text"
      },
      "cell_type": "markdown",
      "source": [
        "We can view this relationship with scatterplot"
      ]
    },
    {
      "metadata": {
        "id": "kpBZvbPKuo_l",
        "colab_type": "code",
        "outputId": "f37fa73b-46b8-473d-feae-c9776eeca4d5",
        "colab": {
          "base_uri": "https://localhost:8080/",
          "height": 376
        }
      },
      "cell_type": "code",
      "source": [
        "actual_values = y_test\n",
        "plt.scatter(predictions, actual_values, alpha=.75, color='b') #alpha helps to show overlapping data\n",
        "plt.xlabel('Predicted Price')\n",
        "plt.ylabel('Actual Price')\n",
        "plt.title('Linear Regression Model')\n",
        "plt.show()"
      ],
      "execution_count": 0,
      "outputs": [
        {
          "output_type": "display_data",
          "data": {
            "image/png": "[encoded data removed]",
            "text/plain": [
              "<Figure size 576x396 with 1 Axes>"
            ]
          },
          "metadata": {
            "tags": []
          }
        }
      ]
    },
    {
      "metadata": {
        "id": "8NbhXlFmu-CH",
        "colab_type": "text"
      },
      "cell_type": "markdown",
      "source": [
        "##08.2 Improving the model"
      ]
    },
    {
      "metadata": {
        "id": "PJpbQ1LvyrcC",
        "colab_type": "text"
      },
      "cell_type": "markdown",
      "source": [
        "We used ridge regularization to decrease the effect of less important features. We used parameter 'alpha' to control the strength of the regularization. "
      ]
    },
    {
      "metadata": {
        "id": "gxFBIbJUzWqa",
        "colab_type": "code",
        "outputId": "ddc50420-fb40-45e4-f6e6-fb1925e52f73",
        "colab": {
          "base_uri": "https://localhost:8080/",
          "height": 1837
        }
      },
      "cell_type": "code",
      "source": [
        "for i in range (-2, 3):\n",
        "    alpha = 10**i\n",
        "    rm = linear_model.Ridge(alpha=alpha)\n",
        "    ridge_model = rm.fit(X_train, y_train)\n",
        "    preds_ridge = ridge_model.predict(X_test)\n",
        "\n",
        "    plt.scatter(preds_ridge, actual_values, alpha=.75, color='b')\n",
        "    plt.xlabel('Predicted Price')\n",
        "    plt.ylabel('Actual Price')\n",
        "    plt.title('Ridge Regularization with alpha = {}'.format(alpha))\n",
        "    overlay = 'R^2 is: {}\\nRMSE is: {}'.format(\n",
        "                    ridge_model.score(X_test, y_test),\n",
        "                    mean_squared_error(y_test, preds_ridge))\n",
        "    plt.annotate(s=overlay,xy=(12.1,10.6),size='x-large')\n",
        "    plt.show()"
      ],
      "execution_count": 0,
      "outputs": [
        {
          "output_type": "display_data",
          "data": {
            "image/png": "[encoded data removed]",
            "text/plain": [
              "<Figure size 576x396 with 1 Axes>"
            ]
          },
          "metadata": {
            "tags": []
          }
        },
        {
          "output_type": "display_data",
          "data": {
            "image/png": "[encoded data removed]",
            "text/plain": [
              "<Figure size 576x396 with 1 Axes>"
            ]
          },
          "metadata": {
            "tags": []
          }
        },
        {
          "output_type": "display_data",
          "data": {
            "image/png": "[encoded data removed]",
            "text/plain": [
              "<Figure size 576x396 with 1 Axes>"
            ]
          },
          "metadata": {
            "tags": []
          }
        },
        {
          "output_type": "display_data",
          "data": {
            "image/png": "[encoded data removed]",
            "text/plain": [
              "<Figure size 576x396 with 1 Axes>"
            ]
          },
          "metadata": {
            "tags": []
          }
        },
        {
          "output_type": "display_data",
          "data": {
            "image/png": "[encoded data removed]",
            "text/plain": [
              "<Figure size 576x396 with 1 Axes>"
            ]
          },
          "metadata": {
            "tags": []
          }
        }
      ]
    },
    {
      "metadata": {
        "id": "kZBWKa3tzprE",
        "colab_type": "text"
      },
      "cell_type": "markdown",
      "source": [
        "Kaggle Submission"
      ]
    },
    {
      "metadata": {
        "id": "Y8F3-Iaez0mj",
        "colab_type": "code",
        "outputId": "1cde708d-f5bb-4f6e-f025-d87431990238",
        "colab": {
          "base_uri": "https://localhost:8080/",
          "height": 119
        }
      },
      "cell_type": "code",
      "source": [
        "submission = pd.DataFrame()\n",
        "submission['Id'] = test.Id\n",
        "feats = test.select_dtypes(include=[np.number]).drop(['Id'], axis=1).interpolate()\n",
        "predictions = model.predict(feats)\n",
        "final_predictions = np.exp(predictions)\n",
        "print (\"Original predictions are: \\n\", predictions[:5], \"\\n\")\n",
        "print (\"Final predictions are: \\n\", final_predictions[:5])\n",
        "submission['SalePrice'] = final_predictions\n",
        "submission.head()\n",
        "submission.to_csv('Kaggle_Houseprice_Linear_Regression.csv', index=False)"
      ],
      "execution_count": 0,
      "outputs": [
        {
          "output_type": "stream",
          "text": [
            "Original predictions are: \n",
            " [11.7402948  11.8591088  12.05579187 12.18155008 12.09362045] \n",
            "\n",
            "Final predictions are: \n",
            " [125529.34012351 141366.17707053 172093.26845234 195155.13437513\n",
            " 178728.01385774]\n"
          ],
          "name": "stdout"
        }
      ]
    },
    {
      "metadata": {
        "id": "548sKl9-16OU",
        "colab_type": "text"
      },
      "cell_type": "markdown",
      "source": [
        "##08.3 Submission result"
      ]
    },
    {
      "metadata": {
        "id": "NVDE16zx1--L",
        "colab_type": "text"
      },
      "cell_type": "markdown",
      "source": [
        "![alt text](https://puu.sh/CLyFy/da071dd323.png)"
      ]
    },
    {
      "metadata": {
        "id": "j5iILVDd5G4_",
        "colab_type": "text"
      },
      "cell_type": "markdown",
      "source": [
        "#09. Deep Neural Network using Tensorflow"
      ]
    },
    {
      "metadata": {
        "id": "tOx1brE_eGR4",
        "colab_type": "code",
        "outputId": "a148708e-738f-456a-c201-0aee20d518aa",
        "colab": {
          "base_uri": "https://localhost:8080/",
          "height": 253
        }
      },
      "cell_type": "code",
      "source": [
        "X_train.head()"
      ],
      "execution_count": 0,
      "outputs": [
        {
          "output_type": "execute_result",
          "data": {
            "text/html": [
              "<div>\n",
              "<style scoped>\n",
              "    .dataframe tbody tr th:only-of-type {\n",
              "        vertical-align: middle;\n",
              "    }\n",
              "\n",
              "    .dataframe tbody tr th {\n",
              "        vertical-align: top;\n",
              "    }\n",
              "\n",
              "    .dataframe thead th {\n",
              "        text-align: right;\n",
              "    }\n",
              "</style>\n",
              "<table border=\"1\" class=\"dataframe\">\n",
              "  <thead>\n",
              "    <tr style=\"text-align: right;\">\n",
              "      <th></th>\n",
              "      <th>MSSubClass</th>\n",
              "      <th>LotFrontage</th>\n",
              "      <th>LotArea</th>\n",
              "      <th>OverallQual</th>\n",
              "      <th>OverallCond</th>\n",
              "      <th>YearBuilt</th>\n",
              "      <th>YearRemodAdd</th>\n",
              "      <th>MasVnrArea</th>\n",
              "      <th>BsmtFinSF1</th>\n",
              "      <th>BsmtFinSF2</th>\n",
              "      <th>...</th>\n",
              "      <th>OpenPorchSF</th>\n",
              "      <th>EnclosedPorch</th>\n",
              "      <th>3SsnPorch</th>\n",
              "      <th>ScreenPorch</th>\n",
              "      <th>PoolArea</th>\n",
              "      <th>MiscVal</th>\n",
              "      <th>MoSold</th>\n",
              "      <th>YrSold</th>\n",
              "      <th>enc_street</th>\n",
              "      <th>enc_condition</th>\n",
              "    </tr>\n",
              "  </thead>\n",
              "  <tbody>\n",
              "    <tr>\n",
              "      <th>373</th>\n",
              "      <td>20</td>\n",
              "      <td>79.0</td>\n",
              "      <td>10634</td>\n",
              "      <td>5</td>\n",
              "      <td>6</td>\n",
              "      <td>1953</td>\n",
              "      <td>1953</td>\n",
              "      <td>0.0</td>\n",
              "      <td>428</td>\n",
              "      <td>180</td>\n",
              "      <td>...</td>\n",
              "      <td>0</td>\n",
              "      <td>0</td>\n",
              "      <td>0</td>\n",
              "      <td>0</td>\n",
              "      <td>0</td>\n",
              "      <td>0</td>\n",
              "      <td>11</td>\n",
              "      <td>2009</td>\n",
              "      <td>1</td>\n",
              "      <td>0</td>\n",
              "    </tr>\n",
              "    <tr>\n",
              "      <th>83</th>\n",
              "      <td>20</td>\n",
              "      <td>80.0</td>\n",
              "      <td>8892</td>\n",
              "      <td>5</td>\n",
              "      <td>5</td>\n",
              "      <td>1960</td>\n",
              "      <td>1960</td>\n",
              "      <td>66.0</td>\n",
              "      <td>0</td>\n",
              "      <td>0</td>\n",
              "      <td>...</td>\n",
              "      <td>0</td>\n",
              "      <td>0</td>\n",
              "      <td>0</td>\n",
              "      <td>0</td>\n",
              "      <td>0</td>\n",
              "      <td>0</td>\n",
              "      <td>7</td>\n",
              "      <td>2007</td>\n",
              "      <td>1</td>\n",
              "      <td>0</td>\n",
              "    </tr>\n",
              "    <tr>\n",
              "      <th>925</th>\n",
              "      <td>20</td>\n",
              "      <td>86.0</td>\n",
              "      <td>15611</td>\n",
              "      <td>5</td>\n",
              "      <td>6</td>\n",
              "      <td>1977</td>\n",
              "      <td>1977</td>\n",
              "      <td>0.0</td>\n",
              "      <td>767</td>\n",
              "      <td>93</td>\n",
              "      <td>...</td>\n",
              "      <td>0</td>\n",
              "      <td>0</td>\n",
              "      <td>0</td>\n",
              "      <td>0</td>\n",
              "      <td>0</td>\n",
              "      <td>0</td>\n",
              "      <td>3</td>\n",
              "      <td>2008</td>\n",
              "      <td>1</td>\n",
              "      <td>0</td>\n",
              "    </tr>\n",
              "    <tr>\n",
              "      <th>345</th>\n",
              "      <td>50</td>\n",
              "      <td>65.0</td>\n",
              "      <td>6435</td>\n",
              "      <td>6</td>\n",
              "      <td>5</td>\n",
              "      <td>1939</td>\n",
              "      <td>1950</td>\n",
              "      <td>0.0</td>\n",
              "      <td>0</td>\n",
              "      <td>0</td>\n",
              "      <td>...</td>\n",
              "      <td>0</td>\n",
              "      <td>0</td>\n",
              "      <td>0</td>\n",
              "      <td>0</td>\n",
              "      <td>0</td>\n",
              "      <td>0</td>\n",
              "      <td>10</td>\n",
              "      <td>2006</td>\n",
              "      <td>1</td>\n",
              "      <td>0</td>\n",
              "    </tr>\n",
              "    <tr>\n",
              "      <th>1233</th>\n",
              "      <td>20</td>\n",
              "      <td>62.5</td>\n",
              "      <td>12160</td>\n",
              "      <td>5</td>\n",
              "      <td>5</td>\n",
              "      <td>1959</td>\n",
              "      <td>1959</td>\n",
              "      <td>180.0</td>\n",
              "      <td>1000</td>\n",
              "      <td>0</td>\n",
              "      <td>...</td>\n",
              "      <td>0</td>\n",
              "      <td>0</td>\n",
              "      <td>0</td>\n",
              "      <td>0</td>\n",
              "      <td>0</td>\n",
              "      <td>0</td>\n",
              "      <td>5</td>\n",
              "      <td>2010</td>\n",
              "      <td>1</td>\n",
              "      <td>0</td>\n",
              "    </tr>\n",
              "  </tbody>\n",
              "</table>\n",
              "<p>5 rows × 38 columns</p>\n",
              "</div>"
            ],
            "text/plain": [
              "      MSSubClass  LotFrontage  LotArea  OverallQual  OverallCond  YearBuilt  \\\n",
              "373           20         79.0    10634            5            6       1953   \n",
              "83            20         80.0     8892            5            5       1960   \n",
              "925           20         86.0    15611            5            6       1977   \n",
              "345           50         65.0     6435            6            5       1939   \n",
              "1233          20         62.5    12160            5            5       1959   \n",
              "\n",
              "      YearRemodAdd  MasVnrArea  BsmtFinSF1  BsmtFinSF2      ...        \\\n",
              "373           1953         0.0         428         180      ...         \n",
              "83            1960        66.0           0           0      ...         \n",
              "925           1977         0.0         767          93      ...         \n",
              "345           1950         0.0           0           0      ...         \n",
              "1233          1959       180.0        1000           0      ...         \n",
              "\n",
              "      OpenPorchSF  EnclosedPorch  3SsnPorch  ScreenPorch  PoolArea  MiscVal  \\\n",
              "373             0              0          0            0         0        0   \n",
              "83              0              0          0            0         0        0   \n",
              "925             0              0          0            0         0        0   \n",
              "345             0              0          0            0         0        0   \n",
              "1233            0              0          0            0         0        0   \n",
              "\n",
              "      MoSold  YrSold  enc_street  enc_condition  \n",
              "373       11    2009           1              0  \n",
              "83         7    2007           1              0  \n",
              "925        3    2008           1              0  \n",
              "345       10    2006           1              0  \n",
              "1233       5    2010           1              0  \n",
              "\n",
              "[5 rows x 38 columns]"
            ]
          },
          "metadata": {
            "tags": []
          },
          "execution_count": 91
        }
      ]
    },
    {
      "metadata": {
        "id": "lG71Lrvmb1Ld",
        "colab_type": "text"
      },
      "cell_type": "markdown",
      "source": [
        "##09.1 Processing for Neural Network"
      ]
    },
    {
      "metadata": {
        "id": "Ltbdvn0Cb1Ld",
        "colab_type": "code",
        "colab": {}
      },
      "cell_type": "code",
      "source": [
        "y = np.log1p(train.SalePrice)"
      ],
      "execution_count": 0,
      "outputs": []
    },
    {
      "metadata": {
        "id": "sCJBYCscb1Lt",
        "colab_type": "code",
        "colab": {}
      },
      "cell_type": "code",
      "source": [
        "from sklearn.model_selection import train_test_split\n",
        "X_train_val, X_test_val, y_train_val, y_test_val= train_test_split(X, y, random_state=23, test_size=.20)"
      ],
      "execution_count": 0,
      "outputs": []
    },
    {
      "metadata": {
        "id": "eNJdwnRPYTlj",
        "colab_type": "code",
        "outputId": "ad7ee7b6-e007-4d1f-d32d-3f4c7fd43a8d",
        "colab": {
          "base_uri": "https://localhost:8080/",
          "height": 253
        }
      },
      "cell_type": "code",
      "source": [
        "X_train_val.head()"
      ],
      "execution_count": 0,
      "outputs": [
        {
          "output_type": "execute_result",
          "data": {
            "text/html": [
              "<div>\n",
              "<style scoped>\n",
              "    .dataframe tbody tr th:only-of-type {\n",
              "        vertical-align: middle;\n",
              "    }\n",
              "\n",
              "    .dataframe tbody tr th {\n",
              "        vertical-align: top;\n",
              "    }\n",
              "\n",
              "    .dataframe thead th {\n",
              "        text-align: right;\n",
              "    }\n",
              "</style>\n",
              "<table border=\"1\" class=\"dataframe\">\n",
              "  <thead>\n",
              "    <tr style=\"text-align: right;\">\n",
              "      <th></th>\n",
              "      <th>MSSubClass</th>\n",
              "      <th>LotFrontage</th>\n",
              "      <th>LotArea</th>\n",
              "      <th>OverallQual</th>\n",
              "      <th>OverallCond</th>\n",
              "      <th>YearBuilt</th>\n",
              "      <th>YearRemodAdd</th>\n",
              "      <th>MasVnrArea</th>\n",
              "      <th>BsmtFinSF1</th>\n",
              "      <th>BsmtFinSF2</th>\n",
              "      <th>...</th>\n",
              "      <th>OpenPorchSF</th>\n",
              "      <th>EnclosedPorch</th>\n",
              "      <th>3SsnPorch</th>\n",
              "      <th>ScreenPorch</th>\n",
              "      <th>PoolArea</th>\n",
              "      <th>MiscVal</th>\n",
              "      <th>MoSold</th>\n",
              "      <th>YrSold</th>\n",
              "      <th>enc_street</th>\n",
              "      <th>enc_condition</th>\n",
              "    </tr>\n",
              "  </thead>\n",
              "  <tbody>\n",
              "    <tr>\n",
              "      <th>373</th>\n",
              "      <td>20</td>\n",
              "      <td>79.0</td>\n",
              "      <td>10634</td>\n",
              "      <td>5</td>\n",
              "      <td>6</td>\n",
              "      <td>1953</td>\n",
              "      <td>1953</td>\n",
              "      <td>0.0</td>\n",
              "      <td>428</td>\n",
              "      <td>180</td>\n",
              "      <td>...</td>\n",
              "      <td>0</td>\n",
              "      <td>0</td>\n",
              "      <td>0</td>\n",
              "      <td>0</td>\n",
              "      <td>0</td>\n",
              "      <td>0</td>\n",
              "      <td>11</td>\n",
              "      <td>2009</td>\n",
              "      <td>1</td>\n",
              "      <td>0</td>\n",
              "    </tr>\n",
              "    <tr>\n",
              "      <th>83</th>\n",
              "      <td>20</td>\n",
              "      <td>80.0</td>\n",
              "      <td>8892</td>\n",
              "      <td>5</td>\n",
              "      <td>5</td>\n",
              "      <td>1960</td>\n",
              "      <td>1960</td>\n",
              "      <td>66.0</td>\n",
              "      <td>0</td>\n",
              "      <td>0</td>\n",
              "      <td>...</td>\n",
              "      <td>0</td>\n",
              "      <td>0</td>\n",
              "      <td>0</td>\n",
              "      <td>0</td>\n",
              "      <td>0</td>\n",
              "      <td>0</td>\n",
              "      <td>7</td>\n",
              "      <td>2007</td>\n",
              "      <td>1</td>\n",
              "      <td>0</td>\n",
              "    </tr>\n",
              "    <tr>\n",
              "      <th>925</th>\n",
              "      <td>20</td>\n",
              "      <td>86.0</td>\n",
              "      <td>15611</td>\n",
              "      <td>5</td>\n",
              "      <td>6</td>\n",
              "      <td>1977</td>\n",
              "      <td>1977</td>\n",
              "      <td>0.0</td>\n",
              "      <td>767</td>\n",
              "      <td>93</td>\n",
              "      <td>...</td>\n",
              "      <td>0</td>\n",
              "      <td>0</td>\n",
              "      <td>0</td>\n",
              "      <td>0</td>\n",
              "      <td>0</td>\n",
              "      <td>0</td>\n",
              "      <td>3</td>\n",
              "      <td>2008</td>\n",
              "      <td>1</td>\n",
              "      <td>0</td>\n",
              "    </tr>\n",
              "    <tr>\n",
              "      <th>345</th>\n",
              "      <td>50</td>\n",
              "      <td>65.0</td>\n",
              "      <td>6435</td>\n",
              "      <td>6</td>\n",
              "      <td>5</td>\n",
              "      <td>1939</td>\n",
              "      <td>1950</td>\n",
              "      <td>0.0</td>\n",
              "      <td>0</td>\n",
              "      <td>0</td>\n",
              "      <td>...</td>\n",
              "      <td>0</td>\n",
              "      <td>0</td>\n",
              "      <td>0</td>\n",
              "      <td>0</td>\n",
              "      <td>0</td>\n",
              "      <td>0</td>\n",
              "      <td>10</td>\n",
              "      <td>2006</td>\n",
              "      <td>1</td>\n",
              "      <td>0</td>\n",
              "    </tr>\n",
              "    <tr>\n",
              "      <th>1233</th>\n",
              "      <td>20</td>\n",
              "      <td>62.5</td>\n",
              "      <td>12160</td>\n",
              "      <td>5</td>\n",
              "      <td>5</td>\n",
              "      <td>1959</td>\n",
              "      <td>1959</td>\n",
              "      <td>180.0</td>\n",
              "      <td>1000</td>\n",
              "      <td>0</td>\n",
              "      <td>...</td>\n",
              "      <td>0</td>\n",
              "      <td>0</td>\n",
              "      <td>0</td>\n",
              "      <td>0</td>\n",
              "      <td>0</td>\n",
              "      <td>0</td>\n",
              "      <td>5</td>\n",
              "      <td>2010</td>\n",
              "      <td>1</td>\n",
              "      <td>0</td>\n",
              "    </tr>\n",
              "  </tbody>\n",
              "</table>\n",
              "<p>5 rows × 38 columns</p>\n",
              "</div>"
            ],
            "text/plain": [
              "      MSSubClass  LotFrontage  LotArea  OverallQual  OverallCond  YearBuilt  \\\n",
              "373           20         79.0    10634            5            6       1953   \n",
              "83            20         80.0     8892            5            5       1960   \n",
              "925           20         86.0    15611            5            6       1977   \n",
              "345           50         65.0     6435            6            5       1939   \n",
              "1233          20         62.5    12160            5            5       1959   \n",
              "\n",
              "      YearRemodAdd  MasVnrArea  BsmtFinSF1  BsmtFinSF2      ...        \\\n",
              "373           1953         0.0         428         180      ...         \n",
              "83            1960        66.0           0           0      ...         \n",
              "925           1977         0.0         767          93      ...         \n",
              "345           1950         0.0           0           0      ...         \n",
              "1233          1959       180.0        1000           0      ...         \n",
              "\n",
              "      OpenPorchSF  EnclosedPorch  3SsnPorch  ScreenPorch  PoolArea  MiscVal  \\\n",
              "373             0              0          0            0         0        0   \n",
              "83              0              0          0            0         0        0   \n",
              "925             0              0          0            0         0        0   \n",
              "345             0              0          0            0         0        0   \n",
              "1233            0              0          0            0         0        0   \n",
              "\n",
              "      MoSold  YrSold  enc_street  enc_condition  \n",
              "373       11    2009           1              0  \n",
              "83         7    2007           1              0  \n",
              "925        3    2008           1              0  \n",
              "345       10    2006           1              0  \n",
              "1233       5    2010           1              0  \n",
              "\n",
              "[5 rows x 38 columns]"
            ]
          },
          "metadata": {
            "tags": []
          },
          "execution_count": 94
        }
      ]
    },
    {
      "metadata": {
        "id": "7auKDpUgb1Lv",
        "colab_type": "text"
      },
      "cell_type": "markdown",
      "source": [
        "##09.2 The Model"
      ]
    },
    {
      "metadata": {
        "id": "umu3Ney7ZoRH",
        "colab_type": "text"
      },
      "cell_type": "markdown",
      "source": [
        "We declared the number of steps, learning rate and the number of nodes in each hidden layer here."
      ]
    },
    {
      "metadata": {
        "id": "bglBu81jb1Lx",
        "colab_type": "code",
        "colab": {}
      },
      "cell_type": "code",
      "source": [
        "import tensorflow as tf\n",
        "\n",
        "tf.reset_default_graph()\n",
        "\n",
        "learning_rate = 0.1 \n",
        "num_steps =60000\n",
        "beta = .005\n",
        "hidden_1 = 16 \n",
        "hidden_2 = 8\n",
        "hidden_3 = 4 \n",
        "input_dim = X_train_val.shape[1]\n",
        "output_dim = 1  \n",
        "X_tf = tf.placeholder(\"float\" ) \n",
        "y_tf = tf.placeholder(\"float\" ) "
      ],
      "execution_count": 0,
      "outputs": []
    },
    {
      "metadata": {
        "id": "raHoVSCUb1Lz",
        "colab_type": "text"
      },
      "cell_type": "markdown",
      "source": [
        "##09.3 Weights and Bias\n",
        "Node  is the basic unit of a neural network. It gets certain number of inputs and a bias value. When a signal(value) arrives, it gets multiplied by a weight value. If a neuron has 4 inputs, it has 4 weight values which can be adjusted during training time.<br /> \n",
        "Bias is an extra input to neurons and it is always 1, and has it’s own connection weight. This makes sure that even when all the inputs are none (all 0’s) there is going to be an activation in the neuron."
      ]
    },
    {
      "metadata": {
        "id": "e8R1ZmAHb1L0",
        "colab_type": "code",
        "colab": {}
      },
      "cell_type": "code",
      "source": [
        "weights = {'w1': tf.Variable(tf.random_normal([input_dim, hidden_1])),  \n",
        "           'w2': tf.Variable(tf.random_normal([hidden_1, hidden_2])),  \n",
        "           'w3': tf.Variable(tf.random_normal([hidden_2, hidden_3])), \n",
        "           'out': tf.Variable(tf.random_normal([hidden_3, output_dim ])) }\n",
        "\n",
        "biases = {'b1': tf.Variable(tf.random_normal([hidden_1])),\n",
        "          'b2': tf.Variable(tf.random_normal([hidden_2])),\n",
        "          'b3': tf.Variable(tf.random_normal([hidden_3])),\n",
        "          'out': tf.Variable(tf.random_normal([output_dim])) } "
      ],
      "execution_count": 0,
      "outputs": []
    },
    {
      "metadata": {
        "id": "L_W0P4Ukbi2F",
        "colab_type": "text"
      },
      "cell_type": "markdown",
      "source": [
        "It connects one neuron in one layer to another neuron in other layer or the same layer. A connection always has a weight value associated with it. Goal of the training is to update this weight value to decrease the loss(error)."
      ]
    },
    {
      "metadata": {
        "id": "1p1qj6Ylb1L_",
        "colab_type": "text"
      },
      "cell_type": "markdown",
      "source": [
        "##09.4 Activation function\n",
        "Activation functions are used to introduce non-linearity to neural networks. It squashes the values in a smaller range. A sigmoid activation function squashes values between a range of 0 to 1. There are many activation functions used in deep learning industry and ReLU, SeLU and TanH are preferred over sigmoid activation function. Here we used ReLU as activation function."
      ]
    },
    {
      "metadata": {
        "id": "ZNBOgQv7b1MA",
        "colab_type": "code",
        "colab": {}
      },
      "cell_type": "code",
      "source": [
        "def ann_model(X_val): \n",
        "        layer_1 = tf.add(tf.matmul(X_val, weights['w1']), biases['b1' ]) \n",
        "        layer_1 = tf.nn.relu(layer_1) \n",
        "        layer_2 = tf.add(tf.matmul(layer_1, weights['w2']), biases['b2'])\n",
        "        layer_2 = tf.nn.relu(layer_2) \n",
        "        layer_3 = tf.add(tf.matmul(layer_2, weights['w3']), biases['b3']) \n",
        "        layer_3 = tf.nn.relu(layer_3)\n",
        "        layer_out = tf.add(tf.matmul(layer_3, weights['out']), biases ['out'],name=\"layer_out\") \n",
        "        return layer_out "
      ],
      "execution_count": 0,
      "outputs": []
    },
    {
      "metadata": {
        "id": "5YjNqZMHb1MF",
        "colab_type": "text"
      },
      "cell_type": "markdown",
      "source": [
        "##09.5 Loss function\n",
        "The loss function computes the error for a single training example. The cost function is the average of the loss functions of the entire training set.<br /> \n",
        "<br /> \n",
        "1.‘mse’ stands for mean squared error.<br /> \n",
        "2.‘binary_crossentropy’ stands for binary logarithmic loss (logloss).<br /> \n",
        "3.‘categorical_crossentropy’ stands for multi-class logarithmic loss (logloss).<br /> \n",
        "Here we used MSE as the loss function."
      ]
    },
    {
      "metadata": {
        "id": "GnzLDFpeb1MI",
        "colab_type": "code",
        "colab": {}
      },
      "cell_type": "code",
      "source": [
        "# Model Construction \n",
        "model = ann_model(X_tf) \n",
        "# Mean Squared Error cost function\n",
        "loss= tf.reduce_mean(tf.square(y_tf - model)) "
      ],
      "execution_count": 0,
      "outputs": []
    },
    {
      "metadata": {
        "id": "sjaZRy4bb1MS",
        "colab_type": "text"
      },
      "cell_type": "markdown",
      "source": [
        "##09.6 Regularization\n",
        "It is used to overcome the over-fitting problem. In regularization we penalize our loss term by adding a L1 (LASSO) or an L2(Ridge) norm on the weight vector w (it is the vector of the learned parameters in the given algorithm).\n",
        "L(Loss function) + λN(w) — here λ is our regularization term and N(w) is L1 or L2 norm. Here we used L2.\n",
        "\n"
      ]
    },
    {
      "metadata": {
        "id": "ed5za9QTb1MT",
        "colab_type": "code",
        "colab": {}
      },
      "cell_type": "code",
      "source": [
        "\n",
        "regularizer_1 = tf.nn.l2_loss(weights['w1']) \n",
        "regularizer_2 = tf.nn.l2_loss(weights['w2']) \n",
        "regularizer_3 = tf.nn.l2_loss(weights['w3']) \n",
        "cost = tf.reduce_mean(loss + beta*regularizer_1 + beta*regularizer_2 \n",
        "                      + regularizer_3)"
      ],
      "execution_count": 0,
      "outputs": []
    },
    {
      "metadata": {
        "id": "nsDBlYk_b1Ma",
        "colab_type": "text"
      },
      "cell_type": "markdown",
      "source": [
        "##09.7 Model Optimizers\n",
        "The optimizer is a search technique which is used to update weights in the model.<br /> \n",
        "\n",
        "SGD: Stochastic Gradient Descent, with support for momentum.<br /> \n",
        "\n",
        "RMSprop: Adaptive learning rate optimization method proposed by Geoff Hinton.<br /> \n",
        "\n",
        "Adam: Adaptive Moment Estimation (Adam) that also uses adaptive learning rates<br /> \n",
        "\n",
        "Here we used Adam."
      ]
    },
    {
      "metadata": {
        "id": "ZwL3rn8Sb1Mb",
        "colab_type": "code",
        "colab": {}
      },
      "cell_type": "code",
      "source": [
        "optimizer = tf.train.AdamOptimizer(learning_rate=learning_rate) .minimize(cost)\n",
        "init = tf.global_variables_initializer() \n",
        "saver = tf.train.Saver() "
      ],
      "execution_count": 0,
      "outputs": []
    },
    {
      "metadata": {
        "id": "HFN1pK5Pb1Mf",
        "colab_type": "text"
      },
      "cell_type": "markdown",
      "source": [
        "##09.8 Graph and Session\n",
        "TensorFlow uses a dataflow graph to represent our computation in terms of the dependencies between individual operations. This leads to a low-level programming model in which we first define the dataflow graph, then create a TensorFlow session to run parts of the graph across a set of local and remote devices. Our model will search for the rate which minimizes loss and will save it. Then it will see if the loss is going up or down and if the loss is not minimizing anymore it will stop iteration. \n",
        "\n"
      ]
    },
    {
      "metadata": {
        "id": "FLuDzqvrb1Mg",
        "colab_type": "code",
        "outputId": "15ddafe8-81f8-4f25-9cdf-0624f01a5def",
        "colab": {
          "base_uri": "https://localhost:8080/",
          "height": 10251
        }
      },
      "cell_type": "code",
      "source": [
        "max_checks_without_progress = 1500\n",
        "checks_without_progress = 0\n",
        "best_loss = np.infty\n",
        "with tf.Session() as sess: \n",
        "        sess.run(init) \n",
        "        for i in range(num_steps): \n",
        "            sess.run(optimizer, feed_dict={X_tf:X_train_val, y_tf:y_train_val})  \n",
        "            if (i+1)%100 == 0: \n",
        "                loss_val = cost.eval(feed_dict={X_tf: X_test_val, y_tf: y_test_val})\n",
        "                print(\"batch no : \",i+1,\"Loss\",loss_val) \n",
        "                           #Check whether to stop or not\n",
        "                if loss_val < best_loss:\n",
        "                    save_path = saver.save(sess,\"./Final_model.ckpt\")\n",
        "                    best_loss = loss_val\n",
        "                    checks_without_progress = 0\n",
        "                else:\n",
        "                    checks_without_progress += 1\n",
        "                    if checks_without_progress > max_checks_without_progress:\n",
        "                        print(\"Early stopping!\")\n",
        "                        break\n",
        "        save_path = saver.save(sess, \"/tmp/final2.ckpt\") \n",
        "        print(\"Model saved in path: %s\" % save_path) \n",
        "        pred = sess.run(model, feed_dict={X_tf:data_test}) \n",
        "with tf.Session() as sess:\n",
        "    saver.restore(sess, \"./Final_model.ckpt\")\n",
        "    pred = sess.run(model, feed_dict={X_tf:data_test}) \n"
      ],
      "execution_count": 0,
      "outputs": [
        {
          "output_type": "stream",
          "text": [
            "batch no :  100 Loss 127.245\n",
            "batch no :  200 Loss 126.78666\n",
            "batch no :  300 Loss 126.32196\n",
            "batch no :  400 Loss 125.85164\n",
            "batch no :  500 Loss 125.35566\n",
            "batch no :  600 Loss 124.82097\n",
            "batch no :  700 Loss 124.241356\n",
            "batch no :  800 Loss 123.613976\n",
            "batch no :  900 Loss 122.93792\n",
            "batch no :  1000 Loss 122.212074\n",
            "batch no :  1100 Loss 121.43587\n",
            "batch no :  1200 Loss 120.60883\n",
            "batch no :  1300 Loss 119.72988\n",
            "batch no :  1400 Loss 118.79865\n",
            "batch no :  1500 Loss 117.81433\n",
            "batch no :  1600 Loss 116.776405\n",
            "batch no :  1700 Loss 115.683975\n",
            "batch no :  1800 Loss 114.53659\n",
            "batch no :  1900 Loss 113.33352\n",
            "batch no :  2000 Loss 112.07392\n",
            "batch no :  2100 Loss 110.75728\n",
            "batch no :  2200 Loss 109.3829\n",
            "batch no :  2300 Loss 107.950386\n",
            "batch no :  2400 Loss 106.459015\n",
            "batch no :  2500 Loss 104.90831\n",
            "batch no :  2600 Loss 103.298065\n",
            "batch no :  2700 Loss 101.62799\n",
            "batch no :  2800 Loss 99.897964\n",
            "batch no :  2900 Loss 98.10816\n",
            "batch no :  3000 Loss 96.25853\n",
            "batch no :  3100 Loss 94.3497\n",
            "batch no :  3200 Loss 92.382256\n",
            "batch no :  3300 Loss 90.356964\n",
            "batch no :  3400 Loss 88.27496\n",
            "batch no :  3500 Loss 86.13764\n",
            "batch no :  3600 Loss 83.94662\n",
            "batch no :  3700 Loss 81.70388\n",
            "batch no :  3800 Loss 79.4117\n",
            "batch no :  3900 Loss 77.07279\n",
            "batch no :  4000 Loss 74.68998\n",
            "batch no :  4100 Loss 72.266754\n",
            "batch no :  4200 Loss 69.80679\n",
            "batch no :  4300 Loss 67.31427\n",
            "batch no :  4400 Loss 64.793686\n",
            "batch no :  4500 Loss 62.249935\n",
            "batch no :  4600 Loss 59.688313\n",
            "batch no :  4700 Loss 57.114532\n",
            "batch no :  4800 Loss 54.53479\n",
            "batch no :  4900 Loss 51.955322\n",
            "batch no :  5000 Loss 49.38296\n",
            "batch no :  5100 Loss 46.824657\n",
            "batch no :  5200 Loss 44.287567\n",
            "batch no :  5300 Loss 41.779213\n",
            "batch no :  5400 Loss 39.307125\n",
            "batch no :  5500 Loss 36.87886\n",
            "batch no :  5600 Loss 34.502007\n",
            "batch no :  5700 Loss 32.18406\n",
            "batch no :  5800 Loss 29.932283\n",
            "batch no :  5900 Loss 27.753702\n",
            "batch no :  6000 Loss 25.65497\n",
            "batch no :  6100 Loss 23.642206\n",
            "batch no :  6200 Loss 21.7211\n",
            "batch no :  6300 Loss 19.896458\n",
            "batch no :  6400 Loss 18.172548\n",
            "batch no :  6500 Loss 16.552723\n",
            "batch no :  6600 Loss 15.039476\n",
            "batch no :  6700 Loss 13.63439\n",
            "batch no :  6800 Loss 12.338005\n",
            "batch no :  6900 Loss 11.149935\n",
            "batch no :  7000 Loss 10.068757\n",
            "batch no :  7100 Loss 9.092128\n",
            "batch no :  7200 Loss 8.216763\n",
            "batch no :  7300 Loss 7.438532\n",
            "batch no :  7400 Loss 6.7525444\n",
            "batch no :  7500 Loss 6.153274\n",
            "batch no :  7600 Loss 5.6346536\n",
            "batch no :  7700 Loss 5.190216\n",
            "batch no :  7800 Loss 4.813223\n",
            "batch no :  7900 Loss 4.496851\n",
            "batch no :  8000 Loss 4.2342677\n",
            "batch no :  8100 Loss 4.018813\n",
            "batch no :  8200 Loss 3.8440695\n",
            "batch no :  8300 Loss 3.704033\n",
            "batch no :  8400 Loss 3.593123\n",
            "batch no :  8500 Loss 3.5062907\n",
            "batch no :  8600 Loss 3.4390314\n",
            "batch no :  8700 Loss 3.3874087\n",
            "batch no :  8800 Loss 3.3480487\n",
            "batch no :  8900 Loss 3.3181207\n",
            "batch no :  9000 Loss 3.2952957\n",
            "batch no :  9100 Loss 3.2776976\n",
            "batch no :  9200 Loss 3.2638474\n",
            "batch no :  9300 Loss 3.252607\n",
            "batch no :  9400 Loss 3.2431197\n",
            "batch no :  9500 Loss 3.2347586\n",
            "batch no :  9600 Loss 3.2270744\n",
            "batch no :  9700 Loss 3.2197518\n",
            "batch no :  9800 Loss 3.2125793\n",
            "batch no :  9900 Loss 3.2054114\n",
            "batch no :  10000 Loss 3.1981568\n",
            "batch no :  10100 Loss 3.1907582\n",
            "batch no :  10200 Loss 3.1831775\n",
            "batch no :  10300 Loss 3.17539\n",
            "batch no :  10400 Loss 3.167378\n",
            "batch no :  10500 Loss 3.15913\n",
            "batch no :  10600 Loss 3.1506395\n",
            "batch no :  10700 Loss 3.141898\n",
            "batch no :  10800 Loss 3.132897\n",
            "batch no :  10900 Loss 3.1236296\n",
            "batch no :  11000 Loss 3.1140893\n",
            "batch no :  11100 Loss 3.104271\n",
            "batch no :  11200 Loss 3.0941634\n",
            "batch no :  11300 Loss 3.0837636\n",
            "batch no :  11400 Loss 3.0730605\n",
            "batch no :  11500 Loss 3.062045\n",
            "batch no :  11600 Loss 3.0507078\n",
            "batch no :  11700 Loss 3.039042\n",
            "batch no :  11800 Loss 3.0270412\n",
            "batch no :  11900 Loss 3.0146947\n",
            "batch no :  12000 Loss 3.0019934\n",
            "batch no :  12100 Loss 2.988923\n",
            "batch no :  12200 Loss 2.9754767\n",
            "batch no :  12300 Loss 2.961648\n",
            "batch no :  12400 Loss 2.9474258\n",
            "batch no :  12500 Loss 2.9327998\n",
            "batch no :  12600 Loss 2.917759\n",
            "batch no :  12700 Loss 2.9022992\n",
            "batch no :  12800 Loss 2.8864121\n",
            "batch no :  12900 Loss 2.8700924\n",
            "batch no :  13000 Loss 2.8533328\n",
            "batch no :  13100 Loss 2.8361278\n",
            "batch no :  13200 Loss 2.818478\n",
            "batch no :  13300 Loss 2.8003826\n",
            "batch no :  13400 Loss 2.781836\n",
            "batch no :  13500 Loss 2.7628484\n",
            "batch no :  13600 Loss 2.7434201\n",
            "batch no :  13700 Loss 2.7235587\n",
            "batch no :  13800 Loss 2.7032752\n",
            "batch no :  13900 Loss 2.6825762\n",
            "batch no :  14000 Loss 2.6614814\n",
            "batch no :  14100 Loss 2.6400044\n",
            "batch no :  14200 Loss 2.618167\n",
            "batch no :  14300 Loss 2.59599\n",
            "batch no :  14400 Loss 2.5735004\n",
            "batch no :  14500 Loss 2.550723\n",
            "batch no :  14600 Loss 2.5276895\n",
            "batch no :  14700 Loss 2.5044312\n",
            "batch no :  14800 Loss 2.4809847\n",
            "batch no :  14900 Loss 2.4573889\n",
            "batch no :  15000 Loss 2.4336817\n",
            "batch no :  15100 Loss 2.4099054\n",
            "batch no :  15200 Loss 2.3861043\n",
            "batch no :  15300 Loss 2.3623226\n",
            "batch no :  15400 Loss 2.3386066\n",
            "batch no :  15500 Loss 2.3150024\n",
            "batch no :  15600 Loss 2.2915576\n",
            "batch no :  15700 Loss 2.2683172\n",
            "batch no :  15800 Loss 2.2453287\n",
            "batch no :  15900 Loss 2.2226381\n",
            "batch no :  16000 Loss 2.20029\n",
            "batch no :  16100 Loss 2.1783257\n",
            "batch no :  16200 Loss 2.1567829\n",
            "batch no :  16300 Loss 2.1357014\n",
            "batch no :  16400 Loss 2.115113\n",
            "batch no :  16500 Loss 2.095045\n",
            "batch no :  16600 Loss 2.0755272\n",
            "batch no :  16700 Loss 2.0565739\n",
            "batch no :  16800 Loss 2.038206\n",
            "batch no :  16900 Loss 2.020429\n",
            "batch no :  17000 Loss 2.0032501\n",
            "batch no :  17100 Loss 1.9866693\n",
            "batch no :  17200 Loss 1.9706805\n",
            "batch no :  17300 Loss 1.955275\n",
            "batch no :  17400 Loss 1.9404309\n",
            "batch no :  17500 Loss 1.9261343\n",
            "batch no :  17600 Loss 1.9123583\n",
            "batch no :  17700 Loss 1.8990738\n",
            "batch no :  17800 Loss 1.8862519\n",
            "batch no :  17900 Loss 1.8738589\n",
            "batch no :  18000 Loss 1.8618596\n",
            "batch no :  18100 Loss 1.8502202\n",
            "batch no :  18200 Loss 1.8389018\n",
            "batch no :  18300 Loss 1.8278724\n",
            "batch no :  18400 Loss 1.8170974\n",
            "batch no :  18500 Loss 1.8065438\n",
            "batch no :  18600 Loss 1.7961819\n",
            "batch no :  18700 Loss 1.7859849\n",
            "batch no :  18800 Loss 1.7759259\n",
            "batch no :  18900 Loss 1.7659842\n",
            "batch no :  19000 Loss 1.7561386\n",
            "batch no :  19100 Loss 1.7463719\n",
            "batch no :  19200 Loss 1.7366686\n",
            "batch no :  19300 Loss 1.7270169\n",
            "batch no :  19400 Loss 1.7174053\n",
            "batch no :  19500 Loss 1.7078255\n",
            "batch no :  19600 Loss 1.6982658\n",
            "batch no :  19700 Loss 1.6887212\n",
            "batch no :  19800 Loss 1.6791837\n",
            "batch no :  19900 Loss 1.6696467\n",
            "batch no :  20000 Loss 1.6601045\n",
            "batch no :  20100 Loss 1.6505516\n",
            "batch no :  20200 Loss 1.6409783\n",
            "batch no :  20300 Loss 1.6313837\n",
            "batch no :  20400 Loss 1.6217608\n",
            "batch no :  20500 Loss 1.6121048\n",
            "batch no :  20600 Loss 1.602406\n",
            "batch no :  20700 Loss 1.5926628\n",
            "batch no :  20800 Loss 1.5828676\n",
            "batch no :  20900 Loss 1.5730147\n",
            "batch no :  21000 Loss 1.5630997\n",
            "batch no :  21100 Loss 1.5531157\n",
            "batch no :  21200 Loss 1.543057\n",
            "batch no :  21300 Loss 1.5329161\n",
            "batch no :  21400 Loss 1.5226884\n",
            "batch no :  21500 Loss 1.5123674\n",
            "batch no :  21600 Loss 1.5019436\n",
            "batch no :  21700 Loss 1.4914122\n",
            "batch no :  21800 Loss 1.4807663\n",
            "batch no :  21900 Loss 1.4699984\n",
            "batch no :  22000 Loss 1.4591001\n",
            "batch no :  22100 Loss 1.4480648\n",
            "batch no :  22200 Loss 1.4368849\n",
            "batch no :  22300 Loss 1.4255531\n",
            "batch no :  22400 Loss 1.4140626\n",
            "batch no :  22500 Loss 1.4024072\n",
            "batch no :  22600 Loss 1.3905805\n",
            "batch no :  22700 Loss 1.3785778\n",
            "batch no :  22800 Loss 1.3663937\n",
            "batch no :  22900 Loss 1.3540239\n",
            "batch no :  23000 Loss 1.341465\n",
            "batch no :  23100 Loss 1.3287163\n",
            "batch no :  23200 Loss 1.3157759\n",
            "batch no :  23300 Loss 1.3026434\n",
            "batch no :  23400 Loss 1.289321\n",
            "batch no :  23500 Loss 1.2758082\n",
            "batch no :  23600 Loss 1.2621106\n",
            "batch no :  23700 Loss 1.2482313\n",
            "batch no :  23800 Loss 1.2341759\n",
            "batch no :  23900 Loss 1.2199502\n",
            "batch no :  24000 Loss 1.2055612\n",
            "batch no :  24100 Loss 1.1910183\n",
            "batch no :  24200 Loss 1.1763302\n",
            "batch no :  24300 Loss 1.1615081\n",
            "batch no :  24400 Loss 1.1465634\n",
            "batch no :  24500 Loss 1.1315061\n",
            "batch no :  24600 Loss 1.1163541\n",
            "batch no :  24700 Loss 1.1011171\n",
            "batch no :  24800 Loss 1.0858144\n",
            "batch no :  24900 Loss 1.0704616\n",
            "batch no :  25000 Loss 1.0550761\n",
            "batch no :  25100 Loss 1.0396762\n",
            "batch no :  25200 Loss 1.0242815\n",
            "batch no :  25300 Loss 1.0089123\n",
            "batch no :  25400 Loss 0.9935889\n",
            "batch no :  25500 Loss 0.978333\n",
            "batch no :  25600 Loss 0.9631666\n",
            "batch no :  25700 Loss 0.94811124\n",
            "batch no :  25800 Loss 0.93318903\n",
            "batch no :  25900 Loss 0.91842294\n",
            "batch no :  26000 Loss 0.90383124\n",
            "batch no :  26100 Loss 0.88943785\n",
            "batch no :  26200 Loss 0.8752612\n",
            "batch no :  26300 Loss 0.86132014\n",
            "batch no :  26400 Loss 0.84763175\n",
            "batch no :  26500 Loss 0.83421135\n",
            "batch no :  26600 Loss 0.82107234\n",
            "batch no :  26700 Loss 0.8082262\n",
            "batch no :  26800 Loss 0.795681\n",
            "batch no :  26900 Loss 0.78344345\n",
            "batch no :  27000 Loss 0.7715176\n",
            "batch no :  27100 Loss 0.75990194\n",
            "batch no :  27200 Loss 0.74859697\n",
            "batch no :  27300 Loss 0.7375962\n",
            "batch no :  27400 Loss 0.7268926\n",
            "batch no :  27500 Loss 0.71647567\n",
            "batch no :  27600 Loss 0.7063328\n",
            "batch no :  27700 Loss 0.6964493\n",
            "batch no :  27800 Loss 0.68680793\n",
            "batch no :  27900 Loss 0.6773912\n",
            "batch no :  28000 Loss 0.6681783\n",
            "batch no :  28100 Loss 0.6591503\n",
            "batch no :  28200 Loss 0.6502849\n",
            "batch no :  28300 Loss 0.6415621\n",
            "batch no :  28400 Loss 0.6329626\n",
            "batch no :  28500 Loss 0.6244624\n",
            "batch no :  28600 Loss 0.6160446\n",
            "batch no :  28700 Loss 0.6077094\n",
            "batch no :  28800 Loss 0.59938776\n",
            "batch no :  28900 Loss 0.5911194\n",
            "batch no :  29000 Loss 0.58287\n",
            "batch no :  29100 Loss 0.57468045\n",
            "batch no :  29200 Loss 0.5663976\n",
            "batch no :  29300 Loss 0.5581635\n",
            "batch no :  29400 Loss 0.54991114\n",
            "batch no :  29500 Loss 0.54177696\n",
            "batch no :  29600 Loss 0.5333817\n",
            "batch no :  29700 Loss 0.5251001\n",
            "batch no :  29800 Loss 0.51680917\n",
            "batch no :  29900 Loss 0.50851524\n",
            "batch no :  30000 Loss 0.50024277\n",
            "batch no :  30100 Loss 0.49193236\n",
            "batch no :  30200 Loss 0.4837109\n",
            "batch no :  30300 Loss 0.47540244\n",
            "batch no :  30400 Loss 0.46717602\n",
            "batch no :  30500 Loss 0.45898953\n",
            "batch no :  30600 Loss 0.4508435\n",
            "batch no :  30700 Loss 0.44275457\n",
            "batch no :  30800 Loss 0.43473086\n",
            "batch no :  30900 Loss 0.42678133\n",
            "batch no :  31000 Loss 0.41891196\n",
            "batch no :  31100 Loss 0.4111357\n",
            "batch no :  31200 Loss 0.4034606\n",
            "batch no :  31300 Loss 0.39591438\n",
            "batch no :  31400 Loss 0.38844928\n",
            "batch no :  31500 Loss 0.38112956\n",
            "batch no :  31600 Loss 0.37394378\n",
            "batch no :  31700 Loss 0.3668989\n",
            "batch no :  31800 Loss 0.36000532\n",
            "batch no :  31900 Loss 0.35327643\n",
            "batch no :  32000 Loss 0.34668294\n",
            "batch no :  32100 Loss 0.34027797\n",
            "batch no :  32200 Loss 0.33401325\n",
            "batch no :  32300 Loss 0.32794067\n",
            "batch no :  32400 Loss 0.32201776\n",
            "batch no :  32500 Loss 0.31634125\n",
            "batch no :  32600 Loss 0.310699\n",
            "batch no :  32700 Loss 0.305289\n",
            "batch no :  32800 Loss 0.3000439\n",
            "batch no :  32900 Loss 0.29495543\n",
            "batch no :  33000 Loss 0.29001924\n",
            "batch no :  33100 Loss 0.2852327\n",
            "batch no :  33200 Loss 0.2805848\n",
            "batch no :  33300 Loss 0.27607253\n",
            "batch no :  33400 Loss 0.27168387\n",
            "batch no :  33500 Loss 0.26741716\n",
            "batch no :  33600 Loss 0.2632599\n",
            "batch no :  33700 Loss 0.25920936\n",
            "batch no :  33800 Loss 0.25525624\n",
            "batch no :  33900 Loss 0.2513963\n",
            "batch no :  34000 Loss 0.2476272\n",
            "batch no :  34100 Loss 0.24393365\n",
            "batch no :  34200 Loss 0.24032156\n",
            "batch no :  34300 Loss 0.2367896\n",
            "batch no :  34400 Loss 0.23334055\n",
            "batch no :  34500 Loss 0.22994108\n",
            "batch no :  34600 Loss 0.22662573\n",
            "batch no :  34700 Loss 0.2233836\n",
            "batch no :  34800 Loss 0.22021984\n",
            "batch no :  34900 Loss 0.21711875\n",
            "batch no :  35000 Loss 0.21409698\n",
            "batch no :  35100 Loss 0.21115492\n",
            "batch no :  35200 Loss 0.20829086\n",
            "batch no :  35300 Loss 0.2055043\n",
            "batch no :  35400 Loss 0.20279954\n",
            "batch no :  35500 Loss 0.20017932\n",
            "batch no :  35600 Loss 0.19764312\n",
            "batch no :  35700 Loss 0.19519046\n",
            "batch no :  35800 Loss 0.19283396\n",
            "batch no :  35900 Loss 0.19054453\n",
            "batch no :  36000 Loss 0.18837686\n",
            "batch no :  36100 Loss 0.18624483\n",
            "batch no :  36200 Loss 0.18424818\n",
            "batch no :  36300 Loss 0.18228991\n",
            "batch no :  36400 Loss 0.18057482\n",
            "batch no :  36500 Loss 0.17867069\n",
            "batch no :  36600 Loss 0.17698817\n",
            "batch no :  36700 Loss 0.17537916\n",
            "batch no :  36800 Loss 0.17385186\n",
            "batch no :  36900 Loss 0.17240107\n",
            "batch no :  37000 Loss 0.1710218\n",
            "batch no :  37100 Loss 0.16971794\n",
            "batch no :  37200 Loss 0.16847552\n",
            "batch no :  37300 Loss 0.1673079\n",
            "batch no :  37400 Loss 0.1661908\n",
            "batch no :  37500 Loss 0.16513956\n",
            "batch no :  37600 Loss 0.1641442\n",
            "batch no :  37700 Loss 0.16320322\n",
            "batch no :  37800 Loss 0.16231452\n",
            "batch no :  37900 Loss 0.16146974\n",
            "batch no :  38000 Loss 0.16067132\n",
            "batch no :  38100 Loss 0.1599169\n",
            "batch no :  38200 Loss 0.15920019\n",
            "batch no :  38300 Loss 0.15852074\n",
            "batch no :  38400 Loss 0.15787715\n",
            "batch no :  38500 Loss 0.15726393\n",
            "batch no :  38600 Loss 0.15668415\n",
            "batch no :  38700 Loss 0.1561301\n",
            "batch no :  38800 Loss 0.15560324\n",
            "batch no :  38900 Loss 0.15510607\n",
            "batch no :  39000 Loss 0.15463762\n",
            "batch no :  39100 Loss 0.15417707\n",
            "batch no :  39200 Loss 0.15375203\n",
            "batch no :  39300 Loss 0.15333803\n",
            "batch no :  39400 Loss 0.1529481\n",
            "batch no :  39500 Loss 0.15257964\n",
            "batch no :  39600 Loss 0.15223534\n",
            "batch no :  39700 Loss 0.15189615\n",
            "batch no :  39800 Loss 0.15157919\n",
            "batch no :  39900 Loss 0.15128158\n",
            "batch no :  40000 Loss 0.15100092\n",
            "batch no :  40100 Loss 0.15073058\n",
            "batch no :  40200 Loss 0.15047829\n",
            "batch no :  40300 Loss 0.15023783\n",
            "batch no :  40400 Loss 0.15001035\n",
            "batch no :  40500 Loss 0.14979805\n",
            "batch no :  40600 Loss 0.14959773\n",
            "batch no :  40700 Loss 0.1494075\n",
            "batch no :  40800 Loss 0.14922842\n",
            "batch no :  40900 Loss 0.14906217\n",
            "batch no :  41000 Loss 0.14890495\n",
            "batch no :  41100 Loss 0.14875814\n",
            "batch no :  41200 Loss 0.14862013\n",
            "batch no :  41300 Loss 0.14849447\n",
            "batch no :  41400 Loss 0.148396\n",
            "batch no :  41500 Loss 0.14826587\n",
            "batch no :  41600 Loss 0.14830408\n",
            "batch no :  41700 Loss 0.14807245\n",
            "batch no :  41800 Loss 0.14803052\n",
            "batch no :  41900 Loss 0.14791144\n",
            "batch no :  42000 Loss 0.14786994\n",
            "batch no :  42100 Loss 0.1477804\n",
            "batch no :  42200 Loss 0.14776179\n",
            "batch no :  42300 Loss 0.1476765\n",
            "batch no :  42400 Loss 0.14763853\n",
            "batch no :  42500 Loss 0.14759575\n",
            "batch no :  42600 Loss 0.14764367\n",
            "batch no :  42700 Loss 0.14753525\n",
            "batch no :  42800 Loss 0.14772299\n",
            "batch no :  42900 Loss 0.14749168\n",
            "batch no :  43000 Loss 0.14747484\n",
            "batch no :  43100 Loss 0.14746624\n",
            "batch no :  43200 Loss 0.14744975\n",
            "batch no :  43300 Loss 0.14744051\n",
            "batch no :  43400 Loss 0.1474333\n",
            "batch no :  43500 Loss 0.14742629\n",
            "batch no :  43600 Loss 0.1474232\n",
            "batch no :  43700 Loss 0.14746341\n",
            "batch no :  43800 Loss 0.14741705\n",
            "batch no :  43900 Loss 0.147416\n",
            "batch no :  44000 Loss 0.1474138\n",
            "batch no :  44100 Loss 0.14742039\n",
            "batch no :  44200 Loss 0.14741194\n",
            "batch no :  44300 Loss 0.1474202\n",
            "batch no :  44400 Loss 0.14741087\n",
            "batch no :  44500 Loss 0.14741105\n",
            "batch no :  44600 Loss 0.14740925\n",
            "batch no :  44700 Loss 0.14741057\n",
            "batch no :  44800 Loss 0.14741752\n",
            "batch no :  44900 Loss 0.14741053\n",
            "batch no :  45000 Loss 0.14741021\n",
            "batch no :  45100 Loss 0.14741234\n",
            "batch no :  45200 Loss 0.14740998\n",
            "batch no :  45300 Loss 0.14741\n",
            "batch no :  45400 Loss 0.14741032\n",
            "batch no :  45500 Loss 0.14741166\n",
            "batch no :  45600 Loss 0.147411\n",
            "batch no :  45700 Loss 0.1474099\n",
            "batch no :  45800 Loss 0.14741062\n",
            "batch no :  45900 Loss 0.1474104\n",
            "batch no :  46000 Loss 0.14741066\n",
            "batch no :  46100 Loss 0.14740938\n",
            "batch no :  46200 Loss 0.14741035\n",
            "batch no :  46300 Loss 0.14752184\n",
            "batch no :  46400 Loss 0.14741041\n",
            "batch no :  46500 Loss 0.14746603\n",
            "batch no :  46600 Loss 0.14741088\n",
            "batch no :  46700 Loss 0.1474101\n",
            "batch no :  46800 Loss 0.14741002\n",
            "batch no :  46900 Loss 0.14741036\n",
            "batch no :  47000 Loss 0.14740944\n",
            "batch no :  47100 Loss 0.14741045\n",
            "batch no :  47200 Loss 0.14742585\n",
            "batch no :  47300 Loss 0.14741041\n",
            "batch no :  47400 Loss 0.14743653\n",
            "batch no :  47500 Loss 0.14741026\n",
            "batch no :  47600 Loss 0.14741446\n",
            "batch no :  47700 Loss 0.14741053\n",
            "batch no :  47800 Loss 0.1474095\n",
            "batch no :  47900 Loss 0.14741169\n",
            "batch no :  48000 Loss 0.14741056\n",
            "batch no :  48100 Loss 0.1474115\n",
            "batch no :  48200 Loss 0.14741082\n",
            "batch no :  48300 Loss 0.14741094\n",
            "batch no :  48400 Loss 0.14741042\n",
            "batch no :  48500 Loss 0.14740957\n",
            "batch no :  48600 Loss 0.14741106\n",
            "batch no :  48700 Loss 0.1474101\n",
            "batch no :  48800 Loss 0.14740993\n",
            "batch no :  48900 Loss 0.14741051\n",
            "batch no :  49000 Loss 0.14742137\n",
            "batch no :  49100 Loss 0.14741077\n",
            "batch no :  49200 Loss 0.1475319\n",
            "batch no :  49300 Loss 0.14741018\n",
            "batch no :  49400 Loss 0.14742053\n",
            "batch no :  49500 Loss 0.1474118\n",
            "batch no :  49600 Loss 0.14744373\n",
            "batch no :  49700 Loss 0.14741038\n",
            "batch no :  49800 Loss 0.14740963\n",
            "batch no :  49900 Loss 0.14741017\n",
            "batch no :  50000 Loss 0.14741027\n",
            "batch no :  50100 Loss 0.14741017\n",
            "batch no :  50200 Loss 0.14741011\n",
            "batch no :  50300 Loss 0.14741135\n",
            "batch no :  50400 Loss 0.14741151\n",
            "batch no :  50500 Loss 0.14741056\n",
            "batch no :  50600 Loss 0.14741187\n",
            "batch no :  50700 Loss 0.14740898\n",
            "batch no :  50800 Loss 0.14741044\n",
            "batch no :  50900 Loss 0.14740905\n",
            "batch no :  51000 Loss 0.14741051\n",
            "batch no :  51100 Loss 0.14742026\n",
            "batch no :  51200 Loss 0.14741041\n",
            "batch no :  51300 Loss 0.14742525\n",
            "batch no :  51400 Loss 0.14741047\n",
            "batch no :  51500 Loss 0.1475797\n",
            "batch no :  51600 Loss 0.1474103\n",
            "batch no :  51700 Loss 0.14740972\n",
            "batch no :  51800 Loss 0.14741042\n",
            "batch no :  51900 Loss 0.14741011\n",
            "batch no :  52000 Loss 0.14741059\n",
            "batch no :  52100 Loss 0.14741024\n",
            "batch no :  52200 Loss 0.14740998\n",
            "batch no :  52300 Loss 0.14741051\n",
            "batch no :  52400 Loss 0.14741069\n",
            "batch no :  52500 Loss 0.14741041\n",
            "batch no :  52600 Loss 0.1474091\n",
            "batch no :  52700 Loss 0.14741035\n",
            "batch no :  52800 Loss 0.14741261\n",
            "batch no :  52900 Loss 0.14741282\n",
            "batch no :  53000 Loss 0.14740942\n",
            "batch no :  53100 Loss 0.14740965\n",
            "batch no :  53200 Loss 0.14741011\n",
            "batch no :  53300 Loss 0.14744969\n",
            "batch no :  53400 Loss 0.1474118\n",
            "batch no :  53500 Loss 0.14751661\n",
            "batch no :  53600 Loss 0.14741068\n",
            "batch no :  53700 Loss 0.14740989\n",
            "batch no :  53800 Loss 0.14741023\n",
            "batch no :  53900 Loss 0.14748885\n",
            "batch no :  54000 Loss 0.14741035\n",
            "batch no :  54100 Loss 0.14741392\n",
            "batch no :  54200 Loss 0.14741048\n",
            "batch no :  54300 Loss 0.14742266\n",
            "batch no :  54400 Loss 0.14741035\n",
            "batch no :  54500 Loss 0.14741717\n",
            "batch no :  54600 Loss 0.14741048\n",
            "batch no :  54700 Loss 0.14756137\n",
            "batch no :  54800 Loss 0.14741048\n",
            "batch no :  54900 Loss 0.14741132\n",
            "batch no :  55000 Loss 0.14741041\n",
            "batch no :  55100 Loss 0.14740905\n",
            "batch no :  55200 Loss 0.14741124\n",
            "batch no :  55300 Loss 0.1474102\n",
            "batch no :  55400 Loss 0.14740998\n",
            "batch no :  55500 Loss 0.14740954\n",
            "batch no :  55600 Loss 0.14741074\n",
            "batch no :  55700 Loss 0.14740965\n",
            "batch no :  55800 Loss 0.1474115\n",
            "batch no :  55900 Loss 0.14741002\n",
            "batch no :  56000 Loss 0.14741103\n",
            "batch no :  56100 Loss 0.1474109\n",
            "batch no :  56200 Loss 0.1474109\n",
            "batch no :  56300 Loss 0.14741398\n",
            "batch no :  56400 Loss 0.14741069\n",
            "batch no :  56500 Loss 0.14740892\n",
            "batch no :  56600 Loss 0.14741112\n",
            "batch no :  56700 Loss 0.14741097\n",
            "batch no :  56800 Loss 0.14741096\n",
            "batch no :  56900 Loss 0.1474221\n",
            "batch no :  57000 Loss 0.14741066\n",
            "batch no :  57100 Loss 0.1475315\n",
            "batch no :  57200 Loss 0.14741045\n",
            "batch no :  57300 Loss 0.147564\n",
            "batch no :  57400 Loss 0.14741056\n",
            "batch no :  57500 Loss 0.14746158\n",
            "batch no :  57600 Loss 0.14741115\n",
            "batch no :  57700 Loss 0.14749238\n",
            "batch no :  57800 Loss 0.14741033\n",
            "batch no :  57900 Loss 0.14740929\n",
            "batch no :  58000 Loss 0.14741041\n",
            "batch no :  58100 Loss 0.1474515\n",
            "batch no :  58200 Loss 0.14741041\n",
            "batch no :  58300 Loss 0.14741005\n",
            "batch no :  58400 Loss 0.14741041\n",
            "batch no :  58500 Loss 0.1474294\n",
            "batch no :  58600 Loss 0.14741063\n",
            "batch no :  58700 Loss 0.14752172\n",
            "batch no :  58800 Loss 0.14741053\n",
            "batch no :  58900 Loss 0.14741577\n",
            "batch no :  59000 Loss 0.14741045\n",
            "batch no :  59100 Loss 0.14741392\n",
            "batch no :  59200 Loss 0.14741035\n",
            "batch no :  59300 Loss 0.14745758\n",
            "batch no :  59400 Loss 0.14741035\n",
            "batch no :  59500 Loss 0.14741056\n",
            "batch no :  59600 Loss 0.14741112\n",
            "batch no :  59700 Loss 0.14741048\n",
            "batch no :  59800 Loss 0.14740944\n",
            "batch no :  59900 Loss 0.14741036\n",
            "batch no :  60000 Loss 0.14743613\n",
            "Model saved in path: /tmp/final2.ckpt\n",
            "INFO:tensorflow:Restoring parameters from ./Final_model.ckpt\n"
          ],
          "name": "stdout"
        }
      ]
    },
    {
      "metadata": {
        "id": "hXhlyNyPb1Mk",
        "colab_type": "code",
        "colab": {}
      },
      "cell_type": "code",
      "source": [
        " prediction = np.expm1(pred) "
      ],
      "execution_count": 0,
      "outputs": []
    },
    {
      "metadata": {
        "id": "67tiazZbb1Mm",
        "colab_type": "code",
        "colab": {}
      },
      "cell_type": "code",
      "source": [
        "sub = pd.DataFrame()\n",
        "\n",
        "sub['Id'] = test_ID\n",
        "sub['SalePrice'] = prediction\n",
        "\n",
        "sub.to_csv('submission_DNN_WD.csv',index=False)"
      ],
      "execution_count": 0,
      "outputs": []
    },
    {
      "metadata": {
        "id": "L2Y34-HoXtUa",
        "colab_type": "text"
      },
      "cell_type": "markdown",
      "source": [
        "We saved the file for submission in here. "
      ]
    },
    {
      "metadata": {
        "id": "FZJdvaE4dean",
        "colab_type": "text"
      },
      "cell_type": "markdown",
      "source": [
        "#09.9 Result Submission\n"
      ]
    },
    {
      "metadata": {
        "id": "Oxrxpp6ffbfj",
        "colab_type": "text"
      },
      "cell_type": "markdown",
      "source": [
        "![alt text](https://puu.sh/D5xJk/8f62bd3349.png)"
      ]
    },
    {
      "metadata": {
        "id": "ynD1tR0OXh-b",
        "colab_type": "text"
      },
      "cell_type": "markdown",
      "source": [
        "#10. References \n",
        "1. https://www.kaggle.com/dimitreoliveira/house-prices-deep-learning-aproach-tensorflow <br />\n",
        "2. https://www.kaggle.com/karthikramesh55/iowa-housing-price-prediction-regression-models/notebook?fbclid=IwAR0QixSNKX7WaVGc0yMYOL0S7RO7Lh3Z92BOiVArOIvr6Ik1w4COWxNnCFM <br />\n",
        "3. https://www.dataquest.io/blog/kaggle-getting-started/ <br />\n",
        "4. https://towardsdatascience.com/simple-house-price-predictor-using-ml-through-tensorflow-in-python-cbd2b637904b <br />\n",
        "5. https://medium.com/@saxenarohan97/intro-to-tensorflow-solving-a-simple-regression-problem-e87b42fd4845?fbclid=IwAR15Tjc8pnQxLfVst3q2UcF5-DU9mfqrvDgnvD_SgWJp8hk1HGgIV9-4a1w <br />\n",
        "6. https://www.tensorflow.org/guide/low_level_intro <br />\n",
        "7. https://github.com/ageron/handson-ml/blob/master/09_up_and_running_with_tensorflow.ipynb?fbclid=IwAR3ONq_3VzaJ6bw_tdnu2Z-YNRe6cY7lmuZpyQxjbwW-CkAuc6LKDl0V36w <br />\n",
        "8. https://github.com/IshrakHasin/House-price/tree/master <br />\n",
        "9. https://medium.com/@_NicT_/my-first-kaggle-791e57cd5737 <br />\n",
        "10. https://medium.com/@shantanusingh_71633/regression-in-neural-networks-using-tensorflow-low-level-apis-818b8bb7b433\n"
      ]
    }
  ]
}