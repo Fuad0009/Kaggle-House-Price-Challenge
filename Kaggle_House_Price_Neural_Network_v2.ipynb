{
  "nbformat": 4,
  "nbformat_minor": 0,
  "metadata": {
    "colab": {
      "name": "10% Simple Model On Housing Price again.ipynb",
      "version": "0.3.2",
      "provenance": [],
      "toc_visible": true
    },
    "language_info": {
      "name": "python",
      "version": "3.6.6",
      "mimetype": "text/x-python",
      "codemirror_mode": {
        "name": "ipython",
        "version": 3
      },
      "pygments_lexer": "ipython3",
      "nbconvert_exporter": "python",
      "file_extension": ".py"
    },
    "kernelspec": {
      "display_name": "Python 3",
      "language": "python",
      "name": "python3"
    }
  },
  "cells": [
    {
      "cell_type": "markdown",
      "metadata": {
        "_uuid": "06da34af0c189cb0c29beb679dfa202bc76b63df",
        "id": "RK362NjXiqwu",
        "colab_type": "text"
      },
      "source": [
        "# Within Top 10% with Simple Regression Model."
      ]
    },
    {
      "cell_type": "markdown",
      "metadata": {
        "_uuid": "6f62f70159ddf19687dd1c679055f7cc27630cfb",
        "id": "BYOqumseiqww",
        "colab_type": "text"
      },
      "source": [
        "# Step By Step Procedure To Predict House Price"
      ]
    },
    {
      "cell_type": "markdown",
      "metadata": {
        "_uuid": "3306a9daf742759fff4e9a6959ab72fec3230e7f",
        "id": "V_5UzZVXiqwx",
        "colab_type": "text"
      },
      "source": [
        "# Importing packages\n",
        "We have **numpy** and **pandas** to work with numbers and data, and we have **seaborn** and **matplotlib** to visualize data. We would also like to filter out unnecessary warnings. **Scipy** for normalization and skewing of data."
      ]
    },
    {
      "cell_type": "code",
      "metadata": {
        "_uuid": "8f2839f25d086af736a60e9eeb907d3b93b6e0e5",
        "_cell_guid": "b1076dfc-b9ad-4769-8c92-a6c4dae69d19",
        "trusted": true,
        "id": "EcarHUBZiqwy",
        "colab_type": "code",
        "colab": {}
      },
      "source": [
        "#import some necessary librairies\n",
        "\n",
        "import numpy as np # linear algebra\n",
        "import pandas as pd # data processing, CSV file I/O (e.g. pd.read_csv)\n",
        "%matplotlib inline\n",
        "import matplotlib.pyplot as plt  # Matlab-style plotting\n",
        "import seaborn as sns\n",
        "color = sns.color_palette()\n",
        "sns.set_style('darkgrid')\n",
        "import warnings\n",
        "def ignore_warn(*args, **kwargs):\n",
        "    pass\n",
        "warnings.warn = ignore_warn #ignore annoying warning (from sklearn and seaborn)\n",
        "\n",
        "from scipy import stats\n",
        "from scipy.stats import norm, skew #for some statistics"
      ],
      "execution_count": 0,
      "outputs": []
    },
    {
      "cell_type": "markdown",
      "metadata": {
        "_uuid": "e30ef2b9a5211e7e44031145e7dfbf54a0a429e2",
        "id": "XcxXVsdZiqw2",
        "colab_type": "text"
      },
      "source": [
        "# Loading and Inspecting data\n",
        "With various Pandas functions, we load our training and test data set as well as inspect it to get an idea of the data we're working with. This is a large dataset we will be working on.\n"
      ]
    },
    {
      "cell_type": "code",
      "metadata": {
        "_cell_guid": "79c7e3d0-c299-4dcb-8224-4455121ee9b0",
        "_uuid": "d629ff2d2480ee46fbb7e2d37f6b5fab8052498a",
        "trusted": true,
        "id": "u3YOJM9Wiqw3",
        "colab_type": "code",
        "outputId": "bc267e74-e1d7-4b31-89af-da3ff281c44d",
        "colab": {
          "base_uri": "https://localhost:8080/",
          "height": 317
        }
      },
      "source": [
        "#Now let's import and put the train and test datasets in  pandas dataframe\n",
        "\n",
        "train = pd.read_csv('train.csv')\n",
        "test = pd.read_csv('test.csv')\n",
        "\n",
        "train.describe()"
      ],
      "execution_count": 2,
      "outputs": [
        {
          "output_type": "execute_result",
          "data": {
            "text/html": [
              "<div>\n",
              "<style scoped>\n",
              "    .dataframe tbody tr th:only-of-type {\n",
              "        vertical-align: middle;\n",
              "    }\n",
              "\n",
              "    .dataframe tbody tr th {\n",
              "        vertical-align: top;\n",
              "    }\n",
              "\n",
              "    .dataframe thead th {\n",
              "        text-align: right;\n",
              "    }\n",
              "</style>\n",
              "<table border=\"1\" class=\"dataframe\">\n",
              "  <thead>\n",
              "    <tr style=\"text-align: right;\">\n",
              "      <th></th>\n",
              "      <th>Id</th>\n",
              "      <th>MSSubClass</th>\n",
              "      <th>LotFrontage</th>\n",
              "      <th>LotArea</th>\n",
              "      <th>OverallQual</th>\n",
              "      <th>OverallCond</th>\n",
              "      <th>YearBuilt</th>\n",
              "      <th>YearRemodAdd</th>\n",
              "      <th>MasVnrArea</th>\n",
              "      <th>BsmtFinSF1</th>\n",
              "      <th>BsmtFinSF2</th>\n",
              "      <th>BsmtUnfSF</th>\n",
              "      <th>TotalBsmtSF</th>\n",
              "      <th>1stFlrSF</th>\n",
              "      <th>2ndFlrSF</th>\n",
              "      <th>LowQualFinSF</th>\n",
              "      <th>GrLivArea</th>\n",
              "      <th>BsmtFullBath</th>\n",
              "      <th>BsmtHalfBath</th>\n",
              "      <th>FullBath</th>\n",
              "      <th>HalfBath</th>\n",
              "      <th>BedroomAbvGr</th>\n",
              "      <th>KitchenAbvGr</th>\n",
              "      <th>TotRmsAbvGrd</th>\n",
              "      <th>Fireplaces</th>\n",
              "      <th>GarageYrBlt</th>\n",
              "      <th>GarageCars</th>\n",
              "      <th>GarageArea</th>\n",
              "      <th>WoodDeckSF</th>\n",
              "      <th>OpenPorchSF</th>\n",
              "      <th>EnclosedPorch</th>\n",
              "      <th>3SsnPorch</th>\n",
              "      <th>ScreenPorch</th>\n",
              "      <th>PoolArea</th>\n",
              "      <th>MiscVal</th>\n",
              "      <th>MoSold</th>\n",
              "      <th>YrSold</th>\n",
              "      <th>SalePrice</th>\n",
              "    </tr>\n",
              "  </thead>\n",
              "  <tbody>\n",
              "    <tr>\n",
              "      <th>count</th>\n",
              "      <td>1460.000000</td>\n",
              "      <td>1460.000000</td>\n",
              "      <td>1201.000000</td>\n",
              "      <td>1460.000000</td>\n",
              "      <td>1460.000000</td>\n",
              "      <td>1460.000000</td>\n",
              "      <td>1460.000000</td>\n",
              "      <td>1460.000000</td>\n",
              "      <td>1452.000000</td>\n",
              "      <td>1460.000000</td>\n",
              "      <td>1460.000000</td>\n",
              "      <td>1460.000000</td>\n",
              "      <td>1460.000000</td>\n",
              "      <td>1460.000000</td>\n",
              "      <td>1460.000000</td>\n",
              "      <td>1460.000000</td>\n",
              "      <td>1460.000000</td>\n",
              "      <td>1460.000000</td>\n",
              "      <td>1460.000000</td>\n",
              "      <td>1460.000000</td>\n",
              "      <td>1460.000000</td>\n",
              "      <td>1460.000000</td>\n",
              "      <td>1460.000000</td>\n",
              "      <td>1460.000000</td>\n",
              "      <td>1460.000000</td>\n",
              "      <td>1379.000000</td>\n",
              "      <td>1460.000000</td>\n",
              "      <td>1460.000000</td>\n",
              "      <td>1460.000000</td>\n",
              "      <td>1460.000000</td>\n",
              "      <td>1460.000000</td>\n",
              "      <td>1460.000000</td>\n",
              "      <td>1460.000000</td>\n",
              "      <td>1460.000000</td>\n",
              "      <td>1460.000000</td>\n",
              "      <td>1460.000000</td>\n",
              "      <td>1460.000000</td>\n",
              "      <td>1460.000000</td>\n",
              "    </tr>\n",
              "    <tr>\n",
              "      <th>mean</th>\n",
              "      <td>730.500000</td>\n",
              "      <td>56.897260</td>\n",
              "      <td>70.049958</td>\n",
              "      <td>10516.828082</td>\n",
              "      <td>6.099315</td>\n",
              "      <td>5.575342</td>\n",
              "      <td>1971.267808</td>\n",
              "      <td>1984.865753</td>\n",
              "      <td>103.685262</td>\n",
              "      <td>443.639726</td>\n",
              "      <td>46.549315</td>\n",
              "      <td>567.240411</td>\n",
              "      <td>1057.429452</td>\n",
              "      <td>1162.626712</td>\n",
              "      <td>346.992466</td>\n",
              "      <td>5.844521</td>\n",
              "      <td>1515.463699</td>\n",
              "      <td>0.425342</td>\n",
              "      <td>0.057534</td>\n",
              "      <td>1.565068</td>\n",
              "      <td>0.382877</td>\n",
              "      <td>2.866438</td>\n",
              "      <td>1.046575</td>\n",
              "      <td>6.517808</td>\n",
              "      <td>0.613014</td>\n",
              "      <td>1978.506164</td>\n",
              "      <td>1.767123</td>\n",
              "      <td>472.980137</td>\n",
              "      <td>94.244521</td>\n",
              "      <td>46.660274</td>\n",
              "      <td>21.954110</td>\n",
              "      <td>3.409589</td>\n",
              "      <td>15.060959</td>\n",
              "      <td>2.758904</td>\n",
              "      <td>43.489041</td>\n",
              "      <td>6.321918</td>\n",
              "      <td>2007.815753</td>\n",
              "      <td>180921.195890</td>\n",
              "    </tr>\n",
              "    <tr>\n",
              "      <th>std</th>\n",
              "      <td>421.610009</td>\n",
              "      <td>42.300571</td>\n",
              "      <td>24.284752</td>\n",
              "      <td>9981.264932</td>\n",
              "      <td>1.382997</td>\n",
              "      <td>1.112799</td>\n",
              "      <td>30.202904</td>\n",
              "      <td>20.645407</td>\n",
              "      <td>181.066207</td>\n",
              "      <td>456.098091</td>\n",
              "      <td>161.319273</td>\n",
              "      <td>441.866955</td>\n",
              "      <td>438.705324</td>\n",
              "      <td>386.587738</td>\n",
              "      <td>436.528436</td>\n",
              "      <td>48.623081</td>\n",
              "      <td>525.480383</td>\n",
              "      <td>0.518911</td>\n",
              "      <td>0.238753</td>\n",
              "      <td>0.550916</td>\n",
              "      <td>0.502885</td>\n",
              "      <td>0.815778</td>\n",
              "      <td>0.220338</td>\n",
              "      <td>1.625393</td>\n",
              "      <td>0.644666</td>\n",
              "      <td>24.689725</td>\n",
              "      <td>0.747315</td>\n",
              "      <td>213.804841</td>\n",
              "      <td>125.338794</td>\n",
              "      <td>66.256028</td>\n",
              "      <td>61.119149</td>\n",
              "      <td>29.317331</td>\n",
              "      <td>55.757415</td>\n",
              "      <td>40.177307</td>\n",
              "      <td>496.123024</td>\n",
              "      <td>2.703626</td>\n",
              "      <td>1.328095</td>\n",
              "      <td>79442.502883</td>\n",
              "    </tr>\n",
              "    <tr>\n",
              "      <th>min</th>\n",
              "      <td>1.000000</td>\n",
              "      <td>20.000000</td>\n",
              "      <td>21.000000</td>\n",
              "      <td>1300.000000</td>\n",
              "      <td>1.000000</td>\n",
              "      <td>1.000000</td>\n",
              "      <td>1872.000000</td>\n",
              "      <td>1950.000000</td>\n",
              "      <td>0.000000</td>\n",
              "      <td>0.000000</td>\n",
              "      <td>0.000000</td>\n",
              "      <td>0.000000</td>\n",
              "      <td>0.000000</td>\n",
              "      <td>334.000000</td>\n",
              "      <td>0.000000</td>\n",
              "      <td>0.000000</td>\n",
              "      <td>334.000000</td>\n",
              "      <td>0.000000</td>\n",
              "      <td>0.000000</td>\n",
              "      <td>0.000000</td>\n",
              "      <td>0.000000</td>\n",
              "      <td>0.000000</td>\n",
              "      <td>0.000000</td>\n",
              "      <td>2.000000</td>\n",
              "      <td>0.000000</td>\n",
              "      <td>1900.000000</td>\n",
              "      <td>0.000000</td>\n",
              "      <td>0.000000</td>\n",
              "      <td>0.000000</td>\n",
              "      <td>0.000000</td>\n",
              "      <td>0.000000</td>\n",
              "      <td>0.000000</td>\n",
              "      <td>0.000000</td>\n",
              "      <td>0.000000</td>\n",
              "      <td>0.000000</td>\n",
              "      <td>1.000000</td>\n",
              "      <td>2006.000000</td>\n",
              "      <td>34900.000000</td>\n",
              "    </tr>\n",
              "    <tr>\n",
              "      <th>25%</th>\n",
              "      <td>365.750000</td>\n",
              "      <td>20.000000</td>\n",
              "      <td>59.000000</td>\n",
              "      <td>7553.500000</td>\n",
              "      <td>5.000000</td>\n",
              "      <td>5.000000</td>\n",
              "      <td>1954.000000</td>\n",
              "      <td>1967.000000</td>\n",
              "      <td>0.000000</td>\n",
              "      <td>0.000000</td>\n",
              "      <td>0.000000</td>\n",
              "      <td>223.000000</td>\n",
              "      <td>795.750000</td>\n",
              "      <td>882.000000</td>\n",
              "      <td>0.000000</td>\n",
              "      <td>0.000000</td>\n",
              "      <td>1129.500000</td>\n",
              "      <td>0.000000</td>\n",
              "      <td>0.000000</td>\n",
              "      <td>1.000000</td>\n",
              "      <td>0.000000</td>\n",
              "      <td>2.000000</td>\n",
              "      <td>1.000000</td>\n",
              "      <td>5.000000</td>\n",
              "      <td>0.000000</td>\n",
              "      <td>1961.000000</td>\n",
              "      <td>1.000000</td>\n",
              "      <td>334.500000</td>\n",
              "      <td>0.000000</td>\n",
              "      <td>0.000000</td>\n",
              "      <td>0.000000</td>\n",
              "      <td>0.000000</td>\n",
              "      <td>0.000000</td>\n",
              "      <td>0.000000</td>\n",
              "      <td>0.000000</td>\n",
              "      <td>5.000000</td>\n",
              "      <td>2007.000000</td>\n",
              "      <td>129975.000000</td>\n",
              "    </tr>\n",
              "    <tr>\n",
              "      <th>50%</th>\n",
              "      <td>730.500000</td>\n",
              "      <td>50.000000</td>\n",
              "      <td>69.000000</td>\n",
              "      <td>9478.500000</td>\n",
              "      <td>6.000000</td>\n",
              "      <td>5.000000</td>\n",
              "      <td>1973.000000</td>\n",
              "      <td>1994.000000</td>\n",
              "      <td>0.000000</td>\n",
              "      <td>383.500000</td>\n",
              "      <td>0.000000</td>\n",
              "      <td>477.500000</td>\n",
              "      <td>991.500000</td>\n",
              "      <td>1087.000000</td>\n",
              "      <td>0.000000</td>\n",
              "      <td>0.000000</td>\n",
              "      <td>1464.000000</td>\n",
              "      <td>0.000000</td>\n",
              "      <td>0.000000</td>\n",
              "      <td>2.000000</td>\n",
              "      <td>0.000000</td>\n",
              "      <td>3.000000</td>\n",
              "      <td>1.000000</td>\n",
              "      <td>6.000000</td>\n",
              "      <td>1.000000</td>\n",
              "      <td>1980.000000</td>\n",
              "      <td>2.000000</td>\n",
              "      <td>480.000000</td>\n",
              "      <td>0.000000</td>\n",
              "      <td>25.000000</td>\n",
              "      <td>0.000000</td>\n",
              "      <td>0.000000</td>\n",
              "      <td>0.000000</td>\n",
              "      <td>0.000000</td>\n",
              "      <td>0.000000</td>\n",
              "      <td>6.000000</td>\n",
              "      <td>2008.000000</td>\n",
              "      <td>163000.000000</td>\n",
              "    </tr>\n",
              "    <tr>\n",
              "      <th>75%</th>\n",
              "      <td>1095.250000</td>\n",
              "      <td>70.000000</td>\n",
              "      <td>80.000000</td>\n",
              "      <td>11601.500000</td>\n",
              "      <td>7.000000</td>\n",
              "      <td>6.000000</td>\n",
              "      <td>2000.000000</td>\n",
              "      <td>2004.000000</td>\n",
              "      <td>166.000000</td>\n",
              "      <td>712.250000</td>\n",
              "      <td>0.000000</td>\n",
              "      <td>808.000000</td>\n",
              "      <td>1298.250000</td>\n",
              "      <td>1391.250000</td>\n",
              "      <td>728.000000</td>\n",
              "      <td>0.000000</td>\n",
              "      <td>1776.750000</td>\n",
              "      <td>1.000000</td>\n",
              "      <td>0.000000</td>\n",
              "      <td>2.000000</td>\n",
              "      <td>1.000000</td>\n",
              "      <td>3.000000</td>\n",
              "      <td>1.000000</td>\n",
              "      <td>7.000000</td>\n",
              "      <td>1.000000</td>\n",
              "      <td>2002.000000</td>\n",
              "      <td>2.000000</td>\n",
              "      <td>576.000000</td>\n",
              "      <td>168.000000</td>\n",
              "      <td>68.000000</td>\n",
              "      <td>0.000000</td>\n",
              "      <td>0.000000</td>\n",
              "      <td>0.000000</td>\n",
              "      <td>0.000000</td>\n",
              "      <td>0.000000</td>\n",
              "      <td>8.000000</td>\n",
              "      <td>2009.000000</td>\n",
              "      <td>214000.000000</td>\n",
              "    </tr>\n",
              "    <tr>\n",
              "      <th>max</th>\n",
              "      <td>1460.000000</td>\n",
              "      <td>190.000000</td>\n",
              "      <td>313.000000</td>\n",
              "      <td>215245.000000</td>\n",
              "      <td>10.000000</td>\n",
              "      <td>9.000000</td>\n",
              "      <td>2010.000000</td>\n",
              "      <td>2010.000000</td>\n",
              "      <td>1600.000000</td>\n",
              "      <td>5644.000000</td>\n",
              "      <td>1474.000000</td>\n",
              "      <td>2336.000000</td>\n",
              "      <td>6110.000000</td>\n",
              "      <td>4692.000000</td>\n",
              "      <td>2065.000000</td>\n",
              "      <td>572.000000</td>\n",
              "      <td>5642.000000</td>\n",
              "      <td>3.000000</td>\n",
              "      <td>2.000000</td>\n",
              "      <td>3.000000</td>\n",
              "      <td>2.000000</td>\n",
              "      <td>8.000000</td>\n",
              "      <td>3.000000</td>\n",
              "      <td>14.000000</td>\n",
              "      <td>3.000000</td>\n",
              "      <td>2010.000000</td>\n",
              "      <td>4.000000</td>\n",
              "      <td>1418.000000</td>\n",
              "      <td>857.000000</td>\n",
              "      <td>547.000000</td>\n",
              "      <td>552.000000</td>\n",
              "      <td>508.000000</td>\n",
              "      <td>480.000000</td>\n",
              "      <td>738.000000</td>\n",
              "      <td>15500.000000</td>\n",
              "      <td>12.000000</td>\n",
              "      <td>2010.000000</td>\n",
              "      <td>755000.000000</td>\n",
              "    </tr>\n",
              "  </tbody>\n",
              "</table>\n",
              "</div>"
            ],
            "text/plain": [
              "                Id   MSSubClass  ...       YrSold      SalePrice\n",
              "count  1460.000000  1460.000000  ...  1460.000000    1460.000000\n",
              "mean    730.500000    56.897260  ...  2007.815753  180921.195890\n",
              "std     421.610009    42.300571  ...     1.328095   79442.502883\n",
              "min       1.000000    20.000000  ...  2006.000000   34900.000000\n",
              "25%     365.750000    20.000000  ...  2007.000000  129975.000000\n",
              "50%     730.500000    50.000000  ...  2008.000000  163000.000000\n",
              "75%    1095.250000    70.000000  ...  2009.000000  214000.000000\n",
              "max    1460.000000   190.000000  ...  2010.000000  755000.000000\n",
              "\n",
              "[8 rows x 38 columns]"
            ]
          },
          "metadata": {
            "tags": []
          },
          "execution_count": 2
        }
      ]
    },
    {
      "cell_type": "code",
      "metadata": {
        "trusted": true,
        "scrolled": true,
        "_uuid": "e79d47658b82d49905c39b7e66e3fcf03a86ced2",
        "id": "7rPpghd2iqw7",
        "colab_type": "code",
        "outputId": "0bf74625-7224-4745-ff35-960b932f7bbe",
        "colab": {
          "base_uri": "https://localhost:8080/",
          "height": 51
        }
      },
      "source": [
        "print (\"Size of train data : {}\" .format(train.shape))\n",
        "\n",
        "print (\"Size of test data : {}\" .format(test.shape))"
      ],
      "execution_count": 3,
      "outputs": [
        {
          "output_type": "stream",
          "text": [
            "Size of train data : (1460, 81)\n",
            "Size of test data : (1459, 80)\n"
          ],
          "name": "stdout"
        }
      ]
    },
    {
      "cell_type": "markdown",
      "metadata": {
        "_uuid": "99ad10c6432a461389c5c9b5ffe2f56ceb70d7a9",
        "id": "xROvLWbdiqw-",
        "colab_type": "text"
      },
      "source": [
        "> That is a very large data set! We are going to have to do a lot of work to clean it up\n",
        "\n",
        "**Drop the Id column because we dont need it currently.**"
      ]
    },
    {
      "cell_type": "code",
      "metadata": {
        "trusted": true,
        "_uuid": "1209490182f8356c09e7f43c1834f18e9ec8ba9e",
        "id": "_-XqPO8Fiqw_",
        "colab_type": "code",
        "colab": {}
      },
      "source": [
        "#Save the 'Id' column\n",
        "train_ID = train['Id']\n",
        "test_ID = test['Id']\n",
        "\n",
        "#Now drop the  'Id' colum since it's unnecessary for  the prediction process.\n",
        "train.drop(\"Id\", axis = 1, inplace = True)\n",
        "test.drop(\"Id\", axis = 1, inplace = True)"
      ],
      "execution_count": 0,
      "outputs": []
    },
    {
      "cell_type": "code",
      "metadata": {
        "trusted": true,
        "_uuid": "fca66e4aa038a4310fc6b70122b7e184ee0b765f",
        "scrolled": true,
        "id": "HuVGRACiiqxC",
        "colab_type": "code",
        "outputId": "0baed468-8252-4e6e-eee4-f472184fdbd3",
        "colab": {
          "base_uri": "https://localhost:8080/",
          "height": 51
        }
      },
      "source": [
        "print (\"Size of train data after dropping Id: {}\" .format(train.shape))\n",
        "print (\"Size of test data after dropping Id: {}\" .format(test.shape))"
      ],
      "execution_count": 5,
      "outputs": [
        {
          "output_type": "stream",
          "text": [
            "Size of train data after dropping Id: (1460, 80)\n",
            "Size of test data after dropping Id: (1459, 79)\n"
          ],
          "name": "stdout"
        }
      ]
    },
    {
      "cell_type": "markdown",
      "metadata": {
        "_uuid": "adab25c81ca5515fa0dea82196134266e769e933",
        "id": "ZU-4aWN8iqxF",
        "colab_type": "text"
      },
      "source": [
        "## Dealing with outliers\n",
        "\n",
        "Outlinear in the GrLivArea is recommended by the author of the data  to remove it. The author says in documentation “I would recommend removing any houses with more than 4000 square feet from the data set (which eliminates these five unusual observations) before assigning it to students.”\n"
      ]
    },
    {
      "cell_type": "code",
      "metadata": {
        "trusted": true,
        "_uuid": "589e1b7432290d42ec3ba5f527000d6de5c7fa90",
        "scrolled": true,
        "id": "rRYv3VtDiqxG",
        "colab_type": "code",
        "outputId": "66109c72-90a9-4b21-b0d2-9bd01e2be1b0",
        "colab": {
          "base_uri": "https://localhost:8080/",
          "height": 286
        }
      },
      "source": [
        "fig, ax = plt.subplots()\n",
        "ax.scatter(x = train['GrLivArea'], y = train['SalePrice'])\n",
        "plt.ylabel('SalePrice', fontsize=13)\n",
        "plt.xlabel('GrLivArea', fontsize=13)\n",
        "plt.show()"
      ],
      "execution_count": 6,
      "outputs": [
        {
          "output_type": "display_data",
          "data": {
            "image/png": "[encoded data removed]",
            "text/plain": [
              "<Figure size 432x288 with 1 Axes>"
            ]
          },
          "metadata": {
            "tags": []
          }
        }
      ]
    },
    {
      "cell_type": "markdown",
      "metadata": {
        "_uuid": "190cfe132f4616d905bba693b79b49fde3e89319",
        "id": "l2S8f-ltiqxJ",
        "colab_type": "text"
      },
      "source": [
        "We can see that there are outlinear with low SalePrice and high GrLivArea. This looks odd.\n",
        "We need to remove it."
      ]
    },
    {
      "cell_type": "code",
      "metadata": {
        "trusted": true,
        "_uuid": "e215c8fe40fdcbefa4480a4ac0a8c2adf4f68a5e",
        "id": "XML0L6-aiqxK",
        "colab_type": "code",
        "colab": {}
      },
      "source": [
        "#Deleting outliers\n",
        "train = train.drop(train[(train['GrLivArea']>4000) & (train['SalePrice']<300000)].index)"
      ],
      "execution_count": 0,
      "outputs": []
    },
    {
      "cell_type": "markdown",
      "metadata": {
        "_uuid": "502ebe387edeeeb1e4a3f454d5dd004645a07e75",
        "id": "gAxw0uQFiqxO",
        "colab_type": "text"
      },
      "source": [
        "## Correlation Analysis\n",
        "\n",
        "Let see the most correlated features."
      ]
    },
    {
      "cell_type": "code",
      "metadata": {
        "trusted": true,
        "_uuid": "aa18c6e3a818d58c4a14addedb21888a2ec610cb",
        "scrolled": true,
        "id": "4r8Gw-e8iqxP",
        "colab_type": "code",
        "outputId": "70bb6217-6a5b-4208-cd86-1ea6336fdf44",
        "colab": {
          "base_uri": "https://localhost:8080/",
          "height": 662
        }
      },
      "source": [
        "# most correlated features\n",
        "corrmat = train.corr()\n",
        "top_corr_features = corrmat.index[abs(corrmat[\"SalePrice\"])>0.5]\n",
        "plt.figure(figsize=(10,10))\n",
        "g = sns.heatmap(train[top_corr_features].corr(),annot=True,cmap=\"RdYlGn\")"
      ],
      "execution_count": 8,
      "outputs": [
        {
          "output_type": "display_data",
          "data": {
            "image/png": "[encoded data removed]",
            "text/plain": [
              "<Figure size 720x720 with 2 Axes>"
            ]
          },
          "metadata": {
            "tags": []
          }
        }
      ]
    },
    {
      "cell_type": "markdown",
      "metadata": {
        "_uuid": "784b45b84c0d1fe24b7476907a871556f657d1df",
        "id": "FegvGCKjiqxU",
        "colab_type": "text"
      },
      "source": [
        "- From this we can tell which features **(OverallQual, GrLivArea and TotalBsmtSF )** are highly positively correlated with the SalePrice. \n",
        "- **GarageCars and GarageArea ** also seems correlated with other, Since the no. of car that will fit into the garage will depend on GarageArea. "
      ]
    },
    {
      "cell_type": "code",
      "metadata": {
        "trusted": true,
        "scrolled": false,
        "_uuid": "2a7ab1e4534d622b1fd8d1a9c656607c7243b24a",
        "id": "J9-RJsgmiqxV",
        "colab_type": "code",
        "outputId": "b2544d24-bced-485c-e3e1-909789943f3b",
        "colab": {
          "base_uri": "https://localhost:8080/",
          "height": 300
        }
      },
      "source": [
        "sns.barplot(train.OverallQual,train.SalePrice)"
      ],
      "execution_count": 9,
      "outputs": [
        {
          "output_type": "execute_result",
          "data": {
            "text/plain": [
              "<matplotlib.axes._subplots.AxesSubplot at 0x7ff85b3f8160>"
            ]
          },
          "metadata": {
            "tags": []
          },
          "execution_count": 9
        },
        {
          "output_type": "display_data",
          "data": {
            "image/png": "[encoded data removed]",
            "text/plain": [
              "<Figure size 432x288 with 1 Axes>"
            ]
          },
          "metadata": {
            "tags": []
          }
        }
      ]
    },
    {
      "cell_type": "markdown",
      "metadata": {
        "_uuid": "8c066456b14f788bd5f85f7ffbb271f039df4b18",
        "id": "JItmYTaviqxY",
        "colab_type": "text"
      },
      "source": [
        "**Scatter plots between 'SalePrice' and correlated variables**"
      ]
    },
    {
      "cell_type": "code",
      "metadata": {
        "trusted": true,
        "_uuid": "df041ffe64ef1807796a75237a79fe846d73be82",
        "scrolled": false,
        "id": "R24rjSJkiqxY",
        "colab_type": "code",
        "outputId": "9ed8d058-2da4-4ffe-865a-95b76038ae80",
        "colab": {
          "base_uri": "https://localhost:8080/",
          "height": 1285
        }
      },
      "source": [
        "sns.set()\n",
        "cols = ['SalePrice', 'OverallQual', 'GrLivArea', 'GarageCars', 'TotalBsmtSF', 'FullBath', 'YearBuilt']\n",
        "sns.pairplot(train[cols], size = 2.5)\n",
        "plt.show();"
      ],
      "execution_count": 10,
      "outputs": [
        {
          "output_type": "display_data",
          "data": {
            "image/png": "[encoded data removed]",
            "text/plain": [
              "<Figure size 1260x1260 with 56 Axes>"
            ]
          },
          "metadata": {
            "tags": []
          }
        }
      ]
    },
    {
      "cell_type": "markdown",
      "metadata": {
        "_uuid": "a3d3e339ff75571f28b9c2787d3c56ab2a9895e9",
        "id": "EMJBB43diqxb",
        "colab_type": "text"
      },
      "source": [
        "One of the figures we may find interesting is the one between ** 'TotalBsmtSF' and 'GrLiveArea'. **\n",
        "\n",
        "We can see the dots drawing a linear line, which almost acts like a border. It totally makes sense that the majority of the dots stay below that line. Basement areas can be equal to the above ground living area, but it is not expected a basement area bigger than the above ground living area"
      ]
    },
    {
      "cell_type": "code",
      "metadata": {
        "trusted": true,
        "scrolled": true,
        "_uuid": "535da1efb310261ff5d59751be4b267ddf1bcd6c",
        "id": "bXsnMYsqiqxc",
        "colab_type": "code",
        "outputId": "63772584-6c99-4936-d648-7db1058ee576",
        "colab": {
          "base_uri": "https://localhost:8080/",
          "height": 308
        }
      },
      "source": [
        "sns.scatterplot(train.GrLivArea,train.TotalBsmtSF)"
      ],
      "execution_count": 11,
      "outputs": [
        {
          "output_type": "execute_result",
          "data": {
            "text/plain": [
              "<matplotlib.axes._subplots.AxesSubplot at 0x7ff857915400>"
            ]
          },
          "metadata": {
            "tags": []
          },
          "execution_count": 11
        },
        {
          "output_type": "display_data",
          "data": {
            "image/png": "[encoded data removed]",
            "text/plain": [
              "<Figure size 432x288 with 1 Axes>"
            ]
          },
          "metadata": {
            "tags": []
          }
        }
      ]
    },
    {
      "cell_type": "markdown",
      "metadata": {
        "_uuid": "7a8333803c5f5efb2fee696d0a2e50429858e575",
        "id": "czs-lOtRiqxf",
        "colab_type": "text"
      },
      "source": [
        "## Target Variable Transform\n",
        "Different features in the data set may have values in different ranges. For example, in this data set, the range of SalePrice feature may lie from thousands to lakhs but the range of values of YearBlt feature will be in thousands. That means a column is more weighted compared to other.\n",
        "\n",
        "**Lets check the skewness of data**\n",
        "![Skew](https://cdn-images-1.medium.com/max/800/1*hxVvqttoCSkUT2_R1zA0Tg.gif)"
      ]
    },
    {
      "cell_type": "code",
      "metadata": {
        "trusted": true,
        "scrolled": true,
        "_uuid": "3e82f95ef5565aadf0ad956f3f70a6fd8a40fe13",
        "id": "SmT78XV-iqxg",
        "colab_type": "code",
        "outputId": "43bc214e-0260-43df-c826-bf506c709059",
        "colab": {
          "base_uri": "https://localhost:8080/",
          "height": 0
        }
      },
      "source": [
        "def check_skewness(col):\n",
        "    sns.distplot(train[col] , fit=norm);\n",
        "    fig = plt.figure()\n",
        "    res = stats.probplot(train[col], plot=plt)\n",
        "    # Get the fitted parameters used by the function\n",
        "    (mu, sigma) = norm.fit(train[col])\n",
        "    print( '\\n mu = {:.2f} and sigma = {:.2f}\\n'.format(mu, sigma))\n",
        "    \n",
        "check_skewness('SalePrice')"
      ],
      "execution_count": 12,
      "outputs": [
        {
          "output_type": "stream",
          "text": [
            "\n",
            " mu = 180932.92 and sigma = 79467.79\n",
            "\n"
          ],
          "name": "stdout"
        },
        {
          "output_type": "display_data",
          "data": {
            "image/png": "[encoded data removed]",
            "text/plain": [
              "<Figure size 432x288 with 1 Axes>"
            ]
          },
          "metadata": {
            "tags": []
          }
        },
        {
          "output_type": "display_data",
          "data": {
            "image/png": "[encoded data removed]",
            "text/plain": [
              "<Figure size 432x288 with 1 Axes>"
            ]
          },
          "metadata": {
            "tags": []
          }
        }
      ]
    },
    {
      "cell_type": "markdown",
      "metadata": {
        "_uuid": "c368eceae3e58e9b7ef37bb36737e90a1aa4d87b",
        "id": "xK8FALq8iqxj",
        "colab_type": "text"
      },
      "source": [
        "**This distribution is positively skewed.** Notice that the black curve is more deviated towards the right. If you encounter that your predictive (response) variable is skewed, it is **recommended to fix the skewness** to make good decisions by the model.\n",
        "\n",
        "## Okay, So how do I fix the skewness?\n",
        "The best way to fix it is to perform a **log transform** of the same data, with the intent to reduce the skewness."
      ]
    },
    {
      "cell_type": "code",
      "metadata": {
        "trusted": true,
        "scrolled": true,
        "_uuid": "ad4524d38a8b0c31b3bac90b40daaa558cf7e91c",
        "id": "3eCY9CT2iqxj",
        "colab_type": "code",
        "outputId": "98ba13db-4540-41f4-81d0-823d28aa752b",
        "colab": {
          "base_uri": "https://localhost:8080/",
          "height": 626
        }
      },
      "source": [
        "#We use the numpy fuction log1p which  applies log(1+x) to all elements of the column\n",
        "train[\"SalePrice\"] = np.log1p(train[\"SalePrice\"])\n",
        "\n",
        "check_skewness('SalePrice')"
      ],
      "execution_count": 13,
      "outputs": [
        {
          "output_type": "stream",
          "text": [
            "\n",
            " mu = 12.02 and sigma = 0.40\n",
            "\n"
          ],
          "name": "stdout"
        },
        {
          "output_type": "display_data",
          "data": {
            "image/png": "[encoded data removed]",
            "text/plain": [
              "<Figure size 432x288 with 1 Axes>"
            ]
          },
          "metadata": {
            "tags": []
          }
        },
        {
          "output_type": "display_data",
          "data": {
            "image/png": "[encoded data removed]",
            "text/plain": [
              "<Figure size 432x288 with 1 Axes>"
            ]
          },
          "metadata": {
            "tags": []
          }
        }
      ]
    },
    {
      "cell_type": "markdown",
      "metadata": {
        "_uuid": "fe44621d16a89a2bca2543638690a27e23cee36f",
        "id": "z_gDxbeaiqxm",
        "colab_type": "text"
      },
      "source": [
        "After taking logarithm of the same data the curve seems to be normally distributed, although not perfectly normal, this is sufficient to fix the issues from a skewed dataset as we saw before.\n",
        "\n",
        "**Important : If you log transform the response variable, it is required to also log transform feature variables that are skewed.**"
      ]
    },
    {
      "cell_type": "markdown",
      "metadata": {
        "_uuid": "c814c57999220ce366d39db839cb4d4b9374198a",
        "id": "gj7-Inltiqxn",
        "colab_type": "text"
      },
      "source": [
        "# Feature Engineering"
      ]
    },
    {
      "cell_type": "markdown",
      "metadata": {
        "_uuid": "c5370e7b469139b439350faed9cf17ef01af1516",
        "id": "lZNx6dWeiqxo",
        "colab_type": "text"
      },
      "source": [
        "Here is the [Documentation](http://ww2.amstat.org/publications/jse/v19n3/Decock/DataDocumentation.txt) you can refer , to know more about the dataset.\n",
        "\n",
        "**Concatenate both train and test values.**"
      ]
    },
    {
      "cell_type": "code",
      "metadata": {
        "trusted": true,
        "_uuid": "039f107f3a6b7379ff2627d48ab98c22737825f9",
        "id": "OI3V70haiqxp",
        "colab_type": "code",
        "outputId": "a132daaa-9a44-42b1-b9ff-c592fc2530b8",
        "colab": {
          "base_uri": "https://localhost:8080/",
          "height": 0
        }
      },
      "source": [
        "ntrain = train.shape[0]\n",
        "ntest = test.shape[0]\n",
        "y_train = train.SalePrice.values\n",
        "all_data = pd.concat((train, test)).reset_index(drop=True)\n",
        "all_data.drop(['SalePrice'], axis=1, inplace=True)\n",
        "print(\"all_data size is : {}\".format(all_data.shape))"
      ],
      "execution_count": 14,
      "outputs": [
        {
          "output_type": "stream",
          "text": [
            "all_data size is : (2917, 79)\n"
          ],
          "name": "stdout"
        }
      ]
    },
    {
      "cell_type": "markdown",
      "metadata": {
        "_uuid": "7a6776afb61d2a1637e3003204671d0c0c013ebf",
        "id": "k1rGxwJsiqxu",
        "colab_type": "text"
      },
      "source": [
        "# Missing Data"
      ]
    },
    {
      "cell_type": "code",
      "metadata": {
        "trusted": true,
        "_uuid": "ad3c34ad8df7a1bbb2b818a1aa0750f91645956f",
        "id": "ab-01KVTiqxx",
        "colab_type": "code",
        "colab": {}
      },
      "source": [
        "all_data_na = (all_data.isnull().sum() / len(all_data)) * 100\n",
        "all_data_na = all_data_na.drop(all_data_na[all_data_na == 0].index).sort_values(ascending=False)[:30]\n",
        "missing_data = pd.DataFrame({'Missing Ratio' :all_data_na})"
      ],
      "execution_count": 0,
      "outputs": []
    },
    {
      "cell_type": "code",
      "metadata": {
        "trusted": true,
        "_uuid": "30af0ffa63d2424affea6028b53c9709e08e0099",
        "scrolled": true,
        "id": "00KHc7KIiqx3",
        "colab_type": "code",
        "outputId": "79f36a0e-664f-4b98-c9aa-7a1a3383c3c6",
        "colab": {
          "base_uri": "https://localhost:8080/",
          "height": 0
        }
      },
      "source": [
        "f, ax = plt.subplots(figsize=(15, 12))\n",
        "plt.xticks(rotation='90')\n",
        "sns.barplot(x=all_data_na.index, y=all_data_na)\n",
        "plt.xlabel('Features', fontsize=15)\n",
        "plt.ylabel('Percent of missing values', fontsize=15)\n",
        "plt.title('Percent missing data by feature', fontsize=15)"
      ],
      "execution_count": 16,
      "outputs": [
        {
          "output_type": "execute_result",
          "data": {
            "text/plain": [
              "Text(0.5, 1.0, 'Percent missing data by feature')"
            ]
          },
          "metadata": {
            "tags": []
          },
          "execution_count": 16
        },
        {
          "output_type": "display_data",
          "data": {
            "image/png": "[encoded data removed]",
            "text/plain": [
              "<Figure size 1080x864 with 1 Axes>"
            ]
          },
          "metadata": {
            "tags": []
          }
        }
      ]
    },
    {
      "cell_type": "code",
      "metadata": {
        "trusted": true,
        "_uuid": "00773902333384da2515e01f5cd550d5c6a6812f",
        "scrolled": true,
        "id": "3KM9yjJjiqx7",
        "colab_type": "code",
        "outputId": "6cbc6428-6470-4751-bc7c-9c48fc3aaf64",
        "colab": {
          "base_uri": "https://localhost:8080/",
          "height": 0
        }
      },
      "source": [
        "all_data.PoolQC.loc[all_data.PoolQC.notnull()]"
      ],
      "execution_count": 17,
      "outputs": [
        {
          "output_type": "execute_result",
          "data": {
            "text/plain": [
              "197     Ex\n",
              "809     Fa\n",
              "1169    Gd\n",
              "1181    Ex\n",
              "1384    Fa\n",
              "1421    Gd\n",
              "1972    Ex\n",
              "2571    Ex\n",
              "2708    Gd\n",
              "Name: PoolQC, dtype: object"
            ]
          },
          "metadata": {
            "tags": []
          },
          "execution_count": 17
        }
      ]
    },
    {
      "cell_type": "markdown",
      "metadata": {
        "_uuid": "116000b37a24504895a7b8c7f50bb05831f203c8",
        "id": "9QOsPPVSiqx_",
        "colab_type": "text"
      },
      "source": [
        "**GarageType,  GarageFinish, GarageQual,  GarageCond, GarageYrBlt,  GarageArea,  GarageCars  these all features have same percentage of null values.**"
      ]
    },
    {
      "cell_type": "markdown",
      "metadata": {
        "_uuid": "8e2db4ef580f375e4dc7182afd83da4efea5241f",
        "id": "o6ZVUMN9iqyB",
        "colab_type": "text"
      },
      "source": [
        "# Handle Missing Data"
      ]
    },
    {
      "cell_type": "markdown",
      "metadata": {
        "_uuid": "226670f827161cbd4cd5f15c8fae4c83490f851f",
        "id": "sPmNk3YtiqyB",
        "colab_type": "text"
      },
      "source": [
        "Since PoolQC has the highest null values according to the data documentation says **null values means 'No Pool.**\n",
        "Since majority of houses has no pool.\n",
        "So we will replace those null values with 'None'."
      ]
    },
    {
      "cell_type": "code",
      "metadata": {
        "trusted": true,
        "_uuid": "e94513f7cb4dfd3f5e87774b736a39fa1e65a66b",
        "id": "Xen7HAUWiqyC",
        "colab_type": "code",
        "colab": {}
      },
      "source": [
        "all_data[\"PoolQC\"] = all_data[\"PoolQC\"].fillna(\"None\")"
      ],
      "execution_count": 0,
      "outputs": []
    },
    {
      "cell_type": "markdown",
      "metadata": {
        "_uuid": "f0f24b2ecc5283adf1b777b4b6209ecaba69d2f9",
        "id": "NFhAjuF4iqyG",
        "colab_type": "text"
      },
      "source": [
        "* **MiscFeature** : Data documentation says NA means \"no misc feature\""
      ]
    },
    {
      "cell_type": "code",
      "metadata": {
        "trusted": true,
        "_uuid": "f8be0d01feb00595640a0ae90db0d877d361b46a",
        "id": "hSCqGkgbiqyH",
        "colab_type": "code",
        "colab": {}
      },
      "source": [
        "all_data[\"MiscFeature\"] = all_data[\"MiscFeature\"].fillna(\"None\")"
      ],
      "execution_count": 0,
      "outputs": []
    },
    {
      "cell_type": "markdown",
      "metadata": {
        "_uuid": "22dd51000c69deb9b7debe72ec800cbd42d731e4",
        "id": "5BGiV5tziqyL",
        "colab_type": "text"
      },
      "source": [
        "* **Alley** : data description says NA means \"no alley access\"\n"
      ]
    },
    {
      "cell_type": "code",
      "metadata": {
        "trusted": true,
        "_uuid": "09c05ccc29ed49353365d6a0f74d715cb3b4e4da",
        "id": "JeS8gS9KiqyM",
        "colab_type": "code",
        "colab": {}
      },
      "source": [
        "all_data[\"Alley\"] = all_data[\"Alley\"].fillna(\"None\")"
      ],
      "execution_count": 0,
      "outputs": []
    },
    {
      "cell_type": "markdown",
      "metadata": {
        "_uuid": "0b54e59904fc40a3bc1a1a937c890c145cef6f87",
        "id": "UHqJQNctiqyO",
        "colab_type": "text"
      },
      "source": [
        "* **Fence** : data description says NA means \"no fence\"\n"
      ]
    },
    {
      "cell_type": "code",
      "metadata": {
        "trusted": true,
        "_uuid": "c7bfad1d5982ea62ed418b5a556f5da363c8f99d",
        "id": "g6N5OCKwiqyP",
        "colab_type": "code",
        "colab": {}
      },
      "source": [
        "all_data[\"Fence\"] = all_data[\"Fence\"].fillna(\"None\")"
      ],
      "execution_count": 0,
      "outputs": []
    },
    {
      "cell_type": "markdown",
      "metadata": {
        "_uuid": "ebfb8252b25107a6417882fb5244a8e808bdf324",
        "id": "TsXFcWQFiqyR",
        "colab_type": "text"
      },
      "source": [
        "* **FireplaceQu** : data description says NA means \"no fireplace\""
      ]
    },
    {
      "cell_type": "code",
      "metadata": {
        "trusted": true,
        "_uuid": "2eb64243b5e2eb759411e21d0d8e0c80cc6d16f7",
        "id": "UNbhdc86iqyS",
        "colab_type": "code",
        "colab": {}
      },
      "source": [
        "all_data[\"FireplaceQu\"] = all_data[\"FireplaceQu\"].fillna(\"None\")"
      ],
      "execution_count": 0,
      "outputs": []
    },
    {
      "cell_type": "markdown",
      "metadata": {
        "trusted": true,
        "_uuid": "af166059bccd2bcc56d684f233a7b9a8a9c2e6ea",
        "id": "JelmCD7RiqyU",
        "colab_type": "text"
      },
      "source": [
        "* **LotFrontage** : Since the area of each street connected to the house property most likely have a similar area to other houses in its neighborhood , we can fill in missing values by the median LotFrontage of the neighborhood."
      ]
    },
    {
      "cell_type": "code",
      "metadata": {
        "trusted": true,
        "_uuid": "3ae0bce2d27efc9ed1eb629a73f93c643f309c66",
        "scrolled": false,
        "_kg_hide-input": true,
        "id": "4rx6GBMjiqyW",
        "colab_type": "code",
        "outputId": "09071b4d-8df4-4765-959b-b5740c84bc13",
        "colab": {
          "base_uri": "https://localhost:8080/",
          "height": 0
        }
      },
      "source": [
        "# Grouping by Neighborhood and Check the LotFrontage. Most of the grouping has similar areas\n",
        "grouped_df = all_data.groupby('Neighborhood')['LotFrontage']\n",
        "\n",
        "for key, item in grouped_df:\n",
        "    print(key,\"\\n\")\n",
        "    print(grouped_df.get_group(key))\n",
        "    break"
      ],
      "execution_count": 23,
      "outputs": [
        {
          "output_type": "stream",
          "text": [
            "Blmngtn \n",
            "\n",
            "219     43.0\n",
            "229     43.0\n",
            "385     43.0\n",
            "443     53.0\n",
            "465      NaN\n",
            "558      NaN\n",
            "596     53.0\n",
            "638     53.0\n",
            "789     43.0\n",
            "850      NaN\n",
            "981     43.0\n",
            "1003    43.0\n",
            "1018    43.0\n",
            "1022    43.0\n",
            "1125    53.0\n",
            "1392    53.0\n",
            "1413    51.0\n",
            "1481    43.0\n",
            "1683    43.0\n",
            "1982     NaN\n",
            "1983     NaN\n",
            "1984    53.0\n",
            "2318     NaN\n",
            "2319    53.0\n",
            "2669    43.0\n",
            "2670     NaN\n",
            "2671     NaN\n",
            "2672    43.0\n",
            "Name: LotFrontage, dtype: float64\n"
          ],
          "name": "stdout"
        }
      ]
    },
    {
      "cell_type": "code",
      "metadata": {
        "trusted": true,
        "_uuid": "1e899c274313d88114288c1e0fa720468da1afee",
        "id": "qDjOGG5siqyZ",
        "colab_type": "code",
        "colab": {}
      },
      "source": [
        "#Group by neighborhood and fill in missing value by the median LotFrontage of all the neighborhood\n",
        "all_data[\"LotFrontage\"] = all_data.groupby(\"Neighborhood\")[\"LotFrontage\"].transform(\n",
        "    lambda x: x.fillna(x.median()))"
      ],
      "execution_count": 0,
      "outputs": []
    },
    {
      "cell_type": "markdown",
      "metadata": {
        "_uuid": "e1493a84b2e9ebef26d03295511d52830343ace4",
        "id": "xJtoyt3hiqyd",
        "colab_type": "text"
      },
      "source": [
        "* **GarageType, GarageFinish, GarageQual and GarageCond** : Replacing missing data with None as per documentation. "
      ]
    },
    {
      "cell_type": "code",
      "metadata": {
        "_kg_hide-output": true,
        "trusted": true,
        "_uuid": "7a71d08cd1dd160b5184cfd8a681503ec0d92e95",
        "id": "SbCBIT_siqye",
        "colab_type": "code",
        "colab": {}
      },
      "source": [
        "for col in ['GarageType', 'GarageFinish', 'GarageQual', 'GarageCond']:\n",
        "    all_data[col] = all_data[col].fillna('None')"
      ],
      "execution_count": 0,
      "outputs": []
    },
    {
      "cell_type": "code",
      "metadata": {
        "trusted": true,
        "_uuid": "0f30a319433e86234355ee6d08ef8e95a23285d3",
        "id": "jt15RGy6iqyh",
        "colab_type": "code",
        "outputId": "64ffda82-d1f2-4171-a862-fb3eb4fe8acd",
        "colab": {
          "base_uri": "https://localhost:8080/",
          "height": 0
        }
      },
      "source": [
        "abc = ['GarageType', 'GarageFinish', 'GarageQual', 'GarageCond','GarageYrBlt', 'GarageArea', 'GarageCars']\n",
        "all_data.groupby('GarageType')[abc].count()"
      ],
      "execution_count": 26,
      "outputs": [
        {
          "output_type": "execute_result",
          "data": {
            "text/html": [
              "<div>\n",
              "<style scoped>\n",
              "    .dataframe tbody tr th:only-of-type {\n",
              "        vertical-align: middle;\n",
              "    }\n",
              "\n",
              "    .dataframe tbody tr th {\n",
              "        vertical-align: top;\n",
              "    }\n",
              "\n",
              "    .dataframe thead th {\n",
              "        text-align: right;\n",
              "    }\n",
              "</style>\n",
              "<table border=\"1\" class=\"dataframe\">\n",
              "  <thead>\n",
              "    <tr style=\"text-align: right;\">\n",
              "      <th></th>\n",
              "      <th>GarageType</th>\n",
              "      <th>GarageFinish</th>\n",
              "      <th>GarageQual</th>\n",
              "      <th>GarageCond</th>\n",
              "      <th>GarageYrBlt</th>\n",
              "      <th>GarageArea</th>\n",
              "      <th>GarageCars</th>\n",
              "    </tr>\n",
              "    <tr>\n",
              "      <th>GarageType</th>\n",
              "      <th></th>\n",
              "      <th></th>\n",
              "      <th></th>\n",
              "      <th></th>\n",
              "      <th></th>\n",
              "      <th></th>\n",
              "      <th></th>\n",
              "    </tr>\n",
              "  </thead>\n",
              "  <tbody>\n",
              "    <tr>\n",
              "      <th>2Types</th>\n",
              "      <td>23</td>\n",
              "      <td>23</td>\n",
              "      <td>23</td>\n",
              "      <td>23</td>\n",
              "      <td>23</td>\n",
              "      <td>23</td>\n",
              "      <td>23</td>\n",
              "    </tr>\n",
              "    <tr>\n",
              "      <th>Attchd</th>\n",
              "      <td>1722</td>\n",
              "      <td>1722</td>\n",
              "      <td>1722</td>\n",
              "      <td>1722</td>\n",
              "      <td>1722</td>\n",
              "      <td>1722</td>\n",
              "      <td>1722</td>\n",
              "    </tr>\n",
              "    <tr>\n",
              "      <th>Basment</th>\n",
              "      <td>36</td>\n",
              "      <td>36</td>\n",
              "      <td>36</td>\n",
              "      <td>36</td>\n",
              "      <td>36</td>\n",
              "      <td>36</td>\n",
              "      <td>36</td>\n",
              "    </tr>\n",
              "    <tr>\n",
              "      <th>BuiltIn</th>\n",
              "      <td>185</td>\n",
              "      <td>185</td>\n",
              "      <td>185</td>\n",
              "      <td>185</td>\n",
              "      <td>185</td>\n",
              "      <td>185</td>\n",
              "      <td>185</td>\n",
              "    </tr>\n",
              "    <tr>\n",
              "      <th>CarPort</th>\n",
              "      <td>15</td>\n",
              "      <td>15</td>\n",
              "      <td>15</td>\n",
              "      <td>15</td>\n",
              "      <td>15</td>\n",
              "      <td>15</td>\n",
              "      <td>15</td>\n",
              "    </tr>\n",
              "    <tr>\n",
              "      <th>Detchd</th>\n",
              "      <td>779</td>\n",
              "      <td>779</td>\n",
              "      <td>779</td>\n",
              "      <td>779</td>\n",
              "      <td>777</td>\n",
              "      <td>778</td>\n",
              "      <td>778</td>\n",
              "    </tr>\n",
              "    <tr>\n",
              "      <th>None</th>\n",
              "      <td>157</td>\n",
              "      <td>157</td>\n",
              "      <td>157</td>\n",
              "      <td>157</td>\n",
              "      <td>0</td>\n",
              "      <td>157</td>\n",
              "      <td>157</td>\n",
              "    </tr>\n",
              "  </tbody>\n",
              "</table>\n",
              "</div>"
            ],
            "text/plain": [
              "            GarageType  GarageFinish  ...  GarageArea  GarageCars\n",
              "GarageType                            ...                        \n",
              "2Types              23            23  ...          23          23\n",
              "Attchd            1722          1722  ...        1722        1722\n",
              "Basment             36            36  ...          36          36\n",
              "BuiltIn            185           185  ...         185         185\n",
              "CarPort             15            15  ...          15          15\n",
              "Detchd             779           779  ...         778         778\n",
              "None               157           157  ...         157         157\n",
              "\n",
              "[7 rows x 7 columns]"
            ]
          },
          "metadata": {
            "tags": []
          },
          "execution_count": 26
        }
      ]
    },
    {
      "cell_type": "markdown",
      "metadata": {
        "_uuid": "197c97edb46edc4ee356d587c66a9a9fca41a2be",
        "id": "iCN1RiZXiqyk",
        "colab_type": "text"
      },
      "source": [
        "* **GarageYrBlt, GarageArea and GarageCars** : Replacing missing data with 0 (Since No garage = no cars in such garage.)"
      ]
    },
    {
      "cell_type": "code",
      "metadata": {
        "trusted": true,
        "_uuid": "e1c064cc7d91c1f318bbea0be6350a3da14b74cc",
        "id": "uCtG50eeiqyl",
        "colab_type": "code",
        "colab": {}
      },
      "source": [
        "for col in ('GarageYrBlt', 'GarageArea', 'GarageCars'):\n",
        "    all_data[col] = all_data[col].fillna(0)"
      ],
      "execution_count": 0,
      "outputs": []
    },
    {
      "cell_type": "markdown",
      "metadata": {
        "_uuid": "8cd265faa79ccd0366ec63d691059933153feafc",
        "id": "dvmuT84_iqyp",
        "colab_type": "text"
      },
      "source": [
        "* **BsmtFinSF1, BsmtFinSF2, BsmtUnfSF, TotalBsmtSF, BsmtFullBath and BsmtHalfBath** : missing values are likely zero for having no basement"
      ]
    },
    {
      "cell_type": "code",
      "metadata": {
        "trusted": true,
        "_uuid": "ed2d1168ba88ed3f1aed1e0843f9f57e7cd2046d",
        "id": "fI0UhRyWiqyq",
        "colab_type": "code",
        "colab": {}
      },
      "source": [
        "for col in ('BsmtFinSF1', 'BsmtFinSF2', 'BsmtUnfSF','TotalBsmtSF', 'BsmtFullBath', 'BsmtHalfBath'):\n",
        "    all_data[col] = all_data[col].fillna(0)"
      ],
      "execution_count": 0,
      "outputs": []
    },
    {
      "cell_type": "markdown",
      "metadata": {
        "_uuid": "587e73a91191f0ea1cc0fd12b21d8fe45eb403ec",
        "id": "OBaM_x06iqyu",
        "colab_type": "text"
      },
      "source": [
        "* **BsmtQual, BsmtCond, BsmtExposure, BsmtFinType1 and BsmtFinType2** : For all these categorical basement-related features, NaN means that there is no basement."
      ]
    },
    {
      "cell_type": "code",
      "metadata": {
        "trusted": true,
        "_uuid": "6de1156fca72633eb45fbb8c7c926613455ef25f",
        "id": "_zWnOYmTiqyu",
        "colab_type": "code",
        "colab": {}
      },
      "source": [
        "for col in ('BsmtQual', 'BsmtCond', 'BsmtExposure', 'BsmtFinType1', 'BsmtFinType2'):\n",
        "    all_data[col] = all_data[col].fillna('None')"
      ],
      "execution_count": 0,
      "outputs": []
    },
    {
      "cell_type": "markdown",
      "metadata": {
        "_uuid": "737f23b205e2cc84486ddb7a087509303f4b7a5b",
        "id": "A03hpPJViqyx",
        "colab_type": "text"
      },
      "source": [
        "* **MasVnrArea and MasVnrType** : NA most likely means no masonry veneer for these houses. We can fill 0 for the area and None for the type."
      ]
    },
    {
      "cell_type": "code",
      "metadata": {
        "trusted": true,
        "_uuid": "de69391d40cc5c23765711f4ab248bf61b44bda5",
        "id": "_aL8hhv4iqyz",
        "colab_type": "code",
        "colab": {}
      },
      "source": [
        "all_data[\"MasVnrType\"] = all_data[\"MasVnrType\"].fillna(\"None\")\n",
        "all_data[\"MasVnrArea\"] = all_data[\"MasVnrArea\"].fillna(0)"
      ],
      "execution_count": 0,
      "outputs": []
    },
    {
      "cell_type": "markdown",
      "metadata": {
        "_uuid": "af7a8d719e79c38f25758488c4f4cb695e3e1976",
        "id": "mPh8VcLDiqy1",
        "colab_type": "text"
      },
      "source": [
        "* **MSZoning (The general zoning classification)** : 'RL' is by far the most common value. So we can fill in missing values with 'RL'"
      ]
    },
    {
      "cell_type": "code",
      "metadata": {
        "trusted": true,
        "_uuid": "ac0a52cd03ada0f9ab04f219972342753321798e",
        "id": "TxCgt58ciqy2",
        "colab_type": "code",
        "outputId": "89bc2efa-b38f-4255-d0ec-fe7896ecfab5",
        "colab": {
          "base_uri": "https://localhost:8080/",
          "height": 0
        }
      },
      "source": [
        "all_data['MSZoning'].value_counts()"
      ],
      "execution_count": 31,
      "outputs": [
        {
          "output_type": "execute_result",
          "data": {
            "text/plain": [
              "RL         2263\n",
              "RM          460\n",
              "FV          139\n",
              "RH           26\n",
              "C (all)      25\n",
              "Name: MSZoning, dtype: int64"
            ]
          },
          "metadata": {
            "tags": []
          },
          "execution_count": 31
        }
      ]
    },
    {
      "cell_type": "code",
      "metadata": {
        "trusted": true,
        "_uuid": "7b92b9424d4810edb0d60b03c9316bf8f3a85263",
        "id": "Y_iS8GZgiqy8",
        "colab_type": "code",
        "colab": {}
      },
      "source": [
        "all_data['MSZoning'] = all_data['MSZoning'].fillna(all_data['MSZoning'].mode()[0])"
      ],
      "execution_count": 0,
      "outputs": []
    },
    {
      "cell_type": "markdown",
      "metadata": {
        "_uuid": "19602e120fbb71d1fb38290e2330df79b6a053a0",
        "id": "vuggIqmhiqzA",
        "colab_type": "text"
      },
      "source": [
        "* **Utilities** : Since this is a categorical data and most of the data are of same category, Its not gonna effect on model. So we choose to drop it."
      ]
    },
    {
      "cell_type": "code",
      "metadata": {
        "trusted": true,
        "_uuid": "7e44495f79c3deb3757a6f5c23ed597bea0782de",
        "id": "z6gL-yukiqzC",
        "colab_type": "code",
        "outputId": "067885bb-13e8-4ae7-af29-fbc44e734623",
        "colab": {
          "base_uri": "https://localhost:8080/",
          "height": 0
        }
      },
      "source": [
        "all_data['Utilities'].value_counts()"
      ],
      "execution_count": 33,
      "outputs": [
        {
          "output_type": "execute_result",
          "data": {
            "text/plain": [
              "AllPub    2914\n",
              "NoSeWa       1\n",
              "Name: Utilities, dtype: int64"
            ]
          },
          "metadata": {
            "tags": []
          },
          "execution_count": 33
        }
      ]
    },
    {
      "cell_type": "code",
      "metadata": {
        "trusted": true,
        "_uuid": "25c2a42c8d23197a1db22b487ef8692da1063e8c",
        "id": "bse9LF-1iqzH",
        "colab_type": "code",
        "colab": {}
      },
      "source": [
        "all_data = all_data.drop(['Utilities'], axis=1)"
      ],
      "execution_count": 0,
      "outputs": []
    },
    {
      "cell_type": "markdown",
      "metadata": {
        "_uuid": "b82cc3582a64e4d20ead3cd386b2bfb467684353",
        "id": "0gkld9VViqzL",
        "colab_type": "text"
      },
      "source": [
        "* **Functional** : data description says NA means typical"
      ]
    },
    {
      "cell_type": "code",
      "metadata": {
        "trusted": true,
        "_uuid": "af05ef25e7ee2c0e4df51b2df09424112e7fc72f",
        "id": "TCCCGxIKiqzN",
        "colab_type": "code",
        "colab": {}
      },
      "source": [
        "all_data[\"Functional\"] = all_data[\"Functional\"].fillna(\"Typ\")"
      ],
      "execution_count": 0,
      "outputs": []
    },
    {
      "cell_type": "markdown",
      "metadata": {
        "_uuid": "4e9723638293fceec4190dcccc49efd719a28147",
        "id": "0Xl9BDExiqzR",
        "colab_type": "text"
      },
      "source": [
        "* **Electrical,KitchenQual, Exterior1st, Exterior2nd, SaleType** : Since this all are categorical values so its better to replace nan values with the most used keyword."
      ]
    },
    {
      "cell_type": "code",
      "metadata": {
        "trusted": true,
        "_uuid": "fd68c6cc53b0f09c99fbaae220455358acba10a5",
        "id": "Bjr6sySIiqzS",
        "colab_type": "code",
        "colab": {}
      },
      "source": [
        "mode_col = ['Electrical','KitchenQual', 'Exterior1st', 'Exterior2nd', 'SaleType']\n",
        "for col in mode_col:\n",
        "    all_data[col] = all_data[col].fillna(all_data[col].mode()[0])"
      ],
      "execution_count": 0,
      "outputs": []
    },
    {
      "cell_type": "markdown",
      "metadata": {
        "_uuid": "9533bc18b3a5508e78f32471cbacc0d84114a0cc",
        "id": "SEA9oiChiqzW",
        "colab_type": "text"
      },
      "source": [
        "* **MSSubClass** : Na most likely means No building class. We can replace missing values with None\n"
      ]
    },
    {
      "cell_type": "code",
      "metadata": {
        "trusted": true,
        "_uuid": "0aa7e338dca4dbb303563fd401bddf69fa517a45",
        "id": "4lUhl83WiqzW",
        "colab_type": "code",
        "colab": {}
      },
      "source": [
        "all_data['MSSubClass'] = all_data['MSSubClass'].fillna(\"None\")"
      ],
      "execution_count": 0,
      "outputs": []
    },
    {
      "cell_type": "markdown",
      "metadata": {
        "_uuid": "1dece935c4d58ebbbdc20b476ac1ba0c1f49398d",
        "id": "r2RJqs85iqzZ",
        "colab_type": "text"
      },
      "source": [
        "## Lets check for any missing values"
      ]
    },
    {
      "cell_type": "code",
      "metadata": {
        "trusted": true,
        "_uuid": "cb249dde6e25900ed562f1106c652c63a2aef72e",
        "id": "WzqfLVF0iqza",
        "colab_type": "code",
        "outputId": "f3ac6ee0-51b5-488d-97ba-4c4d7a124f16",
        "colab": {
          "base_uri": "https://localhost:8080/",
          "height": 0
        }
      },
      "source": [
        "#Check remaining missing values if any \n",
        "all_data_na = (all_data.isnull().sum() / len(all_data)) * 100\n",
        "all_data_na = all_data_na.drop(all_data_na[all_data_na == 0].index).sort_values(ascending=False)\n",
        "missing_data = pd.DataFrame({'Missing Ratio' :all_data_na})\n",
        "missing_data.head()"
      ],
      "execution_count": 38,
      "outputs": [
        {
          "output_type": "execute_result",
          "data": {
            "text/html": [
              "<div>\n",
              "<style scoped>\n",
              "    .dataframe tbody tr th:only-of-type {\n",
              "        vertical-align: middle;\n",
              "    }\n",
              "\n",
              "    .dataframe tbody tr th {\n",
              "        vertical-align: top;\n",
              "    }\n",
              "\n",
              "    .dataframe thead th {\n",
              "        text-align: right;\n",
              "    }\n",
              "</style>\n",
              "<table border=\"1\" class=\"dataframe\">\n",
              "  <thead>\n",
              "    <tr style=\"text-align: right;\">\n",
              "      <th></th>\n",
              "      <th>Missing Ratio</th>\n",
              "    </tr>\n",
              "  </thead>\n",
              "  <tbody>\n",
              "  </tbody>\n",
              "</table>\n",
              "</div>"
            ],
            "text/plain": [
              "Empty DataFrame\n",
              "Columns: [Missing Ratio]\n",
              "Index: []"
            ]
          },
          "metadata": {
            "tags": []
          },
          "execution_count": 38
        }
      ]
    },
    {
      "cell_type": "markdown",
      "metadata": {
        "trusted": true,
        "_uuid": "fce152364a35ce50b50dc77200f9c25c4709a3c5",
        "id": "oCdZ-TuBiqzc",
        "colab_type": "text"
      },
      "source": [
        "**Now there any many features that are numerical but categorical.**"
      ]
    },
    {
      "cell_type": "code",
      "metadata": {
        "trusted": true,
        "_uuid": "c99d01bd5a5ad8deccf993cc5c571b5f7f11741b",
        "id": "Hw2qnaxpiqze",
        "colab_type": "code",
        "outputId": "7af1c04e-45e9-4c41-89ea-b2fc72f7f73e",
        "colab": {
          "base_uri": "https://localhost:8080/",
          "height": 0
        }
      },
      "source": [
        "all_data['OverallCond'].value_counts()"
      ],
      "execution_count": 39,
      "outputs": [
        {
          "output_type": "execute_result",
          "data": {
            "text/plain": [
              "5    1643\n",
              "6     531\n",
              "7     390\n",
              "8     144\n",
              "4     101\n",
              "3      50\n",
              "9      41\n",
              "2      10\n",
              "1       7\n",
              "Name: OverallCond, dtype: int64"
            ]
          },
          "metadata": {
            "tags": []
          },
          "execution_count": 39
        }
      ]
    },
    {
      "cell_type": "markdown",
      "metadata": {
        "_uuid": "713f061e916a6d7326a86f64657c2a8573cf98b7",
        "id": "KA2uK-3miqzk",
        "colab_type": "text"
      },
      "source": [
        "**Converting some numerical variables that are really categorical type.**\n",
        "\n",
        "As you can see the category range from 1 to 9 which are numerical (**not ordinal type**). Since its categorical we need to change it to String type.\n",
        "\n",
        "If we do not convert these to categorical, some model may get affect by this as model will compare the value 1<5<10 . We dont need that to happen with our model."
      ]
    },
    {
      "cell_type": "code",
      "metadata": {
        "trusted": true,
        "_uuid": "62ebb5cfcd932164176a9614bc688a1107799415",
        "id": "brXgcFJ0iqzl",
        "colab_type": "code",
        "colab": {}
      },
      "source": [
        "#MSSubClass=The building class\n",
        "all_data['MSSubClass'] = all_data['MSSubClass'].apply(str)\n",
        "\n",
        "\n",
        "#Changing OverallCond into a categorical variable\n",
        "all_data['OverallCond'] = all_data['OverallCond'].astype(str)\n",
        "\n",
        "\n",
        "#Year and month sold are transformed into categorical features.\n",
        "all_data['YrSold'] = all_data['YrSold'].astype(str)\n",
        "all_data['MoSold'] = all_data['MoSold'].astype(str)"
      ],
      "execution_count": 0,
      "outputs": []
    },
    {
      "cell_type": "markdown",
      "metadata": {
        "_uuid": "4ca8b2ed84fcc54557f4d7b65e4aad367395ab6b",
        "id": "OzeXmfEAiqzn",
        "colab_type": "text"
      },
      "source": [
        "## Label Encoding \n",
        "As you might know by now, we can’t have text in our data if we’re going to run any kind of model on it. So before we can run a model, we need to make this data ready for the model.\n",
        "\n",
        "And to convert this kind of categorical text data into model-understandable numerical data, we use the Label Encoder class.\n",
        "\n",
        "Suppose, we have a feature State which has 3 category i.e India , France, China . So, Label Encoder will categorize them as 0, 1, 2."
      ]
    },
    {
      "cell_type": "code",
      "metadata": {
        "trusted": true,
        "_uuid": "8308b428bbf30e9e17f17b57a230ed2297081370",
        "id": "438iwyQkiqzr",
        "colab_type": "code",
        "outputId": "f2473e27-db46-494e-da62-a0108d357664",
        "colab": {
          "base_uri": "https://localhost:8080/",
          "height": 0
        }
      },
      "source": [
        "from sklearn.preprocessing import LabelEncoder\n",
        "cols = ('FireplaceQu', 'BsmtQual', 'BsmtCond', 'GarageQual', 'GarageCond', \n",
        "        'ExterQual', 'ExterCond','HeatingQC', 'PoolQC', 'KitchenQual', 'BsmtFinType1', \n",
        "        'BsmtFinType2', 'Functional', 'Fence', 'BsmtExposure', 'GarageFinish', 'LandSlope',\n",
        "        'LotShape', 'PavedDrive', 'Street', 'Alley', 'CentralAir', 'MSSubClass', 'OverallCond', \n",
        "        'YrSold', 'MoSold')\n",
        "# process columns, apply LabelEncoder to categorical features\n",
        "for c in cols:\n",
        "    lbl = LabelEncoder() \n",
        "    lbl.fit(list(all_data[c].values)) \n",
        "    all_data[c] = lbl.transform(list(all_data[c].values))\n",
        "\n",
        "# shape        \n",
        "print('Shape all_data: {}'.format(all_data.shape))"
      ],
      "execution_count": 41,
      "outputs": [
        {
          "output_type": "stream",
          "text": [
            "Shape all_data: (2917, 78)\n"
          ],
          "name": "stdout"
        }
      ]
    },
    {
      "cell_type": "markdown",
      "metadata": {
        "trusted": true,
        "_uuid": "865590a345058e1fd3bb76434441508a0204f6fd",
        "id": "oIrUFWlviqzv",
        "colab_type": "text"
      },
      "source": [
        "Since area related features are very important to determine house prices, we add one more feature which is the total area of basement, first and second floor areas of each house"
      ]
    },
    {
      "cell_type": "code",
      "metadata": {
        "trusted": true,
        "_uuid": "b4ddb4163fc92e8a9b2efdb3957965e8d6d65573",
        "id": "kdU8PGi2iqzw",
        "colab_type": "code",
        "colab": {}
      },
      "source": [
        "# Adding total sqfootage feature \n",
        "all_data['TotalSF'] = all_data['TotalBsmtSF'] + all_data['1stFlrSF'] + all_data['2ndFlrSF']"
      ],
      "execution_count": 0,
      "outputs": []
    },
    {
      "cell_type": "markdown",
      "metadata": {
        "_uuid": "2c4c4d9d412c284b0aa9f34653c193227e36ce07",
        "id": "atAMaFpfiqzz",
        "colab_type": "text"
      },
      "source": [
        "**Lets see the highly skewed features we have**"
      ]
    },
    {
      "cell_type": "code",
      "metadata": {
        "trusted": true,
        "_uuid": "0b3f732620e7b42d8c8592c0bef8e9030bcea37c",
        "scrolled": true,
        "id": "ubJu3KuQiqz0",
        "colab_type": "code",
        "outputId": "baa8856a-765f-47fd-ff4d-daf83058bd19",
        "colab": {
          "base_uri": "https://localhost:8080/",
          "height": 0
        }
      },
      "source": [
        "numeric_feats = all_data.dtypes[all_data.dtypes != \"object\"].index\n",
        "\n",
        "# Check the skew of all numerical features\n",
        "skewed_feats = all_data[numeric_feats].apply(lambda x: skew(x.dropna())).sort_values(ascending=False)\n",
        "print(\"\\nSkew in numerical features: \\n\")\n",
        "skewness = pd.DataFrame({'Skew' :skewed_feats})\n",
        "skewness.head(15)"
      ],
      "execution_count": 43,
      "outputs": [
        {
          "output_type": "stream",
          "text": [
            "\n",
            "Skew in numerical features: \n",
            "\n"
          ],
          "name": "stdout"
        },
        {
          "output_type": "execute_result",
          "data": {
            "text/html": [
              "<div>\n",
              "<style scoped>\n",
              "    .dataframe tbody tr th:only-of-type {\n",
              "        vertical-align: middle;\n",
              "    }\n",
              "\n",
              "    .dataframe tbody tr th {\n",
              "        vertical-align: top;\n",
              "    }\n",
              "\n",
              "    .dataframe thead th {\n",
              "        text-align: right;\n",
              "    }\n",
              "</style>\n",
              "<table border=\"1\" class=\"dataframe\">\n",
              "  <thead>\n",
              "    <tr style=\"text-align: right;\">\n",
              "      <th></th>\n",
              "      <th>Skew</th>\n",
              "    </tr>\n",
              "  </thead>\n",
              "  <tbody>\n",
              "    <tr>\n",
              "      <th>MiscVal</th>\n",
              "      <td>21.939672</td>\n",
              "    </tr>\n",
              "    <tr>\n",
              "      <th>PoolArea</th>\n",
              "      <td>17.688664</td>\n",
              "    </tr>\n",
              "    <tr>\n",
              "      <th>LotArea</th>\n",
              "      <td>13.109495</td>\n",
              "    </tr>\n",
              "    <tr>\n",
              "      <th>LowQualFinSF</th>\n",
              "      <td>12.084539</td>\n",
              "    </tr>\n",
              "    <tr>\n",
              "      <th>3SsnPorch</th>\n",
              "      <td>11.372080</td>\n",
              "    </tr>\n",
              "    <tr>\n",
              "      <th>LandSlope</th>\n",
              "      <td>4.973254</td>\n",
              "    </tr>\n",
              "    <tr>\n",
              "      <th>KitchenAbvGr</th>\n",
              "      <td>4.300550</td>\n",
              "    </tr>\n",
              "    <tr>\n",
              "      <th>BsmtFinSF2</th>\n",
              "      <td>4.144503</td>\n",
              "    </tr>\n",
              "    <tr>\n",
              "      <th>EnclosedPorch</th>\n",
              "      <td>4.002344</td>\n",
              "    </tr>\n",
              "    <tr>\n",
              "      <th>ScreenPorch</th>\n",
              "      <td>3.945101</td>\n",
              "    </tr>\n",
              "    <tr>\n",
              "      <th>BsmtHalfBath</th>\n",
              "      <td>3.929996</td>\n",
              "    </tr>\n",
              "    <tr>\n",
              "      <th>MasVnrArea</th>\n",
              "      <td>2.621719</td>\n",
              "    </tr>\n",
              "    <tr>\n",
              "      <th>OpenPorchSF</th>\n",
              "      <td>2.529358</td>\n",
              "    </tr>\n",
              "    <tr>\n",
              "      <th>WoodDeckSF</th>\n",
              "      <td>1.844792</td>\n",
              "    </tr>\n",
              "    <tr>\n",
              "      <th>1stFlrSF</th>\n",
              "      <td>1.257286</td>\n",
              "    </tr>\n",
              "  </tbody>\n",
              "</table>\n",
              "</div>"
            ],
            "text/plain": [
              "                    Skew\n",
              "MiscVal        21.939672\n",
              "PoolArea       17.688664\n",
              "LotArea        13.109495\n",
              "LowQualFinSF   12.084539\n",
              "3SsnPorch      11.372080\n",
              "LandSlope       4.973254\n",
              "KitchenAbvGr    4.300550\n",
              "BsmtFinSF2      4.144503\n",
              "EnclosedPorch   4.002344\n",
              "ScreenPorch     3.945101\n",
              "BsmtHalfBath    3.929996\n",
              "MasVnrArea      2.621719\n",
              "OpenPorchSF     2.529358\n",
              "WoodDeckSF      1.844792\n",
              "1stFlrSF        1.257286"
            ]
          },
          "metadata": {
            "tags": []
          },
          "execution_count": 43
        }
      ]
    },
    {
      "cell_type": "markdown",
      "metadata": {
        "_uuid": "8917aa598b2df98fd173d63bde1f1f941d919d86",
        "id": "Yx2At_xWiqz2",
        "colab_type": "text"
      },
      "source": [
        "## Box Cox Transformation of (highly) skewed features\n",
        "\n",
        "When you are dealing with real-world data, you are going to deal with features that are heavily skewed. Transformation technique is useful to **stabilize variance**, make the data **more normal distribution-like**, improve the validity of measures of association.\n",
        "\n",
        "The problem with the Box-Cox Transformation is **estimating lambda**. This value will depend on the existing data, and should be considered when performing cross validation on out of sample datasets."
      ]
    },
    {
      "cell_type": "code",
      "metadata": {
        "trusted": true,
        "_uuid": "04b1a8240b20f470d326c1f480a0061712c30843",
        "id": "pzTLNB4riqz3",
        "colab_type": "code",
        "outputId": "63d7f9dd-cc9b-4d76-bb41-fd7a04ea2f36",
        "colab": {
          "base_uri": "https://localhost:8080/",
          "height": 0
        }
      },
      "source": [
        "skewness = skewness[abs(skewness) > 0.75]\n",
        "print(\"There are {} skewed numerical features to Box Cox transform\".format(skewness.shape[0]))\n",
        "\n",
        "from scipy.special import boxcox1p\n",
        "skewed_features = skewness.index\n",
        "lam = 0.15\n",
        "for feat in skewed_features:\n",
        "    #all_data[feat] += 1\n",
        "    all_data[feat] = boxcox1p(all_data[feat], lam)"
      ],
      "execution_count": 44,
      "outputs": [
        {
          "output_type": "stream",
          "text": [
            "There are 59 skewed numerical features to Box Cox transform\n"
          ],
          "name": "stdout"
        }
      ]
    },
    {
      "cell_type": "markdown",
      "metadata": {
        "_uuid": "aef52487095b221359382ce9135c709541c03958",
        "id": "0BjcSTF3iqz-",
        "colab_type": "text"
      },
      "source": [
        "**Getting dummy categorical features**"
      ]
    },
    {
      "cell_type": "code",
      "metadata": {
        "trusted": true,
        "_uuid": "d3056bb177dd80797d752d80e0d9d943486e482a",
        "scrolled": true,
        "id": "K_p4vewpiqz_",
        "colab_type": "code",
        "outputId": "6d7cb167-0e95-4f1a-d48f-c8503b3af332",
        "colab": {
          "base_uri": "https://localhost:8080/",
          "height": 0
        }
      },
      "source": [
        "all_data = pd.get_dummies(all_data)\n",
        "all_data.shape"
      ],
      "execution_count": 45,
      "outputs": [
        {
          "output_type": "execute_result",
          "data": {
            "text/plain": [
              "(2917, 220)"
            ]
          },
          "metadata": {
            "tags": []
          },
          "execution_count": 45
        }
      ]
    },
    {
      "cell_type": "markdown",
      "metadata": {
        "trusted": true,
        "_uuid": "142bcae6537641dc5307beb7186a1a9a709fb21a",
        "id": "DCbBjviIiq0D",
        "colab_type": "text"
      },
      "source": [
        "Creating train and test data."
      ]
    },
    {
      "cell_type": "code",
      "metadata": {
        "trusted": true,
        "_uuid": "0c986a9c705e012679c661f03a017399978d6ebd",
        "id": "zn7_0SiTiq0E",
        "colab_type": "code",
        "outputId": "86852fef-1216-4555-c3db-ce37916a8217",
        "colab": {
          "base_uri": "https://localhost:8080/",
          "height": 0
        }
      },
      "source": [
        "train = all_data[:ntrain]\n",
        "test = all_data[ntrain:]\n",
        "train.shape"
      ],
      "execution_count": 46,
      "outputs": [
        {
          "output_type": "execute_result",
          "data": {
            "text/plain": [
              "(1458, 220)"
            ]
          },
          "metadata": {
            "tags": []
          },
          "execution_count": 46
        }
      ]
    },
    {
      "cell_type": "code",
      "metadata": {
        "id": "yi7YnPCT0Az2",
        "colab_type": "code",
        "outputId": "d7f5410c-60db-445e-b5b3-25989bdcd4ca",
        "colab": {
          "base_uri": "https://localhost:8080/",
          "height": 0
        }
      },
      "source": [
        "test.head()"
      ],
      "execution_count": 47,
      "outputs": [
        {
          "output_type": "execute_result",
          "data": {
            "text/html": [
              "<div>\n",
              "<style scoped>\n",
              "    .dataframe tbody tr th:only-of-type {\n",
              "        vertical-align: middle;\n",
              "    }\n",
              "\n",
              "    .dataframe tbody tr th {\n",
              "        vertical-align: top;\n",
              "    }\n",
              "\n",
              "    .dataframe thead th {\n",
              "        text-align: right;\n",
              "    }\n",
              "</style>\n",
              "<table border=\"1\" class=\"dataframe\">\n",
              "  <thead>\n",
              "    <tr style=\"text-align: right;\">\n",
              "      <th></th>\n",
              "      <th>1stFlrSF</th>\n",
              "      <th>2ndFlrSF</th>\n",
              "      <th>3SsnPorch</th>\n",
              "      <th>Alley</th>\n",
              "      <th>BedroomAbvGr</th>\n",
              "      <th>BsmtCond</th>\n",
              "      <th>BsmtExposure</th>\n",
              "      <th>BsmtFinSF1</th>\n",
              "      <th>BsmtFinSF2</th>\n",
              "      <th>BsmtFinType1</th>\n",
              "      <th>BsmtFinType2</th>\n",
              "      <th>BsmtFullBath</th>\n",
              "      <th>BsmtHalfBath</th>\n",
              "      <th>BsmtQual</th>\n",
              "      <th>BsmtUnfSF</th>\n",
              "      <th>CentralAir</th>\n",
              "      <th>EnclosedPorch</th>\n",
              "      <th>ExterCond</th>\n",
              "      <th>ExterQual</th>\n",
              "      <th>Fence</th>\n",
              "      <th>FireplaceQu</th>\n",
              "      <th>Fireplaces</th>\n",
              "      <th>FullBath</th>\n",
              "      <th>Functional</th>\n",
              "      <th>GarageArea</th>\n",
              "      <th>GarageCars</th>\n",
              "      <th>GarageCond</th>\n",
              "      <th>GarageFinish</th>\n",
              "      <th>GarageQual</th>\n",
              "      <th>GarageYrBlt</th>\n",
              "      <th>GrLivArea</th>\n",
              "      <th>HalfBath</th>\n",
              "      <th>HeatingQC</th>\n",
              "      <th>KitchenAbvGr</th>\n",
              "      <th>KitchenQual</th>\n",
              "      <th>LandSlope</th>\n",
              "      <th>LotArea</th>\n",
              "      <th>LotFrontage</th>\n",
              "      <th>LotShape</th>\n",
              "      <th>LowQualFinSF</th>\n",
              "      <th>...</th>\n",
              "      <th>Neighborhood_NPkVill</th>\n",
              "      <th>Neighborhood_NWAmes</th>\n",
              "      <th>Neighborhood_NoRidge</th>\n",
              "      <th>Neighborhood_NridgHt</th>\n",
              "      <th>Neighborhood_OldTown</th>\n",
              "      <th>Neighborhood_SWISU</th>\n",
              "      <th>Neighborhood_Sawyer</th>\n",
              "      <th>Neighborhood_SawyerW</th>\n",
              "      <th>Neighborhood_Somerst</th>\n",
              "      <th>Neighborhood_StoneBr</th>\n",
              "      <th>Neighborhood_Timber</th>\n",
              "      <th>Neighborhood_Veenker</th>\n",
              "      <th>RoofMatl_CompShg</th>\n",
              "      <th>RoofMatl_Membran</th>\n",
              "      <th>RoofMatl_Metal</th>\n",
              "      <th>RoofMatl_Roll</th>\n",
              "      <th>RoofMatl_Tar&amp;Grv</th>\n",
              "      <th>RoofMatl_WdShake</th>\n",
              "      <th>RoofMatl_WdShngl</th>\n",
              "      <th>RoofStyle_Flat</th>\n",
              "      <th>RoofStyle_Gable</th>\n",
              "      <th>RoofStyle_Gambrel</th>\n",
              "      <th>RoofStyle_Hip</th>\n",
              "      <th>RoofStyle_Mansard</th>\n",
              "      <th>RoofStyle_Shed</th>\n",
              "      <th>SaleCondition_Abnorml</th>\n",
              "      <th>SaleCondition_AdjLand</th>\n",
              "      <th>SaleCondition_Alloca</th>\n",
              "      <th>SaleCondition_Family</th>\n",
              "      <th>SaleCondition_Normal</th>\n",
              "      <th>SaleCondition_Partial</th>\n",
              "      <th>SaleType_COD</th>\n",
              "      <th>SaleType_CWD</th>\n",
              "      <th>SaleType_Con</th>\n",
              "      <th>SaleType_ConLD</th>\n",
              "      <th>SaleType_ConLI</th>\n",
              "      <th>SaleType_ConLw</th>\n",
              "      <th>SaleType_New</th>\n",
              "      <th>SaleType_Oth</th>\n",
              "      <th>SaleType_WD</th>\n",
              "    </tr>\n",
              "  </thead>\n",
              "  <tbody>\n",
              "    <tr>\n",
              "      <th>1458</th>\n",
              "      <td>11.818680</td>\n",
              "      <td>0.000000</td>\n",
              "      <td>0.0</td>\n",
              "      <td>0.730463</td>\n",
              "      <td>1.194318</td>\n",
              "      <td>1.820334</td>\n",
              "      <td>1.540963</td>\n",
              "      <td>10.105326</td>\n",
              "      <td>7.397498</td>\n",
              "      <td>2.055642</td>\n",
              "      <td>1.540963</td>\n",
              "      <td>0.0</td>\n",
              "      <td>0.0</td>\n",
              "      <td>1.820334</td>\n",
              "      <td>8.780689</td>\n",
              "      <td>0.730463</td>\n",
              "      <td>0.0</td>\n",
              "      <td>1.820334</td>\n",
              "      <td>1.540963</td>\n",
              "      <td>1.194318</td>\n",
              "      <td>1.540963</td>\n",
              "      <td>0.000000</td>\n",
              "      <td>0.730463</td>\n",
              "      <td>2.259674</td>\n",
              "      <td>11.259868</td>\n",
              "      <td>0.730463</td>\n",
              "      <td>2.055642</td>\n",
              "      <td>1.540963</td>\n",
              "      <td>2.055642</td>\n",
              "      <td>14.121376</td>\n",
              "      <td>11.818680</td>\n",
              "      <td>0.000000</td>\n",
              "      <td>1.820334</td>\n",
              "      <td>0.730463</td>\n",
              "      <td>1.540963</td>\n",
              "      <td>0.0</td>\n",
              "      <td>20.479373</td>\n",
              "      <td>6.221214</td>\n",
              "      <td>1.540963</td>\n",
              "      <td>0.0</td>\n",
              "      <td>...</td>\n",
              "      <td>0</td>\n",
              "      <td>0</td>\n",
              "      <td>0</td>\n",
              "      <td>0</td>\n",
              "      <td>0</td>\n",
              "      <td>0</td>\n",
              "      <td>0</td>\n",
              "      <td>0</td>\n",
              "      <td>0</td>\n",
              "      <td>0</td>\n",
              "      <td>0</td>\n",
              "      <td>0</td>\n",
              "      <td>1</td>\n",
              "      <td>0</td>\n",
              "      <td>0</td>\n",
              "      <td>0</td>\n",
              "      <td>0</td>\n",
              "      <td>0</td>\n",
              "      <td>0</td>\n",
              "      <td>0</td>\n",
              "      <td>1</td>\n",
              "      <td>0</td>\n",
              "      <td>0</td>\n",
              "      <td>0</td>\n",
              "      <td>0</td>\n",
              "      <td>0</td>\n",
              "      <td>0</td>\n",
              "      <td>0</td>\n",
              "      <td>0</td>\n",
              "      <td>1</td>\n",
              "      <td>0</td>\n",
              "      <td>0</td>\n",
              "      <td>0</td>\n",
              "      <td>0</td>\n",
              "      <td>0</td>\n",
              "      <td>0</td>\n",
              "      <td>0</td>\n",
              "      <td>0</td>\n",
              "      <td>0</td>\n",
              "      <td>1</td>\n",
              "    </tr>\n",
              "    <tr>\n",
              "      <th>1459</th>\n",
              "      <td>12.943735</td>\n",
              "      <td>0.000000</td>\n",
              "      <td>0.0</td>\n",
              "      <td>0.730463</td>\n",
              "      <td>1.540963</td>\n",
              "      <td>1.820334</td>\n",
              "      <td>1.540963</td>\n",
              "      <td>11.901094</td>\n",
              "      <td>0.000000</td>\n",
              "      <td>0.000000</td>\n",
              "      <td>2.259674</td>\n",
              "      <td>0.0</td>\n",
              "      <td>0.0</td>\n",
              "      <td>1.820334</td>\n",
              "      <td>9.752379</td>\n",
              "      <td>0.730463</td>\n",
              "      <td>0.0</td>\n",
              "      <td>1.820334</td>\n",
              "      <td>1.540963</td>\n",
              "      <td>1.820334</td>\n",
              "      <td>1.540963</td>\n",
              "      <td>0.000000</td>\n",
              "      <td>0.730463</td>\n",
              "      <td>2.259674</td>\n",
              "      <td>9.118181</td>\n",
              "      <td>0.730463</td>\n",
              "      <td>2.055642</td>\n",
              "      <td>1.540963</td>\n",
              "      <td>2.055642</td>\n",
              "      <td>14.116605</td>\n",
              "      <td>12.943735</td>\n",
              "      <td>0.730463</td>\n",
              "      <td>1.820334</td>\n",
              "      <td>0.730463</td>\n",
              "      <td>1.194318</td>\n",
              "      <td>0.0</td>\n",
              "      <td>21.327220</td>\n",
              "      <td>6.244956</td>\n",
              "      <td>0.000000</td>\n",
              "      <td>0.0</td>\n",
              "      <td>...</td>\n",
              "      <td>0</td>\n",
              "      <td>0</td>\n",
              "      <td>0</td>\n",
              "      <td>0</td>\n",
              "      <td>0</td>\n",
              "      <td>0</td>\n",
              "      <td>0</td>\n",
              "      <td>0</td>\n",
              "      <td>0</td>\n",
              "      <td>0</td>\n",
              "      <td>0</td>\n",
              "      <td>0</td>\n",
              "      <td>1</td>\n",
              "      <td>0</td>\n",
              "      <td>0</td>\n",
              "      <td>0</td>\n",
              "      <td>0</td>\n",
              "      <td>0</td>\n",
              "      <td>0</td>\n",
              "      <td>0</td>\n",
              "      <td>0</td>\n",
              "      <td>0</td>\n",
              "      <td>1</td>\n",
              "      <td>0</td>\n",
              "      <td>0</td>\n",
              "      <td>0</td>\n",
              "      <td>0</td>\n",
              "      <td>0</td>\n",
              "      <td>0</td>\n",
              "      <td>1</td>\n",
              "      <td>0</td>\n",
              "      <td>0</td>\n",
              "      <td>0</td>\n",
              "      <td>0</td>\n",
              "      <td>0</td>\n",
              "      <td>0</td>\n",
              "      <td>0</td>\n",
              "      <td>0</td>\n",
              "      <td>0</td>\n",
              "      <td>1</td>\n",
              "    </tr>\n",
              "    <tr>\n",
              "      <th>1460</th>\n",
              "      <td>11.916131</td>\n",
              "      <td>11.151348</td>\n",
              "      <td>0.0</td>\n",
              "      <td>0.730463</td>\n",
              "      <td>1.540963</td>\n",
              "      <td>1.820334</td>\n",
              "      <td>1.540963</td>\n",
              "      <td>11.476685</td>\n",
              "      <td>0.000000</td>\n",
              "      <td>1.194318</td>\n",
              "      <td>2.259674</td>\n",
              "      <td>0.0</td>\n",
              "      <td>0.0</td>\n",
              "      <td>1.194318</td>\n",
              "      <td>7.293500</td>\n",
              "      <td>0.730463</td>\n",
              "      <td>0.0</td>\n",
              "      <td>1.820334</td>\n",
              "      <td>1.540963</td>\n",
              "      <td>1.194318</td>\n",
              "      <td>2.055642</td>\n",
              "      <td>0.730463</td>\n",
              "      <td>1.194318</td>\n",
              "      <td>2.259674</td>\n",
              "      <td>10.179489</td>\n",
              "      <td>1.194318</td>\n",
              "      <td>2.055642</td>\n",
              "      <td>0.000000</td>\n",
              "      <td>2.055642</td>\n",
              "      <td>14.178149</td>\n",
              "      <td>13.551272</td>\n",
              "      <td>0.730463</td>\n",
              "      <td>1.194318</td>\n",
              "      <td>0.730463</td>\n",
              "      <td>1.540963</td>\n",
              "      <td>0.0</td>\n",
              "      <td>21.196905</td>\n",
              "      <td>6.073289</td>\n",
              "      <td>0.000000</td>\n",
              "      <td>0.0</td>\n",
              "      <td>...</td>\n",
              "      <td>0</td>\n",
              "      <td>0</td>\n",
              "      <td>0</td>\n",
              "      <td>0</td>\n",
              "      <td>0</td>\n",
              "      <td>0</td>\n",
              "      <td>0</td>\n",
              "      <td>0</td>\n",
              "      <td>0</td>\n",
              "      <td>0</td>\n",
              "      <td>0</td>\n",
              "      <td>0</td>\n",
              "      <td>1</td>\n",
              "      <td>0</td>\n",
              "      <td>0</td>\n",
              "      <td>0</td>\n",
              "      <td>0</td>\n",
              "      <td>0</td>\n",
              "      <td>0</td>\n",
              "      <td>0</td>\n",
              "      <td>1</td>\n",
              "      <td>0</td>\n",
              "      <td>0</td>\n",
              "      <td>0</td>\n",
              "      <td>0</td>\n",
              "      <td>0</td>\n",
              "      <td>0</td>\n",
              "      <td>0</td>\n",
              "      <td>0</td>\n",
              "      <td>1</td>\n",
              "      <td>0</td>\n",
              "      <td>0</td>\n",
              "      <td>0</td>\n",
              "      <td>0</td>\n",
              "      <td>0</td>\n",
              "      <td>0</td>\n",
              "      <td>0</td>\n",
              "      <td>0</td>\n",
              "      <td>0</td>\n",
              "      <td>1</td>\n",
              "    </tr>\n",
              "    <tr>\n",
              "      <th>1461</th>\n",
              "      <td>11.910125</td>\n",
              "      <td>11.062536</td>\n",
              "      <td>0.0</td>\n",
              "      <td>0.730463</td>\n",
              "      <td>1.540963</td>\n",
              "      <td>1.820334</td>\n",
              "      <td>1.540963</td>\n",
              "      <td>10.749651</td>\n",
              "      <td>0.000000</td>\n",
              "      <td>1.194318</td>\n",
              "      <td>2.259674</td>\n",
              "      <td>0.0</td>\n",
              "      <td>0.0</td>\n",
              "      <td>1.820334</td>\n",
              "      <td>9.207511</td>\n",
              "      <td>0.730463</td>\n",
              "      <td>0.0</td>\n",
              "      <td>1.820334</td>\n",
              "      <td>1.540963</td>\n",
              "      <td>1.820334</td>\n",
              "      <td>1.194318</td>\n",
              "      <td>0.730463</td>\n",
              "      <td>1.194318</td>\n",
              "      <td>2.259674</td>\n",
              "      <td>10.116035</td>\n",
              "      <td>1.194318</td>\n",
              "      <td>2.055642</td>\n",
              "      <td>0.000000</td>\n",
              "      <td>2.055642</td>\n",
              "      <td>14.179714</td>\n",
              "      <td>13.504453</td>\n",
              "      <td>0.730463</td>\n",
              "      <td>0.000000</td>\n",
              "      <td>0.730463</td>\n",
              "      <td>1.194318</td>\n",
              "      <td>0.0</td>\n",
              "      <td>19.865444</td>\n",
              "      <td>6.172972</td>\n",
              "      <td>0.000000</td>\n",
              "      <td>0.0</td>\n",
              "      <td>...</td>\n",
              "      <td>0</td>\n",
              "      <td>0</td>\n",
              "      <td>0</td>\n",
              "      <td>0</td>\n",
              "      <td>0</td>\n",
              "      <td>0</td>\n",
              "      <td>0</td>\n",
              "      <td>0</td>\n",
              "      <td>0</td>\n",
              "      <td>0</td>\n",
              "      <td>0</td>\n",
              "      <td>0</td>\n",
              "      <td>1</td>\n",
              "      <td>0</td>\n",
              "      <td>0</td>\n",
              "      <td>0</td>\n",
              "      <td>0</td>\n",
              "      <td>0</td>\n",
              "      <td>0</td>\n",
              "      <td>0</td>\n",
              "      <td>1</td>\n",
              "      <td>0</td>\n",
              "      <td>0</td>\n",
              "      <td>0</td>\n",
              "      <td>0</td>\n",
              "      <td>0</td>\n",
              "      <td>0</td>\n",
              "      <td>0</td>\n",
              "      <td>0</td>\n",
              "      <td>1</td>\n",
              "      <td>0</td>\n",
              "      <td>0</td>\n",
              "      <td>0</td>\n",
              "      <td>0</td>\n",
              "      <td>0</td>\n",
              "      <td>0</td>\n",
              "      <td>0</td>\n",
              "      <td>0</td>\n",
              "      <td>0</td>\n",
              "      <td>1</td>\n",
              "    </tr>\n",
              "    <tr>\n",
              "      <th>1462</th>\n",
              "      <td>12.833625</td>\n",
              "      <td>0.000000</td>\n",
              "      <td>0.0</td>\n",
              "      <td>0.730463</td>\n",
              "      <td>1.194318</td>\n",
              "      <td>1.820334</td>\n",
              "      <td>1.540963</td>\n",
              "      <td>8.720170</td>\n",
              "      <td>0.000000</td>\n",
              "      <td>0.000000</td>\n",
              "      <td>2.259674</td>\n",
              "      <td>0.0</td>\n",
              "      <td>0.0</td>\n",
              "      <td>1.194318</td>\n",
              "      <td>12.172900</td>\n",
              "      <td>0.730463</td>\n",
              "      <td>0.0</td>\n",
              "      <td>1.820334</td>\n",
              "      <td>1.194318</td>\n",
              "      <td>1.820334</td>\n",
              "      <td>1.540963</td>\n",
              "      <td>0.000000</td>\n",
              "      <td>1.194318</td>\n",
              "      <td>2.259674</td>\n",
              "      <td>10.302477</td>\n",
              "      <td>1.194318</td>\n",
              "      <td>2.055642</td>\n",
              "      <td>1.194318</td>\n",
              "      <td>2.055642</td>\n",
              "      <td>14.170316</td>\n",
              "      <td>12.833625</td>\n",
              "      <td>0.000000</td>\n",
              "      <td>0.000000</td>\n",
              "      <td>0.730463</td>\n",
              "      <td>1.194318</td>\n",
              "      <td>0.0</td>\n",
              "      <td>17.257255</td>\n",
              "      <td>5.093857</td>\n",
              "      <td>0.000000</td>\n",
              "      <td>0.0</td>\n",
              "      <td>...</td>\n",
              "      <td>0</td>\n",
              "      <td>0</td>\n",
              "      <td>0</td>\n",
              "      <td>0</td>\n",
              "      <td>0</td>\n",
              "      <td>0</td>\n",
              "      <td>0</td>\n",
              "      <td>0</td>\n",
              "      <td>0</td>\n",
              "      <td>1</td>\n",
              "      <td>0</td>\n",
              "      <td>0</td>\n",
              "      <td>1</td>\n",
              "      <td>0</td>\n",
              "      <td>0</td>\n",
              "      <td>0</td>\n",
              "      <td>0</td>\n",
              "      <td>0</td>\n",
              "      <td>0</td>\n",
              "      <td>0</td>\n",
              "      <td>1</td>\n",
              "      <td>0</td>\n",
              "      <td>0</td>\n",
              "      <td>0</td>\n",
              "      <td>0</td>\n",
              "      <td>0</td>\n",
              "      <td>0</td>\n",
              "      <td>0</td>\n",
              "      <td>0</td>\n",
              "      <td>1</td>\n",
              "      <td>0</td>\n",
              "      <td>0</td>\n",
              "      <td>0</td>\n",
              "      <td>0</td>\n",
              "      <td>0</td>\n",
              "      <td>0</td>\n",
              "      <td>0</td>\n",
              "      <td>0</td>\n",
              "      <td>0</td>\n",
              "      <td>1</td>\n",
              "    </tr>\n",
              "  </tbody>\n",
              "</table>\n",
              "<p>5 rows × 220 columns</p>\n",
              "</div>"
            ],
            "text/plain": [
              "       1stFlrSF   2ndFlrSF  3SsnPorch  ...  SaleType_New  SaleType_Oth  SaleType_WD\n",
              "1458  11.818680   0.000000        0.0  ...             0             0            1\n",
              "1459  12.943735   0.000000        0.0  ...             0             0            1\n",
              "1460  11.916131  11.151348        0.0  ...             0             0            1\n",
              "1461  11.910125  11.062536        0.0  ...             0             0            1\n",
              "1462  12.833625   0.000000        0.0  ...             0             0            1\n",
              "\n",
              "[5 rows x 220 columns]"
            ]
          },
          "metadata": {
            "tags": []
          },
          "execution_count": 47
        }
      ]
    },
    {
      "cell_type": "markdown",
      "metadata": {
        "_uuid": "d5c3bdaf7c57955a06d4537e93ad7036af1e54f1",
        "id": "g3SnuwI8iq0I",
        "colab_type": "text"
      },
      "source": [
        "## Lets apply Modelling\n",
        "\n",
        "1. Importing Libraries\n",
        "\n",
        "2. We will use models\n",
        " - Lasso\n",
        " - Ridge\n",
        " - ElasticNet\n",
        " - Gradient Boosting\n",
        " \n",
        "3. Find the Cross Validation Score.\n",
        "4. Calculate the mean of all model's prediction.\n",
        "5. Submit the CSV file.\n",
        " "
      ]
    },
    {
      "cell_type": "code",
      "metadata": {
        "trusted": true,
        "_uuid": "a477c9212c17282e5c8a1767ca6b301e91afcce3",
        "id": "5eahinuJiq0J",
        "colab_type": "code",
        "colab": {}
      },
      "source": [
        "from sklearn.linear_model import ElasticNet, Lasso,  BayesianRidge, LassoLarsIC\n",
        "from sklearn.ensemble import RandomForestRegressor,  GradientBoostingRegressor\n",
        "from sklearn.kernel_ridge import KernelRidge\n",
        "from sklearn.pipeline import make_pipeline\n",
        "from sklearn.preprocessing import RobustScaler\n",
        "from sklearn.base import BaseEstimator, TransformerMixin, RegressorMixin, clone\n",
        "from sklearn.model_selection import KFold, cross_val_score, train_test_split\n",
        "from sklearn.metrics import mean_squared_error\n",
        "import xgboost as xgb\n",
        "import lightgbm as lgb"
      ],
      "execution_count": 0,
      "outputs": []
    },
    {
      "cell_type": "markdown",
      "metadata": {
        "_uuid": "a907ce9421f8a0b628390c5db13920f9a392d476",
        "id": "mBkQXfgxiq0L",
        "colab_type": "text"
      },
      "source": [
        "## Cross Validation\n",
        "It's simple way to calculate error for evaluation. \n",
        "\n",
        "**KFold( )** splits the train/test data into k consecutive folds, we also have made shuffle attrib to True.\n",
        "\n",
        "**cross_val_score ( )** evaluate a score by cross-validation."
      ]
    },
    {
      "cell_type": "code",
      "metadata": {
        "trusted": true,
        "_uuid": "d7af5d935df2a27cfc54dc13f746aa64774d010f",
        "id": "fgyDd7zUiq0M",
        "colab_type": "code",
        "colab": {}
      },
      "source": [
        "#Validation function\n",
        "n_folds = 5\n",
        "\n",
        "def rmsle_cv(model):\n",
        "    kf = KFold(n_folds, shuffle=True, random_state=42).get_n_splits(train.values)\n",
        "    rmse= np.sqrt(-cross_val_score(model, train.values, y_train, scoring=\"neg_mean_squared_error\", cv = kf))\n",
        "    return(rmse)"
      ],
      "execution_count": 0,
      "outputs": []
    },
    {
      "cell_type": "markdown",
      "metadata": {
        "_uuid": "ef4bf7c58fdfedd15102194023c24b94876f3559",
        "id": "PXpeZu6Oiq0P",
        "colab_type": "text"
      },
      "source": [
        "# Modelling\n",
        "Since in this dataset we have a large set of features. So to make our model avoid Overfitting and noisy we will use Regularization.\n",
        "These model have Regularization parameter.\n",
        "\n",
        "Regularization will reduce the magnitude of the coefficients."
      ]
    },
    {
      "cell_type": "markdown",
      "metadata": {
        "_uuid": "c7cd0953ca1b7021b165aef700d1241732c09d18",
        "id": "Dc5otMmYiq0Q",
        "colab_type": "text"
      },
      "source": [
        "## Ridge Regression\n",
        "- It shrinks the parameters, therefore it is mostly used to prevent multicollinearity.\n",
        "- It reduces the model complexity by coefficient shrinkage.\n",
        "- It uses L2 regularization technique."
      ]
    },
    {
      "cell_type": "code",
      "metadata": {
        "trusted": true,
        "_uuid": "b7f81c6d917d9c5325f3d3456bde7adce2899621",
        "id": "dWbTHIDziq0R",
        "colab_type": "code",
        "outputId": "22327c36-6eac-4584-a8c3-e9e0e39133be",
        "colab": {
          "base_uri": "https://localhost:8080/",
          "height": 0
        }
      },
      "source": [
        "KRR = KernelRidge(alpha=0.6, kernel='polynomial', degree=2, coef0=2.5)\n",
        "score = rmsle_cv(KRR)\n",
        "print(\"Kernel Ridge score: {:.4f} ({:.4f})\\n\".format(score.mean(), score.std()))"
      ],
      "execution_count": 50,
      "outputs": [
        {
          "output_type": "stream",
          "text": [
            "Kernel Ridge score: 0.1153 (0.0075)\n",
            "\n"
          ],
          "name": "stdout"
        }
      ]
    },
    {
      "cell_type": "markdown",
      "metadata": {
        "_uuid": "03559fcf57b62b49b0332acd9439274bf8dd9d8a",
        "id": "m3y19RPdiq0U",
        "colab_type": "text"
      },
      "source": [
        "## Lasso Regression\n",
        "LASSO (Least Absolute Shrinkage Selector Operator), is quite similar to ridge.\n",
        "\n",
        "In case of lasso, even at smaller alpha’s, our coefficients are reducing to absolute zeroes.\n",
        " Therefore, lasso selects the only some feature while reduces the coefficients of others to zero. This property is known as feature selection and which is absent in case of ridge.\n",
        " \n",
        "- Lasso uses L1 regularization technique.\n",
        "- Lasso is generally used when we have more number of features, because it automatically does feature selection.\n"
      ]
    },
    {
      "cell_type": "code",
      "metadata": {
        "trusted": true,
        "scrolled": true,
        "_uuid": "a437402e2a37f26372fc03761fa05c6d7ea4e433",
        "id": "BxmgDcNIiq0V",
        "colab_type": "code",
        "outputId": "baf7290b-496d-4c71-9715-ae9e1fb0b6e6",
        "colab": {
          "base_uri": "https://localhost:8080/",
          "height": 0
        }
      },
      "source": [
        "lasso = make_pipeline(RobustScaler(), Lasso(alpha =0.0005, random_state=1))\n",
        "score = rmsle_cv(lasso)\n",
        "print(\"Lasso score: {:.4f} ({:.4f})\\n\".format(score.mean(), score.std()))"
      ],
      "execution_count": 51,
      "outputs": [
        {
          "output_type": "stream",
          "text": [
            "Lasso score: 0.1115 (0.0074)\n",
            "\n"
          ],
          "name": "stdout"
        }
      ]
    },
    {
      "cell_type": "markdown",
      "metadata": {
        "_uuid": "c854d61f20f4cdab8a37b5037c3908f783b5e644",
        "id": "S-z3vWN9iq0c",
        "colab_type": "text"
      },
      "source": [
        "## Elastic Net Regression\n",
        "\n",
        "Elastic net is basically a combination of both L1 and L2 regularization. So if you know elastic net, you can implement both Ridge and Lasso by tuning the parameters."
      ]
    },
    {
      "cell_type": "code",
      "metadata": {
        "trusted": true,
        "_uuid": "d06ca9a5f9db49890db7999ffe9db7333f02edc6",
        "id": "OKwoTB_riq0e",
        "colab_type": "code",
        "outputId": "4b33f8af-64a0-4491-cf2d-eff3163d6000",
        "colab": {
          "base_uri": "https://localhost:8080/",
          "height": 0
        }
      },
      "source": [
        "ENet = make_pipeline(RobustScaler(), ElasticNet(alpha=0.0005, l1_ratio=.9, random_state=3))\n",
        "score = rmsle_cv(ENet)\n",
        "print(\"ElasticNet score: {:.4f} ({:.4f})\\n\".format(score.mean(), score.std()))"
      ],
      "execution_count": 52,
      "outputs": [
        {
          "output_type": "stream",
          "text": [
            "ElasticNet score: 0.1116 (0.0074)\n",
            "\n"
          ],
          "name": "stdout"
        }
      ]
    },
    {
      "cell_type": "markdown",
      "metadata": {
        "_uuid": "120e4a5ed78c963d8278803cc00956781f605691",
        "id": "1uemSVV1iq0i",
        "colab_type": "text"
      },
      "source": [
        "## Gradient Boosting Regression\n",
        "Refer [here](https://medium.com/mlreview/gradient-boosting-from-scratch-1e317ae4587d)"
      ]
    },
    {
      "cell_type": "code",
      "metadata": {
        "trusted": true,
        "_uuid": "221e05d63ac4d3f99900b36a9d06e3d8e10f1dc7",
        "id": "tJmeyGHbiq0i",
        "colab_type": "code",
        "outputId": "47e8665b-27eb-4c69-98de-e2f3a54247b2",
        "colab": {
          "base_uri": "https://localhost:8080/",
          "height": 0
        }
      },
      "source": [
        "GBoost = GradientBoostingRegressor(n_estimators=3000, learning_rate=0.05,\n",
        "                                   max_depth=4, max_features='sqrt',\n",
        "                                   min_samples_leaf=15, min_samples_split=10, \n",
        "                                   loss='huber', random_state =5)\n",
        "score = rmsle_cv(GBoost)\n",
        "print(\"Gradient Boosting score: {:.4f} ({:.4f})\\n\".format(score.mean(), score.std()))"
      ],
      "execution_count": 53,
      "outputs": [
        {
          "output_type": "stream",
          "text": [
            "Gradient Boosting score: 0.1177 (0.0080)\n",
            "\n"
          ],
          "name": "stdout"
        }
      ]
    },
    {
      "cell_type": "markdown",
      "metadata": {
        "_uuid": "7c0a8d859b163d5f10ae59afdd6fd77664bcd907",
        "id": "TDWpQWSPiq0k",
        "colab_type": "text"
      },
      "source": [
        "**Fit the training dataset on every model**"
      ]
    },
    {
      "cell_type": "code",
      "metadata": {
        "trusted": true,
        "_uuid": "f2a04068b4c93f1a1851708d9f43edcef6990cb8",
        "id": "AFDctS8Niq0l",
        "colab_type": "code",
        "colab": {}
      },
      "source": [
        "LassoMd = lasso.fit(train.values,y_train)\n",
        "ENetMd = ENet.fit(train.values,y_train)\n",
        "KRRMd = KRR.fit(train.values,y_train)\n",
        "GBoostMd = GBoost.fit(train.values,y_train)"
      ],
      "execution_count": 0,
      "outputs": []
    },
    {
      "cell_type": "markdown",
      "metadata": {
        "_uuid": "b5b2fe94eaa417646e8a91b451db40b400e88bf6",
        "id": "vsEz3AvViq0n",
        "colab_type": "text"
      },
      "source": [
        "## Mean of all model's prediction.\n",
        "np.expm1 ( ) is used to calculate exp(x) - 1 for all elements in the array. "
      ]
    },
    {
      "cell_type": "code",
      "metadata": {
        "trusted": true,
        "scrolled": true,
        "_uuid": "8b4e59cad1a1499ba00c3206676676658a4b1881",
        "id": "y-kooTM8iq0n",
        "colab_type": "code",
        "outputId": "5a9a98ad-0f70-418f-df39-8b9243a63ff6",
        "colab": {
          "base_uri": "https://localhost:8080/",
          "height": 0
        }
      },
      "source": [
        "finalMd = (np.expm1(LassoMd.predict(test.values)) + np.expm1(ENetMd.predict(test.values)) + np.expm1(KRRMd.predict(test.values)) + np.expm1(GBoostMd.predict(test.values)) ) / 4\n",
        "finalMd"
      ],
      "execution_count": 55,
      "outputs": [
        {
          "output_type": "execute_result",
          "data": {
            "text/plain": [
              "array([120177.72631577, 163816.91476835, 183417.48473384, ...,\n",
              "       171142.03348026, 114284.70143212, 222131.78687059])"
            ]
          },
          "metadata": {
            "tags": []
          },
          "execution_count": 55
        }
      ]
    },
    {
      "cell_type": "markdown",
      "metadata": {
        "_uuid": "0cd4ca41a0ecde7f82204ac5ed6fe6b502ea4a87",
        "id": "hq8xtMGXiq0p",
        "colab_type": "text"
      },
      "source": [
        "## Submission"
      ]
    },
    {
      "cell_type": "code",
      "metadata": {
        "trusted": true,
        "_uuid": "708eb2603a04b74c2c19ed52f5130c5f5704cf0f",
        "id": "4kZEFi3Aiq0p",
        "colab_type": "code",
        "colab": {}
      },
      "source": [
        "sub = pd.DataFrame()\n",
        "sub['Id'] = test_ID\n",
        "sub['SalePrice'] = finalMd\n",
        "sub.to_csv('submission.csv',index=False)"
      ],
      "execution_count": 0,
      "outputs": []
    },
    {
      "cell_type": "markdown",
      "metadata": {
        "_uuid": "b6797c8782e8aee1a187da8b2c65b67803853439",
        "id": "RZ9CwuPJiq0r",
        "colab_type": "text"
      },
      "source": [
        "**If you found this notebook helpful or you just liked it , some upvotes would be very much appreciated.**\n",
        "\n",
        "**I'll be glad to hear suggestions on improving my models**"
      ]
    },
    {
      "cell_type": "code",
      "metadata": {
        "id": "RzHb7m4-z0U1",
        "colab_type": "code",
        "outputId": "5ff2a742-448a-4b9b-ebee-13ee8ddcd45d",
        "colab": {
          "base_uri": "https://localhost:8080/",
          "height": 253
        }
      },
      "source": [
        "all_data.head()"
      ],
      "execution_count": 57,
      "outputs": [
        {
          "output_type": "execute_result",
          "data": {
            "text/html": [
              "<div>\n",
              "<style scoped>\n",
              "    .dataframe tbody tr th:only-of-type {\n",
              "        vertical-align: middle;\n",
              "    }\n",
              "\n",
              "    .dataframe tbody tr th {\n",
              "        vertical-align: top;\n",
              "    }\n",
              "\n",
              "    .dataframe thead th {\n",
              "        text-align: right;\n",
              "    }\n",
              "</style>\n",
              "<table border=\"1\" class=\"dataframe\">\n",
              "  <thead>\n",
              "    <tr style=\"text-align: right;\">\n",
              "      <th></th>\n",
              "      <th>1stFlrSF</th>\n",
              "      <th>2ndFlrSF</th>\n",
              "      <th>3SsnPorch</th>\n",
              "      <th>Alley</th>\n",
              "      <th>BedroomAbvGr</th>\n",
              "      <th>BsmtCond</th>\n",
              "      <th>BsmtExposure</th>\n",
              "      <th>BsmtFinSF1</th>\n",
              "      <th>BsmtFinSF2</th>\n",
              "      <th>BsmtFinType1</th>\n",
              "      <th>BsmtFinType2</th>\n",
              "      <th>BsmtFullBath</th>\n",
              "      <th>BsmtHalfBath</th>\n",
              "      <th>BsmtQual</th>\n",
              "      <th>BsmtUnfSF</th>\n",
              "      <th>CentralAir</th>\n",
              "      <th>EnclosedPorch</th>\n",
              "      <th>ExterCond</th>\n",
              "      <th>ExterQual</th>\n",
              "      <th>Fence</th>\n",
              "      <th>FireplaceQu</th>\n",
              "      <th>Fireplaces</th>\n",
              "      <th>FullBath</th>\n",
              "      <th>Functional</th>\n",
              "      <th>GarageArea</th>\n",
              "      <th>GarageCars</th>\n",
              "      <th>GarageCond</th>\n",
              "      <th>GarageFinish</th>\n",
              "      <th>GarageQual</th>\n",
              "      <th>GarageYrBlt</th>\n",
              "      <th>GrLivArea</th>\n",
              "      <th>HalfBath</th>\n",
              "      <th>HeatingQC</th>\n",
              "      <th>KitchenAbvGr</th>\n",
              "      <th>KitchenQual</th>\n",
              "      <th>LandSlope</th>\n",
              "      <th>LotArea</th>\n",
              "      <th>LotFrontage</th>\n",
              "      <th>LotShape</th>\n",
              "      <th>LowQualFinSF</th>\n",
              "      <th>...</th>\n",
              "      <th>Neighborhood_NPkVill</th>\n",
              "      <th>Neighborhood_NWAmes</th>\n",
              "      <th>Neighborhood_NoRidge</th>\n",
              "      <th>Neighborhood_NridgHt</th>\n",
              "      <th>Neighborhood_OldTown</th>\n",
              "      <th>Neighborhood_SWISU</th>\n",
              "      <th>Neighborhood_Sawyer</th>\n",
              "      <th>Neighborhood_SawyerW</th>\n",
              "      <th>Neighborhood_Somerst</th>\n",
              "      <th>Neighborhood_StoneBr</th>\n",
              "      <th>Neighborhood_Timber</th>\n",
              "      <th>Neighborhood_Veenker</th>\n",
              "      <th>RoofMatl_CompShg</th>\n",
              "      <th>RoofMatl_Membran</th>\n",
              "      <th>RoofMatl_Metal</th>\n",
              "      <th>RoofMatl_Roll</th>\n",
              "      <th>RoofMatl_Tar&amp;Grv</th>\n",
              "      <th>RoofMatl_WdShake</th>\n",
              "      <th>RoofMatl_WdShngl</th>\n",
              "      <th>RoofStyle_Flat</th>\n",
              "      <th>RoofStyle_Gable</th>\n",
              "      <th>RoofStyle_Gambrel</th>\n",
              "      <th>RoofStyle_Hip</th>\n",
              "      <th>RoofStyle_Mansard</th>\n",
              "      <th>RoofStyle_Shed</th>\n",
              "      <th>SaleCondition_Abnorml</th>\n",
              "      <th>SaleCondition_AdjLand</th>\n",
              "      <th>SaleCondition_Alloca</th>\n",
              "      <th>SaleCondition_Family</th>\n",
              "      <th>SaleCondition_Normal</th>\n",
              "      <th>SaleCondition_Partial</th>\n",
              "      <th>SaleType_COD</th>\n",
              "      <th>SaleType_CWD</th>\n",
              "      <th>SaleType_Con</th>\n",
              "      <th>SaleType_ConLD</th>\n",
              "      <th>SaleType_ConLI</th>\n",
              "      <th>SaleType_ConLw</th>\n",
              "      <th>SaleType_New</th>\n",
              "      <th>SaleType_Oth</th>\n",
              "      <th>SaleType_WD</th>\n",
              "    </tr>\n",
              "  </thead>\n",
              "  <tbody>\n",
              "    <tr>\n",
              "      <th>0</th>\n",
              "      <td>11.692623</td>\n",
              "      <td>11.686189</td>\n",
              "      <td>0.0</td>\n",
              "      <td>0.730463</td>\n",
              "      <td>1.540963</td>\n",
              "      <td>1.820334</td>\n",
              "      <td>1.540963</td>\n",
              "      <td>11.170327</td>\n",
              "      <td>0.0</td>\n",
              "      <td>1.194318</td>\n",
              "      <td>2.259674</td>\n",
              "      <td>0.730463</td>\n",
              "      <td>0.000000</td>\n",
              "      <td>1.194318</td>\n",
              "      <td>7.483296</td>\n",
              "      <td>0.730463</td>\n",
              "      <td>0.000000</td>\n",
              "      <td>1.820334</td>\n",
              "      <td>1.194318</td>\n",
              "      <td>1.820334</td>\n",
              "      <td>1.540963</td>\n",
              "      <td>0.000000</td>\n",
              "      <td>1.194318</td>\n",
              "      <td>2.259674</td>\n",
              "      <td>10.506271</td>\n",
              "      <td>1.194318</td>\n",
              "      <td>2.055642</td>\n",
              "      <td>1.194318</td>\n",
              "      <td>2.055642</td>\n",
              "      <td>14.187527</td>\n",
              "      <td>13.698888</td>\n",
              "      <td>0.730463</td>\n",
              "      <td>0.000000</td>\n",
              "      <td>0.730463</td>\n",
              "      <td>1.194318</td>\n",
              "      <td>0.0</td>\n",
              "      <td>19.212182</td>\n",
              "      <td>5.831328</td>\n",
              "      <td>1.540963</td>\n",
              "      <td>0.0</td>\n",
              "      <td>...</td>\n",
              "      <td>0</td>\n",
              "      <td>0</td>\n",
              "      <td>0</td>\n",
              "      <td>0</td>\n",
              "      <td>0</td>\n",
              "      <td>0</td>\n",
              "      <td>0</td>\n",
              "      <td>0</td>\n",
              "      <td>0</td>\n",
              "      <td>0</td>\n",
              "      <td>0</td>\n",
              "      <td>0</td>\n",
              "      <td>1</td>\n",
              "      <td>0</td>\n",
              "      <td>0</td>\n",
              "      <td>0</td>\n",
              "      <td>0</td>\n",
              "      <td>0</td>\n",
              "      <td>0</td>\n",
              "      <td>0</td>\n",
              "      <td>1</td>\n",
              "      <td>0</td>\n",
              "      <td>0</td>\n",
              "      <td>0</td>\n",
              "      <td>0</td>\n",
              "      <td>0</td>\n",
              "      <td>0</td>\n",
              "      <td>0</td>\n",
              "      <td>0</td>\n",
              "      <td>1</td>\n",
              "      <td>0</td>\n",
              "      <td>0</td>\n",
              "      <td>0</td>\n",
              "      <td>0</td>\n",
              "      <td>0</td>\n",
              "      <td>0</td>\n",
              "      <td>0</td>\n",
              "      <td>0</td>\n",
              "      <td>0</td>\n",
              "      <td>1</td>\n",
              "    </tr>\n",
              "    <tr>\n",
              "      <th>1</th>\n",
              "      <td>12.792276</td>\n",
              "      <td>0.000000</td>\n",
              "      <td>0.0</td>\n",
              "      <td>0.730463</td>\n",
              "      <td>1.540963</td>\n",
              "      <td>1.820334</td>\n",
              "      <td>0.730463</td>\n",
              "      <td>12.062832</td>\n",
              "      <td>0.0</td>\n",
              "      <td>0.000000</td>\n",
              "      <td>2.259674</td>\n",
              "      <td>0.000000</td>\n",
              "      <td>0.730463</td>\n",
              "      <td>1.194318</td>\n",
              "      <td>8.897844</td>\n",
              "      <td>0.730463</td>\n",
              "      <td>0.000000</td>\n",
              "      <td>1.820334</td>\n",
              "      <td>1.540963</td>\n",
              "      <td>1.820334</td>\n",
              "      <td>2.055642</td>\n",
              "      <td>0.730463</td>\n",
              "      <td>1.194318</td>\n",
              "      <td>2.259674</td>\n",
              "      <td>10.062098</td>\n",
              "      <td>1.194318</td>\n",
              "      <td>2.055642</td>\n",
              "      <td>1.194318</td>\n",
              "      <td>2.055642</td>\n",
              "      <td>14.145138</td>\n",
              "      <td>12.792276</td>\n",
              "      <td>0.000000</td>\n",
              "      <td>0.000000</td>\n",
              "      <td>0.730463</td>\n",
              "      <td>1.540963</td>\n",
              "      <td>0.0</td>\n",
              "      <td>19.712205</td>\n",
              "      <td>6.221214</td>\n",
              "      <td>1.540963</td>\n",
              "      <td>0.0</td>\n",
              "      <td>...</td>\n",
              "      <td>0</td>\n",
              "      <td>0</td>\n",
              "      <td>0</td>\n",
              "      <td>0</td>\n",
              "      <td>0</td>\n",
              "      <td>0</td>\n",
              "      <td>0</td>\n",
              "      <td>0</td>\n",
              "      <td>0</td>\n",
              "      <td>0</td>\n",
              "      <td>0</td>\n",
              "      <td>1</td>\n",
              "      <td>1</td>\n",
              "      <td>0</td>\n",
              "      <td>0</td>\n",
              "      <td>0</td>\n",
              "      <td>0</td>\n",
              "      <td>0</td>\n",
              "      <td>0</td>\n",
              "      <td>0</td>\n",
              "      <td>1</td>\n",
              "      <td>0</td>\n",
              "      <td>0</td>\n",
              "      <td>0</td>\n",
              "      <td>0</td>\n",
              "      <td>0</td>\n",
              "      <td>0</td>\n",
              "      <td>0</td>\n",
              "      <td>0</td>\n",
              "      <td>1</td>\n",
              "      <td>0</td>\n",
              "      <td>0</td>\n",
              "      <td>0</td>\n",
              "      <td>0</td>\n",
              "      <td>0</td>\n",
              "      <td>0</td>\n",
              "      <td>0</td>\n",
              "      <td>0</td>\n",
              "      <td>0</td>\n",
              "      <td>1</td>\n",
              "    </tr>\n",
              "    <tr>\n",
              "      <th>2</th>\n",
              "      <td>11.892039</td>\n",
              "      <td>11.724598</td>\n",
              "      <td>0.0</td>\n",
              "      <td>0.730463</td>\n",
              "      <td>1.540963</td>\n",
              "      <td>1.820334</td>\n",
              "      <td>1.194318</td>\n",
              "      <td>10.200343</td>\n",
              "      <td>0.0</td>\n",
              "      <td>1.194318</td>\n",
              "      <td>2.259674</td>\n",
              "      <td>0.730463</td>\n",
              "      <td>0.000000</td>\n",
              "      <td>1.194318</td>\n",
              "      <td>9.917060</td>\n",
              "      <td>0.730463</td>\n",
              "      <td>0.000000</td>\n",
              "      <td>1.820334</td>\n",
              "      <td>1.194318</td>\n",
              "      <td>1.820334</td>\n",
              "      <td>2.055642</td>\n",
              "      <td>0.730463</td>\n",
              "      <td>1.194318</td>\n",
              "      <td>2.259674</td>\n",
              "      <td>10.775536</td>\n",
              "      <td>1.194318</td>\n",
              "      <td>2.055642</td>\n",
              "      <td>1.194318</td>\n",
              "      <td>2.055642</td>\n",
              "      <td>14.184404</td>\n",
              "      <td>13.832085</td>\n",
              "      <td>0.730463</td>\n",
              "      <td>0.000000</td>\n",
              "      <td>0.730463</td>\n",
              "      <td>1.194318</td>\n",
              "      <td>0.0</td>\n",
              "      <td>20.347241</td>\n",
              "      <td>5.914940</td>\n",
              "      <td>0.000000</td>\n",
              "      <td>0.0</td>\n",
              "      <td>...</td>\n",
              "      <td>0</td>\n",
              "      <td>0</td>\n",
              "      <td>0</td>\n",
              "      <td>0</td>\n",
              "      <td>0</td>\n",
              "      <td>0</td>\n",
              "      <td>0</td>\n",
              "      <td>0</td>\n",
              "      <td>0</td>\n",
              "      <td>0</td>\n",
              "      <td>0</td>\n",
              "      <td>0</td>\n",
              "      <td>1</td>\n",
              "      <td>0</td>\n",
              "      <td>0</td>\n",
              "      <td>0</td>\n",
              "      <td>0</td>\n",
              "      <td>0</td>\n",
              "      <td>0</td>\n",
              "      <td>0</td>\n",
              "      <td>1</td>\n",
              "      <td>0</td>\n",
              "      <td>0</td>\n",
              "      <td>0</td>\n",
              "      <td>0</td>\n",
              "      <td>0</td>\n",
              "      <td>0</td>\n",
              "      <td>0</td>\n",
              "      <td>0</td>\n",
              "      <td>1</td>\n",
              "      <td>0</td>\n",
              "      <td>0</td>\n",
              "      <td>0</td>\n",
              "      <td>0</td>\n",
              "      <td>0</td>\n",
              "      <td>0</td>\n",
              "      <td>0</td>\n",
              "      <td>0</td>\n",
              "      <td>0</td>\n",
              "      <td>1</td>\n",
              "    </tr>\n",
              "    <tr>\n",
              "      <th>3</th>\n",
              "      <td>12.013683</td>\n",
              "      <td>11.354094</td>\n",
              "      <td>0.0</td>\n",
              "      <td>0.730463</td>\n",
              "      <td>1.540963</td>\n",
              "      <td>0.730463</td>\n",
              "      <td>1.540963</td>\n",
              "      <td>8.274266</td>\n",
              "      <td>0.0</td>\n",
              "      <td>0.000000</td>\n",
              "      <td>2.259674</td>\n",
              "      <td>0.730463</td>\n",
              "      <td>0.000000</td>\n",
              "      <td>1.820334</td>\n",
              "      <td>10.468500</td>\n",
              "      <td>0.730463</td>\n",
              "      <td>8.797736</td>\n",
              "      <td>1.820334</td>\n",
              "      <td>1.540963</td>\n",
              "      <td>1.820334</td>\n",
              "      <td>1.194318</td>\n",
              "      <td>0.730463</td>\n",
              "      <td>0.730463</td>\n",
              "      <td>2.259674</td>\n",
              "      <td>10.918253</td>\n",
              "      <td>1.540963</td>\n",
              "      <td>2.055642</td>\n",
              "      <td>1.540963</td>\n",
              "      <td>2.055642</td>\n",
              "      <td>14.179714</td>\n",
              "      <td>13.711364</td>\n",
              "      <td>0.000000</td>\n",
              "      <td>1.194318</td>\n",
              "      <td>0.730463</td>\n",
              "      <td>1.194318</td>\n",
              "      <td>0.0</td>\n",
              "      <td>19.691553</td>\n",
              "      <td>5.684507</td>\n",
              "      <td>0.000000</td>\n",
              "      <td>0.0</td>\n",
              "      <td>...</td>\n",
              "      <td>0</td>\n",
              "      <td>0</td>\n",
              "      <td>0</td>\n",
              "      <td>0</td>\n",
              "      <td>0</td>\n",
              "      <td>0</td>\n",
              "      <td>0</td>\n",
              "      <td>0</td>\n",
              "      <td>0</td>\n",
              "      <td>0</td>\n",
              "      <td>0</td>\n",
              "      <td>0</td>\n",
              "      <td>1</td>\n",
              "      <td>0</td>\n",
              "      <td>0</td>\n",
              "      <td>0</td>\n",
              "      <td>0</td>\n",
              "      <td>0</td>\n",
              "      <td>0</td>\n",
              "      <td>0</td>\n",
              "      <td>1</td>\n",
              "      <td>0</td>\n",
              "      <td>0</td>\n",
              "      <td>0</td>\n",
              "      <td>0</td>\n",
              "      <td>1</td>\n",
              "      <td>0</td>\n",
              "      <td>0</td>\n",
              "      <td>0</td>\n",
              "      <td>0</td>\n",
              "      <td>0</td>\n",
              "      <td>0</td>\n",
              "      <td>0</td>\n",
              "      <td>0</td>\n",
              "      <td>0</td>\n",
              "      <td>0</td>\n",
              "      <td>0</td>\n",
              "      <td>0</td>\n",
              "      <td>0</td>\n",
              "      <td>1</td>\n",
              "    </tr>\n",
              "    <tr>\n",
              "      <th>4</th>\n",
              "      <td>12.510588</td>\n",
              "      <td>12.271365</td>\n",
              "      <td>0.0</td>\n",
              "      <td>0.730463</td>\n",
              "      <td>1.820334</td>\n",
              "      <td>1.820334</td>\n",
              "      <td>0.000000</td>\n",
              "      <td>10.971129</td>\n",
              "      <td>0.0</td>\n",
              "      <td>1.194318</td>\n",
              "      <td>2.259674</td>\n",
              "      <td>0.730463</td>\n",
              "      <td>0.000000</td>\n",
              "      <td>1.194318</td>\n",
              "      <td>10.221051</td>\n",
              "      <td>0.730463</td>\n",
              "      <td>0.000000</td>\n",
              "      <td>1.820334</td>\n",
              "      <td>1.194318</td>\n",
              "      <td>1.820334</td>\n",
              "      <td>2.055642</td>\n",
              "      <td>0.730463</td>\n",
              "      <td>1.194318</td>\n",
              "      <td>2.259674</td>\n",
              "      <td>11.627708</td>\n",
              "      <td>1.540963</td>\n",
              "      <td>2.055642</td>\n",
              "      <td>1.194318</td>\n",
              "      <td>2.055642</td>\n",
              "      <td>14.182841</td>\n",
              "      <td>14.480029</td>\n",
              "      <td>0.730463</td>\n",
              "      <td>0.000000</td>\n",
              "      <td>0.730463</td>\n",
              "      <td>1.194318</td>\n",
              "      <td>0.0</td>\n",
              "      <td>21.325160</td>\n",
              "      <td>6.314735</td>\n",
              "      <td>0.000000</td>\n",
              "      <td>0.0</td>\n",
              "      <td>...</td>\n",
              "      <td>0</td>\n",
              "      <td>0</td>\n",
              "      <td>1</td>\n",
              "      <td>0</td>\n",
              "      <td>0</td>\n",
              "      <td>0</td>\n",
              "      <td>0</td>\n",
              "      <td>0</td>\n",
              "      <td>0</td>\n",
              "      <td>0</td>\n",
              "      <td>0</td>\n",
              "      <td>0</td>\n",
              "      <td>1</td>\n",
              "      <td>0</td>\n",
              "      <td>0</td>\n",
              "      <td>0</td>\n",
              "      <td>0</td>\n",
              "      <td>0</td>\n",
              "      <td>0</td>\n",
              "      <td>0</td>\n",
              "      <td>1</td>\n",
              "      <td>0</td>\n",
              "      <td>0</td>\n",
              "      <td>0</td>\n",
              "      <td>0</td>\n",
              "      <td>0</td>\n",
              "      <td>0</td>\n",
              "      <td>0</td>\n",
              "      <td>0</td>\n",
              "      <td>1</td>\n",
              "      <td>0</td>\n",
              "      <td>0</td>\n",
              "      <td>0</td>\n",
              "      <td>0</td>\n",
              "      <td>0</td>\n",
              "      <td>0</td>\n",
              "      <td>0</td>\n",
              "      <td>0</td>\n",
              "      <td>0</td>\n",
              "      <td>1</td>\n",
              "    </tr>\n",
              "  </tbody>\n",
              "</table>\n",
              "<p>5 rows × 220 columns</p>\n",
              "</div>"
            ],
            "text/plain": [
              "    1stFlrSF   2ndFlrSF  3SsnPorch  ...  SaleType_New  SaleType_Oth  SaleType_WD\n",
              "0  11.692623  11.686189        0.0  ...             0             0            1\n",
              "1  12.792276   0.000000        0.0  ...             0             0            1\n",
              "2  11.892039  11.724598        0.0  ...             0             0            1\n",
              "3  12.013683  11.354094        0.0  ...             0             0            1\n",
              "4  12.510588  12.271365        0.0  ...             0             0            1\n",
              "\n",
              "[5 rows x 220 columns]"
            ]
          },
          "metadata": {
            "tags": []
          },
          "execution_count": 57
        }
      ]
    },
    {
      "cell_type": "code",
      "metadata": {
        "id": "j9OsUEnqqFz1",
        "colab_type": "code",
        "colab": {}
      },
      "source": [
        "from sklearn.model_selection import train_test_split\n",
        "X_train_val, X_test_val, y_train_val, y_test_val= train_test_split(train, y_train, random_state=23, test_size=.20)"
      ],
      "execution_count": 0,
      "outputs": []
    },
    {
      "cell_type": "code",
      "metadata": {
        "id": "Ziw6hUc21k9j",
        "colab_type": "code",
        "outputId": "4aa92c05-b97b-4161-a9a6-a82c6cd4b370",
        "colab": {
          "base_uri": "https://localhost:8080/",
          "height": 253
        }
      },
      "source": [
        "X_train_val.head()"
      ],
      "execution_count": 59,
      "outputs": [
        {
          "output_type": "execute_result",
          "data": {
            "text/html": [
              "<div>\n",
              "<style scoped>\n",
              "    .dataframe tbody tr th:only-of-type {\n",
              "        vertical-align: middle;\n",
              "    }\n",
              "\n",
              "    .dataframe tbody tr th {\n",
              "        vertical-align: top;\n",
              "    }\n",
              "\n",
              "    .dataframe thead th {\n",
              "        text-align: right;\n",
              "    }\n",
              "</style>\n",
              "<table border=\"1\" class=\"dataframe\">\n",
              "  <thead>\n",
              "    <tr style=\"text-align: right;\">\n",
              "      <th></th>\n",
              "      <th>1stFlrSF</th>\n",
              "      <th>2ndFlrSF</th>\n",
              "      <th>3SsnPorch</th>\n",
              "      <th>Alley</th>\n",
              "      <th>BedroomAbvGr</th>\n",
              "      <th>BsmtCond</th>\n",
              "      <th>BsmtExposure</th>\n",
              "      <th>BsmtFinSF1</th>\n",
              "      <th>BsmtFinSF2</th>\n",
              "      <th>BsmtFinType1</th>\n",
              "      <th>BsmtFinType2</th>\n",
              "      <th>BsmtFullBath</th>\n",
              "      <th>BsmtHalfBath</th>\n",
              "      <th>BsmtQual</th>\n",
              "      <th>BsmtUnfSF</th>\n",
              "      <th>CentralAir</th>\n",
              "      <th>EnclosedPorch</th>\n",
              "      <th>ExterCond</th>\n",
              "      <th>ExterQual</th>\n",
              "      <th>Fence</th>\n",
              "      <th>FireplaceQu</th>\n",
              "      <th>Fireplaces</th>\n",
              "      <th>FullBath</th>\n",
              "      <th>Functional</th>\n",
              "      <th>GarageArea</th>\n",
              "      <th>GarageCars</th>\n",
              "      <th>GarageCond</th>\n",
              "      <th>GarageFinish</th>\n",
              "      <th>GarageQual</th>\n",
              "      <th>GarageYrBlt</th>\n",
              "      <th>GrLivArea</th>\n",
              "      <th>HalfBath</th>\n",
              "      <th>HeatingQC</th>\n",
              "      <th>KitchenAbvGr</th>\n",
              "      <th>KitchenQual</th>\n",
              "      <th>LandSlope</th>\n",
              "      <th>LotArea</th>\n",
              "      <th>LotFrontage</th>\n",
              "      <th>LotShape</th>\n",
              "      <th>LowQualFinSF</th>\n",
              "      <th>...</th>\n",
              "      <th>Neighborhood_NPkVill</th>\n",
              "      <th>Neighborhood_NWAmes</th>\n",
              "      <th>Neighborhood_NoRidge</th>\n",
              "      <th>Neighborhood_NridgHt</th>\n",
              "      <th>Neighborhood_OldTown</th>\n",
              "      <th>Neighborhood_SWISU</th>\n",
              "      <th>Neighborhood_Sawyer</th>\n",
              "      <th>Neighborhood_SawyerW</th>\n",
              "      <th>Neighborhood_Somerst</th>\n",
              "      <th>Neighborhood_StoneBr</th>\n",
              "      <th>Neighborhood_Timber</th>\n",
              "      <th>Neighborhood_Veenker</th>\n",
              "      <th>RoofMatl_CompShg</th>\n",
              "      <th>RoofMatl_Membran</th>\n",
              "      <th>RoofMatl_Metal</th>\n",
              "      <th>RoofMatl_Roll</th>\n",
              "      <th>RoofMatl_Tar&amp;Grv</th>\n",
              "      <th>RoofMatl_WdShake</th>\n",
              "      <th>RoofMatl_WdShngl</th>\n",
              "      <th>RoofStyle_Flat</th>\n",
              "      <th>RoofStyle_Gable</th>\n",
              "      <th>RoofStyle_Gambrel</th>\n",
              "      <th>RoofStyle_Hip</th>\n",
              "      <th>RoofStyle_Mansard</th>\n",
              "      <th>RoofStyle_Shed</th>\n",
              "      <th>SaleCondition_Abnorml</th>\n",
              "      <th>SaleCondition_AdjLand</th>\n",
              "      <th>SaleCondition_Alloca</th>\n",
              "      <th>SaleCondition_Family</th>\n",
              "      <th>SaleCondition_Normal</th>\n",
              "      <th>SaleCondition_Partial</th>\n",
              "      <th>SaleType_COD</th>\n",
              "      <th>SaleType_CWD</th>\n",
              "      <th>SaleType_Con</th>\n",
              "      <th>SaleType_ConLD</th>\n",
              "      <th>SaleType_ConLI</th>\n",
              "      <th>SaleType_ConLw</th>\n",
              "      <th>SaleType_New</th>\n",
              "      <th>SaleType_Oth</th>\n",
              "      <th>SaleType_WD</th>\n",
              "    </tr>\n",
              "  </thead>\n",
              "  <tbody>\n",
              "    <tr>\n",
              "      <th>1289</th>\n",
              "      <td>12.528113</td>\n",
              "      <td>0.000000</td>\n",
              "      <td>0.0</td>\n",
              "      <td>0.730463</td>\n",
              "      <td>1.540963</td>\n",
              "      <td>1.820334</td>\n",
              "      <td>0.000000</td>\n",
              "      <td>12.164562</td>\n",
              "      <td>0.0</td>\n",
              "      <td>1.194318</td>\n",
              "      <td>2.259674</td>\n",
              "      <td>0.730463</td>\n",
              "      <td>0.0</td>\n",
              "      <td>1.820334</td>\n",
              "      <td>7.308628</td>\n",
              "      <td>0.730463</td>\n",
              "      <td>0.0</td>\n",
              "      <td>1.820334</td>\n",
              "      <td>1.540963</td>\n",
              "      <td>1.820334</td>\n",
              "      <td>1.194318</td>\n",
              "      <td>0.730463</td>\n",
              "      <td>0.730463</td>\n",
              "      <td>2.259674</td>\n",
              "      <td>10.189934</td>\n",
              "      <td>1.194318</td>\n",
              "      <td>2.055642</td>\n",
              "      <td>1.194318</td>\n",
              "      <td>2.055642</td>\n",
              "      <td>14.126140</td>\n",
              "      <td>12.528113</td>\n",
              "      <td>0.000000</td>\n",
              "      <td>1.820334</td>\n",
              "      <td>0.730463</td>\n",
              "      <td>1.540963</td>\n",
              "      <td>0.0</td>\n",
              "      <td>21.281392</td>\n",
              "      <td>6.047664</td>\n",
              "      <td>0.000000</td>\n",
              "      <td>0.0</td>\n",
              "      <td>...</td>\n",
              "      <td>0</td>\n",
              "      <td>0</td>\n",
              "      <td>0</td>\n",
              "      <td>0</td>\n",
              "      <td>0</td>\n",
              "      <td>0</td>\n",
              "      <td>0</td>\n",
              "      <td>0</td>\n",
              "      <td>0</td>\n",
              "      <td>0</td>\n",
              "      <td>0</td>\n",
              "      <td>0</td>\n",
              "      <td>1</td>\n",
              "      <td>0</td>\n",
              "      <td>0</td>\n",
              "      <td>0</td>\n",
              "      <td>0</td>\n",
              "      <td>0</td>\n",
              "      <td>0</td>\n",
              "      <td>0</td>\n",
              "      <td>0</td>\n",
              "      <td>0</td>\n",
              "      <td>1</td>\n",
              "      <td>0</td>\n",
              "      <td>0</td>\n",
              "      <td>0</td>\n",
              "      <td>0</td>\n",
              "      <td>0</td>\n",
              "      <td>0</td>\n",
              "      <td>1</td>\n",
              "      <td>0</td>\n",
              "      <td>0</td>\n",
              "      <td>0</td>\n",
              "      <td>0</td>\n",
              "      <td>0</td>\n",
              "      <td>0</td>\n",
              "      <td>0</td>\n",
              "      <td>0</td>\n",
              "      <td>0</td>\n",
              "      <td>1</td>\n",
              "    </tr>\n",
              "    <tr>\n",
              "      <th>793</th>\n",
              "      <td>12.359144</td>\n",
              "      <td>11.537948</td>\n",
              "      <td>0.0</td>\n",
              "      <td>0.730463</td>\n",
              "      <td>1.540963</td>\n",
              "      <td>1.820334</td>\n",
              "      <td>1.540963</td>\n",
              "      <td>0.000000</td>\n",
              "      <td>0.0</td>\n",
              "      <td>2.259674</td>\n",
              "      <td>2.259674</td>\n",
              "      <td>0.000000</td>\n",
              "      <td>0.0</td>\n",
              "      <td>1.194318</td>\n",
              "      <td>11.192952</td>\n",
              "      <td>0.730463</td>\n",
              "      <td>0.0</td>\n",
              "      <td>1.820334</td>\n",
              "      <td>1.194318</td>\n",
              "      <td>1.820334</td>\n",
              "      <td>2.055642</td>\n",
              "      <td>0.730463</td>\n",
              "      <td>1.194318</td>\n",
              "      <td>2.259674</td>\n",
              "      <td>9.770476</td>\n",
              "      <td>1.194318</td>\n",
              "      <td>2.055642</td>\n",
              "      <td>0.000000</td>\n",
              "      <td>2.055642</td>\n",
              "      <td>14.173451</td>\n",
              "      <td>14.014950</td>\n",
              "      <td>0.730463</td>\n",
              "      <td>0.000000</td>\n",
              "      <td>0.730463</td>\n",
              "      <td>1.194318</td>\n",
              "      <td>0.0</td>\n",
              "      <td>20.194264</td>\n",
              "      <td>5.802739</td>\n",
              "      <td>0.000000</td>\n",
              "      <td>0.0</td>\n",
              "      <td>...</td>\n",
              "      <td>0</td>\n",
              "      <td>0</td>\n",
              "      <td>0</td>\n",
              "      <td>0</td>\n",
              "      <td>0</td>\n",
              "      <td>0</td>\n",
              "      <td>0</td>\n",
              "      <td>0</td>\n",
              "      <td>0</td>\n",
              "      <td>0</td>\n",
              "      <td>0</td>\n",
              "      <td>0</td>\n",
              "      <td>1</td>\n",
              "      <td>0</td>\n",
              "      <td>0</td>\n",
              "      <td>0</td>\n",
              "      <td>0</td>\n",
              "      <td>0</td>\n",
              "      <td>0</td>\n",
              "      <td>0</td>\n",
              "      <td>1</td>\n",
              "      <td>0</td>\n",
              "      <td>0</td>\n",
              "      <td>0</td>\n",
              "      <td>0</td>\n",
              "      <td>0</td>\n",
              "      <td>0</td>\n",
              "      <td>0</td>\n",
              "      <td>0</td>\n",
              "      <td>1</td>\n",
              "      <td>0</td>\n",
              "      <td>0</td>\n",
              "      <td>0</td>\n",
              "      <td>0</td>\n",
              "      <td>0</td>\n",
              "      <td>0</td>\n",
              "      <td>0</td>\n",
              "      <td>0</td>\n",
              "      <td>0</td>\n",
              "      <td>1</td>\n",
              "    </tr>\n",
              "    <tr>\n",
              "      <th>83</th>\n",
              "      <td>12.303551</td>\n",
              "      <td>0.000000</td>\n",
              "      <td>0.0</td>\n",
              "      <td>0.730463</td>\n",
              "      <td>1.540963</td>\n",
              "      <td>1.820334</td>\n",
              "      <td>1.540963</td>\n",
              "      <td>0.000000</td>\n",
              "      <td>0.0</td>\n",
              "      <td>2.259674</td>\n",
              "      <td>2.259674</td>\n",
              "      <td>0.000000</td>\n",
              "      <td>0.0</td>\n",
              "      <td>1.820334</td>\n",
              "      <td>12.303551</td>\n",
              "      <td>0.730463</td>\n",
              "      <td>0.0</td>\n",
              "      <td>1.820334</td>\n",
              "      <td>1.540963</td>\n",
              "      <td>1.820334</td>\n",
              "      <td>1.540963</td>\n",
              "      <td>0.000000</td>\n",
              "      <td>0.730463</td>\n",
              "      <td>2.259674</td>\n",
              "      <td>10.067536</td>\n",
              "      <td>1.194318</td>\n",
              "      <td>2.055642</td>\n",
              "      <td>1.540963</td>\n",
              "      <td>2.055642</td>\n",
              "      <td>14.141979</td>\n",
              "      <td>12.303551</td>\n",
              "      <td>0.730463</td>\n",
              "      <td>1.194318</td>\n",
              "      <td>0.730463</td>\n",
              "      <td>1.540963</td>\n",
              "      <td>0.0</td>\n",
              "      <td>19.410835</td>\n",
              "      <td>6.221214</td>\n",
              "      <td>0.000000</td>\n",
              "      <td>0.0</td>\n",
              "      <td>...</td>\n",
              "      <td>0</td>\n",
              "      <td>0</td>\n",
              "      <td>0</td>\n",
              "      <td>0</td>\n",
              "      <td>0</td>\n",
              "      <td>0</td>\n",
              "      <td>0</td>\n",
              "      <td>0</td>\n",
              "      <td>0</td>\n",
              "      <td>0</td>\n",
              "      <td>0</td>\n",
              "      <td>0</td>\n",
              "      <td>1</td>\n",
              "      <td>0</td>\n",
              "      <td>0</td>\n",
              "      <td>0</td>\n",
              "      <td>0</td>\n",
              "      <td>0</td>\n",
              "      <td>0</td>\n",
              "      <td>0</td>\n",
              "      <td>1</td>\n",
              "      <td>0</td>\n",
              "      <td>0</td>\n",
              "      <td>0</td>\n",
              "      <td>0</td>\n",
              "      <td>0</td>\n",
              "      <td>0</td>\n",
              "      <td>0</td>\n",
              "      <td>0</td>\n",
              "      <td>1</td>\n",
              "      <td>0</td>\n",
              "      <td>1</td>\n",
              "      <td>0</td>\n",
              "      <td>0</td>\n",
              "      <td>0</td>\n",
              "      <td>0</td>\n",
              "      <td>0</td>\n",
              "      <td>0</td>\n",
              "      <td>0</td>\n",
              "      <td>0</td>\n",
              "    </tr>\n",
              "    <tr>\n",
              "      <th>432</th>\n",
              "      <td>11.386070</td>\n",
              "      <td>10.740974</td>\n",
              "      <td>0.0</td>\n",
              "      <td>0.730463</td>\n",
              "      <td>1.194318</td>\n",
              "      <td>1.820334</td>\n",
              "      <td>1.540963</td>\n",
              "      <td>10.121375</td>\n",
              "      <td>0.0</td>\n",
              "      <td>0.000000</td>\n",
              "      <td>2.259674</td>\n",
              "      <td>0.730463</td>\n",
              "      <td>0.0</td>\n",
              "      <td>1.820334</td>\n",
              "      <td>8.978567</td>\n",
              "      <td>0.730463</td>\n",
              "      <td>0.0</td>\n",
              "      <td>1.820334</td>\n",
              "      <td>1.540963</td>\n",
              "      <td>1.820334</td>\n",
              "      <td>1.540963</td>\n",
              "      <td>0.000000</td>\n",
              "      <td>0.730463</td>\n",
              "      <td>1.194318</td>\n",
              "      <td>9.951172</td>\n",
              "      <td>1.194318</td>\n",
              "      <td>2.055642</td>\n",
              "      <td>1.540963</td>\n",
              "      <td>2.055642</td>\n",
              "      <td>14.137234</td>\n",
              "      <td>13.022455</td>\n",
              "      <td>0.730463</td>\n",
              "      <td>0.000000</td>\n",
              "      <td>0.730463</td>\n",
              "      <td>1.540963</td>\n",
              "      <td>0.0</td>\n",
              "      <td>14.055628</td>\n",
              "      <td>4.137711</td>\n",
              "      <td>1.540963</td>\n",
              "      <td>0.0</td>\n",
              "      <td>...</td>\n",
              "      <td>0</td>\n",
              "      <td>0</td>\n",
              "      <td>0</td>\n",
              "      <td>0</td>\n",
              "      <td>0</td>\n",
              "      <td>0</td>\n",
              "      <td>0</td>\n",
              "      <td>0</td>\n",
              "      <td>0</td>\n",
              "      <td>0</td>\n",
              "      <td>0</td>\n",
              "      <td>0</td>\n",
              "      <td>1</td>\n",
              "      <td>0</td>\n",
              "      <td>0</td>\n",
              "      <td>0</td>\n",
              "      <td>0</td>\n",
              "      <td>0</td>\n",
              "      <td>0</td>\n",
              "      <td>0</td>\n",
              "      <td>1</td>\n",
              "      <td>0</td>\n",
              "      <td>0</td>\n",
              "      <td>0</td>\n",
              "      <td>0</td>\n",
              "      <td>0</td>\n",
              "      <td>0</td>\n",
              "      <td>0</td>\n",
              "      <td>0</td>\n",
              "      <td>1</td>\n",
              "      <td>0</td>\n",
              "      <td>0</td>\n",
              "      <td>0</td>\n",
              "      <td>0</td>\n",
              "      <td>0</td>\n",
              "      <td>0</td>\n",
              "      <td>0</td>\n",
              "      <td>0</td>\n",
              "      <td>0</td>\n",
              "      <td>1</td>\n",
              "    </tr>\n",
              "    <tr>\n",
              "      <th>929</th>\n",
              "      <td>13.234258</td>\n",
              "      <td>0.000000</td>\n",
              "      <td>0.0</td>\n",
              "      <td>0.730463</td>\n",
              "      <td>1.540963</td>\n",
              "      <td>1.820334</td>\n",
              "      <td>0.000000</td>\n",
              "      <td>3.530419</td>\n",
              "      <td>0.0</td>\n",
              "      <td>1.194318</td>\n",
              "      <td>2.259674</td>\n",
              "      <td>0.000000</td>\n",
              "      <td>0.0</td>\n",
              "      <td>1.194318</td>\n",
              "      <td>13.201548</td>\n",
              "      <td>0.730463</td>\n",
              "      <td>0.0</td>\n",
              "      <td>1.820334</td>\n",
              "      <td>1.194318</td>\n",
              "      <td>1.820334</td>\n",
              "      <td>1.540963</td>\n",
              "      <td>0.000000</td>\n",
              "      <td>1.194318</td>\n",
              "      <td>2.259674</td>\n",
              "      <td>10.784117</td>\n",
              "      <td>1.540963</td>\n",
              "      <td>2.055642</td>\n",
              "      <td>0.000000</td>\n",
              "      <td>2.055642</td>\n",
              "      <td>14.193765</td>\n",
              "      <td>13.234258</td>\n",
              "      <td>0.000000</td>\n",
              "      <td>0.000000</td>\n",
              "      <td>0.730463</td>\n",
              "      <td>1.194318</td>\n",
              "      <td>0.0</td>\n",
              "      <td>19.425328</td>\n",
              "      <td>6.047664</td>\n",
              "      <td>0.000000</td>\n",
              "      <td>0.0</td>\n",
              "      <td>...</td>\n",
              "      <td>0</td>\n",
              "      <td>0</td>\n",
              "      <td>0</td>\n",
              "      <td>0</td>\n",
              "      <td>0</td>\n",
              "      <td>0</td>\n",
              "      <td>0</td>\n",
              "      <td>0</td>\n",
              "      <td>0</td>\n",
              "      <td>0</td>\n",
              "      <td>1</td>\n",
              "      <td>0</td>\n",
              "      <td>1</td>\n",
              "      <td>0</td>\n",
              "      <td>0</td>\n",
              "      <td>0</td>\n",
              "      <td>0</td>\n",
              "      <td>0</td>\n",
              "      <td>0</td>\n",
              "      <td>0</td>\n",
              "      <td>1</td>\n",
              "      <td>0</td>\n",
              "      <td>0</td>\n",
              "      <td>0</td>\n",
              "      <td>0</td>\n",
              "      <td>0</td>\n",
              "      <td>0</td>\n",
              "      <td>0</td>\n",
              "      <td>0</td>\n",
              "      <td>1</td>\n",
              "      <td>0</td>\n",
              "      <td>0</td>\n",
              "      <td>0</td>\n",
              "      <td>0</td>\n",
              "      <td>0</td>\n",
              "      <td>0</td>\n",
              "      <td>0</td>\n",
              "      <td>0</td>\n",
              "      <td>0</td>\n",
              "      <td>1</td>\n",
              "    </tr>\n",
              "  </tbody>\n",
              "</table>\n",
              "<p>5 rows × 220 columns</p>\n",
              "</div>"
            ],
            "text/plain": [
              "       1stFlrSF   2ndFlrSF  3SsnPorch  ...  SaleType_New  SaleType_Oth  SaleType_WD\n",
              "1289  12.528113   0.000000        0.0  ...             0             0            1\n",
              "793   12.359144  11.537948        0.0  ...             0             0            1\n",
              "83    12.303551   0.000000        0.0  ...             0             0            0\n",
              "432   11.386070  10.740974        0.0  ...             0             0            1\n",
              "929   13.234258   0.000000        0.0  ...             0             0            1\n",
              "\n",
              "[5 rows x 220 columns]"
            ]
          },
          "metadata": {
            "tags": []
          },
          "execution_count": 59
        }
      ]
    },
    {
      "cell_type": "code",
      "metadata": {
        "id": "NGwl11E81lZs",
        "colab_type": "code",
        "colab": {}
      },
      "source": [
        "import tensorflow as tf\n",
        "\n",
        "tf.reset_default_graph()\n",
        "\n",
        "learning_rate = 0.75 \n",
        "num_steps =50000\n",
        "beta = .55\n",
        "hidden_1 = 16 \n",
        "hidden_2 = 8\n",
        "hidden_3 = 4 \n",
        "input_dim = X_train_val.shape[1]\n",
        "output_dim = 1  \n",
        "n_epochs = 5000 \n",
        "batch_size = 32\n",
        "X_tf = tf.placeholder(\"float\" ) \n",
        "y_tf = tf.placeholder(\"float\" ) "
      ],
      "execution_count": 0,
      "outputs": []
    },
    {
      "cell_type": "code",
      "metadata": {
        "id": "KMRB8zMo1pwW",
        "colab_type": "code",
        "colab": {}
      },
      "source": [
        "weights = {'w1': tf.Variable(tf.random_normal([input_dim, hidden_1])),  \n",
        "           'w2': tf.Variable(tf.random_normal([hidden_1, hidden_2])),  \n",
        "           'w3': tf.Variable(tf.random_normal([hidden_2, hidden_3])), \n",
        "           'out': tf.Variable(tf.random_normal([hidden_3, output_dim ])) }\n",
        "\n",
        "biases = {'b1': tf.Variable(tf.random_normal([hidden_1])),\n",
        "          'b2': tf.Variable(tf.random_normal([hidden_2])),\n",
        "          'b3': tf.Variable(tf.random_normal([hidden_3])),\n",
        "          'out': tf.Variable(tf.random_normal([output_dim])) } "
      ],
      "execution_count": 0,
      "outputs": []
    },
    {
      "cell_type": "code",
      "metadata": {
        "id": "_7PjxWNE10ja",
        "colab_type": "code",
        "colab": {}
      },
      "source": [
        "def ann_model(X_val): \n",
        "        layer_1 = tf.add(tf.matmul(X_val, weights['w1']), biases['b1' ]) \n",
        "        layer_1 = tf.nn.relu(layer_1) \n",
        "        layer_2 = tf.add(tf.matmul(layer_1, weights['w2']), biases['b2'])\n",
        "        layer_2 = tf.nn.relu(layer_2) \n",
        "        layer_3 = tf.add(tf.matmul(layer_2, weights['w3']), biases['b3']) \n",
        "        layer_3 = tf.nn.relu(layer_3)\n",
        "        layer_out = tf.add(tf.matmul(layer_3, weights['out']), biases ['out'],name=\"layer_out\") \n",
        "        return layer_out "
      ],
      "execution_count": 0,
      "outputs": []
    },
    {
      "cell_type": "code",
      "metadata": {
        "id": "MHtDfSZO11BE",
        "colab_type": "code",
        "colab": {}
      },
      "source": [
        "# Model Construction \n",
        "model = ann_model(X_tf) \n",
        "# Mean Squared Error cost function\n",
        "loss= tf.reduce_mean(tf.square(y_tf - model)) "
      ],
      "execution_count": 0,
      "outputs": []
    },
    {
      "cell_type": "code",
      "metadata": {
        "id": "Xz8UzAXL14I2",
        "colab_type": "code",
        "colab": {}
      },
      "source": [
        "\n",
        "regularizer_1 = tf.nn.l2_loss(weights['w1']) \n",
        "regularizer_2 = tf.nn.l2_loss(weights['w2']) \n",
        "regularizer_3 = tf.nn.l2_loss(weights['w3']) \n",
        "cost = tf.reduce_mean(loss + beta*regularizer_1 + beta*regularizer_2 \n",
        "                      + regularizer_3)"
      ],
      "execution_count": 0,
      "outputs": []
    },
    {
      "cell_type": "code",
      "metadata": {
        "id": "4bY6-i5a16ZR",
        "colab_type": "code",
        "colab": {}
      },
      "source": [
        "optimizer = tf.train.AdamOptimizer(learning_rate=learning_rate) .minimize(cost)\n",
        "init = tf.global_variables_initializer() \n",
        "saver = tf.train.Saver() "
      ],
      "execution_count": 0,
      "outputs": []
    },
    {
      "cell_type": "code",
      "metadata": {
        "id": "_jO_ocoH18sr",
        "colab_type": "code",
        "outputId": "0dfc193c-8788-48d9-9fc1-b7e6680a1f10",
        "colab": {
          "base_uri": "https://localhost:8080/",
          "height": 8622
        }
      },
      "source": [
        "max_checks_without_progress = 1500\n",
        "checks_without_progress = 0\n",
        "best_loss = np.infty\n",
        "with tf.Session() as sess: \n",
        "        sess.run(init) \n",
        "        for i in range(num_steps): \n",
        "            sess.run(optimizer, feed_dict={X_tf:X_train_val, y_tf:y_train_val})  \n",
        "            if (i+1)%100 == 0: \n",
        "                loss_val = cost.eval(feed_dict={X_tf: X_test_val, y_tf: y_test_val})\n",
        "                print(\"batch no : \",i+1,\"Loss\",loss_val) \n",
        "                           #Check whether to stop or not\n",
        "                if loss_val < best_loss:\n",
        "                    save_path = saver.save(sess,\"./Final_model.ckpt\")\n",
        "                    best_loss = loss_val\n",
        "                    checks_without_progress = 0\n",
        "                else:\n",
        "                    checks_without_progress += 1\n",
        "                    if checks_without_progress > max_checks_without_progress:\n",
        "                        print(\"Early stopping!\")\n",
        "                        break\n",
        "        save_path = saver.save(sess, \"/tmp/final2.ckpt\") \n",
        "        print(\"Model saved in path: %s\" % save_path) \n",
        "        pred = sess.run(model, feed_dict={X_tf:test}) \n",
        "with tf.Session() as sess:\n",
        "    saver.restore(sess, \"./Final_model.ckpt\")\n",
        "    pred = sess.run(model, feed_dict={X_tf:test}) \n"
      ],
      "execution_count": 66,
      "outputs": [
        {
          "output_type": "stream",
          "text": [
            "batch no :  100 Loss 9119.299\n",
            "batch no :  200 Loss 7960.375\n",
            "batch no :  300 Loss 7287.811\n",
            "batch no :  400 Loss 6819.0605\n",
            "batch no :  500 Loss 6459.8896\n",
            "batch no :  600 Loss 6168.2583\n",
            "batch no :  700 Loss 5922.356\n",
            "batch no :  800 Loss 5709.701\n",
            "batch no :  900 Loss 5522.4653\n",
            "batch no :  1000 Loss 5355.3364\n",
            "batch no :  1100 Loss 5204.487\n",
            "batch no :  1200 Loss 5067.005\n",
            "batch no :  1300 Loss 4940.5605\n",
            "batch no :  1400 Loss 4823.4106\n",
            "batch no :  1500 Loss 4713.8926\n",
            "batch no :  1600 Loss 4610.891\n",
            "batch no :  1700 Loss 4513.364\n",
            "batch no :  1800 Loss 4420.4487\n",
            "batch no :  1900 Loss 4331.3203\n",
            "batch no :  2000 Loss 4245.4688\n",
            "batch no :  2100 Loss 4162.409\n",
            "batch no :  2200 Loss 4081.7275\n",
            "batch no :  2300 Loss 4003.0603\n",
            "batch no :  2400 Loss 3926.0698\n",
            "batch no :  2500 Loss 3850.5027\n",
            "batch no :  2600 Loss 3776.235\n",
            "batch no :  2700 Loss 3703.008\n",
            "batch no :  2800 Loss 3630.6904\n",
            "batch no :  2900 Loss 3559.2036\n",
            "batch no :  3000 Loss 3488.4646\n",
            "batch no :  3100 Loss 3418.3455\n",
            "batch no :  3200 Loss 3348.8213\n",
            "batch no :  3300 Loss 3279.8838\n",
            "batch no :  3400 Loss 3211.507\n",
            "batch no :  3500 Loss 3143.6543\n",
            "batch no :  3600 Loss 3076.3542\n",
            "batch no :  3700 Loss 3009.586\n",
            "batch no :  3800 Loss 2943.3406\n",
            "batch no :  3900 Loss 2877.6663\n",
            "batch no :  4000 Loss 2812.582\n",
            "batch no :  4100 Loss 2748.1267\n",
            "batch no :  4200 Loss 2684.3132\n",
            "batch no :  4300 Loss 2621.1562\n",
            "batch no :  4400 Loss 2558.7083\n",
            "batch no :  4500 Loss 2497.0024\n",
            "batch no :  4600 Loss 2436.0266\n",
            "batch no :  4700 Loss 2375.8528\n",
            "batch no :  4800 Loss 2316.507\n",
            "batch no :  4900 Loss 2257.998\n",
            "batch no :  5000 Loss 2200.379\n",
            "batch no :  5100 Loss 2143.6318\n",
            "batch no :  5200 Loss 2087.8237\n",
            "batch no :  5300 Loss 2032.9791\n",
            "batch no :  5400 Loss 1979.0917\n",
            "batch no :  5500 Loss 1926.2236\n",
            "batch no :  5600 Loss 1874.3152\n",
            "batch no :  5700 Loss 1823.44\n",
            "batch no :  5800 Loss 1773.5955\n",
            "batch no :  5900 Loss 1724.8206\n",
            "batch no :  6000 Loss 1677.0669\n",
            "batch no :  6100 Loss 1630.3792\n",
            "batch no :  6200 Loss 1584.7433\n",
            "batch no :  6300 Loss 1540.1812\n",
            "batch no :  6400 Loss 1496.64\n",
            "batch no :  6500 Loss 1454.163\n",
            "batch no :  6600 Loss 1412.6827\n",
            "batch no :  6700 Loss 1372.2408\n",
            "batch no :  6800 Loss 1332.8125\n",
            "batch no :  6900 Loss 1294.3595\n",
            "batch no :  7000 Loss 1256.8859\n",
            "batch no :  7100 Loss 1220.375\n",
            "batch no :  7200 Loss 1184.77\n",
            "batch no :  7300 Loss 1150.0714\n",
            "batch no :  7400 Loss 1116.2855\n",
            "batch no :  7500 Loss 1083.3416\n",
            "batch no :  7600 Loss 1051.2153\n",
            "batch no :  7700 Loss 1019.88654\n",
            "batch no :  7800 Loss 989.349\n",
            "batch no :  7900 Loss 959.5698\n",
            "batch no :  8000 Loss 930.4921\n",
            "batch no :  8100 Loss 902.1421\n",
            "batch no :  8200 Loss 874.45905\n",
            "batch no :  8300 Loss 847.4573\n",
            "batch no :  8400 Loss 821.03467\n",
            "batch no :  8500 Loss 795.2572\n",
            "batch no :  8600 Loss 770.07855\n",
            "batch no :  8700 Loss 745.45105\n",
            "batch no :  8800 Loss 721.3996\n",
            "batch no :  8900 Loss 697.8924\n",
            "batch no :  9000 Loss 674.93964\n",
            "batch no :  9100 Loss 652.4815\n",
            "batch no :  9200 Loss 630.5522\n",
            "batch no :  9300 Loss 609.1169\n",
            "batch no :  9400 Loss 588.19574\n",
            "batch no :  9500 Loss 567.77106\n",
            "batch no :  9600 Loss 547.80444\n",
            "batch no :  9700 Loss 528.36096\n",
            "batch no :  9800 Loss 509.39777\n",
            "batch no :  9900 Loss 490.91922\n",
            "batch no :  10000 Loss 472.92892\n",
            "batch no :  10100 Loss 455.42966\n",
            "batch no :  10200 Loss 438.43872\n",
            "batch no :  10300 Loss 421.92447\n",
            "batch no :  10400 Loss 405.91425\n",
            "batch no :  10500 Loss 390.40842\n",
            "batch no :  10600 Loss 375.3576\n",
            "batch no :  10700 Loss 360.84927\n",
            "batch no :  10800 Loss 346.81073\n",
            "batch no :  10900 Loss 333.3031\n",
            "batch no :  11000 Loss 320.26556\n",
            "batch no :  11100 Loss 307.72803\n",
            "batch no :  11200 Loss 295.7262\n",
            "batch no :  11300 Loss 284.15085\n",
            "batch no :  11400 Loss 273.10794\n",
            "batch no :  11500 Loss 262.51886\n",
            "batch no :  11600 Loss 252.40591\n",
            "batch no :  11700 Loss 242.76929\n",
            "batch no :  11800 Loss 233.59412\n",
            "batch no :  11900 Loss 224.82709\n",
            "batch no :  12000 Loss 216.53117\n",
            "batch no :  12100 Loss 208.6237\n",
            "batch no :  12200 Loss 201.13348\n",
            "batch no :  12300 Loss 194.02444\n",
            "batch no :  12400 Loss 187.31392\n",
            "batch no :  12500 Loss 180.93274\n",
            "batch no :  12600 Loss 174.8933\n",
            "batch no :  12700 Loss 169.19104\n",
            "batch no :  12800 Loss 163.7712\n",
            "batch no :  12900 Loss 158.63593\n",
            "batch no :  13000 Loss 153.75693\n",
            "batch no :  13100 Loss 149.1369\n",
            "batch no :  13200 Loss 144.76614\n",
            "batch no :  13300 Loss 140.59953\n",
            "batch no :  13400 Loss 136.58182\n",
            "batch no :  13500 Loss 132.76302\n",
            "batch no :  13600 Loss 129.1127\n",
            "batch no :  13700 Loss 125.608665\n",
            "batch no :  13800 Loss 122.22595\n",
            "batch no :  13900 Loss 118.95627\n",
            "batch no :  14000 Loss 115.771545\n",
            "batch no :  14100 Loss 112.70485\n",
            "batch no :  14200 Loss 109.71948\n",
            "batch no :  14300 Loss 106.776566\n",
            "batch no :  14400 Loss 103.8912\n",
            "batch no :  14500 Loss 101.079704\n",
            "batch no :  14600 Loss 98.31896\n",
            "batch no :  14700 Loss 95.602516\n",
            "batch no :  14800 Loss 92.89703\n",
            "batch no :  14900 Loss 90.24853\n",
            "batch no :  15000 Loss 87.614456\n",
            "batch no :  15100 Loss 85.03437\n",
            "batch no :  15200 Loss 82.449844\n",
            "batch no :  15300 Loss 79.92129\n",
            "batch no :  15400 Loss 77.438416\n",
            "batch no :  15500 Loss 74.92941\n",
            "batch no :  15600 Loss 72.501434\n",
            "batch no :  15700 Loss 70.072075\n",
            "batch no :  15800 Loss 67.6873\n",
            "batch no :  15900 Loss 65.33297\n",
            "batch no :  16000 Loss 63.03469\n",
            "batch no :  16100 Loss 60.750023\n",
            "batch no :  16200 Loss 58.529564\n",
            "batch no :  16300 Loss 56.344193\n",
            "batch no :  16400 Loss 54.191982\n",
            "batch no :  16500 Loss 52.10087\n",
            "batch no :  16600 Loss 50.058887\n",
            "batch no :  16700 Loss 48.049713\n",
            "batch no :  16800 Loss 46.109184\n",
            "batch no :  16900 Loss 44.22574\n",
            "batch no :  17000 Loss 42.383186\n",
            "batch no :  17100 Loss 40.636513\n",
            "batch no :  17200 Loss 38.89433\n",
            "batch no :  17300 Loss 37.22289\n",
            "batch no :  17400 Loss 35.62303\n",
            "batch no :  17500 Loss 34.095882\n",
            "batch no :  17600 Loss 32.604435\n",
            "batch no :  17700 Loss 31.161032\n",
            "batch no :  17800 Loss 29.759857\n",
            "batch no :  17900 Loss 28.417723\n",
            "batch no :  18000 Loss 27.150984\n",
            "batch no :  18100 Loss 25.900417\n",
            "batch no :  18200 Loss 24.703476\n",
            "batch no :  18300 Loss 23.55525\n",
            "batch no :  18400 Loss 22.43537\n",
            "batch no :  18500 Loss 21.346743\n",
            "batch no :  18600 Loss 20.29538\n",
            "batch no :  18700 Loss 19.275179\n",
            "batch no :  18800 Loss 18.307634\n",
            "batch no :  18900 Loss 17.34961\n",
            "batch no :  19000 Loss 16.433025\n",
            "batch no :  19100 Loss 15.53985\n",
            "batch no :  19200 Loss 14.6474085\n",
            "batch no :  19300 Loss 13.810996\n",
            "batch no :  19400 Loss 12.991922\n",
            "batch no :  19500 Loss 12.189463\n",
            "batch no :  19600 Loss 11.431525\n",
            "batch no :  19700 Loss 10.695697\n",
            "batch no :  19800 Loss 9.9581\n",
            "batch no :  19900 Loss 9.288952\n",
            "batch no :  20000 Loss 8.619352\n",
            "batch no :  20100 Loss 8.006459\n",
            "batch no :  20200 Loss 7.3667254\n",
            "batch no :  20300 Loss 6.7949033\n",
            "batch no :  20400 Loss 6.244348\n",
            "batch no :  20500 Loss 5.7409563\n",
            "batch no :  20600 Loss 5.219744\n",
            "batch no :  20700 Loss 4.755105\n",
            "batch no :  20800 Loss 4.33898\n",
            "batch no :  20900 Loss 3.9257224\n",
            "batch no :  21000 Loss 3.5568197\n",
            "batch no :  21100 Loss 3.1862376\n",
            "batch no :  21200 Loss 2.859585\n",
            "batch no :  21300 Loss 2.5610573\n",
            "batch no :  21400 Loss 2.2717137\n",
            "batch no :  21500 Loss 2.0250788\n",
            "batch no :  21600 Loss 1.7924846\n",
            "batch no :  21700 Loss 1.5832496\n",
            "batch no :  21800 Loss 1.4245182\n",
            "batch no :  21900 Loss 1.2448187\n",
            "batch no :  22000 Loss 1.0818894\n",
            "batch no :  22100 Loss 0.95342195\n",
            "batch no :  22200 Loss 0.830569\n",
            "batch no :  22300 Loss 0.74040574\n",
            "batch no :  22400 Loss 0.64076304\n",
            "batch no :  22500 Loss 0.5648856\n",
            "batch no :  22600 Loss 0.49089214\n",
            "batch no :  22700 Loss 0.43954283\n",
            "batch no :  22800 Loss 0.37897164\n",
            "batch no :  22900 Loss 0.35239995\n",
            "batch no :  23000 Loss 0.3085868\n",
            "batch no :  23100 Loss 0.29660797\n",
            "batch no :  23200 Loss 0.25874987\n",
            "batch no :  23300 Loss 0.2523983\n",
            "batch no :  23400 Loss 0.22681165\n",
            "batch no :  23500 Loss 0.2135989\n",
            "batch no :  23600 Loss 0.20833395\n",
            "batch no :  23700 Loss 0.21144277\n",
            "batch no :  23800 Loss 0.20446111\n",
            "batch no :  23900 Loss 0.21379302\n",
            "batch no :  24000 Loss 0.18960294\n",
            "batch no :  24100 Loss 0.19759947\n",
            "batch no :  24200 Loss 0.19031158\n",
            "batch no :  24300 Loss 0.17670846\n",
            "batch no :  24400 Loss 0.18023354\n",
            "batch no :  24500 Loss 0.18124442\n",
            "batch no :  24600 Loss 0.18482015\n",
            "batch no :  24700 Loss 0.18988252\n",
            "batch no :  24800 Loss 0.19850777\n",
            "batch no :  24900 Loss 0.17961827\n",
            "batch no :  25000 Loss 0.18020405\n",
            "batch no :  25100 Loss 0.18933149\n",
            "batch no :  25200 Loss 0.19079676\n",
            "batch no :  25300 Loss 0.2091759\n",
            "batch no :  25400 Loss 0.1853398\n",
            "batch no :  25500 Loss 0.17511976\n",
            "batch no :  25600 Loss 0.17593275\n",
            "batch no :  25700 Loss 0.1947216\n",
            "batch no :  25800 Loss 0.19926858\n",
            "batch no :  25900 Loss 0.21125704\n",
            "batch no :  26000 Loss 0.18440557\n",
            "batch no :  26100 Loss 0.18342888\n",
            "batch no :  26200 Loss 0.18412733\n",
            "batch no :  26300 Loss 0.19565597\n",
            "batch no :  26400 Loss 0.2046982\n",
            "batch no :  26500 Loss 0.18664005\n",
            "batch no :  26600 Loss 0.18026616\n",
            "batch no :  26700 Loss 0.20220764\n",
            "batch no :  26800 Loss 0.18674475\n",
            "batch no :  26900 Loss 0.17388982\n",
            "batch no :  27000 Loss 0.18046062\n",
            "batch no :  27100 Loss 0.19867082\n",
            "batch no :  27200 Loss 0.18812738\n",
            "batch no :  27300 Loss 0.2074579\n",
            "batch no :  27400 Loss 0.1822996\n",
            "batch no :  27500 Loss 0.18168843\n",
            "batch no :  27600 Loss 0.19140294\n",
            "batch no :  27700 Loss 0.17964083\n",
            "batch no :  27800 Loss 0.17477626\n",
            "batch no :  27900 Loss 0.2020771\n",
            "batch no :  28000 Loss 0.17659609\n",
            "batch no :  28100 Loss 0.17476912\n",
            "batch no :  28200 Loss 0.18579553\n",
            "batch no :  28300 Loss 0.19472003\n",
            "batch no :  28400 Loss 0.18157224\n",
            "batch no :  28500 Loss 0.17066748\n",
            "batch no :  28600 Loss 0.17740983\n",
            "batch no :  28700 Loss 0.19077124\n",
            "batch no :  28800 Loss 0.1833136\n",
            "batch no :  28900 Loss 0.17535688\n",
            "batch no :  29000 Loss 0.18544601\n",
            "batch no :  29100 Loss 0.17521349\n",
            "batch no :  29200 Loss 0.20658861\n",
            "batch no :  29300 Loss 0.18135472\n",
            "batch no :  29400 Loss 0.1924543\n",
            "batch no :  29500 Loss 0.19171052\n",
            "batch no :  29600 Loss 0.17976317\n",
            "batch no :  29700 Loss 0.21247724\n",
            "batch no :  29800 Loss 0.18588632\n",
            "batch no :  29900 Loss 0.18546318\n",
            "batch no :  30000 Loss 0.18620148\n",
            "batch no :  30100 Loss 0.18664053\n",
            "batch no :  30200 Loss 0.18588\n",
            "batch no :  30300 Loss 0.1896654\n",
            "batch no :  30400 Loss 0.18444696\n",
            "batch no :  30500 Loss 0.18232022\n",
            "batch no :  30600 Loss 0.18810005\n",
            "batch no :  30700 Loss 0.18875293\n",
            "batch no :  30800 Loss 0.18272282\n",
            "batch no :  30900 Loss 0.18336011\n",
            "batch no :  31000 Loss 0.18173559\n",
            "batch no :  31100 Loss 0.18908678\n",
            "batch no :  31200 Loss 0.18527834\n",
            "batch no :  31300 Loss 0.18190968\n",
            "batch no :  31400 Loss 0.19071534\n",
            "batch no :  31500 Loss 0.18169454\n",
            "batch no :  31600 Loss 0.19308624\n",
            "batch no :  31700 Loss 0.17996757\n",
            "batch no :  31800 Loss 0.19375162\n",
            "batch no :  31900 Loss 0.1854618\n",
            "batch no :  32000 Loss 0.18744496\n",
            "batch no :  32100 Loss 0.18390498\n",
            "batch no :  32200 Loss 0.18670517\n",
            "batch no :  32300 Loss 0.18220195\n",
            "batch no :  32400 Loss 0.18241134\n",
            "batch no :  32500 Loss 0.19581194\n",
            "batch no :  32600 Loss 0.17829002\n",
            "batch no :  32700 Loss 0.19072114\n",
            "batch no :  32800 Loss 0.18328092\n",
            "batch no :  32900 Loss 0.17217362\n",
            "batch no :  33000 Loss 0.18491113\n",
            "batch no :  33100 Loss 0.1851835\n",
            "batch no :  33200 Loss 0.17895703\n",
            "batch no :  33300 Loss 0.17338867\n",
            "batch no :  33400 Loss 0.18283914\n",
            "batch no :  33500 Loss 0.18854377\n",
            "batch no :  33600 Loss 0.17739043\n",
            "batch no :  33700 Loss 0.18164383\n",
            "batch no :  33800 Loss 0.17957844\n",
            "batch no :  33900 Loss 0.18303907\n",
            "batch no :  34000 Loss 0.18227531\n",
            "batch no :  34100 Loss 0.1802966\n",
            "batch no :  34200 Loss 0.18142918\n",
            "batch no :  34300 Loss 0.20165884\n",
            "batch no :  34400 Loss 0.18968923\n",
            "batch no :  34500 Loss 0.17203924\n",
            "batch no :  34600 Loss 0.18229453\n",
            "batch no :  34700 Loss 0.17179197\n",
            "batch no :  34800 Loss 0.188617\n",
            "batch no :  34900 Loss 0.18086599\n",
            "batch no :  35000 Loss 0.20103441\n",
            "batch no :  35100 Loss 0.18025099\n",
            "batch no :  35200 Loss 0.17488967\n",
            "batch no :  35300 Loss 0.18790017\n",
            "batch no :  35400 Loss 0.1745491\n",
            "batch no :  35500 Loss 0.19265436\n",
            "batch no :  35600 Loss 0.18423538\n",
            "batch no :  35700 Loss 0.18996234\n",
            "batch no :  35800 Loss 0.19994746\n",
            "batch no :  35900 Loss 0.18770064\n",
            "batch no :  36000 Loss 0.17578486\n",
            "batch no :  36100 Loss 0.18182005\n",
            "batch no :  36200 Loss 0.19386977\n",
            "batch no :  36300 Loss 0.19082266\n",
            "batch no :  36400 Loss 0.17887926\n",
            "batch no :  36500 Loss 0.19055434\n",
            "batch no :  36600 Loss 0.19571084\n",
            "batch no :  36700 Loss 0.20001325\n",
            "batch no :  36800 Loss 0.17927518\n",
            "batch no :  36900 Loss 0.18252027\n",
            "batch no :  37000 Loss 0.18190643\n",
            "batch no :  37100 Loss 0.18539861\n",
            "batch no :  37200 Loss 0.17615584\n",
            "batch no :  37300 Loss 0.1762167\n",
            "batch no :  37400 Loss 0.19547856\n",
            "batch no :  37500 Loss 0.17747588\n",
            "batch no :  37600 Loss 0.19265486\n",
            "batch no :  37700 Loss 0.21158299\n",
            "batch no :  37800 Loss 0.18003935\n",
            "batch no :  37900 Loss 0.1716358\n",
            "batch no :  38000 Loss 0.18347703\n",
            "batch no :  38100 Loss 0.17900045\n",
            "batch no :  38200 Loss 0.19430971\n",
            "batch no :  38300 Loss 0.18360162\n",
            "batch no :  38400 Loss 0.17651671\n",
            "batch no :  38500 Loss 0.18140148\n",
            "batch no :  38600 Loss 0.17671572\n",
            "batch no :  38700 Loss 0.18482514\n",
            "batch no :  38800 Loss 0.1912995\n",
            "batch no :  38900 Loss 0.18460712\n",
            "batch no :  39000 Loss 0.18683463\n",
            "batch no :  39100 Loss 0.17113593\n",
            "batch no :  39200 Loss 0.19059943\n",
            "batch no :  39300 Loss 0.19398811\n",
            "batch no :  39400 Loss 0.17752965\n",
            "batch no :  39500 Loss 0.19947688\n",
            "batch no :  39600 Loss 0.19185422\n",
            "batch no :  39700 Loss 0.18594745\n",
            "batch no :  39800 Loss 0.17873901\n",
            "batch no :  39900 Loss 0.17075829\n",
            "batch no :  40000 Loss 0.21524379\n",
            "batch no :  40100 Loss 0.1990873\n",
            "batch no :  40200 Loss 0.18272296\n",
            "batch no :  40300 Loss 0.17852476\n",
            "batch no :  40400 Loss 0.166105\n",
            "batch no :  40500 Loss 0.19702034\n",
            "batch no :  40600 Loss 0.18444802\n",
            "batch no :  40700 Loss 0.1945909\n",
            "batch no :  40800 Loss 0.17961685\n",
            "batch no :  40900 Loss 0.18104714\n",
            "batch no :  41000 Loss 0.16700813\n",
            "batch no :  41100 Loss 0.19560537\n",
            "batch no :  41200 Loss 0.17733218\n",
            "batch no :  41300 Loss 0.17607015\n",
            "batch no :  41400 Loss 0.20137185\n",
            "batch no :  41500 Loss 0.17208643\n",
            "batch no :  41600 Loss 0.17902587\n",
            "batch no :  41700 Loss 0.18701604\n",
            "batch no :  41800 Loss 0.1887894\n",
            "batch no :  41900 Loss 0.20392714\n",
            "batch no :  42000 Loss 0.18541035\n",
            "batch no :  42100 Loss 0.18269984\n",
            "batch no :  42200 Loss 0.1877027\n",
            "batch no :  42300 Loss 0.18686004\n",
            "batch no :  42400 Loss 0.18083191\n",
            "batch no :  42500 Loss 0.17825\n",
            "batch no :  42600 Loss 0.20892344\n",
            "batch no :  42700 Loss 0.1991173\n",
            "batch no :  42800 Loss 0.19359091\n",
            "batch no :  42900 Loss 0.1871991\n",
            "batch no :  43000 Loss 0.1902676\n",
            "batch no :  43100 Loss 0.19189787\n",
            "batch no :  43200 Loss 0.18801327\n",
            "batch no :  43300 Loss 0.19543493\n",
            "batch no :  43400 Loss 0.189908\n",
            "batch no :  43500 Loss 0.17469348\n",
            "batch no :  43600 Loss 0.17941613\n",
            "batch no :  43700 Loss 0.17276777\n",
            "batch no :  43800 Loss 0.19985943\n",
            "batch no :  43900 Loss 0.16866001\n",
            "batch no :  44000 Loss 0.17390448\n",
            "batch no :  44100 Loss 0.20057555\n",
            "batch no :  44200 Loss 0.17450708\n",
            "batch no :  44300 Loss 0.17222537\n",
            "batch no :  44400 Loss 0.17740183\n",
            "batch no :  44500 Loss 0.18211068\n",
            "batch no :  44600 Loss 0.19505353\n",
            "batch no :  44700 Loss 0.1917515\n",
            "batch no :  44800 Loss 0.20323463\n",
            "batch no :  44900 Loss 0.18371151\n",
            "batch no :  45000 Loss 0.1927914\n",
            "batch no :  45100 Loss 0.17567855\n",
            "batch no :  45200 Loss 0.21514566\n",
            "batch no :  45300 Loss 0.18871866\n",
            "batch no :  45400 Loss 0.18638624\n",
            "batch no :  45500 Loss 0.18450889\n",
            "batch no :  45600 Loss 0.18805294\n",
            "batch no :  45700 Loss 0.1878163\n",
            "batch no :  45800 Loss 0.19891793\n",
            "batch no :  45900 Loss 0.17963593\n",
            "batch no :  46000 Loss 0.18310566\n",
            "batch no :  46100 Loss 0.18273892\n",
            "batch no :  46200 Loss 0.18256095\n",
            "batch no :  46300 Loss 0.18300346\n",
            "batch no :  46400 Loss 0.20396273\n",
            "batch no :  46500 Loss 0.18864597\n",
            "batch no :  46600 Loss 0.17376679\n",
            "batch no :  46700 Loss 0.1957883\n",
            "batch no :  46800 Loss 0.20116542\n",
            "batch no :  46900 Loss 0.18193561\n",
            "batch no :  47000 Loss 0.18828152\n",
            "batch no :  47100 Loss 0.19005452\n",
            "batch no :  47200 Loss 0.17900968\n",
            "batch no :  47300 Loss 0.19312355\n",
            "batch no :  47400 Loss 0.19144608\n",
            "batch no :  47500 Loss 0.18831237\n",
            "batch no :  47600 Loss 0.18785776\n",
            "batch no :  47700 Loss 0.19735251\n",
            "batch no :  47800 Loss 0.17833671\n",
            "batch no :  47900 Loss 0.20930251\n",
            "batch no :  48000 Loss 0.20155764\n",
            "batch no :  48100 Loss 0.18846124\n",
            "batch no :  48200 Loss 0.17160927\n",
            "batch no :  48300 Loss 0.18595755\n",
            "batch no :  48400 Loss 0.20544112\n",
            "batch no :  48500 Loss 0.18311279\n",
            "batch no :  48600 Loss 0.1982992\n",
            "batch no :  48700 Loss 0.17648436\n",
            "batch no :  48800 Loss 0.18017195\n",
            "batch no :  48900 Loss 0.20612027\n",
            "batch no :  49000 Loss 0.1869275\n",
            "batch no :  49100 Loss 0.20188001\n",
            "batch no :  49200 Loss 0.17384844\n",
            "batch no :  49300 Loss 0.18626809\n",
            "batch no :  49400 Loss 0.17972645\n",
            "batch no :  49500 Loss 0.17353742\n",
            "batch no :  49600 Loss 0.17327876\n",
            "batch no :  49700 Loss 0.17138097\n",
            "batch no :  49800 Loss 0.18717678\n",
            "batch no :  49900 Loss 0.17143118\n"
          ],
          "name": "stdout"
        },
        {
          "output_type": "stream",
          "text": [
            "WARNING: Logging before flag parsing goes to stderr.\n",
            "W0618 06:34:25.478430 140705428961152 deprecation.py:323] From /usr/local/lib/python3.6/dist-packages/tensorflow/python/training/saver.py:1276: checkpoint_exists (from tensorflow.python.training.checkpoint_management) is deprecated and will be removed in a future version.\n",
            "Instructions for updating:\n",
            "Use standard file APIs to check for files with this prefix.\n"
          ],
          "name": "stderr"
        },
        {
          "output_type": "stream",
          "text": [
            "batch no :  50000 Loss 0.19141765\n",
            "Model saved in path: /tmp/final2.ckpt\n"
          ],
          "name": "stdout"
        }
      ]
    },
    {
      "cell_type": "code",
      "metadata": {
        "id": "RVXBAqw52AQE",
        "colab_type": "code",
        "colab": {}
      },
      "source": [
        "prediction = np.expm1(pred) "
      ],
      "execution_count": 0,
      "outputs": []
    },
    {
      "cell_type": "code",
      "metadata": {
        "id": "xYkgkh4kAJRw",
        "colab_type": "code",
        "colab": {}
      },
      "source": [
        "sub = pd.DataFrame()\n",
        "\n",
        "sub['Id'] = test_ID\n",
        "sub['SalePrice'] = prediction\n",
        "\n",
        "sub.to_csv('submission_DNN_WD.csv',index=False)"
      ],
      "execution_count": 0,
      "outputs": []
    },
    {
      "cell_type": "code",
      "metadata": {
        "id": "lD6x5oGPAMrA",
        "colab_type": "code",
        "colab": {}
      },
      "source": [
        ""
      ],
      "execution_count": 0,
      "outputs": []
    }
  ]
}